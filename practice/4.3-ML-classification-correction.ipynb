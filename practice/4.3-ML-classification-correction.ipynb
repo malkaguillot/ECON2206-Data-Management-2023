{
 "cells": [
  {
   "cell_type": "markdown",
   "id": "9ab17d81",
   "metadata": {},
   "source": [
    "# Data management\n",
    "\n",
    "## Machine Learning - Classifications\n",
    "\n",
    "## [Michel Coppée](https://www.uliege.be/cms/c_9054334/fr/repertoire?uid=u224042) & [Malka Guillot](https://malkaguillot.github.io/)\n",
    "\n",
    "## HEC Liège | [ECON2306]()\n",
    "[![Binder](https://mybinder.org/badge_logo.svg)](https://mybinder.org/v2/gh/malkaguillot/ECON2206-Data-Management-2023/HEAD?labpath=%2Fpractice%2F4.1-ML-classification.ipynb)"
   ]
  },
  {
   "cell_type": "code",
   "execution_count": 1,
   "id": "6d29502e",
   "metadata": {},
   "outputs": [],
   "source": [
    "import numpy as np\n",
    "import pandas as pd\n",
    "# import patsy\n",
    "\n",
    "from sklearn.preprocessing import StandardScaler, OneHotEncoder\n",
    "from sklearn.model_selection import GridSearchCV, KFold, train_test_split\n",
    "from sklearn.linear_model import LogisticRegression, LogisticRegressionCV\n",
    "from sklearn.pipeline import Pipeline\n",
    "from sklearn.metrics import roc_curve, roc_auc_score, classification_report, accuracy_score, confusion_matrix \n",
    "\n",
    "import seaborn as sns\n",
    "import matplotlib.pyplot as plt"
   ]
  },
  {
   "cell_type": "markdown",
   "id": "0f4a1143",
   "metadata": {},
   "source": [
    "## Part 1: toy example using a logistic regression"
   ]
  },
  {
   "cell_type": "markdown",
   "id": "29173c0b",
   "metadata": {},
   "source": [
    "### Load & visualise data"
   ]
  },
  {
   "cell_type": "code",
   "execution_count": 2,
   "id": "43bd8bae",
   "metadata": {},
   "outputs": [
    {
     "data": {
      "text/plain": [
       "(225, 5)"
      ]
     },
     "execution_count": 2,
     "metadata": {},
     "output_type": "execute_result"
    }
   ],
   "source": [
    "df=pd.read_csv(\"../data/beers.csv\")\n",
    "df.shape"
   ]
  },
  {
   "cell_type": "code",
   "execution_count": 3,
   "id": "371206af",
   "metadata": {},
   "outputs": [
    {
     "data": {
      "text/html": [
       "<div>\n",
       "<style scoped>\n",
       "    .dataframe tbody tr th:only-of-type {\n",
       "        vertical-align: middle;\n",
       "    }\n",
       "\n",
       "    .dataframe tbody tr th {\n",
       "        vertical-align: top;\n",
       "    }\n",
       "\n",
       "    .dataframe thead th {\n",
       "        text-align: right;\n",
       "    }\n",
       "</style>\n",
       "<table border=\"1\" class=\"dataframe\">\n",
       "  <thead>\n",
       "    <tr style=\"text-align: right;\">\n",
       "      <th></th>\n",
       "      <th>alcohol_content</th>\n",
       "      <th>bitterness</th>\n",
       "      <th>darkness</th>\n",
       "      <th>fruitiness</th>\n",
       "      <th>is_yummy</th>\n",
       "    </tr>\n",
       "  </thead>\n",
       "  <tbody>\n",
       "    <tr>\n",
       "      <th>0</th>\n",
       "      <td>3.739295</td>\n",
       "      <td>0.422503</td>\n",
       "      <td>0.989463</td>\n",
       "      <td>0.215791</td>\n",
       "      <td>0</td>\n",
       "    </tr>\n",
       "    <tr>\n",
       "      <th>1</th>\n",
       "      <td>4.207849</td>\n",
       "      <td>0.841668</td>\n",
       "      <td>0.928626</td>\n",
       "      <td>0.380420</td>\n",
       "      <td>0</td>\n",
       "    </tr>\n",
       "    <tr>\n",
       "      <th>2</th>\n",
       "      <td>4.709494</td>\n",
       "      <td>0.322037</td>\n",
       "      <td>5.374682</td>\n",
       "      <td>0.145231</td>\n",
       "      <td>1</td>\n",
       "    </tr>\n",
       "    <tr>\n",
       "      <th>3</th>\n",
       "      <td>4.684743</td>\n",
       "      <td>0.434315</td>\n",
       "      <td>4.072805</td>\n",
       "      <td>0.191321</td>\n",
       "      <td>1</td>\n",
       "    </tr>\n",
       "    <tr>\n",
       "      <th>4</th>\n",
       "      <td>4.148710</td>\n",
       "      <td>0.570586</td>\n",
       "      <td>1.461568</td>\n",
       "      <td>0.260218</td>\n",
       "      <td>0</td>\n",
       "    </tr>\n",
       "  </tbody>\n",
       "</table>\n",
       "</div>"
      ],
      "text/plain": [
       "   alcohol_content  bitterness  darkness  fruitiness  is_yummy\n",
       "0         3.739295    0.422503  0.989463    0.215791         0\n",
       "1         4.207849    0.841668  0.928626    0.380420         0\n",
       "2         4.709494    0.322037  5.374682    0.145231         1\n",
       "3         4.684743    0.434315  4.072805    0.191321         1\n",
       "4         4.148710    0.570586  1.461568    0.260218         0"
      ]
     },
     "execution_count": 3,
     "metadata": {},
     "output_type": "execute_result"
    }
   ],
   "source": [
    "df.head()"
   ]
  },
  {
   "cell_type": "code",
   "execution_count": 4,
   "id": "c8d13b12",
   "metadata": {},
   "outputs": [
    {
     "data": {
      "image/png": "[encoded data removed]",
      "text/plain": [
       "<Figure size 700x500 with 1 Axes>"
      ]
     },
     "metadata": {},
     "output_type": "display_data"
    }
   ],
   "source": [
    "f, ax = plt.subplots(figsize=(7, 5))\n",
    "sns.countplot(x='is_yummy', data=df)\n",
    "_ = plt.title('# Yummy vs not yummy')\n",
    "_ = plt.xlabel('Class (1==Yummy)')"
   ]
  },
  {
   "cell_type": "markdown",
   "id": "ce4cc486",
   "metadata": {},
   "source": [
    "#### Prepare data: split features and labels"
   ]
  },
  {
   "cell_type": "code",
   "execution_count": 5,
   "id": "8dfb8297",
   "metadata": {},
   "outputs": [],
   "source": [
    "# all columns up to the last one:\n",
    "X = df.iloc[:, :-1]\n",
    "# only the last column:\n",
    "y = df.iloc[:, -1]"
   ]
  },
  {
   "cell_type": "markdown",
   "id": "df327567",
   "metadata": {},
   "source": [
    "### Splitting into Training and Test set"
   ]
  },
  {
   "cell_type": "code",
   "execution_count": 6,
   "id": "4b02223e",
   "metadata": {},
   "outputs": [],
   "source": [
    "X_train, X_test, y_train, y_test = train_test_split(X, y, train_size=0.8, random_state=42)"
   ]
  },
  {
   "cell_type": "markdown",
   "id": "db4368df",
   "metadata": {},
   "source": [
    "### Model Building and Training "
   ]
  },
  {
   "cell_type": "markdown",
   "id": "5399e25b",
   "metadata": {},
   "source": [
    "#### Creating the pipeline"
   ]
  },
  {
   "cell_type": "markdown",
   "id": "2bae6d0d",
   "metadata": {},
   "source": [
    "Before we build the model, \n",
    "1. we use the standard scaler function to scale the values into a common range. \n",
    "2. Next, we create an instance of LogisticRegression() function for logistic regression.\n",
    "\n",
    "We are not passing any parameters to `LogisticRegression()` so it will assume default parameters. Some of the important parameters you should know are –\n",
    "\n",
    "- penalty: Default = L2 – It specifies the norm for the penalty\n",
    "- C: Default = 1.0 – It is the inverse of regularization strength\n",
    "- solver: Default = ‘lbfgs’ – It denotes the optimizer algorithm"
   ]
  },
  {
   "cell_type": "markdown",
   "id": "994e21d4",
   "metadata": {},
   "source": [
    "We are making use of `Pipeline` to create the model to streamline standard scalar and model building."
   ]
  },
  {
   "cell_type": "code",
   "execution_count": 7,
   "id": "18092326",
   "metadata": {},
   "outputs": [
    {
     "data": {
      "text/html": [
       "<style>#sk-container-id-1 {color: black;background-color: white;}#sk-container-id-1 pre{padding: 0;}#sk-container-id-1 div.sk-toggleable {background-color: white;}#sk-container-id-1 label.sk-toggleable__label {cursor: pointer;display: block;width: 100%;margin-bottom: 0;padding: 0.3em;box-sizing: border-box;text-align: center;}#sk-container-id-1 label.sk-toggleable__label-arrow:before {content: \"▸\";float: left;margin-right: 0.25em;color: #696969;}#sk-container-id-1 label.sk-toggleable__label-arrow:hover:before {color: black;}#sk-container-id-1 div.sk-estimator:hover label.sk-toggleable__label-arrow:before {color: black;}#sk-container-id-1 div.sk-toggleable__content {max-height: 0;max-width: 0;overflow: hidden;text-align: left;background-color: #f0f8ff;}#sk-container-id-1 div.sk-toggleable__content pre {margin: 0.2em;color: black;border-radius: 0.25em;background-color: #f0f8ff;}#sk-container-id-1 input.sk-toggleable__control:checked~div.sk-toggleable__content {max-height: 200px;max-width: 100%;overflow: auto;}#sk-container-id-1 input.sk-toggleable__control:checked~label.sk-toggleable__label-arrow:before {content: \"▾\";}#sk-container-id-1 div.sk-estimator input.sk-toggleable__control:checked~label.sk-toggleable__label {background-color: #d4ebff;}#sk-container-id-1 div.sk-label input.sk-toggleable__control:checked~label.sk-toggleable__label {background-color: #d4ebff;}#sk-container-id-1 input.sk-hidden--visually {border: 0;clip: rect(1px 1px 1px 1px);clip: rect(1px, 1px, 1px, 1px);height: 1px;margin: -1px;overflow: hidden;padding: 0;position: absolute;width: 1px;}#sk-container-id-1 div.sk-estimator {font-family: monospace;background-color: #f0f8ff;border: 1px dotted black;border-radius: 0.25em;box-sizing: border-box;margin-bottom: 0.5em;}#sk-container-id-1 div.sk-estimator:hover {background-color: #d4ebff;}#sk-container-id-1 div.sk-parallel-item::after {content: \"\";width: 100%;border-bottom: 1px solid gray;flex-grow: 1;}#sk-container-id-1 div.sk-label:hover label.sk-toggleable__label {background-color: #d4ebff;}#sk-container-id-1 div.sk-serial::before {content: \"\";position: absolute;border-left: 1px solid gray;box-sizing: border-box;top: 0;bottom: 0;left: 50%;z-index: 0;}#sk-container-id-1 div.sk-serial {display: flex;flex-direction: column;align-items: center;background-color: white;padding-right: 0.2em;padding-left: 0.2em;position: relative;}#sk-container-id-1 div.sk-item {position: relative;z-index: 1;}#sk-container-id-1 div.sk-parallel {display: flex;align-items: stretch;justify-content: center;background-color: white;position: relative;}#sk-container-id-1 div.sk-item::before, #sk-container-id-1 div.sk-parallel-item::before {content: \"\";position: absolute;border-left: 1px solid gray;box-sizing: border-box;top: 0;bottom: 0;left: 50%;z-index: -1;}#sk-container-id-1 div.sk-parallel-item {display: flex;flex-direction: column;z-index: 1;position: relative;background-color: white;}#sk-container-id-1 div.sk-parallel-item:first-child::after {align-self: flex-end;width: 50%;}#sk-container-id-1 div.sk-parallel-item:last-child::after {align-self: flex-start;width: 50%;}#sk-container-id-1 div.sk-parallel-item:only-child::after {width: 0;}#sk-container-id-1 div.sk-dashed-wrapped {border: 1px dashed gray;margin: 0 0.4em 0.5em 0.4em;box-sizing: border-box;padding-bottom: 0.4em;background-color: white;}#sk-container-id-1 div.sk-label label {font-family: monospace;font-weight: bold;display: inline-block;line-height: 1.2em;}#sk-container-id-1 div.sk-label-container {text-align: center;}#sk-container-id-1 div.sk-container {/* jupyter's `normalize.less` sets `[hidden] { display: none; }` but bootstrap.min.css set `[hidden] { display: none !important; }` so we also need the `!important` here to be able to override the default hidden behavior on the sphinx rendered scikit-learn.org. See: https://github.com/scikit-learn/scikit-learn/issues/21755 */display: inline-block !important;position: relative;}#sk-container-id-1 div.sk-text-repr-fallback {display: none;}</style><div id=\"sk-container-id-1\" class=\"sk-top-container\"><div class=\"sk-text-repr-fallback\"><pre>Pipeline(steps=[(&#x27;standardize&#x27;, StandardScaler()),\n",
       "                (&#x27;log_reg&#x27;, LogisticRegression(max_iter=10000))])</pre><b>In a Jupyter environment, please rerun this cell to show the HTML representation or trust the notebook. <br />On GitHub, the HTML representation is unable to render, please try loading this page with nbviewer.org.</b></div><div class=\"sk-container\" hidden><div class=\"sk-item sk-dashed-wrapped\"><div class=\"sk-label-container\"><div class=\"sk-label sk-toggleable\"><input class=\"sk-toggleable__control sk-hidden--visually\" id=\"sk-estimator-id-1\" type=\"checkbox\" ><label for=\"sk-estimator-id-1\" class=\"sk-toggleable__label sk-toggleable__label-arrow\">Pipeline</label><div class=\"sk-toggleable__content\"><pre>Pipeline(steps=[(&#x27;standardize&#x27;, StandardScaler()),\n",
       "                (&#x27;log_reg&#x27;, LogisticRegression(max_iter=10000))])</pre></div></div></div><div class=\"sk-serial\"><div class=\"sk-item\"><div class=\"sk-estimator sk-toggleable\"><input class=\"sk-toggleable__control sk-hidden--visually\" id=\"sk-estimator-id-2\" type=\"checkbox\" ><label for=\"sk-estimator-id-2\" class=\"sk-toggleable__label sk-toggleable__label-arrow\">StandardScaler</label><div class=\"sk-toggleable__content\"><pre>StandardScaler()</pre></div></div></div><div class=\"sk-item\"><div class=\"sk-estimator sk-toggleable\"><input class=\"sk-toggleable__control sk-hidden--visually\" id=\"sk-estimator-id-3\" type=\"checkbox\" ><label for=\"sk-estimator-id-3\" class=\"sk-toggleable__label sk-toggleable__label-arrow\">LogisticRegression</label><div class=\"sk-toggleable__content\"><pre>LogisticRegression(max_iter=10000)</pre></div></div></div></div></div></div></div>"
      ],
      "text/plain": [
       "Pipeline(steps=[('standardize', StandardScaler()),\n",
       "                ('log_reg', LogisticRegression(max_iter=10000))])"
      ]
     },
     "execution_count": 7,
     "metadata": {},
     "output_type": "execute_result"
    }
   ],
   "source": [
    "scaler = StandardScaler()\n",
    "\n",
    "lr = LogisticRegression(max_iter=10000, solver='lbfgs') #syntax if you wand to add hyperparameters\n",
    "\n",
    "model1 = Pipeline([('standardize', scaler),\n",
    "                    ('log_reg', lr)])\n",
    "model1"
   ]
  },
  {
   "cell_type": "markdown",
   "id": "53de691a",
   "metadata": {},
   "source": [
    "#### Fit our model to the training data"
   ]
  },
  {
   "cell_type": "code",
   "execution_count": 8,
   "id": "ca1e9628",
   "metadata": {},
   "outputs": [
    {
     "data": {
      "text/html": [
       "<style>#sk-container-id-2 {color: black;background-color: white;}#sk-container-id-2 pre{padding: 0;}#sk-container-id-2 div.sk-toggleable {background-color: white;}#sk-container-id-2 label.sk-toggleable__label {cursor: pointer;display: block;width: 100%;margin-bottom: 0;padding: 0.3em;box-sizing: border-box;text-align: center;}#sk-container-id-2 label.sk-toggleable__label-arrow:before {content: \"▸\";float: left;margin-right: 0.25em;color: #696969;}#sk-container-id-2 label.sk-toggleable__label-arrow:hover:before {color: black;}#sk-container-id-2 div.sk-estimator:hover label.sk-toggleable__label-arrow:before {color: black;}#sk-container-id-2 div.sk-toggleable__content {max-height: 0;max-width: 0;overflow: hidden;text-align: left;background-color: #f0f8ff;}#sk-container-id-2 div.sk-toggleable__content pre {margin: 0.2em;color: black;border-radius: 0.25em;background-color: #f0f8ff;}#sk-container-id-2 input.sk-toggleable__control:checked~div.sk-toggleable__content {max-height: 200px;max-width: 100%;overflow: auto;}#sk-container-id-2 input.sk-toggleable__control:checked~label.sk-toggleable__label-arrow:before {content: \"▾\";}#sk-container-id-2 div.sk-estimator input.sk-toggleable__control:checked~label.sk-toggleable__label {background-color: #d4ebff;}#sk-container-id-2 div.sk-label input.sk-toggleable__control:checked~label.sk-toggleable__label {background-color: #d4ebff;}#sk-container-id-2 input.sk-hidden--visually {border: 0;clip: rect(1px 1px 1px 1px);clip: rect(1px, 1px, 1px, 1px);height: 1px;margin: -1px;overflow: hidden;padding: 0;position: absolute;width: 1px;}#sk-container-id-2 div.sk-estimator {font-family: monospace;background-color: #f0f8ff;border: 1px dotted black;border-radius: 0.25em;box-sizing: border-box;margin-bottom: 0.5em;}#sk-container-id-2 div.sk-estimator:hover {background-color: #d4ebff;}#sk-container-id-2 div.sk-parallel-item::after {content: \"\";width: 100%;border-bottom: 1px solid gray;flex-grow: 1;}#sk-container-id-2 div.sk-label:hover label.sk-toggleable__label {background-color: #d4ebff;}#sk-container-id-2 div.sk-serial::before {content: \"\";position: absolute;border-left: 1px solid gray;box-sizing: border-box;top: 0;bottom: 0;left: 50%;z-index: 0;}#sk-container-id-2 div.sk-serial {display: flex;flex-direction: column;align-items: center;background-color: white;padding-right: 0.2em;padding-left: 0.2em;position: relative;}#sk-container-id-2 div.sk-item {position: relative;z-index: 1;}#sk-container-id-2 div.sk-parallel {display: flex;align-items: stretch;justify-content: center;background-color: white;position: relative;}#sk-container-id-2 div.sk-item::before, #sk-container-id-2 div.sk-parallel-item::before {content: \"\";position: absolute;border-left: 1px solid gray;box-sizing: border-box;top: 0;bottom: 0;left: 50%;z-index: -1;}#sk-container-id-2 div.sk-parallel-item {display: flex;flex-direction: column;z-index: 1;position: relative;background-color: white;}#sk-container-id-2 div.sk-parallel-item:first-child::after {align-self: flex-end;width: 50%;}#sk-container-id-2 div.sk-parallel-item:last-child::after {align-self: flex-start;width: 50%;}#sk-container-id-2 div.sk-parallel-item:only-child::after {width: 0;}#sk-container-id-2 div.sk-dashed-wrapped {border: 1px dashed gray;margin: 0 0.4em 0.5em 0.4em;box-sizing: border-box;padding-bottom: 0.4em;background-color: white;}#sk-container-id-2 div.sk-label label {font-family: monospace;font-weight: bold;display: inline-block;line-height: 1.2em;}#sk-container-id-2 div.sk-label-container {text-align: center;}#sk-container-id-2 div.sk-container {/* jupyter's `normalize.less` sets `[hidden] { display: none; }` but bootstrap.min.css set `[hidden] { display: none !important; }` so we also need the `!important` here to be able to override the default hidden behavior on the sphinx rendered scikit-learn.org. See: https://github.com/scikit-learn/scikit-learn/issues/21755 */display: inline-block !important;position: relative;}#sk-container-id-2 div.sk-text-repr-fallback {display: none;}</style><div id=\"sk-container-id-2\" class=\"sk-top-container\"><div class=\"sk-text-repr-fallback\"><pre>Pipeline(steps=[(&#x27;standardize&#x27;, StandardScaler()),\n",
       "                (&#x27;log_reg&#x27;, LogisticRegression(max_iter=10000))])</pre><b>In a Jupyter environment, please rerun this cell to show the HTML representation or trust the notebook. <br />On GitHub, the HTML representation is unable to render, please try loading this page with nbviewer.org.</b></div><div class=\"sk-container\" hidden><div class=\"sk-item sk-dashed-wrapped\"><div class=\"sk-label-container\"><div class=\"sk-label sk-toggleable\"><input class=\"sk-toggleable__control sk-hidden--visually\" id=\"sk-estimator-id-4\" type=\"checkbox\" ><label for=\"sk-estimator-id-4\" class=\"sk-toggleable__label sk-toggleable__label-arrow\">Pipeline</label><div class=\"sk-toggleable__content\"><pre>Pipeline(steps=[(&#x27;standardize&#x27;, StandardScaler()),\n",
       "                (&#x27;log_reg&#x27;, LogisticRegression(max_iter=10000))])</pre></div></div></div><div class=\"sk-serial\"><div class=\"sk-item\"><div class=\"sk-estimator sk-toggleable\"><input class=\"sk-toggleable__control sk-hidden--visually\" id=\"sk-estimator-id-5\" type=\"checkbox\" ><label for=\"sk-estimator-id-5\" class=\"sk-toggleable__label sk-toggleable__label-arrow\">StandardScaler</label><div class=\"sk-toggleable__content\"><pre>StandardScaler()</pre></div></div></div><div class=\"sk-item\"><div class=\"sk-estimator sk-toggleable\"><input class=\"sk-toggleable__control sk-hidden--visually\" id=\"sk-estimator-id-6\" type=\"checkbox\" ><label for=\"sk-estimator-id-6\" class=\"sk-toggleable__label sk-toggleable__label-arrow\">LogisticRegression</label><div class=\"sk-toggleable__content\"><pre>LogisticRegression(max_iter=10000)</pre></div></div></div></div></div></div></div>"
      ],
      "text/plain": [
       "Pipeline(steps=[('standardize', StandardScaler()),\n",
       "                ('log_reg', LogisticRegression(max_iter=10000))])"
      ]
     },
     "execution_count": 8,
     "metadata": {},
     "output_type": "execute_result"
    }
   ],
   "source": [
    "model1.fit(X_train, y_train)"
   ]
  },
  {
   "cell_type": "code",
   "execution_count": 9,
   "id": "d025ffe6",
   "metadata": {},
   "outputs": [
    {
     "data": {
      "text/plain": [
       "<bound method Pipeline.get_params of Pipeline(steps=[('standardize', StandardScaler()),\n",
       "                ('log_reg', LogisticRegression(max_iter=10000))])>"
      ]
     },
     "execution_count": 9,
     "metadata": {},
     "output_type": "execute_result"
    }
   ],
   "source": [
    "model1.get_params"
   ]
  },
  {
   "cell_type": "markdown",
   "id": "83ccdb3f",
   "metadata": {},
   "source": [
    "#### Predictions for the class and for the probabilities"
   ]
  },
  {
   "cell_type": "code",
   "execution_count": 10,
   "id": "31f9f921",
   "metadata": {},
   "outputs": [
    {
     "data": {
      "text/plain": [
       "array([0, 0, 0, 1, 1, 0, 1, 0, 0, 0])"
      ]
     },
     "execution_count": 10,
     "metadata": {},
     "output_type": "execute_result"
    }
   ],
   "source": [
    "y_train_hat = model1.predict(X_train)\n",
    "y_train_hat[:10]"
   ]
  },
  {
   "cell_type": "code",
   "execution_count": 11,
   "id": "b3c98976",
   "metadata": {},
   "outputs": [],
   "source": [
    "y_train_hat_probs = model1.predict_proba(X_train)[:,1]"
   ]
  },
  {
   "cell_type": "code",
   "execution_count": 12,
   "id": "10d0ab9f",
   "metadata": {},
   "outputs": [
    {
     "data": {
      "text/html": [
       "<div>\n",
       "<style scoped>\n",
       "    .dataframe tbody tr th:only-of-type {\n",
       "        vertical-align: middle;\n",
       "    }\n",
       "\n",
       "    .dataframe tbody tr th {\n",
       "        vertical-align: top;\n",
       "    }\n",
       "\n",
       "    .dataframe thead th {\n",
       "        text-align: right;\n",
       "    }\n",
       "</style>\n",
       "<table border=\"1\" class=\"dataframe\">\n",
       "  <thead>\n",
       "    <tr style=\"text-align: right;\">\n",
       "      <th></th>\n",
       "      <th>y_train_hat</th>\n",
       "      <th>y_train_hat_probs</th>\n",
       "    </tr>\n",
       "  </thead>\n",
       "  <tbody>\n",
       "    <tr>\n",
       "      <th>0</th>\n",
       "      <td>0</td>\n",
       "      <td>0.063631</td>\n",
       "    </tr>\n",
       "    <tr>\n",
       "      <th>1</th>\n",
       "      <td>0</td>\n",
       "      <td>0.414199</td>\n",
       "    </tr>\n",
       "    <tr>\n",
       "      <th>2</th>\n",
       "      <td>0</td>\n",
       "      <td>0.000031</td>\n",
       "    </tr>\n",
       "    <tr>\n",
       "      <th>3</th>\n",
       "      <td>1</td>\n",
       "      <td>0.643513</td>\n",
       "    </tr>\n",
       "    <tr>\n",
       "      <th>4</th>\n",
       "      <td>1</td>\n",
       "      <td>0.955412</td>\n",
       "    </tr>\n",
       "    <tr>\n",
       "      <th>5</th>\n",
       "      <td>0</td>\n",
       "      <td>0.000047</td>\n",
       "    </tr>\n",
       "    <tr>\n",
       "      <th>6</th>\n",
       "      <td>1</td>\n",
       "      <td>0.962580</td>\n",
       "    </tr>\n",
       "    <tr>\n",
       "      <th>7</th>\n",
       "      <td>0</td>\n",
       "      <td>0.076997</td>\n",
       "    </tr>\n",
       "    <tr>\n",
       "      <th>8</th>\n",
       "      <td>0</td>\n",
       "      <td>0.003877</td>\n",
       "    </tr>\n",
       "    <tr>\n",
       "      <th>9</th>\n",
       "      <td>0</td>\n",
       "      <td>0.001480</td>\n",
       "    </tr>\n",
       "  </tbody>\n",
       "</table>\n",
       "</div>"
      ],
      "text/plain": [
       "   y_train_hat  y_train_hat_probs\n",
       "0            0           0.063631\n",
       "1            0           0.414199\n",
       "2            0           0.000031\n",
       "3            1           0.643513\n",
       "4            1           0.955412\n",
       "5            0           0.000047\n",
       "6            1           0.962580\n",
       "7            0           0.076997\n",
       "8            0           0.003877\n",
       "9            0           0.001480"
      ]
     },
     "execution_count": 12,
     "metadata": {},
     "output_type": "execute_result"
    }
   ],
   "source": [
    "temp= pd.DataFrame({'y_train_hat': y_train_hat, 'y_train_hat_probs': y_train_hat_probs})\n",
    "temp.head(10)"
   ]
  },
  {
   "cell_type": "code",
   "execution_count": 13,
   "id": "2397e4f4",
   "metadata": {},
   "outputs": [
    {
     "data": {
      "text/plain": [
       "<Axes: >"
      ]
     },
     "execution_count": 13,
     "metadata": {},
     "output_type": "execute_result"
    },
    {
     "data": {
      "image/png": "[encoded data removed]",
      "text/plain": [
       "<Figure size 640x480 with 1 Axes>"
      ]
     },
     "metadata": {},
     "output_type": "display_data"
    }
   ],
   "source": [
    "temp['y_train_hat_probs'].hist()"
   ]
  },
  {
   "cell_type": "markdown",
   "id": "afc95b67",
   "metadata": {},
   "source": [
    "#### Performance on the training set"
   ]
  },
  {
   "cell_type": "code",
   "execution_count": 14,
   "id": "62720f7e",
   "metadata": {},
   "outputs": [
    {
     "name": "stdout",
     "output_type": "stream",
     "text": [
      "Confusion matrix:\n",
      " [[78  8]\n",
      " [ 5 89]]\n",
      "Training AUC: 98.1321 %\n",
      "Training accuracy: 92.7778 %\n"
     ]
    }
   ],
   "source": [
    "train_accuracy = accuracy_score(y_train, y_train_hat)*100\n",
    "train_auc_roc = roc_auc_score(y_train, y_train_hat_probs)*100\n",
    "\n",
    "print('Confusion matrix:\\n', confusion_matrix(y_train, y_train_hat))\n",
    "print('Training AUC: %.4f %%' % train_auc_roc)\n",
    "print('Training accuracy: %.4f %%' % train_accuracy)"
   ]
  },
  {
   "cell_type": "markdown",
   "id": "5b66e6d6",
   "metadata": {},
   "source": [
    "### Test set\n",
    "\n",
    "<div class=\"alert alert-info\">\n",
    "<h4> Your turn</h4>\n",
    "Following the computation on the train set, compute:\n",
    "    \n",
    "    - the class & proba predictions\n",
    "    - the accuracy and AUC\n",
    "</div>"
   ]
  },
  {
   "cell_type": "code",
   "execution_count": 15,
   "id": "46d6f109",
   "metadata": {},
   "outputs": [
    {
     "name": "stdout",
     "output_type": "stream",
     "text": [
      "Confusion matrix:\n",
      " [[20  0]\n",
      " [ 4 21]]\n",
      "Testing AUC: 96.6000 %\n",
      "Testing accuracy: 91.1111 %\n"
     ]
    }
   ],
   "source": [
    "y_test_hat = model1.predict(X_test)\n",
    "y_test_hat_probs = model1.predict_proba(X_test)[:,1]\n",
    "\n",
    "test_accuracy = accuracy_score(y_test, y_test_hat)*100\n",
    "test_auc_roc = roc_auc_score(y_test, y_test_hat_probs)*100\n",
    "\n",
    "print('Confusion matrix:\\n', confusion_matrix(y_test, y_test_hat))\n",
    "\n",
    "print('Testing AUC: %.4f %%' % test_auc_roc)\n",
    "\n",
    "print('Testing accuracy: %.4f %%' % test_accuracy) \n"
   ]
  },
  {
   "cell_type": "code",
   "execution_count": 16,
   "id": "94e8192f",
   "metadata": {},
   "outputs": [
    {
     "name": "stdout",
     "output_type": "stream",
     "text": [
      "              precision    recall  f1-score   support\n",
      "\n",
      "           0   0.833333  1.000000  0.909091        20\n",
      "           1   1.000000  0.840000  0.913043        25\n",
      "\n",
      "    accuracy                       0.911111        45\n",
      "   macro avg   0.916667  0.920000  0.911067        45\n",
      "weighted avg   0.925926  0.911111  0.911287        45\n",
      "\n"
     ]
    }
   ],
   "source": [
    "print(classification_report(y_test, y_test_hat, digits=6))"
   ]
  },
  {
   "cell_type": "markdown",
   "id": "58c94872",
   "metadata": {},
   "source": [
    "### Plot the ROC curve"
   ]
  },
  {
   "cell_type": "code",
   "execution_count": 17,
   "id": "21a69e9d",
   "metadata": {},
   "outputs": [
    {
     "name": "stdout",
     "output_type": "stream",
     "text": [
      "tresholds: 8\n"
     ]
    },
    {
     "data": {
      "text/plain": [
       "0.966"
      ]
     },
     "execution_count": 17,
     "metadata": {},
     "output_type": "execute_result"
    }
   ],
   "source": [
    "from sklearn import metrics\n",
    "\n",
    "fpr, tpr, threshold = metrics.roc_curve(y_test, y_test_hat_probs)\n",
    "print(\"tresholds:\",  len(threshold))\n",
    "roc_auc = metrics.auc(fpr, tpr)\n",
    "roc_auc"
   ]
  },
  {
   "cell_type": "code",
   "execution_count": 18,
   "id": "04282f62",
   "metadata": {},
   "outputs": [
    {
     "data": {
      "image/png": "[encoded data removed]",
      "text/plain": [
       "<Figure size 640x480 with 1 Axes>"
      ]
     },
     "metadata": {},
     "output_type": "display_data"
    }
   ],
   "source": [
    "# method I: plt\n",
    "import matplotlib.pyplot as plt\n",
    "plt.title('Receiver Operating Characteristic')\n",
    "plt.plot(fpr, tpr, 'b', label = 'AUC = %0.2f' % roc_auc)\n",
    "plt.plot([0, 1], [0, 1],'r--')\n",
    "plt.ylabel('True Positive Rate')\n",
    "plt.xlabel('False Positive Rate')\n",
    "plt.show()"
   ]
  },
  {
   "cell_type": "markdown",
   "id": "2a6a662c",
   "metadata": {},
   "source": [
    "We can further try to improve this model performance by hyperparameter tuning by changing the value of C or choosing other solvers available in `LogisticRegression()`."
   ]
  },
  {
   "cell_type": "markdown",
   "id": "c689bcbd",
   "metadata": {},
   "source": [
    "## Part 2"
   ]
  },
  {
   "cell_type": "markdown",
   "id": "3c279204",
   "metadata": {},
   "source": [
    "The objective is to build a classifier for whether a firm is going to default. "
   ]
  },
  {
   "cell_type": "markdown",
   "id": "b66c61a2",
   "metadata": {},
   "source": [
    "### Load & visualise data"
   ]
  },
  {
   "cell_type": "code",
   "execution_count": 19,
   "id": "13869c04",
   "metadata": {},
   "outputs": [],
   "source": [
    "data = pd.read_csv(\"../data/bisnode_firms_clean.csv\")"
   ]
  },
  {
   "cell_type": "code",
   "execution_count": 20,
   "id": "b3cf073f",
   "metadata": {},
   "outputs": [
    {
     "name": "stdout",
     "output_type": "stream",
     "text": [
      "Collecting summarytools\n",
      "  Downloading summarytools-0.2.3.tar.gz (11 kB)\n",
      "  Installing build dependencies ... \u001b[?25ldone\n",
      "\u001b[?25h  Getting requirements to build wheel ... \u001b[?25ldone\n",
      "\u001b[?25h  Preparing metadata (pyproject.toml) ... \u001b[?25ldone\n",
      "\u001b[?25hRequirement already satisfied: ipython>=7.20.0 in /opt/homebrew/lib/python3.10/site-packages (from summarytools) (8.10.0)\n",
      "Requirement already satisfied: pandas>=1.4.0 in /opt/homebrew/lib/python3.10/site-packages (from summarytools) (1.5.2)\n",
      "Requirement already satisfied: numpy>=1.18.5 in /opt/homebrew/lib/python3.10/site-packages (from summarytools) (1.23.5)\n",
      "Requirement already satisfied: matplotlib>=3.3.0 in /opt/homebrew/lib/python3.10/site-packages (from summarytools) (3.7.0)\n",
      "Requirement already satisfied: prompt-toolkit<3.1.0,>=3.0.30 in /opt/homebrew/lib/python3.10/site-packages (from ipython>=7.20.0->summarytools) (3.0.37)\n",
      "Requirement already satisfied: traitlets>=5 in /opt/homebrew/lib/python3.10/site-packages (from ipython>=7.20.0->summarytools) (5.9.0)\n",
      "Requirement already satisfied: pexpect>4.3 in /opt/homebrew/lib/python3.10/site-packages (from ipython>=7.20.0->summarytools) (4.8.0)\n",
      "Requirement already satisfied: jedi>=0.16 in /opt/homebrew/lib/python3.10/site-packages (from ipython>=7.20.0->summarytools) (0.18.2)\n",
      "Requirement already satisfied: backcall in /opt/homebrew/lib/python3.10/site-packages (from ipython>=7.20.0->summarytools) (0.2.0)\n",
      "Requirement already satisfied: appnope in /opt/homebrew/lib/python3.10/site-packages (from ipython>=7.20.0->summarytools) (0.1.3)\n",
      "Requirement already satisfied: stack-data in /opt/homebrew/lib/python3.10/site-packages (from ipython>=7.20.0->summarytools) (0.6.2)\n",
      "Requirement already satisfied: matplotlib-inline in /opt/homebrew/lib/python3.10/site-packages (from ipython>=7.20.0->summarytools) (0.1.6)\n",
      "Requirement already satisfied: decorator in /opt/homebrew/lib/python3.10/site-packages (from ipython>=7.20.0->summarytools) (5.1.1)\n",
      "Requirement already satisfied: pygments>=2.4.0 in /opt/homebrew/lib/python3.10/site-packages (from ipython>=7.20.0->summarytools) (2.14.0)\n",
      "Requirement already satisfied: pickleshare in /opt/homebrew/lib/python3.10/site-packages (from ipython>=7.20.0->summarytools) (0.7.5)\n",
      "Requirement already satisfied: contourpy>=1.0.1 in /opt/homebrew/lib/python3.10/site-packages (from matplotlib>=3.3.0->summarytools) (1.0.6)\n",
      "Requirement already satisfied: kiwisolver>=1.0.1 in /opt/homebrew/lib/python3.10/site-packages (from matplotlib>=3.3.0->summarytools) (1.4.4)\n",
      "Requirement already satisfied: packaging>=20.0 in /opt/homebrew/lib/python3.10/site-packages (from matplotlib>=3.3.0->summarytools) (23.0)\n",
      "Requirement already satisfied: python-dateutil>=2.7 in /opt/homebrew/lib/python3.10/site-packages (from matplotlib>=3.3.0->summarytools) (2.8.2)\n",
      "Requirement already satisfied: cycler>=0.10 in /opt/homebrew/lib/python3.10/site-packages (from matplotlib>=3.3.0->summarytools) (0.11.0)\n",
      "Requirement already satisfied: pyparsing>=2.3.1 in /opt/homebrew/lib/python3.10/site-packages (from matplotlib>=3.3.0->summarytools) (3.0.9)\n",
      "Requirement already satisfied: fonttools>=4.22.0 in /opt/homebrew/lib/python3.10/site-packages (from matplotlib>=3.3.0->summarytools) (4.38.0)\n",
      "Requirement already satisfied: pillow>=6.2.0 in /opt/homebrew/lib/python3.10/site-packages (from matplotlib>=3.3.0->summarytools) (9.4.0)\n",
      "Requirement already satisfied: pytz>=2020.1 in /opt/homebrew/lib/python3.10/site-packages (from pandas>=1.4.0->summarytools) (2022.6)\n",
      "Requirement already satisfied: parso<0.9.0,>=0.8.0 in /opt/homebrew/lib/python3.10/site-packages (from jedi>=0.16->ipython>=7.20.0->summarytools) (0.8.3)\n",
      "Requirement already satisfied: ptyprocess>=0.5 in /opt/homebrew/lib/python3.10/site-packages (from pexpect>4.3->ipython>=7.20.0->summarytools) (0.7.0)\n",
      "Requirement already satisfied: wcwidth in /opt/homebrew/lib/python3.10/site-packages (from prompt-toolkit<3.1.0,>=3.0.30->ipython>=7.20.0->summarytools) (0.2.6)\n",
      "Requirement already satisfied: six>=1.5 in /opt/homebrew/lib/python3.10/site-packages (from python-dateutil>=2.7->matplotlib>=3.3.0->summarytools) (1.16.0)\n",
      "Requirement already satisfied: executing>=1.2.0 in /opt/homebrew/lib/python3.10/site-packages (from stack-data->ipython>=7.20.0->summarytools) (1.2.0)\n",
      "Requirement already satisfied: pure-eval in /opt/homebrew/lib/python3.10/site-packages (from stack-data->ipython>=7.20.0->summarytools) (0.2.2)\n",
      "Requirement already satisfied: asttokens>=2.1.0 in /opt/homebrew/lib/python3.10/site-packages (from stack-data->ipython>=7.20.0->summarytools) (2.2.1)\n",
      "Building wheels for collected packages: summarytools\n",
      "  Building wheel for summarytools (pyproject.toml) ... \u001b[?25ldone\n",
      "\u001b[?25h  Created wheel for summarytools: filename=summarytools-0.2.3-py3-none-any.whl size=8577 sha256=c3e0dc609eca33acc535dd8545a86ec91595fa3f9630063946cda2629c0a261c\n",
      "  Stored in directory: /Users/malka/Library/Caches/pip/wheels/d5/8a/5d/008e2127a7f9dd64d066f16e5ea268fa52823dc929c982d6f1\n",
      "Successfully built summarytools\n",
      "Installing collected packages: summarytools\n",
      "Successfully installed summarytools-0.2.3\n",
      "\n",
      "\u001b[1m[\u001b[0m\u001b[34;49mnotice\u001b[0m\u001b[1;39;49m]\u001b[0m\u001b[39;49m A new release of pip is available: \u001b[0m\u001b[31;49m23.0\u001b[0m\u001b[39;49m -> \u001b[0m\u001b[32;49m23.0.1\u001b[0m\n",
      "\u001b[1m[\u001b[0m\u001b[34;49mnotice\u001b[0m\u001b[1;39;49m]\u001b[0m\u001b[39;49m To update, run: \u001b[0m\u001b[32;49mpython3.10 -m pip install --upgrade pip\u001b[0m\n",
      "Note: you may need to restart the kernel to use updated packages.\n"
     ]
    }
   ],
   "source": [
    "pip install summarytools"
   ]
  },
  {
   "cell_type": "code",
   "execution_count": 21,
   "id": "ca3aedb3",
   "metadata": {},
   "outputs": [
    {
     "data": {
      "text/html": [
       "<button type=\"button\" class = \"st-collapsible\", \n",
       "    id = \"btn-2658\" onclick = \"coll_toggle_2658()\">Show Summary - data</button>\n",
       "    <div class=\"st-content\" id=\"cont-2658\">\n",
       "      <style type=\"text/css\">\n",
       "#T_7130d thead>tr>th {\n",
       "  text-align: left;\n",
       "}\n",
       "#T_7130d_row0_col0, #T_7130d_row1_col0, #T_7130d_row2_col0, #T_7130d_row3_col0, #T_7130d_row4_col0, #T_7130d_row5_col0, #T_7130d_row6_col0, #T_7130d_row7_col0, #T_7130d_row8_col0, #T_7130d_row9_col0, #T_7130d_row10_col0, #T_7130d_row11_col0, #T_7130d_row12_col0, #T_7130d_row13_col0, #T_7130d_row14_col0, #T_7130d_row15_col0, #T_7130d_row16_col0, #T_7130d_row17_col0, #T_7130d_row18_col0, #T_7130d_row19_col0, #T_7130d_row20_col0, #T_7130d_row21_col0, #T_7130d_row22_col0, #T_7130d_row23_col0, #T_7130d_row24_col0, #T_7130d_row25_col0, #T_7130d_row26_col0, #T_7130d_row27_col0, #T_7130d_row28_col0, #T_7130d_row29_col0, #T_7130d_row30_col0, #T_7130d_row31_col0, #T_7130d_row32_col0, #T_7130d_row33_col0, #T_7130d_row34_col0, #T_7130d_row35_col0, #T_7130d_row36_col0, #T_7130d_row37_col0, #T_7130d_row38_col0, #T_7130d_row39_col0, #T_7130d_row40_col0, #T_7130d_row41_col0, #T_7130d_row42_col0, #T_7130d_row43_col0, #T_7130d_row44_col0, #T_7130d_row45_col0, #T_7130d_row46_col0, #T_7130d_row47_col0, #T_7130d_row48_col0, #T_7130d_row49_col0, #T_7130d_row50_col0, #T_7130d_row51_col0, #T_7130d_row52_col0, #T_7130d_row53_col0, #T_7130d_row54_col0, #T_7130d_row55_col0, #T_7130d_row56_col0, #T_7130d_row57_col0, #T_7130d_row58_col0, #T_7130d_row59_col0, #T_7130d_row60_col0, #T_7130d_row61_col0, #T_7130d_row62_col0, #T_7130d_row63_col0, #T_7130d_row64_col0, #T_7130d_row65_col0, #T_7130d_row66_col0, #T_7130d_row67_col0, #T_7130d_row68_col0, #T_7130d_row69_col0, #T_7130d_row70_col0, #T_7130d_row71_col0, #T_7130d_row72_col0, #T_7130d_row73_col0, #T_7130d_row74_col0, #T_7130d_row75_col0, #T_7130d_row76_col0, #T_7130d_row77_col0, #T_7130d_row78_col0, #T_7130d_row79_col0, #T_7130d_row80_col0, #T_7130d_row81_col0, #T_7130d_row82_col0, #T_7130d_row83_col0, #T_7130d_row84_col0, #T_7130d_row85_col0, #T_7130d_row86_col0, #T_7130d_row87_col0, #T_7130d_row88_col0, #T_7130d_row89_col0, #T_7130d_row90_col0, #T_7130d_row91_col0, #T_7130d_row92_col0, #T_7130d_row93_col0, #T_7130d_row94_col0, #T_7130d_row95_col0, #T_7130d_row96_col0, #T_7130d_row97_col0, #T_7130d_row98_col0, #T_7130d_row99_col0, #T_7130d_row100_col0, #T_7130d_row101_col0, #T_7130d_row102_col0, #T_7130d_row103_col0, #T_7130d_row104_col0, #T_7130d_row105_col0, #T_7130d_row106_col0, #T_7130d_row107_col0, #T_7130d_row108_col0, #T_7130d_row109_col0, #T_7130d_row110_col0, #T_7130d_row111_col0, #T_7130d_row112_col0, #T_7130d_row113_col0, #T_7130d_row114_col0, #T_7130d_row115_col0, #T_7130d_row116_col0, #T_7130d_row117_col0 {\n",
       "  text-align: left;\n",
       "  font-size: 12px;\n",
       "  vertical-align: middle;\n",
       "  width: 5%;\n",
       "  max-width: 50px;\n",
       "  min-width: 20px;\n",
       "}\n",
       "#T_7130d_row0_col1, #T_7130d_row1_col1, #T_7130d_row2_col1, #T_7130d_row3_col1, #T_7130d_row4_col1, #T_7130d_row5_col1, #T_7130d_row6_col1, #T_7130d_row7_col1, #T_7130d_row8_col1, #T_7130d_row9_col1, #T_7130d_row10_col1, #T_7130d_row11_col1, #T_7130d_row12_col1, #T_7130d_row13_col1, #T_7130d_row14_col1, #T_7130d_row15_col1, #T_7130d_row16_col1, #T_7130d_row17_col1, #T_7130d_row18_col1, #T_7130d_row19_col1, #T_7130d_row20_col1, #T_7130d_row21_col1, #T_7130d_row22_col1, #T_7130d_row23_col1, #T_7130d_row24_col1, #T_7130d_row25_col1, #T_7130d_row26_col1, #T_7130d_row27_col1, #T_7130d_row28_col1, #T_7130d_row29_col1, #T_7130d_row30_col1, #T_7130d_row31_col1, #T_7130d_row32_col1, #T_7130d_row33_col1, #T_7130d_row34_col1, #T_7130d_row35_col1, #T_7130d_row36_col1, #T_7130d_row37_col1, #T_7130d_row38_col1, #T_7130d_row39_col1, #T_7130d_row40_col1, #T_7130d_row41_col1, #T_7130d_row42_col1, #T_7130d_row43_col1, #T_7130d_row44_col1, #T_7130d_row45_col1, #T_7130d_row46_col1, #T_7130d_row47_col1, #T_7130d_row48_col1, #T_7130d_row49_col1, #T_7130d_row50_col1, #T_7130d_row51_col1, #T_7130d_row52_col1, #T_7130d_row53_col1, #T_7130d_row54_col1, #T_7130d_row55_col1, #T_7130d_row56_col1, #T_7130d_row57_col1, #T_7130d_row58_col1, #T_7130d_row59_col1, #T_7130d_row60_col1, #T_7130d_row61_col1, #T_7130d_row62_col1, #T_7130d_row63_col1, #T_7130d_row64_col1, #T_7130d_row65_col1, #T_7130d_row66_col1, #T_7130d_row67_col1, #T_7130d_row68_col1, #T_7130d_row69_col1, #T_7130d_row70_col1, #T_7130d_row71_col1, #T_7130d_row72_col1, #T_7130d_row73_col1, #T_7130d_row74_col1, #T_7130d_row75_col1, #T_7130d_row76_col1, #T_7130d_row77_col1, #T_7130d_row78_col1, #T_7130d_row79_col1, #T_7130d_row80_col1, #T_7130d_row81_col1, #T_7130d_row82_col1, #T_7130d_row83_col1, #T_7130d_row84_col1, #T_7130d_row85_col1, #T_7130d_row86_col1, #T_7130d_row87_col1, #T_7130d_row88_col1, #T_7130d_row89_col1, #T_7130d_row90_col1, #T_7130d_row91_col1, #T_7130d_row92_col1, #T_7130d_row93_col1, #T_7130d_row94_col1, #T_7130d_row95_col1, #T_7130d_row96_col1, #T_7130d_row97_col1, #T_7130d_row98_col1, #T_7130d_row99_col1, #T_7130d_row100_col1, #T_7130d_row101_col1, #T_7130d_row102_col1, #T_7130d_row103_col1, #T_7130d_row104_col1, #T_7130d_row105_col1, #T_7130d_row106_col1, #T_7130d_row107_col1, #T_7130d_row108_col1, #T_7130d_row109_col1, #T_7130d_row110_col1, #T_7130d_row111_col1, #T_7130d_row112_col1, #T_7130d_row113_col1, #T_7130d_row114_col1, #T_7130d_row115_col1, #T_7130d_row116_col1, #T_7130d_row117_col1 {\n",
       "  text-align: left;\n",
       "  font-size: 12px;\n",
       "  vertical-align: middle;\n",
       "  width: 15%;\n",
       "  max-width: 200px;\n",
       "  min-width: 100px;\n",
       "  word-break: break-word;\n",
       "}\n",
       "#T_7130d_row0_col2, #T_7130d_row1_col2, #T_7130d_row2_col2, #T_7130d_row3_col2, #T_7130d_row4_col2, #T_7130d_row5_col2, #T_7130d_row6_col2, #T_7130d_row7_col2, #T_7130d_row8_col2, #T_7130d_row9_col2, #T_7130d_row10_col2, #T_7130d_row11_col2, #T_7130d_row12_col2, #T_7130d_row13_col2, #T_7130d_row14_col2, #T_7130d_row15_col2, #T_7130d_row16_col2, #T_7130d_row17_col2, #T_7130d_row18_col2, #T_7130d_row19_col2, #T_7130d_row20_col2, #T_7130d_row21_col2, #T_7130d_row22_col2, #T_7130d_row23_col2, #T_7130d_row24_col2, #T_7130d_row25_col2, #T_7130d_row26_col2, #T_7130d_row27_col2, #T_7130d_row28_col2, #T_7130d_row29_col2, #T_7130d_row30_col2, #T_7130d_row31_col2, #T_7130d_row32_col2, #T_7130d_row33_col2, #T_7130d_row34_col2, #T_7130d_row35_col2, #T_7130d_row36_col2, #T_7130d_row37_col2, #T_7130d_row38_col2, #T_7130d_row39_col2, #T_7130d_row40_col2, #T_7130d_row41_col2, #T_7130d_row42_col2, #T_7130d_row43_col2, #T_7130d_row44_col2, #T_7130d_row45_col2, #T_7130d_row46_col2, #T_7130d_row47_col2, #T_7130d_row48_col2, #T_7130d_row49_col2, #T_7130d_row50_col2, #T_7130d_row51_col2, #T_7130d_row52_col2, #T_7130d_row53_col2, #T_7130d_row54_col2, #T_7130d_row55_col2, #T_7130d_row56_col2, #T_7130d_row57_col2, #T_7130d_row58_col2, #T_7130d_row59_col2, #T_7130d_row60_col2, #T_7130d_row61_col2, #T_7130d_row62_col2, #T_7130d_row63_col2, #T_7130d_row64_col2, #T_7130d_row65_col2, #T_7130d_row66_col2, #T_7130d_row67_col2, #T_7130d_row68_col2, #T_7130d_row69_col2, #T_7130d_row70_col2, #T_7130d_row71_col2, #T_7130d_row72_col2, #T_7130d_row73_col2, #T_7130d_row74_col2, #T_7130d_row75_col2, #T_7130d_row76_col2, #T_7130d_row77_col2, #T_7130d_row78_col2, #T_7130d_row79_col2, #T_7130d_row80_col2, #T_7130d_row81_col2, #T_7130d_row82_col2, #T_7130d_row83_col2, #T_7130d_row84_col2, #T_7130d_row85_col2, #T_7130d_row86_col2, #T_7130d_row87_col2, #T_7130d_row88_col2, #T_7130d_row89_col2, #T_7130d_row90_col2, #T_7130d_row91_col2, #T_7130d_row92_col2, #T_7130d_row93_col2, #T_7130d_row94_col2, #T_7130d_row95_col2, #T_7130d_row96_col2, #T_7130d_row97_col2, #T_7130d_row98_col2, #T_7130d_row99_col2, #T_7130d_row100_col2, #T_7130d_row101_col2, #T_7130d_row102_col2, #T_7130d_row103_col2, #T_7130d_row104_col2, #T_7130d_row105_col2, #T_7130d_row106_col2, #T_7130d_row107_col2, #T_7130d_row108_col2, #T_7130d_row109_col2, #T_7130d_row110_col2, #T_7130d_row111_col2, #T_7130d_row112_col2, #T_7130d_row113_col2, #T_7130d_row114_col2, #T_7130d_row115_col2, #T_7130d_row116_col2, #T_7130d_row117_col2 {\n",
       "  text-align: left;\n",
       "  font-size: 12px;\n",
       "  vertical-align: middle;\n",
       "  width: 30%;\n",
       "  min-width: 100px;\n",
       "}\n",
       "#T_7130d_row0_col3, #T_7130d_row1_col3, #T_7130d_row2_col3, #T_7130d_row3_col3, #T_7130d_row4_col3, #T_7130d_row5_col3, #T_7130d_row6_col3, #T_7130d_row7_col3, #T_7130d_row8_col3, #T_7130d_row9_col3, #T_7130d_row10_col3, #T_7130d_row11_col3, #T_7130d_row12_col3, #T_7130d_row13_col3, #T_7130d_row14_col3, #T_7130d_row15_col3, #T_7130d_row16_col3, #T_7130d_row17_col3, #T_7130d_row18_col3, #T_7130d_row19_col3, #T_7130d_row20_col3, #T_7130d_row21_col3, #T_7130d_row22_col3, #T_7130d_row23_col3, #T_7130d_row24_col3, #T_7130d_row25_col3, #T_7130d_row26_col3, #T_7130d_row27_col3, #T_7130d_row28_col3, #T_7130d_row29_col3, #T_7130d_row30_col3, #T_7130d_row31_col3, #T_7130d_row32_col3, #T_7130d_row33_col3, #T_7130d_row34_col3, #T_7130d_row35_col3, #T_7130d_row36_col3, #T_7130d_row37_col3, #T_7130d_row38_col3, #T_7130d_row39_col3, #T_7130d_row40_col3, #T_7130d_row41_col3, #T_7130d_row42_col3, #T_7130d_row43_col3, #T_7130d_row44_col3, #T_7130d_row45_col3, #T_7130d_row46_col3, #T_7130d_row47_col3, #T_7130d_row48_col3, #T_7130d_row49_col3, #T_7130d_row50_col3, #T_7130d_row51_col3, #T_7130d_row52_col3, #T_7130d_row53_col3, #T_7130d_row54_col3, #T_7130d_row55_col3, #T_7130d_row56_col3, #T_7130d_row57_col3, #T_7130d_row58_col3, #T_7130d_row59_col3, #T_7130d_row60_col3, #T_7130d_row61_col3, #T_7130d_row62_col3, #T_7130d_row63_col3, #T_7130d_row64_col3, #T_7130d_row65_col3, #T_7130d_row66_col3, #T_7130d_row67_col3, #T_7130d_row68_col3, #T_7130d_row69_col3, #T_7130d_row70_col3, #T_7130d_row71_col3, #T_7130d_row72_col3, #T_7130d_row73_col3, #T_7130d_row74_col3, #T_7130d_row75_col3, #T_7130d_row76_col3, #T_7130d_row77_col3, #T_7130d_row78_col3, #T_7130d_row79_col3, #T_7130d_row80_col3, #T_7130d_row81_col3, #T_7130d_row82_col3, #T_7130d_row83_col3, #T_7130d_row84_col3, #T_7130d_row85_col3, #T_7130d_row86_col3, #T_7130d_row87_col3, #T_7130d_row88_col3, #T_7130d_row89_col3, #T_7130d_row90_col3, #T_7130d_row91_col3, #T_7130d_row92_col3, #T_7130d_row93_col3, #T_7130d_row94_col3, #T_7130d_row95_col3, #T_7130d_row96_col3, #T_7130d_row97_col3, #T_7130d_row98_col3, #T_7130d_row99_col3, #T_7130d_row100_col3, #T_7130d_row101_col3, #T_7130d_row102_col3, #T_7130d_row103_col3, #T_7130d_row104_col3, #T_7130d_row105_col3, #T_7130d_row106_col3, #T_7130d_row107_col3, #T_7130d_row108_col3, #T_7130d_row109_col3, #T_7130d_row110_col3, #T_7130d_row111_col3, #T_7130d_row112_col3, #T_7130d_row113_col3, #T_7130d_row114_col3, #T_7130d_row115_col3, #T_7130d_row116_col3, #T_7130d_row117_col3 {\n",
       "  text-align: left;\n",
       "  font-size: 12px;\n",
       "  vertical-align: middle;\n",
       "  width: 25%;\n",
       "  min-width: 100px;\n",
       "}\n",
       "#T_7130d_row0_col4, #T_7130d_row1_col4, #T_7130d_row2_col4, #T_7130d_row3_col4, #T_7130d_row4_col4, #T_7130d_row5_col4, #T_7130d_row6_col4, #T_7130d_row7_col4, #T_7130d_row8_col4, #T_7130d_row9_col4, #T_7130d_row10_col4, #T_7130d_row11_col4, #T_7130d_row12_col4, #T_7130d_row13_col4, #T_7130d_row14_col4, #T_7130d_row15_col4, #T_7130d_row16_col4, #T_7130d_row17_col4, #T_7130d_row18_col4, #T_7130d_row19_col4, #T_7130d_row20_col4, #T_7130d_row21_col4, #T_7130d_row22_col4, #T_7130d_row23_col4, #T_7130d_row24_col4, #T_7130d_row25_col4, #T_7130d_row26_col4, #T_7130d_row27_col4, #T_7130d_row28_col4, #T_7130d_row29_col4, #T_7130d_row30_col4, #T_7130d_row31_col4, #T_7130d_row32_col4, #T_7130d_row33_col4, #T_7130d_row34_col4, #T_7130d_row35_col4, #T_7130d_row36_col4, #T_7130d_row37_col4, #T_7130d_row38_col4, #T_7130d_row39_col4, #T_7130d_row40_col4, #T_7130d_row41_col4, #T_7130d_row42_col4, #T_7130d_row43_col4, #T_7130d_row44_col4, #T_7130d_row45_col4, #T_7130d_row46_col4, #T_7130d_row47_col4, #T_7130d_row48_col4, #T_7130d_row49_col4, #T_7130d_row50_col4, #T_7130d_row51_col4, #T_7130d_row52_col4, #T_7130d_row53_col4, #T_7130d_row54_col4, #T_7130d_row55_col4, #T_7130d_row56_col4, #T_7130d_row57_col4, #T_7130d_row58_col4, #T_7130d_row59_col4, #T_7130d_row60_col4, #T_7130d_row61_col4, #T_7130d_row62_col4, #T_7130d_row63_col4, #T_7130d_row64_col4, #T_7130d_row65_col4, #T_7130d_row66_col4, #T_7130d_row67_col4, #T_7130d_row68_col4, #T_7130d_row69_col4, #T_7130d_row70_col4, #T_7130d_row71_col4, #T_7130d_row72_col4, #T_7130d_row73_col4, #T_7130d_row74_col4, #T_7130d_row75_col4, #T_7130d_row76_col4, #T_7130d_row77_col4, #T_7130d_row78_col4, #T_7130d_row79_col4, #T_7130d_row80_col4, #T_7130d_row81_col4, #T_7130d_row82_col4, #T_7130d_row83_col4, #T_7130d_row84_col4, #T_7130d_row85_col4, #T_7130d_row86_col4, #T_7130d_row87_col4, #T_7130d_row88_col4, #T_7130d_row89_col4, #T_7130d_row90_col4, #T_7130d_row91_col4, #T_7130d_row92_col4, #T_7130d_row93_col4, #T_7130d_row94_col4, #T_7130d_row95_col4, #T_7130d_row96_col4, #T_7130d_row97_col4, #T_7130d_row98_col4, #T_7130d_row99_col4, #T_7130d_row100_col4, #T_7130d_row101_col4, #T_7130d_row102_col4, #T_7130d_row103_col4, #T_7130d_row104_col4, #T_7130d_row105_col4, #T_7130d_row106_col4, #T_7130d_row107_col4, #T_7130d_row108_col4, #T_7130d_row109_col4, #T_7130d_row110_col4, #T_7130d_row111_col4, #T_7130d_row112_col4, #T_7130d_row113_col4, #T_7130d_row114_col4, #T_7130d_row115_col4, #T_7130d_row116_col4, #T_7130d_row117_col4 {\n",
       "  text-align: left;\n",
       "  font-size: 12px;\n",
       "  vertical-align: middle;\n",
       "  width: 20%;\n",
       "  min-width: 150px;\n",
       "}\n",
       "#T_7130d_row0_col5, #T_7130d_row1_col5, #T_7130d_row2_col5, #T_7130d_row3_col5, #T_7130d_row4_col5, #T_7130d_row5_col5, #T_7130d_row6_col5, #T_7130d_row7_col5, #T_7130d_row8_col5, #T_7130d_row9_col5, #T_7130d_row10_col5, #T_7130d_row11_col5, #T_7130d_row12_col5, #T_7130d_row13_col5, #T_7130d_row14_col5, #T_7130d_row15_col5, #T_7130d_row16_col5, #T_7130d_row17_col5, #T_7130d_row18_col5, #T_7130d_row19_col5, #T_7130d_row20_col5, #T_7130d_row21_col5, #T_7130d_row22_col5, #T_7130d_row23_col5, #T_7130d_row24_col5, #T_7130d_row25_col5, #T_7130d_row26_col5, #T_7130d_row27_col5, #T_7130d_row28_col5, #T_7130d_row29_col5, #T_7130d_row30_col5, #T_7130d_row31_col5, #T_7130d_row32_col5, #T_7130d_row33_col5, #T_7130d_row34_col5, #T_7130d_row35_col5, #T_7130d_row36_col5, #T_7130d_row37_col5, #T_7130d_row38_col5, #T_7130d_row39_col5, #T_7130d_row40_col5, #T_7130d_row41_col5, #T_7130d_row42_col5, #T_7130d_row43_col5, #T_7130d_row44_col5, #T_7130d_row45_col5, #T_7130d_row46_col5, #T_7130d_row47_col5, #T_7130d_row48_col5, #T_7130d_row49_col5, #T_7130d_row50_col5, #T_7130d_row51_col5, #T_7130d_row52_col5, #T_7130d_row53_col5, #T_7130d_row54_col5, #T_7130d_row55_col5, #T_7130d_row56_col5, #T_7130d_row57_col5, #T_7130d_row58_col5, #T_7130d_row59_col5, #T_7130d_row60_col5, #T_7130d_row61_col5, #T_7130d_row62_col5, #T_7130d_row63_col5, #T_7130d_row64_col5, #T_7130d_row65_col5, #T_7130d_row66_col5, #T_7130d_row67_col5, #T_7130d_row68_col5, #T_7130d_row69_col5, #T_7130d_row70_col5, #T_7130d_row71_col5, #T_7130d_row72_col5, #T_7130d_row73_col5, #T_7130d_row74_col5, #T_7130d_row75_col5, #T_7130d_row76_col5, #T_7130d_row77_col5, #T_7130d_row78_col5, #T_7130d_row79_col5, #T_7130d_row80_col5, #T_7130d_row81_col5, #T_7130d_row82_col5, #T_7130d_row83_col5, #T_7130d_row84_col5, #T_7130d_row85_col5, #T_7130d_row86_col5, #T_7130d_row87_col5, #T_7130d_row88_col5, #T_7130d_row89_col5, #T_7130d_row90_col5, #T_7130d_row91_col5, #T_7130d_row92_col5, #T_7130d_row93_col5, #T_7130d_row94_col5, #T_7130d_row95_col5, #T_7130d_row96_col5, #T_7130d_row97_col5, #T_7130d_row98_col5, #T_7130d_row99_col5, #T_7130d_row100_col5, #T_7130d_row101_col5, #T_7130d_row102_col5, #T_7130d_row103_col5, #T_7130d_row104_col5, #T_7130d_row105_col5, #T_7130d_row106_col5, #T_7130d_row107_col5, #T_7130d_row108_col5, #T_7130d_row109_col5, #T_7130d_row110_col5, #T_7130d_row111_col5, #T_7130d_row112_col5, #T_7130d_row113_col5, #T_7130d_row114_col5, #T_7130d_row115_col5, #T_7130d_row116_col5, #T_7130d_row117_col5 {\n",
       "  text-align: left;\n",
       "  font-size: 12px;\n",
       "  vertical-align: middle;\n",
       "  width: 10%;\n",
       "}\n",
       "</style>\n",
       "<table id=\"T_7130d\">\n",
       "  <caption><strong>Data Frame Summary</strong><br>data<br>Dimensions: 19,036 x 118<br>Duplicates: 0</caption>\n",
       "  <thead>\n",
       "    <tr>\n",
       "      <th id=\"T_7130d_level0_col0\" class=\"col_heading level0 col0\" >No</th>\n",
       "      <th id=\"T_7130d_level0_col1\" class=\"col_heading level0 col1\" >Variable</th>\n",
       "      <th id=\"T_7130d_level0_col2\" class=\"col_heading level0 col2\" >Stats / Values</th>\n",
       "      <th id=\"T_7130d_level0_col3\" class=\"col_heading level0 col3\" >Freqs / (% of Valid)</th>\n",
       "      <th id=\"T_7130d_level0_col4\" class=\"col_heading level0 col4\" >Graph</th>\n",
       "      <th id=\"T_7130d_level0_col5\" class=\"col_heading level0 col5\" >Missing</th>\n",
       "    </tr>\n",
       "  </thead>\n",
       "  <tbody>\n",
       "    <tr>\n",
       "      <td id=\"T_7130d_row0_col0\" class=\"data row0 col0\" >1</td>\n",
       "      <td id=\"T_7130d_row0_col1\" class=\"data row0 col1\" ><strong>year</strong><br>[int64]</td>\n",
       "      <td id=\"T_7130d_row0_col2\" class=\"data row0 col2\" >1. 2012</td>\n",
       "      <td id=\"T_7130d_row0_col3\" class=\"data row0 col3\" >19,036 (100.0%)</td>\n",
       "      <td id=\"T_7130d_row0_col4\" class=\"data row0 col4\" ><img src = \"data:image/png;base64, iVBORw0KGgoAAAANSUhEUgAAAJsAAAAXCAYAAAAcEz0vAAAAOXRFWHRTb2Z0d2FyZQBNYXRwbG90bGliIHZlcnNpb24zLjcuMCwgaHR0cHM6Ly9tYXRwbG90bGliLm9yZy88F64QAAAACXBIWXMAAA9hAAAPYQGoP6dpAAAAnUlEQVR4nO3bsQ0CMRBE0TlkoSPx6mTJxbgIUvovYZPjQgJqYCyZ/yqY4Ie7m6SHpLuAHyuttWet9Zg9BOsrtdZjjPGOiGv2GKwrM/ciSRFx9d7P2YOwttvsAfgfxAYbYoMNscGG2GBDbLAhNtgQG2yIDTbEBhtigw2xwYbYYENssCE22BAbbIgNNkX6nuzOHoK1Zea+tdZePLzA4QPFNA/EDSh7IQAAAABJRU5ErkJggg==\"></img></td>\n",
       "      <td id=\"T_7130d_row0_col5\" class=\"data row0 col5\" >0<br>(0.0%)</td>\n",
       "    </tr>\n",
       "    <tr>\n",
       "      <td id=\"T_7130d_row1_col0\" class=\"data row1 col0\" >2</td>\n",
       "      <td id=\"T_7130d_row1_col1\" class=\"data row1 col1\" ><strong>comp_id</strong><br>[float64]</td>\n",
       "      <td id=\"T_7130d_row1_col2\" class=\"data row1 col2\" >Mean (sd) : 152927506242.8 (137731873303.4)<br>min < med < max:<br>1001541.0 < 114268774400.0 < 464105013248.0<br>IQR (CV) : 226922635264.0 (1.1)</td>\n",
       "      <td id=\"T_7130d_row1_col3\" class=\"data row1 col3\" >19,036 distinct values</td>\n",
       "      <td id=\"T_7130d_row1_col4\" class=\"data row1 col4\" ><img src = \"data:image/png;base64, iVBORw0KGgoAAAANSUhEUgAAAKoAAABGCAYAAABc8A97AAAAOXRFWHRTb2Z0d2FyZQBNYXRwbG90bGliIHZlcnNpb24zLjcuMCwgaHR0cHM6Ly9tYXRwbG90bGliLm9yZy88F64QAAAACXBIWXMAAA9hAAAPYQGoP6dpAAACgUlEQVR4nO3dP2/aQByH8d9BQCZQI0QLG0v3Dh5Z+g76Yrt2D2+AoUsnFoSEwAg3COTSpVStGvHnrg7+Ws9nzl0YnhzHGeXc8Xg0oOxq934BwDUeLv2Ac65lZk3P+ffH4/HZcyzw29lQnXOtfr//KY7jns/km81m5Zz7TKwIdWlFbcZx3BuPx8/dbnd3y8RpmkZPT0+95XLZNDNCRZCLb/1mZt1udzcYDL57zN/yGAP8gw9TkECokECokECokECokECokECokECokECokECokECokECokECokECokECokECokECokECokECokECokECokECokECokECokECokECokECokECokECokECokECokECokECokECokECokHDV//D3led5w8xi55zvFFz/AzMrMNQsyxqHw+HDaDSq1+v1m25UOeH6H5wUFup+v3+IougxSZLdcDhc3Tqe63/wp0Lf+s3M2u2279U/Zlz/g1/4MAUJhAoJhAoJhe9RQwQeb3G0VSGlDTX0eIujrWopbaghx1scbVVPaUM98T3eyvM8Np6KVUbpQ/XBU7HqqWSoPBWrnkqGehLyVCxw68C24T+rdKi+QrcO6/V665z7YmY+2w4ifwGhviBk6zCfz99MJpOPo9Ho7R0iN6to6IR6hs/WYbVate4VuVl1V3NCLchrR25WitW8ZmY/PMee/SMh1BLy/RB4z9U8z/NGlmXvO53Ot1qtdrh1/KXjQEKtoHus5rPZrDedTt8lSfK1iCeJhIq/hKzmIePtwpfk+ZofJBAqJBAqJBAqJBAqJBAqJBAqJFx1jpqmaXTrxNvtNjIzy7IsWiwWj685XvV3q77u0PHX9PUTxXaSRjQ7klAAAAAASUVORK5CYII=\"></img></td>\n",
       "      <td id=\"T_7130d_row1_col5\" class=\"data row1 col5\" >0<br>(0.0%)</td>\n",
       "    </tr>\n",
       "    <tr>\n",
       "      <td id=\"T_7130d_row2_col0\" class=\"data row2 col0\" >3</td>\n",
       "      <td id=\"T_7130d_row2_col1\" class=\"data row2 col1\" ><strong>begin</strong><br>[object]</td>\n",
       "      <td id=\"T_7130d_row2_col2\" class=\"data row2 col2\" >1. 2012-01-01<br>2. 2012-12-01<br>3. 2012-02-29<br>4. 2012-02-27<br>5. 2012-02-28<br>6. 2012-10-01<br>7. 2012-04-01<br>8. 2012-02-22<br>9. 2012-03-01<br>10. 2012-02-24<br>11. other</td>\n",
       "      <td id=\"T_7130d_row2_col3\" class=\"data row2 col3\" >18,115 (95.2%)<br>40 (0.2%)<br>29 (0.2%)<br>27 (0.1%)<br>24 (0.1%)<br>21 (0.1%)<br>17 (0.1%)<br>14 (0.1%)<br>13 (0.1%)<br>12 (0.1%)<br>724 (3.8%)</td>\n",
       "      <td id=\"T_7130d_row2_col4\" class=\"data row2 col4\" ><img src = \"data:image/png;base64, iVBORw0KGgoAAAANSUhEUgAAAJsAAAD+CAYAAAAtWHdlAAAAOXRFWHRTb2Z0d2FyZQBNYXRwbG90bGliIHZlcnNpb24zLjcuMCwgaHR0cHM6Ly9tYXRwbG90bGliLm9yZy88F64QAAAACXBIWXMAAA9hAAAPYQGoP6dpAAAD2UlEQVR4nO3cQWojVxhG0b+McNoTCSHwEpI9eBG92F6EFpE9GKMatB1PlEHTEBx3koFzRZRzZlZN3uDCo6A+L+fzeaBwc+kD8P8hNjJiIyM2MmIjIzYyYiMjNjJiI7PMzN3M3F76IFyN1/P5/Pzeg83hcPi83W739Ym4Tuu6Pi3L8uW94Dbb7Xb/8PDwvNvtXi5xOK7H6XT6dDwe94+Pj7cz8+fYZmZ2u93L/f391/x0XKO7Hz3wgkBGbGTERkZsZMRGRmxkxEZGbGTERkZsZMRGRmxkxEZGbGQ2M9++Q7r0Qfjv+7uONuu6Ph2Px/38xXdI8E+t6/o0M6/vPbNB4KP9cIOw+JdZVLwgkLlZluWXZVm8IPCvu5mZn2fmp0sfhOvnGiUjNjJiIyM2MmIjIzYyYiMjNjJiIyM2MmIjIzYyYiMjNjJiI3MzM7/OzG+XPgjXzwaBjGuUjNjIGLyQMXgh4xolIzYyYiMjNjJiIyM2MmIjIzYyYiMjNjJiIyM2MmIjIzYyYiNj8ELG4IWMa5SM2MiIjYx1FRnrKjKuUTJiIyM2MmIjIzYyYiMjNjJiIyM2MmIjIzYyYiMjNjJiIyM2MtZVZKyryLhGyYiNjMELGYMXMq5RMmIjIzYyYiMjNjJiIyM2MmIjIzYyYiMjNjJiIyM2MmIjIzYyBi9kDF7IuEbJiI2MwQsZgxcyrlEyYiMjNjJiIyM2MmIjIzYyYiMjNjJiIyM2MmIjIzYyYiMjNjJiI2NdRca6ioxrlIzYyFhXkbGuIuMaJSM2MmIjIzYyYiMjNjJiIyM2MmIjIzYyYiMjNjJiIyM2MmIjY/BCxuCFjGuUjNjIGLyQMXgh4xolIzYyYiMjNjJiIyM2MmIjIzYyYiMjNjJiIyM2MmIjIzYyYiNj8ELG4IWMa5SM2MiIjYx1FRnrKjKuUTJiIyM2MmIjIzYyYiMjNjJiIyM2MmIjIzYyYiMjNjJiIyM2MtZVZKyryLhGyYiNjMELGYMXMq5RMmIjIzYyYiMjNjJiIyM2MmIjIzYyYiMjNjJiIyM2MmIjIzYyBi9kDF7IuEbJLDNzNzO37zx7PZ/Pz/F5uGKbw+Hwebvd7t8+WNf1aVmWL4Ljo2y22+3+4eHhebfbvXz/8XQ6fToej/vHx8fbmREbH2IzM7Pb7V7u7++/vnl2d4HzcMW8IJARGxmxkREbGbGRERsZsZERGxmxkREbGbGRERsZsZHZzHz7pOiPP779Gz7CZl3Xp+PxuJ83nxSt6/o0M6+XORbXyGfhZKyryHhBICM2MmIjIzYyYiMjNjJiIyM2MmIj8zsMKJ40AD7AsgAAAABJRU5ErkJggg==\"></img></td>\n",
       "      <td id=\"T_7130d_row2_col5\" class=\"data row2 col5\" >0<br>(0.0%)</td>\n",
       "    </tr>\n",
       "    <tr>\n",
       "      <td id=\"T_7130d_row3_col0\" class=\"data row3 col0\" >4</td>\n",
       "      <td id=\"T_7130d_row3_col1\" class=\"data row3 col1\" ><strong>end</strong><br>[object]</td>\n",
       "      <td id=\"T_7130d_row3_col2\" class=\"data row3 col2\" >1. 2012-12-31<br>2. 2012-09-30<br>3. 2012-11-21<br>4. 2012-10-31<br>5. 2012-09-01<br>6. 2012-02-29<br>7. 2012-05-31<br>8. 2012-08-31<br>9. 2012-10-09<br>10. 2012-10-24<br>11. other</td>\n",
       "      <td id=\"T_7130d_row3_col3\" class=\"data row3 col3\" >18,949 (99.5%)<br>3 (0.0%)<br>3 (0.0%)<br>2 (0.0%)<br>2 (0.0%)<br>2 (0.0%)<br>2 (0.0%)<br>2 (0.0%)<br>2 (0.0%)<br>2 (0.0%)<br>67 (0.4%)</td>\n",
       "      <td id=\"T_7130d_row3_col4\" class=\"data row3 col4\" ><img src = \"data:image/png;base64, iVBORw0KGgoAAAANSUhEUgAAAJsAAAD+CAYAAAAtWHdlAAAAOXRFWHRTb2Z0d2FyZQBNYXRwbG90bGliIHZlcnNpb24zLjcuMCwgaHR0cHM6Ly9tYXRwbG90bGliLm9yZy88F64QAAAACXBIWXMAAA9hAAAPYQGoP6dpAAADcElEQVR4nO3csW0jZxRG0TcEsbaSIYgBVILdg4rY1H1uESrCTQiawLtWQge2S9AdYPacSOEfXOCRAD8tj8djoHA5+gH8PMRGRmxkxEZGbGTERkZsZMRGRmxklpl5mpkvRz+E0/u4btv2dV3X+9Ev4dz2fX+7rut6f3l5+X673X4c/SDO6f39/dfX19f7dWbmdrv9eH5+/uvoR3FqT74gkBEbGbGRERsZsZERGxmxkREbGbGRERsZsZERGxmxkREbmevMv783OvohnNf/fS3btv3hl7p8tn3f32wQqHws/mUWFV8QyFyWZfl9WRZfEPh0l5n5bWZ+OfohnJ8zSkZsZMRGRmxkxEZGbGTERkZsZMRGRmxkxEZGbGTERkZsZMRG5jIzf87M30c/hPOzQSDjjJIRGxmDFzIGL2ScUTJiIyM2MmIjIzYyYiMjNjJiIyM2MmIjIzYyYiMjNjJiIyM2MgYvZAxeyDijZMRGRmxkrKvIWFeRcUbJiI2M2MiIjYzYyIiNjNjIiI2M2MiIjYzYyIiNjNjIiI2M2MhYV5GxriLjjJIRGxmDFzIGL2ScUTJiIyM2MmIjIzYyYiMjNjJiIyM2MmIjIzYyYiMjNjJiIyM2MgYvZAxeyDijZMRGxuCFjMELGWeUjNjIiI2M2MiIjYzYyIiNjNjIiI2M2MiIjYzYyIiNjNjIiI2M2MhYV5GxriLjjJIRGxnrKjLWVWScUTJiIyM2MmIjIzYyYiMjNjJiIyM2MmIjIzYyYiMjNjJiIyM2MgYvZAxeyDijZMRGxuCFjMELGWeUjNjIiI2M2MiIjYzYyIiNjNjIiI2M2MiIjYzYyIiNjNjIiI2MwQsZgxcyzigZsZERGxnrKjLWVWScUTJiIyM2MmIjIzYyYiMjNjJiIyM2MmIjIzYyYiMjNjJiIyM2MtZVZKyryDijZMRGxuCFjMELGWeUjNjIiI2M2MiIjYzYyIiNjNjIiI2M2MiIjYzYyIiNjNjIiI2MwQsZgxcyziiZZWaeZmYej8f3g9/CyV23bfs6M7MsyzfB8Zku67re13W9z8yXox/DufnMRkZsZMRGRmxkxEZGbGTERkZsZMRGRmxkxEZGbGTERkZsZMRG5rrv+9t/f38c+hJOz8/CyVhXkfGZjYzYyIiNjNjIiI2M2MiIjYzYyIiNzD9m9meeCwIpWgAAAABJRU5ErkJggg==\"></img></td>\n",
       "      <td id=\"T_7130d_row3_col5\" class=\"data row3 col5\" >0<br>(0.0%)</td>\n",
       "    </tr>\n",
       "    <tr>\n",
       "      <td id=\"T_7130d_row4_col0\" class=\"data row4 col0\" >5</td>\n",
       "      <td id=\"T_7130d_row4_col1\" class=\"data row4 col1\" ><strong>amort</strong><br>[float64]</td>\n",
       "      <td id=\"T_7130d_row4_col2\" class=\"data row4 col2\" >Mean (sd) : 9274.4 (49750.2)<br>min < med < max:<br>-14896.3 < 881.5 < 3570863.0<br>IQR (CV) : 3951.9 (0.2)</td>\n",
       "      <td id=\"T_7130d_row4_col3\" class=\"data row4 col3\" >4,558 distinct values</td>\n",
       "      <td id=\"T_7130d_row4_col4\" class=\"data row4 col4\" ><img src = \"data:image/png;base64, iVBORw0KGgoAAAANSUhEUgAAAKoAAABGCAYAAABc8A97AAAAOXRFWHRTb2Z0d2FyZQBNYXRwbG90bGliIHZlcnNpb24zLjcuMCwgaHR0cHM6Ly9tYXRwbG90bGliLm9yZy88F64QAAAACXBIWXMAAA9hAAAPYQGoP6dpAAABaUlEQVR4nO3XT2oCMRiH4aSI6GYGETyMh+hhewhvIyUuqi1Iuuum1D/jov3R59km+cjiZYbU3nuBv+7pty8At5hd21BrXZZS5hPnf/TejxPPwpeLodZal+v1+nkYhtWU4YfD4bXW+iJWHnXtizofhmG13W6P4zie7hncWlvsdrvVfr+fl1KEykOu/vpLKWUcx9Nms3mbMH854Qx84zFFBKESQahEECoRhEoEoRJBqEQQKhGESgShEkGoRBAqEYRKBKESQahEECoRhEoEoRJBqEQQKhGESgShEkGoRBAqEYRKBKESQahEECoRhEoEoRJBqEQQKhGESgShEkGoRBAqEYRKBKESQahEECoRhEoEoRJBqEQQKhGESgShEkGoRBAqEYRKBKESQahEECoRhEoEoRJBqEQQKhGESgShEkGoRBAqEYRKBKESQahEmN2yqbW2uHdwa21xPp9npZSh1nr3xfh33nvvp58WPwF79y3yrjldnwAAAABJRU5ErkJggg==\"></img></td>\n",
       "      <td id=\"T_7130d_row4_col5\" class=\"data row4 col5\" >0<br>(0.0%)</td>\n",
       "    </tr>\n",
       "    <tr>\n",
       "      <td id=\"T_7130d_row5_col0\" class=\"data row5 col0\" >6</td>\n",
       "      <td id=\"T_7130d_row5_col1\" class=\"data row5 col1\" ><strong>curr_assets</strong><br>[float64]</td>\n",
       "      <td id=\"T_7130d_row5_col2\" class=\"data row5 col2\" >Mean (sd) : 99148.6 (437707.5)<br>min < med < max:<br>0.0 < 11468.5 < 18745270.0<br>IQR (CV) : 36918.5 (0.2)</td>\n",
       "      <td id=\"T_7130d_row5_col3\" class=\"data row5 col3\" >10,766 distinct values</td>\n",
       "      <td id=\"T_7130d_row5_col4\" class=\"data row5 col4\" ><img src = \"data:image/png;base64, iVBORw0KGgoAAAANSUhEUgAAAKoAAABGCAYAAABc8A97AAAAOXRFWHRTb2Z0d2FyZQBNYXRwbG90bGliIHZlcnNpb24zLjcuMCwgaHR0cHM6Ly9tYXRwbG90bGliLm9yZy88F64QAAAACXBIWXMAAA9hAAAPYQGoP6dpAAABaUlEQVR4nO3XT2oCMRiH4aSI6GYGETyMh+hhewhvIyUuqi1Iuuum1D/jov3R59km+cjiZYbU3nuBv+7pty8At5hd21BrXZZS5hPnf/TejxPPwpeLodZal+v1+nkYhtWU4YfD4bXW+iJWHnXtizofhmG13W6P4zie7hncWlvsdrvVfr+fl1KEykOu/vpLKWUcx9Nms3mbMH854Qx84zFFBKESQahEECoRhEoEoRJBqEQQKhGESgShEkGoRBAqEYRKBKESQahEECoRhEoEoRJBqEQQKhGESgShEkGoRBAqEYRKBKESQahEECoRhEoEoRJBqEQQKhGESgShEkGoRBAqEYRKBKESQahEECoRhEoEoRJBqEQQKhGESgShEkGoRBAqEYRKBKESQahEECoRhEoEoRJBqEQQKhGESgShEkGoRBAqEYRKBKESQahEmN2yqbW2uHdwa21xPp9npZSh1nr3xfh33nvvp58WPwF79y3yrjldnwAAAABJRU5ErkJggg==\"></img></td>\n",
       "      <td id=\"T_7130d_row5_col5\" class=\"data row5 col5\" >0<br>(0.0%)</td>\n",
       "    </tr>\n",
       "    <tr>\n",
       "      <td id=\"T_7130d_row6_col0\" class=\"data row6 col0\" >7</td>\n",
       "      <td id=\"T_7130d_row6_col1\" class=\"data row6 col1\" ><strong>curr_liab</strong><br>[float64]</td>\n",
       "      <td id=\"T_7130d_row6_col2\" class=\"data row6 col2\" >Mean (sd) : 85670.3 (420297.4)<br>min < med < max:<br>-8759.3 < 14851.9 < 36601180.0<br>IQR (CV) : 44215.7 (0.2)</td>\n",
       "      <td id=\"T_7130d_row6_col3\" class=\"data row6 col3\" >11,516 distinct values</td>\n",
       "      <td id=\"T_7130d_row6_col4\" class=\"data row6 col4\" ><img src = \"data:image/png;base64, iVBORw0KGgoAAAANSUhEUgAAAKoAAABGCAYAAABc8A97AAAAOXRFWHRTb2Z0d2FyZQBNYXRwbG90bGliIHZlcnNpb24zLjcuMCwgaHR0cHM6Ly9tYXRwbG90bGliLm9yZy88F64QAAAACXBIWXMAAA9hAAAPYQGoP6dpAAABaUlEQVR4nO3XT2oCMRiH4aSI6GYGETyMh+hhewhvIyUuqi1Iuuum1D/jov3R59km+cjiZYbU3nuBv+7pty8At5hd21BrXZZS5hPnf/TejxPPwpeLodZal+v1+nkYhtWU4YfD4bXW+iJWHnXtizofhmG13W6P4zie7hncWlvsdrvVfr+fl1KEykOu/vpLKWUcx9Nms3mbMH854Qx84zFFBKESQahEECoRhEoEoRJBqEQQKhGESgShEkGoRBAqEYRKBKESQahEECoRhEoEoRJBqEQQKhGESgShEkGoRBAqEYRKBKESQahEECoRhEoEoRJBqEQQKhGESgShEkGoRBAqEYRKBKESQahEECoRhEoEoRJBqEQQKhGESgShEkGoRBAqEYRKBKESQahEECoRhEoEoRJBqEQQKhGESgShEkGoRBAqEYRKBKESQahEmN2yqbW2uHdwa21xPp9npZSh1nr3xfh33nvvp58WPwF79y3yrjldnwAAAABJRU5ErkJggg==\"></img></td>\n",
       "      <td id=\"T_7130d_row6_col5\" class=\"data row6 col5\" >0<br>(0.0%)</td>\n",
       "    </tr>\n",
       "    <tr>\n",
       "      <td id=\"T_7130d_row7_col0\" class=\"data row7 col0\" >8</td>\n",
       "      <td id=\"T_7130d_row7_col1\" class=\"data row7 col1\" ><strong>extra_exp</strong><br>[float64]</td>\n",
       "      <td id=\"T_7130d_row7_col2\" class=\"data row7 col2\" >Mean (sd) : 418.0 (7141.9)<br>min < med < max:<br>-1418.5 < 0.0 < 666300.0<br>IQR (CV) : 0.0 (0.1)</td>\n",
       "      <td id=\"T_7130d_row7_col3\" class=\"data row7 col3\" >596 distinct values</td>\n",
       "      <td id=\"T_7130d_row7_col4\" class=\"data row7 col4\" ><img src = \"data:image/png;base64, iVBORw0KGgoAAAANSUhEUgAAAKoAAABGCAYAAABc8A97AAAAOXRFWHRTb2Z0d2FyZQBNYXRwbG90bGliIHZlcnNpb24zLjcuMCwgaHR0cHM6Ly9tYXRwbG90bGliLm9yZy88F64QAAAACXBIWXMAAA9hAAAPYQGoP6dpAAABaUlEQVR4nO3XT2oCMRiH4aSI6GYGETyMh+hhewhvIyUuqi1Iuuum1D/jov3R59km+cjiZYbU3nuBv+7pty8At5hd21BrXZZS5hPnf/TejxPPwpeLodZal+v1+nkYhtWU4YfD4bXW+iJWHnXtizofhmG13W6P4zie7hncWlvsdrvVfr+fl1KEykOu/vpLKWUcx9Nms3mbMH854Qx84zFFBKESQahEECoRhEoEoRJBqEQQKhGESgShEkGoRBAqEYRKBKESQahEECoRhEoEoRJBqEQQKhGESgShEkGoRBAqEYRKBKESQahEECoRhEoEoRJBqEQQKhGESgShEkGoRBAqEYRKBKESQahEECoRhEoEoRJBqEQQKhGESgShEkGoRBAqEYRKBKESQahEECoRhEoEoRJBqEQQKhGESgShEkGoRBAqEYRKBKESQahEmN2yqbW2uHdwa21xPp9npZSh1nr3xfh33nvvp58WPwF79y3yrjldnwAAAABJRU5ErkJggg==\"></img></td>\n",
       "      <td id=\"T_7130d_row7_col5\" class=\"data row7 col5\" >0<br>(0.0%)</td>\n",
       "    </tr>\n",
       "    <tr>\n",
       "      <td id=\"T_7130d_row8_col0\" class=\"data row8 col0\" >9</td>\n",
       "      <td id=\"T_7130d_row8_col1\" class=\"data row8 col1\" ><strong>extra_inc</strong><br>[float64]</td>\n",
       "      <td id=\"T_7130d_row8_col2\" class=\"data row8 col2\" >Mean (sd) : 1641.9 (32835.4)<br>min < med < max:<br>-174.1 < 0.0 < 3266666.8<br>IQR (CV) : 0.0 (0.1)</td>\n",
       "      <td id=\"T_7130d_row8_col3\" class=\"data row8 col3\" >1,037 distinct values</td>\n",
       "      <td id=\"T_7130d_row8_col4\" class=\"data row8 col4\" ><img src = \"data:image/png;base64, iVBORw0KGgoAAAANSUhEUgAAAKoAAABGCAYAAABc8A97AAAAOXRFWHRTb2Z0d2FyZQBNYXRwbG90bGliIHZlcnNpb24zLjcuMCwgaHR0cHM6Ly9tYXRwbG90bGliLm9yZy88F64QAAAACXBIWXMAAA9hAAAPYQGoP6dpAAABaUlEQVR4nO3XT2oCMRiH4aSI6GYGETyMh+hhewhvIyUuqi1Iuuum1D/jov3R59km+cjiZYbU3nuBv+7pty8At5hd21BrXZZS5hPnf/TejxPPwpeLodZal+v1+nkYhtWU4YfD4bXW+iJWHnXtizofhmG13W6P4zie7hncWlvsdrvVfr+fl1KEykOu/vpLKWUcx9Nms3mbMH854Qx84zFFBKESQahEECoRhEoEoRJBqEQQKhGESgShEkGoRBAqEYRKBKESQahEECoRhEoEoRJBqEQQKhGESgShEkGoRBAqEYRKBKESQahEECoRhEoEoRJBqEQQKhGESgShEkGoRBAqEYRKBKESQahEECoRhEoEoRJBqEQQKhGESgShEkGoRBAqEYRKBKESQahEECoRhEoEoRJBqEQQKhGESgShEkGoRBAqEYRKBKESQahEmN2yqbW2uHdwa21xPp9npZSh1nr3xfh33nvvp58WPwF79y3yrjldnwAAAABJRU5ErkJggg==\"></img></td>\n",
       "      <td id=\"T_7130d_row8_col5\" class=\"data row8 col5\" >0<br>(0.0%)</td>\n",
       "    </tr>\n",
       "    <tr>\n",
       "      <td id=\"T_7130d_row9_col0\" class=\"data row9 col0\" >10</td>\n",
       "      <td id=\"T_7130d_row9_col1\" class=\"data row9 col1\" ><strong>extra_profit_loss</strong><br>[float64]</td>\n",
       "      <td id=\"T_7130d_row9_col2\" class=\"data row9 col2\" >Mean (sd) : 1220.2 (32125.7)<br>min < med < max:<br>-248448.1 < 0.0 < 3253703.8<br>IQR (CV) : 0.0 (0.0)</td>\n",
       "      <td id=\"T_7130d_row9_col3\" class=\"data row9 col3\" >1,483 distinct values</td>\n",
       "      <td id=\"T_7130d_row9_col4\" class=\"data row9 col4\" ><img src = \"data:image/png;base64, iVBORw0KGgoAAAANSUhEUgAAAKoAAABGCAYAAABc8A97AAAAOXRFWHRTb2Z0d2FyZQBNYXRwbG90bGliIHZlcnNpb24zLjcuMCwgaHR0cHM6Ly9tYXRwbG90bGliLm9yZy88F64QAAAACXBIWXMAAA9hAAAPYQGoP6dpAAABaUlEQVR4nO3XT2oCMRiH4aSI6GYGETyMh+hhewhvIyUuqi1Iuuum1D/jov3R59km+cjiZYbU3nuBv+7pty8At5hd21BrXZZS5hPnf/TejxPPwpeLodZal+v1+nkYhtWU4YfD4bXW+iJWHnXtizofhmG13W6P4zie7hncWlvsdrvVfr+fl1KEykOu/vpLKWUcx9Nms3mbMH854Qx84zFFBKESQahEECoRhEoEoRJBqEQQKhGESgShEkGoRBAqEYRKBKESQahEECoRhEoEoRJBqEQQKhGESgShEkGoRBAqEYRKBKESQahEECoRhEoEoRJBqEQQKhGESgShEkGoRBAqEYRKBKESQahEECoRhEoEoRJBqEQQKhGESgShEkGoRBAqEYRKBKESQahEECoRhEoEoRJBqEQQKhGESgShEkGoRBAqEYRKBKESQahEmN2yqbW2uHdwa21xPp9npZSh1nr3xfh33nvvp58WPwF79y3yrjldnwAAAABJRU5ErkJggg==\"></img></td>\n",
       "      <td id=\"T_7130d_row9_col5\" class=\"data row9 col5\" >0<br>(0.0%)</td>\n",
       "    </tr>\n",
       "    <tr>\n",
       "      <td id=\"T_7130d_row10_col0\" class=\"data row10 col0\" >11</td>\n",
       "      <td id=\"T_7130d_row10_col1\" class=\"data row10 col1\" ><strong>fixed_assets</strong><br>[float64]</td>\n",
       "      <td id=\"T_7130d_row10_col2\" class=\"data row10 col2\" >Mean (sd) : 145159.0 (1105860.6)<br>min < med < max:<br>0.0 < 4600.0 < 103667280.0<br>IQR (CV) : 39301.9 (0.1)</td>\n",
       "      <td id=\"T_7130d_row10_col3\" class=\"data row10 col3\" >9,230 distinct values</td>\n",
       "      <td id=\"T_7130d_row10_col4\" class=\"data row10 col4\" ><img src = \"data:image/png;base64, iVBORw0KGgoAAAANSUhEUgAAAKoAAABGCAYAAABc8A97AAAAOXRFWHRTb2Z0d2FyZQBNYXRwbG90bGliIHZlcnNpb24zLjcuMCwgaHR0cHM6Ly9tYXRwbG90bGliLm9yZy88F64QAAAACXBIWXMAAA9hAAAPYQGoP6dpAAABaUlEQVR4nO3XT2oCMRiH4aSI6GYGETyMh+hhewhvIyUuqi1Iuuum1D/jov3R59km+cjiZYbU3nuBv+7pty8At5hd21BrXZZS5hPnf/TejxPPwpeLodZal+v1+nkYhtWU4YfD4bXW+iJWHnXtizofhmG13W6P4zie7hncWlvsdrvVfr+fl1KEykOu/vpLKWUcx9Nms3mbMH854Qx84zFFBKESQahEECoRhEoEoRJBqEQQKhGESgShEkGoRBAqEYRKBKESQahEECoRhEoEoRJBqEQQKhGESgShEkGoRBAqEYRKBKESQahEECoRhEoEoRJBqEQQKhGESgShEkGoRBAqEYRKBKESQahEECoRhEoEoRJBqEQQKhGESgShEkGoRBAqEYRKBKESQahEECoRhEoEoRJBqEQQKhGESgShEkGoRBAqEYRKBKESQahEmN2yqbW2uHdwa21xPp9npZSh1nr3xfh33nvvp58WPwF79y3yrjldnwAAAABJRU5ErkJggg==\"></img></td>\n",
       "      <td id=\"T_7130d_row10_col5\" class=\"data row10 col5\" >0<br>(0.0%)</td>\n",
       "    </tr>\n",
       "    <tr>\n",
       "      <td id=\"T_7130d_row11_col0\" class=\"data row11 col0\" >12</td>\n",
       "      <td id=\"T_7130d_row11_col1\" class=\"data row11 col1\" ><strong>inc_bef_tax</strong><br>[float64]</td>\n",
       "      <td id=\"T_7130d_row11_col2\" class=\"data row11 col2\" >Mean (sd) : 5869.1 (130563.4)<br>min < med < max:<br>-10918793.0 < 240.7 < 4378226.0<br>IQR (CV) : 10586.1 (0.0)</td>\n",
       "      <td id=\"T_7130d_row11_col3\" class=\"data row11 col3\" >10,099 distinct values</td>\n",
       "      <td id=\"T_7130d_row11_col4\" class=\"data row11 col4\" ><img src = \"data:image/png;base64, iVBORw0KGgoAAAANSUhEUgAAAKoAAABGCAYAAABc8A97AAAAOXRFWHRTb2Z0d2FyZQBNYXRwbG90bGliIHZlcnNpb24zLjcuMCwgaHR0cHM6Ly9tYXRwbG90bGliLm9yZy88F64QAAAACXBIWXMAAA9hAAAPYQGoP6dpAAABcUlEQVR4nO3XQU4CQRRF0SpDECbdISQshkW4WBfBbogpBoomUK7AqNgqj5wzrf7JG9xJ1957gWt3998D4Ctm/z2AadVal6WU+YXnb733lyn3TEWoN6TWulyv1w/DMKwuuT8cDk+11sdrjFWot2U+DMNqu92+jON4/M5ha22x2+1W+/1+XkoRKr9vHMfjZrN5vuB0OfmYifiZIoJQiSBUIgiVCEIlglCJIFQiCJUIQiWCUIkgVCIIlQhCJYJQiSBUIgiVCEIlglCJIFQiCJUIQiWCUIkgVCIIlQhCJYJQiSBUIgiVCEIlglCJIFQiCJUIQiWCUIkgVCIIlQhCJYJQiSBUIgiVCEIlglCJIFQiCJUIQiWCUIkgVCIIlQhCJYJQiSBUIgiVCEIlglCJIFQiCJUIQiWCUIkgVCIIlQhCJYJQiSBUIsw++6DWuiil3P/BFn5uOJ/Ps9ba4ruHrbXF6XSalVKGWusvTPvUa+/9+NHjOwYvMRDr4JpqAAAAAElFTkSuQmCC\"></img></td>\n",
       "      <td id=\"T_7130d_row11_col5\" class=\"data row11 col5\" >0<br>(0.0%)</td>\n",
       "    </tr>\n",
       "    <tr>\n",
       "      <td id=\"T_7130d_row12_col0\" class=\"data row12 col0\" >13</td>\n",
       "      <td id=\"T_7130d_row12_col1\" class=\"data row12 col1\" ><strong>intang_assets</strong><br>[float64]</td>\n",
       "      <td id=\"T_7130d_row12_col2\" class=\"data row12 col2\" >Mean (sd) : 3365.3 (51933.4)<br>min < med < max:<br>0.0 < 0.0 < 3409751.8<br>IQR (CV) : 0.0 (0.1)</td>\n",
       "      <td id=\"T_7130d_row12_col3\" class=\"data row12 col3\" >1,454 distinct values</td>\n",
       "      <td id=\"T_7130d_row12_col4\" class=\"data row12 col4\" ><img src = \"data:image/png;base64, iVBORw0KGgoAAAANSUhEUgAAAKoAAABGCAYAAABc8A97AAAAOXRFWHRTb2Z0d2FyZQBNYXRwbG90bGliIHZlcnNpb24zLjcuMCwgaHR0cHM6Ly9tYXRwbG90bGliLm9yZy88F64QAAAACXBIWXMAAA9hAAAPYQGoP6dpAAABaUlEQVR4nO3XT2oCMRiH4aSI6GYGETyMh+hhewhvIyUuqi1Iuuum1D/jov3R59km+cjiZYbU3nuBv+7pty8At5hd21BrXZZS5hPnf/TejxPPwpeLodZal+v1+nkYhtWU4YfD4bXW+iJWHnXtizofhmG13W6P4zie7hncWlvsdrvVfr+fl1KEykOu/vpLKWUcx9Nms3mbMH854Qx84zFFBKESQahEECoRhEoEoRJBqEQQKhGESgShEkGoRBAqEYRKBKESQahEECoRhEoEoRJBqEQQKhGESgShEkGoRBAqEYRKBKESQahEECoRhEoEoRJBqEQQKhGESgShEkGoRBAqEYRKBKESQahEECoRhEoEoRJBqEQQKhGESgShEkGoRBAqEYRKBKESQahEECoRhEoEoRJBqEQQKhGESgShEkGoRBAqEYRKBKESQahEmN2yqbW2uHdwa21xPp9npZSh1nr3xfh33nvvp58WPwF79y3yrjldnwAAAABJRU5ErkJggg==\"></img></td>\n",
       "      <td id=\"T_7130d_row12_col5\" class=\"data row12 col5\" >0<br>(0.0%)</td>\n",
       "    </tr>\n",
       "    <tr>\n",
       "      <td id=\"T_7130d_row13_col0\" class=\"data row13 col0\" >14</td>\n",
       "      <td id=\"T_7130d_row13_col1\" class=\"data row13 col1\" ><strong>inventories</strong><br>[float64]</td>\n",
       "      <td id=\"T_7130d_row13_col2\" class=\"data row13 col2\" >Mean (sd) : 25682.6 (204249.5)<br>min < med < max:<br>-2607.4 < 1163.0 < 17258574.0<br>IQR (CV) : 7159.3 (0.1)</td>\n",
       "      <td id=\"T_7130d_row13_col3\" class=\"data row13 col3\" >5,648 distinct values</td>\n",
       "      <td id=\"T_7130d_row13_col4\" class=\"data row13 col4\" ><img src = \"data:image/png;base64, iVBORw0KGgoAAAANSUhEUgAAAKoAAABGCAYAAABc8A97AAAAOXRFWHRTb2Z0d2FyZQBNYXRwbG90bGliIHZlcnNpb24zLjcuMCwgaHR0cHM6Ly9tYXRwbG90bGliLm9yZy88F64QAAAACXBIWXMAAA9hAAAPYQGoP6dpAAABaUlEQVR4nO3XT2oCMRiH4aSI6GYGETyMh+hhewhvIyUuqi1Iuuum1D/jov3R59km+cjiZYbU3nuBv+7pty8At5hd21BrXZZS5hPnf/TejxPPwpeLodZal+v1+nkYhtWU4YfD4bXW+iJWHnXtizofhmG13W6P4zie7hncWlvsdrvVfr+fl1KEykOu/vpLKWUcx9Nms3mbMH854Qx84zFFBKESQahEECoRhEoEoRJBqEQQKhGESgShEkGoRBAqEYRKBKESQahEECoRhEoEoRJBqEQQKhGESgShEkGoRBAqEYRKBKESQahEECoRhEoEoRJBqEQQKhGESgShEkGoRBAqEYRKBKESQahEECoRhEoEoRJBqEQQKhGESgShEkGoRBAqEYRKBKESQahEECoRhEoEoRJBqEQQKhGESgShEkGoRBAqEYRKBKESQahEmN2yqbW2uHdwa21xPp9npZSh1nr3xfh33nvvp58WPwF79y3yrjldnwAAAABJRU5ErkJggg==\"></img></td>\n",
       "      <td id=\"T_7130d_row13_col5\" class=\"data row13 col5\" >0<br>(0.0%)</td>\n",
       "    </tr>\n",
       "    <tr>\n",
       "      <td id=\"T_7130d_row14_col0\" class=\"data row14 col0\" >15</td>\n",
       "      <td id=\"T_7130d_row14_col1\" class=\"data row14 col1\" ><strong>liq_assets</strong><br>[float64]</td>\n",
       "      <td id=\"T_7130d_row14_col2\" class=\"data row14 col2\" >Mean (sd) : 24584.8 (150750.2)<br>min < med < max:<br>-40633.3 < 1966.7 < 7687870.5<br>IQR (CV) : 8722.2 (0.2)</td>\n",
       "      <td id=\"T_7130d_row14_col3\" class=\"data row14 col3\" >6,241 distinct values</td>\n",
       "      <td id=\"T_7130d_row14_col4\" class=\"data row14 col4\" ><img src = \"data:image/png;base64, iVBORw0KGgoAAAANSUhEUgAAAKoAAABGCAYAAABc8A97AAAAOXRFWHRTb2Z0d2FyZQBNYXRwbG90bGliIHZlcnNpb24zLjcuMCwgaHR0cHM6Ly9tYXRwbG90bGliLm9yZy88F64QAAAACXBIWXMAAA9hAAAPYQGoP6dpAAABaUlEQVR4nO3XT2oCMRiH4aSI6GYGETyMh+hhewhvIyUuqi1Iuuum1D/jov3R59km+cjiZYbU3nuBv+7pty8At5hd21BrXZZS5hPnf/TejxPPwpeLodZal+v1+nkYhtWU4YfD4bXW+iJWHnXtizofhmG13W6P4zie7hncWlvsdrvVfr+fl1KEykOu/vpLKWUcx9Nms3mbMH854Qx84zFFBKESQahEECoRhEoEoRJBqEQQKhGESgShEkGoRBAqEYRKBKESQahEECoRhEoEoRJBqEQQKhGESgShEkGoRBAqEYRKBKESQahEECoRhEoEoRJBqEQQKhGESgShEkGoRBAqEYRKBKESQahEECoRhEoEoRJBqEQQKhGESgShEkGoRBAqEYRKBKESQahEECoRhEoEoRJBqEQQKhGESgShEkGoRBAqEYRKBKESQahEmN2yqbW2uHdwa21xPp9npZSh1nr3xfh33nvvp58WPwF79y3yrjldnwAAAABJRU5ErkJggg==\"></img></td>\n",
       "      <td id=\"T_7130d_row14_col5\" class=\"data row14 col5\" >0<br>(0.0%)</td>\n",
       "    </tr>\n",
       "    <tr>\n",
       "      <td id=\"T_7130d_row15_col0\" class=\"data row15 col0\" >16</td>\n",
       "      <td id=\"T_7130d_row15_col1\" class=\"data row15 col1\" ><strong>material_exp</strong><br>[float64]</td>\n",
       "      <td id=\"T_7130d_row15_col2\" class=\"data row15 col2\" >Mean (sd) : 167694.0 (558346.7)<br>min < med < max:<br>-273433.3 < 32713.0 < 14127548.0<br>IQR (CV) : 89199.1 (0.3)</td>\n",
       "      <td id=\"T_7130d_row15_col3\" class=\"data row15 col3\" >14,264 distinct values</td>\n",
       "      <td id=\"T_7130d_row15_col4\" class=\"data row15 col4\" ><img src = \"data:image/png;base64, iVBORw0KGgoAAAANSUhEUgAAAKoAAABGCAYAAABc8A97AAAAOXRFWHRTb2Z0d2FyZQBNYXRwbG90bGliIHZlcnNpb24zLjcuMCwgaHR0cHM6Ly9tYXRwbG90bGliLm9yZy88F64QAAAACXBIWXMAAA9hAAAPYQGoP6dpAAABk0lEQVR4nO3XwWoaUQCF4XtrKnHRGURw6SP0AXyIPGy23fssbqSOlGojcrPLJqTGSUt74PvWcw8X5mfE2lor8L/79K8vAO9xd+2BWuuslDIduf/UWjuOPAsvfhtqrXW2WCweuq6bjxk/HA7fa62PYuWjrn1Rp13Xzdfr9bHv+9Mtw8Mw3G82m/lut5uWUoTKh1z96S+llL7vT8vl8ueI/dmIM/CKP1NEECoRhEoEoRJBqEQQKhGESgShEkGoRBAqEYRKBKESQahEECoRhEoEoRJBqEQQKhGESgShEkGoRBAqEYRKBKESQahEECoRhEoEoRJBqEQQKhGESgShEkGoRBAqEYRKBKESQahEECoRhEoEoRJBqEQQKhGESgShEkGoRBAqEYRKBKESQahEECoRhEoEoRJBqEQQKhGESgShEkGoRBAqEYRKBKESQahEECoR7v7m+OVy+VxK6WqtYyeeWmvHP3glQr0r1GEY7m8d3m63X87n89fVajWZTCan269Wyn6//1Fr/VZKGXWeKL9aa2++52fxYDzEnB/1ZAAAAABJRU5ErkJggg==\"></img></td>\n",
       "      <td id=\"T_7130d_row15_col5\" class=\"data row15 col5\" >0<br>(0.0%)</td>\n",
       "    </tr>\n",
       "    <tr>\n",
       "      <td id=\"T_7130d_row16_col0\" class=\"data row16 col0\" >17</td>\n",
       "      <td id=\"T_7130d_row16_col1\" class=\"data row16 col1\" ><strong>personnel_exp</strong><br>[float64]</td>\n",
       "      <td id=\"T_7130d_row16_col2\" class=\"data row16 col2\" >Mean (sd) : 53538.7 (210843.4)<br>min < med < max:<br>-147066.7 < 11375.9 < 7945803.5<br>IQR (CV) : 26083.3 (0.3)</td>\n",
       "      <td id=\"T_7130d_row16_col3\" class=\"data row16 col3\" >10,179 distinct values</td>\n",
       "      <td id=\"T_7130d_row16_col4\" class=\"data row16 col4\" ><img src = \"data:image/png;base64, iVBORw0KGgoAAAANSUhEUgAAAKoAAABGCAYAAABc8A97AAAAOXRFWHRTb2Z0d2FyZQBNYXRwbG90bGliIHZlcnNpb24zLjcuMCwgaHR0cHM6Ly9tYXRwbG90bGliLm9yZy88F64QAAAACXBIWXMAAA9hAAAPYQGoP6dpAAABk0lEQVR4nO3XwWoaUQCF4XtrKnHRGURw6SP0AXyIPGy23fssbqSOlGojcrPLJqTGSUt74PvWcw8X5mfE2lor8L/79K8vAO9xd+2BWuuslDIduf/UWjuOPAsvfhtqrXW2WCweuq6bjxk/HA7fa62PYuWjrn1Rp13Xzdfr9bHv+9Mtw8Mw3G82m/lut5uWUoTKh1z96S+llL7vT8vl8ueI/dmIM/CKP1NEECoRhEoEoRJBqEQQKhGESgShEkGoRBAqEYRKBKESQahEECoRhEoEoRJBqEQQKhGESgShEkGoRBAqEYRKBKESQahEECoRhEoEoRJBqEQQKhGESgShEkGoRBAqEYRKBKESQahEECoRhEoEoRJBqEQQKhGESgShEkGoRBAqEYRKBKESQahEECoRhEoEoRJBqEQQKhGESgShEkGoRBAqEYRKBKESQahEECoR7v7m+OVy+VxK6WqtYyeeWmvHP3glQr0r1GEY7m8d3m63X87n89fVajWZTCan269Wyn6//1Fr/VZKGXWeKL9aa2++52fxYDzEnB/1ZAAAAABJRU5ErkJggg==\"></img></td>\n",
       "      <td id=\"T_7130d_row16_col5\" class=\"data row16 col5\" >0<br>(0.0%)</td>\n",
       "    </tr>\n",
       "    <tr>\n",
       "      <td id=\"T_7130d_row17_col0\" class=\"data row17 col0\" >18</td>\n",
       "      <td id=\"T_7130d_row17_col1\" class=\"data row17 col1\" ><strong>profit_loss_year</strong><br>[float64]</td>\n",
       "      <td id=\"T_7130d_row17_col2\" class=\"data row17 col2\" >Mean (sd) : 523.1 (115296.9)<br>min < med < max:<br>-10918793.0 < 37.0 < 3926318.5<br>IQR (CV) : 9133.3 (0.0)</td>\n",
       "      <td id=\"T_7130d_row17_col3\" class=\"data row17 col3\" >9,375 distinct values</td>\n",
       "      <td id=\"T_7130d_row17_col4\" class=\"data row17 col4\" ><img src = \"data:image/png;base64, iVBORw0KGgoAAAANSUhEUgAAAKoAAABGCAYAAABc8A97AAAAOXRFWHRTb2Z0d2FyZQBNYXRwbG90bGliIHZlcnNpb24zLjcuMCwgaHR0cHM6Ly9tYXRwbG90bGliLm9yZy88F64QAAAACXBIWXMAAA9hAAAPYQGoP6dpAAABcUlEQVR4nO3XQU4CQRRF0SpDECbdISQshkW4WBfBbogpBoomUK7AqNgqj5wzrf7JG9xJ1957gWt3998D4Ctm/z2AadVal6WU+YXnb733lyn3TEWoN6TWulyv1w/DMKwuuT8cDk+11sdrjFWot2U+DMNqu92+jON4/M5ha22x2+1W+/1+XkoRKr9vHMfjZrN5vuB0OfmYifiZIoJQiSBUIgiVCEIlglCJIFQiCJUIQiWCUIkgVCIIlQhCJYJQiSBUIgiVCEIlglCJIFQiCJUIQiWCUIkgVCIIlQhCJYJQiSBUIgiVCEIlglCJIFQiCJUIQiWCUIkgVCIIlQhCJYJQiSBUIgiVCEIlglCJIFQiCJUIQiWCUIkgVCIIlQhCJYJQiSBUIgiVCEIlglCJIFQiCJUIQiWCUIkgVCIIlQhCJYJQiSBUIsw++6DWuiil3P/BFn5uOJ/Ps9ba4ruHrbXF6XSalVKGWusvTPvUa+/9+NHjOwYvMRDr4JpqAAAAAElFTkSuQmCC\"></img></td>\n",
       "      <td id=\"T_7130d_row17_col5\" class=\"data row17 col5\" >0<br>(0.0%)</td>\n",
       "    </tr>\n",
       "    <tr>\n",
       "      <td id=\"T_7130d_row18_col0\" class=\"data row18 col0\" >19</td>\n",
       "      <td id=\"T_7130d_row18_col1\" class=\"data row18 col1\" ><strong>sales</strong><br>[float64]</td>\n",
       "      <td id=\"T_7130d_row18_col2\" class=\"data row18 col2\" >Mean (sd) : 235773.4 (770482.5)<br>min < med < max:<br>1000.0 < 43920.4 < 9989311.0<br>IQR (CV) : 120816.7 (0.3)</td>\n",
       "      <td id=\"T_7130d_row18_col3\" class=\"data row18 col3\" >15,008 distinct values</td>\n",
       "      <td id=\"T_7130d_row18_col4\" class=\"data row18 col4\" ><img src = \"data:image/png;base64, iVBORw0KGgoAAAANSUhEUgAAAKoAAABGCAYAAABc8A97AAAAOXRFWHRTb2Z0d2FyZQBNYXRwbG90bGliIHZlcnNpb24zLjcuMCwgaHR0cHM6Ly9tYXRwbG90bGliLm9yZy88F64QAAAACXBIWXMAAA9hAAAPYQGoP6dpAAABuUlEQVR4nO3Xv07CUBiG8e+zQIohp5Aaxq5sXgCLd+DFurqzcyFgS0D+hRw3F6PAQdTXPL+5502TPmlTjzEa8Nfd/PYNAKdoHbvA3btm1knc38UY14lngXdfhuru3bIsH0MIg5TxxWLx4u5PxIpLHXujdkIIg/F4vC6KYnPOcNM0+WQyGcxms46ZESoucvTTb2ZWFMVmOBy+Jux3E84AH/AzBQmECgmECgmECgmECgmECgmECgmECgmECgmECgmECgmECgmECgmECgmECgmECgmECgmECgmECgmECgmECgmECgmECgmECgmECgmECgmECgmECgmECgmECgmECgmECgmECgmECgmECgmECgmECgmECgmECgmECgmECgmECgmECgmECgmECgmECgmECgmECgmECgmECgmECgmECgmECgmECgmECgmECgmECgmECgmECgmECgmECgmta44fDoe2mQV3T53YxRjX33hLEHW1UFerVXu/399XVZVlWbZJ2ajreunuz2aWcp7I/5GTQm2aJj93eD6f9/I8vx2NRt7v97fnnq/rujedTh+qqrpLCf3CyPHztjHGT5/VG1KQUuEbo1MLAAAAAElFTkSuQmCC\"></img></td>\n",
       "      <td id=\"T_7130d_row18_col5\" class=\"data row18 col5\" >0<br>(0.0%)</td>\n",
       "    </tr>\n",
       "    <tr>\n",
       "      <td id=\"T_7130d_row19_col0\" class=\"data row19 col0\" >20</td>\n",
       "      <td id=\"T_7130d_row19_col1\" class=\"data row19 col1\" ><strong>share_eq</strong><br>[float64]</td>\n",
       "      <td id=\"T_7130d_row19_col2\" class=\"data row19 col2\" >Mean (sd) : 91449.6 (564493.0)<br>min < med < max:<br>-10798185.0 < 3685.2 < 27175792.0<br>IQR (CV) : 38539.8 (0.2)</td>\n",
       "      <td id=\"T_7130d_row19_col3\" class=\"data row19 col3\" >14,268 distinct values</td>\n",
       "      <td id=\"T_7130d_row19_col4\" class=\"data row19 col4\" ><img src = \"data:image/png;base64, iVBORw0KGgoAAAANSUhEUgAAAKoAAABGCAYAAABc8A97AAAAOXRFWHRTb2Z0d2FyZQBNYXRwbG90bGliIHZlcnNpb24zLjcuMCwgaHR0cHM6Ly9tYXRwbG90bGliLm9yZy88F64QAAAACXBIWXMAAA9hAAAPYQGoP6dpAAABxElEQVR4nO3XO27CUBRF0XtjPiaKnkEklLR0GQCDyGAZBC0jMZEtEfMRvPSR8rFDYh+0V3+fTrFlyR5jNKDr7toeAPxEr+0BX3H3kZkNGp4fY4zVNfegPZ0N1d1H0+n0JYQwaXJfluWru6+I9TZ0NlQzG4QQJsvlssqybF/nsCiKdL1eT/I8H5gZod6ALodqZmZZlu1ns9lbg9PR1cegNfxMQQKhQgKhQgKhQgKhQgKhQgKhQgKhQgKhQgKhQgKhQgKhQgKhQgKhQgKhQgKhQgKhQgKhQgKhQgKhQgKhQgKhQgKhQgKhQgKhQgKhQgKhQgKhQgKhQgKhQgKhQgKhQgKhQgKhQgKhQgKhQgKhQgKhQgKhQgKhQgKhQgKhQgKhQgKhQgKhQgKhQgKhQgKhQgKhQgKhQgKhQgKhQgKhQgKhQgKhQgKhQgKhQgKhQgKhQgKhQgKhQkKv7QF/5Xw+980suHvTJ44xxuqKk/ALNxnqbrfrn06n5/l8niRJsm/yRlmWr+6+ItZu+DZUd0/NbPgPWz4Kl8ulVxRFWvdwu90+pGl6v1gsfDweH+reV1U13Gw2T3meP7p7WfcejRxijJ9+VN4Byb5QzC5UkAUAAAAASUVORK5CYII=\"></img></td>\n",
       "      <td id=\"T_7130d_row19_col5\" class=\"data row19 col5\" >0<br>(0.0%)</td>\n",
       "    </tr>\n",
       "    <tr>\n",
       "      <td id=\"T_7130d_row20_col0\" class=\"data row20 col0\" >21</td>\n",
       "      <td id=\"T_7130d_row20_col1\" class=\"data row20 col1\" ><strong>subscribed_cap</strong><br>[float64]</td>\n",
       "      <td id=\"T_7130d_row20_col2\" class=\"data row20 col2\" >Mean (sd) : 30304.6 (260914.2)<br>min < med < max:<br>-303.7 < 1888.9 < 16319630.0<br>IQR (CV) : 9259.3 (0.1)</td>\n",
       "      <td id=\"T_7130d_row20_col3\" class=\"data row20 col3\" >1,309 distinct values</td>\n",
       "      <td id=\"T_7130d_row20_col4\" class=\"data row20 col4\" ><img src = \"data:image/png;base64, iVBORw0KGgoAAAANSUhEUgAAAKoAAABGCAYAAABc8A97AAAAOXRFWHRTb2Z0d2FyZQBNYXRwbG90bGliIHZlcnNpb24zLjcuMCwgaHR0cHM6Ly9tYXRwbG90bGliLm9yZy88F64QAAAACXBIWXMAAA9hAAAPYQGoP6dpAAABaUlEQVR4nO3XT2oCMRiH4aSI6GYGETyMh+hhewhvIyUuqi1Iuuum1D/jov3R59km+cjiZYbU3nuBv+7pty8At5hd21BrXZZS5hPnf/TejxPPwpeLodZal+v1+nkYhtWU4YfD4bXW+iJWHnXtizofhmG13W6P4zie7hncWlvsdrvVfr+fl1KEykOu/vpLKWUcx9Nms3mbMH854Qx84zFFBKESQahEECoRhEoEoRJBqEQQKhGESgShEkGoRBAqEYRKBKESQahEECoRhEoEoRJBqEQQKhGESgShEkGoRBAqEYRKBKESQahEECoRhEoEoRJBqEQQKhGESgShEkGoRBAqEYRKBKESQahEECoRhEoEoRJBqEQQKhGESgShEkGoRBAqEYRKBKESQahEECoRhEoEoRJBqEQQKhGESgShEkGoRBAqEYRKBKESQahEmN2yqbW2uHdwa21xPp9npZSh1nr3xfh33nvvp58WPwF79y3yrjldnwAAAABJRU5ErkJggg==\"></img></td>\n",
       "      <td id=\"T_7130d_row20_col5\" class=\"data row20 col5\" >0<br>(0.0%)</td>\n",
       "    </tr>\n",
       "    <tr>\n",
       "      <td id=\"T_7130d_row21_col0\" class=\"data row21 col0\" >22</td>\n",
       "      <td id=\"T_7130d_row21_col1\" class=\"data row21 col1\" ><strong>tang_assets</strong><br>[float64]</td>\n",
       "      <td id=\"T_7130d_row21_col2\" class=\"data row21 col2\" >Mean (sd) : 133485.8 (1059669.0)<br>min < med < max:<br>0.0 < 4125.9 < 103665200.0<br>IQR (CV) : 36332.4 (0.1)</td>\n",
       "      <td id=\"T_7130d_row21_col3\" class=\"data row21 col3\" >9,067 distinct values</td>\n",
       "      <td id=\"T_7130d_row21_col4\" class=\"data row21 col4\" ><img src = \"data:image/png;base64, iVBORw0KGgoAAAANSUhEUgAAAKoAAABGCAYAAABc8A97AAAAOXRFWHRTb2Z0d2FyZQBNYXRwbG90bGliIHZlcnNpb24zLjcuMCwgaHR0cHM6Ly9tYXRwbG90bGliLm9yZy88F64QAAAACXBIWXMAAA9hAAAPYQGoP6dpAAABaUlEQVR4nO3XT2oCMRiH4aSI6GYGETyMh+hhewhvIyUuqi1Iuuum1D/jov3R59km+cjiZYbU3nuBv+7pty8At5hd21BrXZZS5hPnf/TejxPPwpeLodZal+v1+nkYhtWU4YfD4bXW+iJWHnXtizofhmG13W6P4zie7hncWlvsdrvVfr+fl1KEykOu/vpLKWUcx9Nms3mbMH854Qx84zFFBKESQahEECoRhEoEoRJBqEQQKhGESgShEkGoRBAqEYRKBKESQahEECoRhEoEoRJBqEQQKhGESgShEkGoRBAqEYRKBKESQahEECoRhEoEoRJBqEQQKhGESgShEkGoRBAqEYRKBKESQahEECoRhEoEoRJBqEQQKhGESgShEkGoRBAqEYRKBKESQahEECoRhEoEoRJBqEQQKhGESgShEkGoRBAqEYRKBKESQahEmN2yqbW2uHdwa21xPp9npZSh1nr3xfh33nvvp58WPwF79y3yrjldnwAAAABJRU5ErkJggg==\"></img></td>\n",
       "      <td id=\"T_7130d_row21_col5\" class=\"data row21 col5\" >0<br>(0.0%)</td>\n",
       "    </tr>\n",
       "    <tr>\n",
       "      <td id=\"T_7130d_row22_col0\" class=\"data row22 col0\" >23</td>\n",
       "      <td id=\"T_7130d_row22_col1\" class=\"data row22 col1\" ><strong>D</strong><br>[float64]</td>\n",
       "      <td id=\"T_7130d_row22_col2\" class=\"data row22 col2\" >1. nan</td>\n",
       "      <td id=\"T_7130d_row22_col3\" class=\"data row22 col3\" >19,036 (100.0%)</td>\n",
       "      <td id=\"T_7130d_row22_col4\" class=\"data row22 col4\" ><img src = \"data:image/png;base64, iVBORw0KGgoAAAANSUhEUgAAAJsAAAAXCAYAAAAcEz0vAAAAOXRFWHRTb2Z0d2FyZQBNYXRwbG90bGliIHZlcnNpb24zLjcuMCwgaHR0cHM6Ly9tYXRwbG90bGliLm9yZy88F64QAAAACXBIWXMAAA9hAAAPYQGoP6dpAAAAnUlEQVR4nO3bsQ0CMRBE0TlkoSPx6mTJxbgIUvovYZPjQgJqYCyZ/yqY4Ie7m6SHpLuAHyuttWet9Zg9BOsrtdZjjPGOiGv2GKwrM/ciSRFx9d7P2YOwttvsAfgfxAYbYoMNscGG2GBDbLAhNtgQG2yIDTbEBhtigw2xwYbYYENssCE22BAbbIgNNkX6nuzOHoK1Zea+tdZePLzA4QPFNA/EDSh7IQAAAABJRU5ErkJggg==\"></img></td>\n",
       "      <td id=\"T_7130d_row22_col5\" class=\"data row22 col5\" >19,036<br>(100.0%)</td>\n",
       "    </tr>\n",
       "    <tr>\n",
       "      <td id=\"T_7130d_row23_col0\" class=\"data row23 col0\" >24</td>\n",
       "      <td id=\"T_7130d_row23_col1\" class=\"data row23 col1\" ><strong>balsheet_flag</strong><br>[float64]</td>\n",
       "      <td id=\"T_7130d_row23_col2\" class=\"data row23 col2\" >1. 0.0<br>2. 1.0</td>\n",
       "      <td id=\"T_7130d_row23_col3\" class=\"data row23 col3\" >18,997 (99.8%)<br>39 (0.2%)</td>\n",
       "      <td id=\"T_7130d_row23_col4\" class=\"data row23 col4\" ><img src = \"data:image/png;base64, iVBORw0KGgoAAAANSUhEUgAAAJsAAAAuCAYAAAA/ZmtKAAAAOXRFWHRTb2Z0d2FyZQBNYXRwbG90bGliIHZlcnNpb24zLjcuMCwgaHR0cHM6Ly9tYXRwbG90bGliLm9yZy88F64QAAAACXBIWXMAAA9hAAAPYQGoP6dpAAAA/0lEQVR4nO3bwUkEMQBG4T/DoOslYQlMCdrDFuHV3u0iF11P48EafIHs+yr4Dw9CICnneUYilCQvSZ5mD9H69t77e631OnuI1rfXWq+32+27tXafPUbrGmNc9iRprd2P4/iaPUhr22YP0OMwNmGMTRhjE8bYhDE2YYxNGGMTxtiEMTZhjE0YYxPG2IQxNmGMTZg9+XvYNnuI1jbGuJTe+4fPwkXww4swxa98onhBEGYrpbyVUrwg6N9tSV6TPM8eovV5jApjbMIYmzDGJoyxCWNswhibMMYmjLEJY2zCGJswxiaMsQljbMIYmzDGJoyxCbMl+UzyM3uI1ufvKmF+AXVbGymqDU4XAAAAAElFTkSuQmCC\"></img></td>\n",
       "      <td id=\"T_7130d_row23_col5\" class=\"data row23 col5\" >0<br>(0.0%)</td>\n",
       "    </tr>\n",
       "    <tr>\n",
       "      <td id=\"T_7130d_row24_col0\" class=\"data row24 col0\" >25</td>\n",
       "      <td id=\"T_7130d_row24_col1\" class=\"data row24 col1\" ><strong>balsheet_length</strong><br>[float64]</td>\n",
       "      <td id=\"T_7130d_row24_col2\" class=\"data row24 col2\" >Mean (sd) : 356.8 (42.1)<br>min < med < max:<br>0.0 < 365.0 < 365.0<br>IQR (CV) : 0.0 (8.5)</td>\n",
       "      <td id=\"T_7130d_row24_col3\" class=\"data row24 col3\" >273 distinct values</td>\n",
       "      <td id=\"T_7130d_row24_col4\" class=\"data row24 col4\" ><img src = \"data:image/png;base64, iVBORw0KGgoAAAANSUhEUgAAAKoAAABGCAYAAABc8A97AAAAOXRFWHRTb2Z0d2FyZQBNYXRwbG90bGliIHZlcnNpb24zLjcuMCwgaHR0cHM6Ly9tYXRwbG90bGliLm9yZy88F64QAAAACXBIWXMAAA9hAAAPYQGoP6dpAAABh0lEQVR4nO3XMW4aURiF0fcimwxSNE+AxCayA/q0WawXQZG1gKKhiC0jmLRpHNsjLLjWOe2bK/3F10wdx7HArfty7QPgLe6ufQCfR611XkqZTZw/j+P4+NKjULmIWut8tVr97Pt+MWV/OBx+11ofXopVqFzKrO/7xWazeWytPb1nOAxDt91uF/v9flZKESofr7X2tF6v/0yYzv/36GeKCEIlglCJIFQiCJUIQiWCUIkgVCIIlQhCJYJQiSBUIgiVCEIlglCJIFQiCJUIQiWCUIkgVCIIlQhCJYJQiSBUIgiVCEIlglCJIFQiCJUIQiWCUIkgVCIIlQhCJYJQiSBUIgiVCEIlglCJIFQiCJUIQiWCUIkgVCIIlQhCJYJQiSBUIgiVCEIlglCJIFQiCJUIQiWCUIkgVCIIlQhCJYJQiSBUIgiVCEIlwt21D+B21FrnpZTZxHl/Pp/vL3nPv14NtdbalVK+ftQB3IxuuVz+aK19mzI+Ho/d6XT6vtvtfr13OwxD99o3fwHL2zC1vDhWpwAAAABJRU5ErkJggg==\"></img></td>\n",
       "      <td id=\"T_7130d_row24_col5\" class=\"data row24 col5\" >0<br>(0.0%)</td>\n",
       "    </tr>\n",
       "    <tr>\n",
       "      <td id=\"T_7130d_row25_col0\" class=\"data row25 col0\" >26</td>\n",
       "      <td id=\"T_7130d_row25_col1\" class=\"data row25 col1\" ><strong>balsheet_notfullyear</strong><br>[float64]</td>\n",
       "      <td id=\"T_7130d_row25_col2\" class=\"data row25 col2\" >1. 0.0<br>2. 1.0</td>\n",
       "      <td id=\"T_7130d_row25_col3\" class=\"data row25 col3\" >18,038 (94.8%)<br>998 (5.2%)</td>\n",
       "      <td id=\"T_7130d_row25_col4\" class=\"data row25 col4\" ><img src = \"data:image/png;base64, iVBORw0KGgoAAAANSUhEUgAAAJsAAAAuCAYAAAA/ZmtKAAAAOXRFWHRTb2Z0d2FyZQBNYXRwbG90bGliIHZlcnNpb24zLjcuMCwgaHR0cHM6Ly9tYXRwbG90bGliLm9yZy88F64QAAAACXBIWXMAAA9hAAAPYQGoP6dpAAABNElEQVR4nO3bMarCQBSF4TsS5NnMEAJZTBbhYl3E7CaETKFiMxavNTNThCOG/2vT3OInoOS4nLMBCs7MLmZ2/vYhOIRXzvmx9bAbhuHqve+VF+GYUkqLc+62FVznve+naXqEEJ7q43Ac67r+xRj7eZ7PZvY5NjOzEMJzHMe79Doc0aX08KS6AiA2yBAbZIgNMsQGGWKDDLFBhtggQ2yQITbIEBtkiA0yxAYZYoMMsUGmM/v/8O3bh+C3tTTUpZSWGGNvlQ/fgJqU0mJmr63nDF6wp+LgxTHlg0rLm61YK9CqOuWrzbOAVsUpX8s8C2jVMuXjVyp2wZ+6kCE2yBAbZIgNMsQGGWKDDLFBhtggQ2yQITbIEBtkiA0yxAYZYoMMsUGmOOVj4oc9Vad8tXkW0IrBC2TeCltq30PlDq8AAAAASUVORK5CYII=\"></img></td>\n",
       "      <td id=\"T_7130d_row25_col5\" class=\"data row25 col5\" >0<br>(0.0%)</td>\n",
       "    </tr>\n",
       "    <tr>\n",
       "      <td id=\"T_7130d_row26_col0\" class=\"data row26 col0\" >27</td>\n",
       "      <td id=\"T_7130d_row26_col1\" class=\"data row26 col1\" ><strong>founded_year</strong><br>[float64]</td>\n",
       "      <td id=\"T_7130d_row26_col2\" class=\"data row26 col2\" >Mean (sd) : 2003.3 (6.9)<br>min < med < max:<br>1978.0 < 2005.0 < 2012.0<br>IQR (CV) : 13.0 (289.3)</td>\n",
       "      <td id=\"T_7130d_row26_col3\" class=\"data row26 col3\" >31 distinct values</td>\n",
       "      <td id=\"T_7130d_row26_col4\" class=\"data row26 col4\" ><img src = \"data:image/png;base64, iVBORw0KGgoAAAANSUhEUgAAAKoAAABGCAYAAABc8A97AAAAOXRFWHRTb2Z0d2FyZQBNYXRwbG90bGliIHZlcnNpb24zLjcuMCwgaHR0cHM6Ly9tYXRwbG90bGliLm9yZy88F64QAAAACXBIWXMAAA9hAAAPYQGoP6dpAAACfElEQVR4nO3dvcraYBiH8fvxq/GDBJHq5tKx0MHRg+jB9hA6eAQOXTq5CSKK6SvGxC7t9vr1xDT5p9dvlZsEvELy8ATiLpeLAVXXKPsEgEe0yj4B1IdzrmtmHc/x0+Vyebv2I6HiJZxz3dFo9DUMw6HP/H6/3zrnvl2LlVDxKp0wDIfz+fwtiqLjM4O73S5YLBbDzWbTMTNCRfGiKDqOx+NfHqPdWz+ymIIEQoUEQoUEQoUEQoUEQoUEQoUEQoUEQoUEQoUEQoUEQoUEQoUEQoUEQoUEQoUEQoUEQoUEQoUEQoUEQoUEQoUEQoUEQoUEQoUEQoUEQoUEQoUEQoUEQoUEQoUEQoUEQoUEQoUEQoUEQoUEPjZRgCK/t/S/ItQXK/p7S48c3/wvkoaZZZ6zYZZlbc/Zuwj19Qr93tIteS6SNE3bcRx/GgwGPxuNRvLsfJIkQZqmn4/H43cz8/l8z02EWpCivrd0h/dFslqthsvl8uNsNvsxmUy2zx74z3zvfD43n519BKHWkM9Fst1uu2Zm/X7f6wL7O18UVv2QQKiQwK2/YtI0bZtZ6JzzGS905V0mQq2QOI7bSZJ8mU6nzWaz+dRiyKz4lXeZCLVCTqdTKwiC3mw2O1Zx5V0mQq2gqq68y0SoV+TY4antc2KZCPUdeXZ46vycWCZCfV/eHZ5aPieWqbah5nw5I8yyrB1F0dZ3hwevVctQ877BxO27emoZquW4dZtx+66iuoZqZv5vMHH7rh72+iGBUCGBUCGBUCGBUCGBUCGBUCGBUCGBUCHh7s6Ucy4wsw//4FxeKcyyrLXb7QKf4cPhEJiZxXEcrNfrnsKs8rEf+Z9+A8TOGDKpA5BqAAAAAElFTkSuQmCC\"></img></td>\n",
       "      <td id=\"T_7130d_row26_col5\" class=\"data row26 col5\" >0<br>(0.0%)</td>\n",
       "    </tr>\n",
       "    <tr>\n",
       "      <td id=\"T_7130d_row27_col0\" class=\"data row27 col0\" >28</td>\n",
       "      <td id=\"T_7130d_row27_col1\" class=\"data row27 col1\" ><strong>exit_year</strong><br>[float64]</td>\n",
       "      <td id=\"T_7130d_row27_col2\" class=\"data row27 col2\" >1. nan<br>2. 2016.0<br>3. 2015.0<br>4. 2014.0<br>5. 2013.0<br>6. 2017.0<br>7. 2012.0<br>8. 1998.0<br>9. 1997.0</td>\n",
       "      <td id=\"T_7130d_row27_col3\" class=\"data row27 col3\" >16,972 (89.2%)<br>958 (5.0%)<br>710 (3.7%)<br>258 (1.4%)<br>73 (0.4%)<br>40 (0.2%)<br>23 (0.1%)<br>1 (0.0%)<br>1 (0.0%)</td>\n",
       "      <td id=\"T_7130d_row27_col4\" class=\"data row27 col4\" ><img src = \"data:image/png;base64, iVBORw0KGgoAAAANSUhEUgAAAJsAAADPCAYAAADifqNtAAAAOXRFWHRTb2Z0d2FyZQBNYXRwbG90bGliIHZlcnNpb24zLjcuMCwgaHR0cHM6Ly9tYXRwbG90bGliLm9yZy88F64QAAAACXBIWXMAAA9hAAAPYQGoP6dpAAADe0lEQVR4nO3dQU4bdxyG4Z8tlJaNEbKUI7Q7DsAhctgeggOw7B0QYhYlycZdNK26SAgq49eR+zwHsGbxav6MNZ/ZHA6HgcL21BfA/4fYyIiNjNjIiI2M2MiIjcxmZi5n5t2pL4Qf3ufD4fD8lg+42O/3H3a73fVaV8R5WpblcbPZ/PaW4C52u9317e3t89XV1cc1L47z8fT09PPd3d31w8PDu5n577HNzFxdXX18//79H6tdHefo8q0f4AGBjNjIiI2M2MiIjYzYyIiNjNjIiI2M2MiIjYzYyIiNzMXMX6+QnPpC+HGt1cfFsiyPd3d317PCKyScr2VZHmfm81s+w2vhvNabXwvf+K0PKq+5s725aJh5xeBljaEDzHxn8LLW0AFmXjd48ZTKKnypS0ZsZMRGRmxkxEZGbGTERkZsZMRGRmxkxEZGbGTERubFwYshDGv67uBljaEDzHgtnJDBCxkPCGReOkYdn6zqm+sqqyrW9tV1lVUVx/DSusqqilV5QCAjNjJiIyM2MmIjIzYyYiMjNjJiIyM2MmIjIzYyYiPz1XWVVRXH8M11lVUVa/NaOBnrKjL/vrO5k3FU/wxeDFw4tu1ut7u+ubmZLwsr/wqSo9nOzFxeXn469YVw/nypS0ZsZMRGRmxkxEZGbGTERkZsZMRGRmxkxEZGbGTERmY7M/P8/PzTqS+E87ddluXx/v7ewIWj81o4GYMXMn/f2cZdjWO72O/3H2ZmjF04tu1ut7s2dqHgezYyYiMjNjJiIyM2MmIjIzYyYiMjNjJiIyM2MmIjIzYyYiMjNjJiI3PxZVU1Y1nFkdkgkLGuIuNvNjLbzWbz62az8f9FObrtzPwyM37rg6NzjJIRGxmxkREbGbGRERsZsZERGxmxkREbGbGRERsZsZERGxmxkdnOzO8z8+nUF8L5s0Eg4xglIzYyBi9kDF7IOEbJiI2M2MiIjYzYyIiNjNjIiI2M2MiIjYzYyIiNjNjIiI2M2MiIjYx1FRnrKjKOUTJiI2NdRca6ioxjlIzYyIiNjNjIiI2M2MiIjYzYyIiNjNjIiI2M2MiIjYzYyIiNjMELGYMXMo5RMmIjY/BCxuCFjGOUjNjIiI2M2MiIjYzYyIiNjNjIiI2M2MiIjYzYyIiNjNjIiI2M2MhYV5GxriLjGCUjNjJiIyM2MmIjIzYyYiPzJ6S49KuqUGt6AAAAAElFTkSuQmCC\"></img></td>\n",
       "      <td id=\"T_7130d_row27_col5\" class=\"data row27 col5\" >16,972<br>(89.2%)</td>\n",
       "    </tr>\n",
       "    <tr>\n",
       "      <td id=\"T_7130d_row28_col0\" class=\"data row28 col0\" >29</td>\n",
       "      <td id=\"T_7130d_row28_col1\" class=\"data row28 col1\" ><strong>ceo_count</strong><br>[float64]</td>\n",
       "      <td id=\"T_7130d_row28_col2\" class=\"data row28 col2\" >1. 1.0<br>2. 2.0<br>3. 3.0<br>4. 4.0<br>5. 5.0<br>6. 6.0<br>7. 15.0</td>\n",
       "      <td id=\"T_7130d_row28_col3\" class=\"data row28 col3\" >14,297 (75.1%)<br>4,189 (22.0%)<br>470 (2.5%)<br>65 (0.3%)<br>10 (0.1%)<br>4 (0.0%)<br>1 (0.0%)</td>\n",
       "      <td id=\"T_7130d_row28_col4\" class=\"data row28 col4\" ><img src = \"data:image/png;base64, iVBORw0KGgoAAAANSUhEUgAAAJsAAAChCAYAAADQgM1HAAAAOXRFWHRTb2Z0d2FyZQBNYXRwbG90bGliIHZlcnNpb24zLjcuMCwgaHR0cHM6Ly9tYXRwbG90bGliLm9yZy88F64QAAAACXBIWXMAAA9hAAAPYQGoP6dpAAAC2ElEQVR4nO3cQWpbZxiG0e8akTYTCSPwEto9eBFZbBehRWQPxliDJs1EHTQdhLgQiPTci3vOBvyDH+uXxH29XC6XgcLd2gfg/0NsZMRGRmxkxEZmmZn3M/Nu7YNwNV8ul8untQ/xmt3xePyw3+/v1z4I13E+n5+XZflji8Ht9vv9/ePj46fD4fB57cPwc15eXn49nU73T09P72Zme7HNzBwOh88PDw9/rn0YruL92gf4Lz4gkBEbGbGRERsZsZERGxmxkREbGbGRERsZsZERGxmxkdnN/PNoytoH4edt/fe4O5/Pz6fT6X42/GgKP+58Pj/PzJe1z/Eaj4W/PZt9LHyxiKeypVe2zf5Fch2bGbxseajBdWxi8LL1oQbXsaXBi0/Db5wvdcmIjYzYyIiNjNjIiI2M2MiIjYzYyIiNjNjIiI2M2MiIjcwm1lVr/3wam1lXbXkVxHXYIJCxriLz2iubVxhu4rt1lZUTt/LNusrKiVt6bV1l5cRN+FKXjNjIiI2M2MiIjYzYyIiNjNjIiI2M2MiIjYzYyIiNzDeDF8MTbum7wYvhCbfisXAyBi9kfEAg8+81Oq5Obm13PB4/zMxYVHFrd/v9/v7rlG8Lq3jeMO/ZyIiNjNjIiI2M2MiIjYzYyIiNjNjIiI2M2MiIjYzYyIiNjNjI7L6uqWYsqrgxj4WTsa4i4z0bmbtlWX5flsW/XeDm7mbmt5n5Ze2D8Pa5RsmIjYzYyIiNjNjIiI2M2MiIjYzYyIiNjNjIiI2M2MiIjYzYyNzNzMeZ+Wvtg/D22SCQcY2SERsZsZGxriJjXUXGNUpGbGTERkZsZMRGRmxkxEZGbGTERkZsZMRGRmxkxEZGbGTERsa6iox1FRnXKBmxkTF4IWPwQsY1SkZsZMRGRmxkxEZGbGTERkZsZMRGRmxkxEZGbGTERkZsZMRGRmxkrKvIWFeRcY2SERsZsZERGxmxkfkbzRzI+AjKSLIAAAAASUVORK5CYII=\"></img></td>\n",
       "      <td id=\"T_7130d_row28_col5\" class=\"data row28 col5\" >0<br>(0.0%)</td>\n",
       "    </tr>\n",
       "    <tr>\n",
       "      <td id=\"T_7130d_row29_col0\" class=\"data row29 col0\" >30</td>\n",
       "      <td id=\"T_7130d_row29_col1\" class=\"data row29 col1\" ><strong>foreign</strong><br>[float64]</td>\n",
       "      <td id=\"T_7130d_row29_col2\" class=\"data row29 col2\" >Mean (sd) : 0.1 (0.3)<br>min < med < max:<br>0.0 < 0.0 < 1.0<br>IQR (CV) : 0.0 (0.3)</td>\n",
       "      <td id=\"T_7130d_row29_col3\" class=\"data row29 col3\" >11 distinct values</td>\n",
       "      <td id=\"T_7130d_row29_col4\" class=\"data row29 col4\" ><img src = \"data:image/png;base64, iVBORw0KGgoAAAANSUhEUgAAAKoAAABGCAYAAABc8A97AAAAOXRFWHRTb2Z0d2FyZQBNYXRwbG90bGliIHZlcnNpb24zLjcuMCwgaHR0cHM6Ly9tYXRwbG90bGliLm9yZy88F64QAAAACXBIWXMAAA9hAAAPYQGoP6dpAAAB5ElEQVR4nO3XTU7jQBCG4apRZNJS1C3L4GPkAD4Eh+UQ3uYkFmovcAaRmN1sRhDcxIIP3mdrV6kXr/zj8zwb8N39+eoDAB+xuXSDuwczqwr3P8/zPBXOAv+8G6q7h6Zp7mOMdcnycRwf3f2BWPFZl56oVYyx7rpuSikdlyzOOW/7vq+HYajMjFDxKRdf/WZmKaVj27ZPBftDwQzwH36mIIFQIYFQIYFQIYFQIYFQIYFQIYFQIYFQIYFQIYFQIYFQIYFQIYFQIYFQIYFQIYFQIYFQIYFQIYFQIYFQIYFQIYFQIYFQIYFQIYFQIYFQIYFQIYFQIYFQIYFQIYFQIYFQIYFQIYFQIYFQIYFQIYFQIYFQIYFQIYFQIYFQIYFQIYFQIYFQIYFQIYFQIYFQIYFQIYFQIYFQIYFQIYFQIYFQIYFQIYFQIYFQIWHz1QfAz+HuwcyqwvHneZ6nty4SKq7C3UPTNPcxxrpkfhzHR3d/eCtWQsW1VDHGuuu6KaV0XDKYc972fV8Pw1CZGaFifSmlY9u2TwWj4b2LhLqCNb/VfitCvbK1v9V+qw+FmnPeLl2cc96eTqeNmUV3X3wwYXG3293t9/uXEMLfJYPTNN0cDoe7YRhu3X1c64AriefzeVPayqV7XgECE2jcBOneowAAAABJRU5ErkJggg==\"></img></td>\n",
       "      <td id=\"T_7130d_row29_col5\" class=\"data row29 col5\" >0<br>(0.0%)</td>\n",
       "    </tr>\n",
       "    <tr>\n",
       "      <td id=\"T_7130d_row30_col0\" class=\"data row30 col0\" >31</td>\n",
       "      <td id=\"T_7130d_row30_col1\" class=\"data row30 col1\" ><strong>female</strong><br>[float64]</td>\n",
       "      <td id=\"T_7130d_row30_col2\" class=\"data row30 col2\" >1. 0.0<br>2. 1.0<br>3. 0.5<br>4. 0.3333333432674408<br>5. 0.6666666865348816<br>6. 0.25<br>7. 0.4000000059604645<br>8. 0.2000000029802322<br>9. 0.75<br>10. 0.1666666716337204</td>\n",
       "      <td id=\"T_7130d_row30_col3\" class=\"data row30 col3\" >12,937 (68.0%)<br>3,853 (20.2%)<br>1,997 (10.5%)<br>164 (0.9%)<br>68 (0.4%)<br>11 (0.1%)<br>2 (0.0%)<br>2 (0.0%)<br>1 (0.0%)<br>1 (0.0%)</td>\n",
       "      <td id=\"T_7130d_row30_col4\" class=\"data row30 col4\" ><img src = \"data:image/png;base64, iVBORw0KGgoAAAANSUhEUgAAAJsAAADnCAYAAAAJgSQ2AAAAOXRFWHRTb2Z0d2FyZQBNYXRwbG90bGliIHZlcnNpb24zLjcuMCwgaHR0cHM6Ly9tYXRwbG90bGliLm9yZy88F64QAAAACXBIWXMAAA9hAAAPYQGoP6dpAAADk0lEQVR4nO3dwW0bVxhG0X8Ewok3JAQCLiHpQUW42BTBItKDIIiL2PGGWcRZJQ5oULoDjc+p4AG6micR80nL5XIZKNytfQB+HGIjIzYyYiMjNjJiIyM2MmIjIzYyy8y8n5l3ax+E//Xlcrl8WvsQt9odj8eP+/3+fu2D8G3n8/lpWZbf3npwu/1+f//w8PDpcDh8Xvsw/Nvz8/PPp9Pp/vHx8d3MvO3YZmYOh8PnDx8+/LH2Yfim92sf4CX4BYGM2MiIjYzYyIiNjNjIiI2M2MiIjYzYyIiNjNjIiI3Mbubv11jWPgj/bUtfm935fH46nU73s5HXWLbofD4/zcyXtc9xK6+Fvw2beC188VeMqKz9ZNvEdyzXWXXwspUhB9dZbfCypSEH11l78OI34B+ID3XJiI2M2MiIjYzYyIiNjNjIiI2M2MiIjYzYyIiNjNjIrDZ42dKQg+usOnjZypCD63gtnIzBC5mXeLJ5OnGVmwcvRitc66bBi9EK3+MlBi9GK1zFh7pkxEZGbGTERkZsZMRGRmxkxEZGbGTERkZsZMRGRmxkxEbmpnWVhRTf4+Z1lYUU17JBIGNdReafJ9t4OvHadsfj8ePMjIUUr+1uv9/ff53y+TeQvCqfs5ERGxmxkREbGbGRERsZsZERGxmxkREbGbGRERsZsZERGxmxkdl9HazMGK3wyrwWTsbghYwnGxmDFzIGL2R89EFGbGTERkZsZMRGRmxkxEZGbGTERkZsZMRGRmxkxEZGbGTERsbghYzXwskYvJDxMxsZsZG5W5bl12VZ/N9QXt3dzPwyMz+tfRC2zzVKRmxkxEZGbGTERkZsZMRGRmxkxEZGbGTERkZsZMRGRmxkxEbmbmZ+n5k/1z4I22fwQsY1SkZsZAxeyBi8kHGNkhEbGbGRERsZsZERGxmxkREbGbGRERsZsZERGxmxkREbGbGRMXghY/BCxjVKRmxkxEbGuoqMdRUZ1ygZsZERGxmxkREbGbGRERsZsZERGxmxkREbGbGRERsZsZERGxnrKjLWVWRco2TERsbghYzBCxnXKBmxkREbGbGRERsZsZERGxmxkREbGbGRERsZsZERGxmxkREbGYMXMgYvZFyjZMRGxuCFjMELGdcoGbGRERsZsZERGxmxkREbGbGRERsZsZERGxmxkREbGbGRERsZsZGxriJjXUXGNUpGbGTERkZsZMRGRmxkxEZGbGT+Ak096UlO+Nu4AAAAAElFTkSuQmCC\"></img></td>\n",
       "      <td id=\"T_7130d_row30_col5\" class=\"data row30 col5\" >0<br>(0.0%)</td>\n",
       "    </tr>\n",
       "    <tr>\n",
       "      <td id=\"T_7130d_row31_col0\" class=\"data row31 col0\" >32</td>\n",
       "      <td id=\"T_7130d_row31_col1\" class=\"data row31 col1\" ><strong>birth_year</strong><br>[float64]</td>\n",
       "      <td id=\"T_7130d_row31_col2\" class=\"data row31 col2\" >Mean (sd) : 1965.6 (11.3)<br>min < med < max:<br>1920.0 < 1967.0 < 2015.0<br>IQR (CV) : 17.0 (173.3)</td>\n",
       "      <td id=\"T_7130d_row31_col3\" class=\"data row31 col3\" >210 distinct values</td>\n",
       "      <td id=\"T_7130d_row31_col4\" class=\"data row31 col4\" ><img src = \"data:image/png;base64, iVBORw0KGgoAAAANSUhEUgAAAKoAAABGCAYAAABc8A97AAAAOXRFWHRTb2Z0d2FyZQBNYXRwbG90bGliIHZlcnNpb24zLjcuMCwgaHR0cHM6Ly9tYXRwbG90bGliLm9yZy88F64QAAAACXBIWXMAAA9hAAAPYQGoP6dpAAACfUlEQVR4nO3dvY7aQBRA4TvhJwYiW4AEHS8QKQUlfdo8bB4hBUVq3oAOgZARzjoY4xRRIiKxSTxjlrmz5+tnNcUpmNnRtamqSgDfvXn0BoD/0X70BkJkjOmJSNdy+amqqqcm9xMCQm2YMaY3Ho8/xXE8tFl/OBz2xpjPxPonQm1eN47j4WKxeEqSJK+zME3TaLlcDne7XVdECPUKod5JkiT5ZDL5ZrG01/hmAsBhCioQKlQgVKhAqFCBUKECp/5nOFzax5fLpdP0fl47Qr3B5dK+KIqoLMv3eZ5/ERGb6yncQKi3WV/ar9fr4Wq16p/P59a9NvcaEepf2Fza7/d7LuzvgMMUVCBUqECoUIFQoQKhQgVChQqEChUIFSoQKlQgVKhAqFCBUKECoUKFYF9POU4r4fGzZ4IM1XVaCY+f/RNkqOLw8FmEx88+CjVUEbGfVsLjZ/9wmIIKhAoVCBUqBP0bVaOyLDsiEhtjbP9EkIOACdUjWZZ1iqL4MJvNWq1Wq/ZthUi4g4AJ1SOn06kdRVF/Pp/n0+l0X3d9yIOACdVDg8HAdgiwSKCDgDlMQQVChQqEChUIFSoQKlQgVKhAqFCBUKECoUIFQoUKhAoVCBUqECpUIFSoQKhQwev3qHzmEb94GyqfecQ1b0MVPvOIKz6HKiJ85hE/cZiCCoQKFQgVKhAqVCBUqECoUIFQoYL396iox3EaoLeTAAk1IK7TAH2eBEioAXGZBuj7JMC7hsq3nh7DYRqgt/96/meoxphIRN5a/O1oNBp9TJLkncXa3y+gttvt17prj8djJCKSZVm02Wz6L7n+UWtd16dpGpVl2Ra3adcuvldV9ezPlR/TfRMSBnLTuAAAAABJRU5ErkJggg==\"></img></td>\n",
       "      <td id=\"T_7130d_row31_col5\" class=\"data row31 col5\" >2,772<br>(14.6%)</td>\n",
       "    </tr>\n",
       "    <tr>\n",
       "      <td id=\"T_7130d_row32_col0\" class=\"data row32 col0\" >33</td>\n",
       "      <td id=\"T_7130d_row32_col1\" class=\"data row32 col1\" ><strong>inoffice_days</strong><br>[float64]</td>\n",
       "      <td id=\"T_7130d_row32_col2\" class=\"data row32 col2\" >Mean (sd) : 3010.4 (1719.5)<br>min < med < max:<br>35.0 < 2588.0 < 10041.0<br>IQR (CV) : 1754.0 (1.8)</td>\n",
       "      <td id=\"T_7130d_row32_col3\" class=\"data row32 col3\" >6,627 distinct values</td>\n",
       "      <td id=\"T_7130d_row32_col4\" class=\"data row32 col4\" ><img src = \"data:image/png;base64, iVBORw0KGgoAAAANSUhEUgAAAKoAAABGCAYAAABc8A97AAAAOXRFWHRTb2Z0d2FyZQBNYXRwbG90bGliIHZlcnNpb24zLjcuMCwgaHR0cHM6Ly9tYXRwbG90bGliLm9yZy88F64QAAAACXBIWXMAAA9hAAAPYQGoP6dpAAAC5UlEQVR4nO3dPW/aQBjA8edKQAdEdggINlaGSB2QWFi6deyH7dqtSAzdIuUbsCHxYgQNxbx0SlUpQOIzLve4/99+8Q3/QHyO78zhcBDAdx+uPQHgPW6uPYFzjDFlESk5Dt8cDofnS84H1+NtqMaYcr1e/xIEQc1l/GKxmBljvhJrPngbqoiUgiCo9fv95zAM10kGRlFkh8NhbTKZlESEUHPA51BFRCQMw3Wz2fzpMLR88cngariZggqEChUIFSoQKlQgVKhAqFCBUKECoUKFTBf8Uz6rD/b7ffGS84FemYWa9ll9HMd2t9s9rNfr7yLi8mQKOZLlJ6rzs3oRkdFoVHt6eqpst9tCFpODLpk/63d9Vj+bzXhWjz+4mYIKhAoVCBUqECpUIFSoQKhQgVChAqFCBUKFCoQKFQgVKhAqVPB+AwpXu92uKCKBMcb1R7B3lUdyGepqtSrGcfyx3W4XCoVC4n8xFGHvKt/kMtTNZnNjra10u911q9WaJR3P3lX+yWWoL6rVquu+VSLsXeUVbqagAqFCBUKFCoQKFQgVKhAqVCBUqECoUIFQoQKhQgVChQqEChUIFSoQKlQgVKhAqFCBUKECoUKFN19FSXGyCaea4GLOhprmZJP/+VSTlMcW8Zr2EW99ojqfbKL9VJMU+wLY+/v7z2EYVl2uy2vax73rLVSXk000n2qSZl+AOI6tiDz0er0fjUZjkWQsr2mfluvXpV2l2Rfg5ZvEWhs7vqqt9hc8S4R6hsu+AJq/SXzG8hRU4BPVM2zudhyheoTN3U4jVI+wudtphOohNnd7jZspqECoUIGv/pxJuWrg7YoBoeZI2lUDn1cMCDVH0qwaRFFkB4NBczKZNIwxif5H4e8pZBU5oeaQy6rBJdZw5/P50hjzTURcxp+N/F2hRlFkk151uVxaEZHVamXH43HlX47Xeu1rzns6nd5aayudTsfc3d39Snrt+Xx++/j4+Kndbjey+LPjN9SXfSkLxam4AAAAAElFTkSuQmCC\"></img></td>\n",
       "      <td id=\"T_7130d_row32_col5\" class=\"data row32 col5\" >0<br>(0.0%)</td>\n",
       "    </tr>\n",
       "    <tr>\n",
       "      <td id=\"T_7130d_row33_col0\" class=\"data row33 col0\" >34</td>\n",
       "      <td id=\"T_7130d_row33_col1\" class=\"data row33 col1\" ><strong>gender</strong><br>[object]</td>\n",
       "      <td id=\"T_7130d_row33_col2\" class=\"data row33 col2\" >1. male<br>2. female<br>3. mix</td>\n",
       "      <td id=\"T_7130d_row33_col3\" class=\"data row33 col3\" >12,937 (68.0%)<br>3,853 (20.2%)<br>2,246 (11.8%)</td>\n",
       "      <td id=\"T_7130d_row33_col4\" class=\"data row33 col4\" ><img src = \"data:image/png;base64, iVBORw0KGgoAAAANSUhEUgAAAJsAAABFCAYAAABdVZTTAAAAOXRFWHRTb2Z0d2FyZQBNYXRwbG90bGliIHZlcnNpb24zLjcuMCwgaHR0cHM6Ly9tYXRwbG90bGliLm9yZy88F64QAAAACXBIWXMAAA9hAAAPYQGoP6dpAAABnElEQVR4nO3bQWrqYBiF4S8XKe0kQQQX4yLuYu8ishsRM2hLJ+mgw97aQMP5MX2eFXzgqxLxdPM8FyT8aX0Av0dXVU9V9dD6EG56m+f5pfURP7U7HA5/+77ftz6Er03TdOm67t+9B7fr+35/Op1ehmF4bX0Mn12v18dxHPfn8/mhqu47tqqqYRhej8fjc+tj+NJT6wPW4AGBGLERIzZixEaM2IgRGzFiI0ZsxIiNGLERIzZixEaM2IgRGzG7qo//TLU+hP/b0muzm6bpMo7jvjbyn6ktmqbpUlVvre/4KRuE+7CJDUJnykdK60+2TbxjWabpumorqyGWabau2tJqiGVar6s8Af8iftQlRmzEiI0YsREjNmLERozYiBEbMWIjRmzEiI0YsREjNmLERkyzddWWVkMs03RdtZXVEMvYIBBjXUWMBwRi1vwa9ZXITatN+czy+M4qUz6zPJZYc8pnlsdNHhCIERsxYiNGbMSIjRixESM2YsRGjNiIERsxYiNGbMSIjRixEbPKlM8sjyVWm/KZ5fEdGwRiTPmIeQfWeKNKbAtCfgAAAABJRU5ErkJggg==\"></img></td>\n",
       "      <td id=\"T_7130d_row33_col5\" class=\"data row33 col5\" >0<br>(0.0%)</td>\n",
       "    </tr>\n",
       "    <tr>\n",
       "      <td id=\"T_7130d_row34_col0\" class=\"data row34 col0\" >35</td>\n",
       "      <td id=\"T_7130d_row34_col1\" class=\"data row34 col1\" ><strong>origin</strong><br>[object]</td>\n",
       "      <td id=\"T_7130d_row34_col2\" class=\"data row34 col2\" >1. Domestic<br>2. Foreign<br>3. mix</td>\n",
       "      <td id=\"T_7130d_row34_col3\" class=\"data row34 col3\" >16,938 (89.0%)<br>1,524 (8.0%)<br>574 (3.0%)</td>\n",
       "      <td id=\"T_7130d_row34_col4\" class=\"data row34 col4\" ><img src = \"data:image/png;base64, iVBORw0KGgoAAAANSUhEUgAAAJsAAABFCAYAAABdVZTTAAAAOXRFWHRTb2Z0d2FyZQBNYXRwbG90bGliIHZlcnNpb24zLjcuMCwgaHR0cHM6Ly9tYXRwbG90bGliLm9yZy88F64QAAAACXBIWXMAAA9hAAAPYQGoP6dpAAABmUlEQVR4nO3bMWrjUBiF0V+DCZNGwhi8GC8ii51FaDfGWMUkpNEUUyaB2Hq+DtY5CxCv+LB4Rreb57kg4de9D8B6dFX1XFVP9z4IP977PM+vSx6w2e12L33fb1udiMc0TdOp67o/S4Lb9H2/PRwOr8MwvLU8HI/jfD7/Hsdxezwen6rq+tiqqoZheNvv93+bnY5H9Lz0AS4IxIiNGLERIzZixEaM2IgRGzFiI0ZsxIiNGLERIzZixEaM2IjZVP3/XuneB+HnatXHZpqm0ziO22rwvRKPa5qmU1W9L3mGDQLftXiD0JnykXLNL9viwlmni9dVLVY2rNNF66pWKxvW6Zp1lVsrV/GnLjFiI0ZsxIiNGLERIzZixEaM2IgRGzFiI0ZsxIiNGLERIzZiLlpXWWGxxMXrqhYrG9bJBoEY6ypiXBCI+eo16lVJc59O+cz1uIUPUz5zPW7lqymfuR7NuSAQIzZixEaM2IgRGzFiI0ZsxIiNGLERIzZixEaM2IgRGzFiI+bDlM9cj1v5dMpnrsct2CAQY8pHzD9KvKNKRzbB8wAAAABJRU5ErkJggg==\"></img></td>\n",
       "      <td id=\"T_7130d_row34_col5\" class=\"data row34 col5\" >0<br>(0.0%)</td>\n",
       "    </tr>\n",
       "    <tr>\n",
       "      <td id=\"T_7130d_row35_col0\" class=\"data row35 col0\" >36</td>\n",
       "      <td id=\"T_7130d_row35_col1\" class=\"data row35 col1\" ><strong>nace_main</strong><br>[float64]</td>\n",
       "      <td id=\"T_7130d_row35_col2\" class=\"data row35 col2\" >Mean (sd) : 4829.2 (1212.7)<br>min < med < max:<br>2611.0 < 5610.0 < 5630.0<br>IQR (CV) : 2297.0 (4.0)</td>\n",
       "      <td id=\"T_7130d_row35_col3\" class=\"data row35 col3\" >70 distinct values</td>\n",
       "      <td id=\"T_7130d_row35_col4\" class=\"data row35 col4\" ><img src = \"data:image/png;base64, iVBORw0KGgoAAAANSUhEUgAAAKoAAABGCAYAAABc8A97AAAAOXRFWHRTb2Z0d2FyZQBNYXRwbG90bGliIHZlcnNpb24zLjcuMCwgaHR0cHM6Ly9tYXRwbG90bGliLm9yZy88F64QAAAACXBIWXMAAA9hAAAPYQGoP6dpAAACMklEQVR4nO3dT2rbQBiG8W/qP0hpGdkItPTWi0IPoEPksDlCF7qFL2AshzE4Vi0kdVEKgTaxpdjYb3h+W/ENs3iQPbOR67rOgHv35dYbAM4xvvUG8Hk452Izmw4cP3Zdd3jrIaHiIpxzcZqmj977+ZD53W737Jx7eitWQsWlTL338zzPD0mSVH0GQwhRURTzsiynZkaouL4kSaosy14GjMbvPeQwBQmECgmECgmECgmECgmECgmECgmECgmECgmECgmECgmECgmECgmECgmECgmECgmECgmECgmECgmECgmECgmECgmECgmECgmECgmECgmECgmECgmECgmECgmECgmECgmECgmECgmECgmECgmECgmECgmECgmECgmECgmECgmECgmECgmECgmECgknP4PunIvNbDpw/WPXdf/9/jrQx7uhOufiNE0fvffzIYvvdrtn59wTseKjTr1Rp977eZ7nhyRJqj4LhxCioijmZVlOzYxQ8SEnf/rNzJIkqbIsexmwfjxgBvgHhylIIFRIIFRIIFRIOOswdSvc4eKvuw2VO1y8drehGne4eOWeQzUz7nDxB4cpSCBUSCBUSLjqf9SmaSZm5p1zQ8Z927aTC28Joq4W6n6/n9R1/WOxWIxGo1GvU7uZWV3XUdM036uq+mlmQw5T+ETOCjWEEPVdeLvdfoui6GG5XLrZbPar7/xms4lWq9VDCOHrer0+9pkNIURN04xt+Nsc/fm2bcdDWjln5jdyLJQILAcUjwAAAABJRU5ErkJggg==\"></img></td>\n",
       "      <td id=\"T_7130d_row35_col5\" class=\"data row35 col5\" >0<br>(0.0%)</td>\n",
       "    </tr>\n",
       "    <tr>\n",
       "      <td id=\"T_7130d_row36_col0\" class=\"data row36 col0\" >37</td>\n",
       "      <td id=\"T_7130d_row36_col1\" class=\"data row36 col1\" ><strong>ind2</strong><br>[float64]</td>\n",
       "      <td id=\"T_7130d_row36_col2\" class=\"data row36 col2\" >1. 56.0<br>2. 55.0<br>3. 28.0<br>4. 33.0<br>5. 26.0<br>6. 27.0<br>7. 29.0<br>8. 30.0</td>\n",
       "      <td id=\"T_7130d_row36_col3\" class=\"data row36 col3\" >11,413 (60.0%)<br>2,061 (10.8%)<br>1,790 (9.4%)<br>1,772 (9.3%)<br>994 (5.2%)<br>599 (3.1%)<br>259 (1.4%)<br>148 (0.8%)</td>\n",
       "      <td id=\"T_7130d_row36_col4\" class=\"data row36 col4\" ><img src = \"data:image/png;base64, iVBORw0KGgoAAAANSUhEUgAAAJsAAAC4CAYAAAD0WZ4UAAAAOXRFWHRTb2Z0d2FyZQBNYXRwbG90bGliIHZlcnNpb24zLjcuMCwgaHR0cHM6Ly9tYXRwbG90bGliLm9yZy88F64QAAAACXBIWXMAAA9hAAAPYQGoP6dpAAADcUlEQVR4nO3dTU7bYBiF0TdRRJuJoygSy2ABLILFdhFZAPtAER40lEk6KK0q8Rc79rWEz1nBp+rBxpYvXZxOp4KE5dQHYD7ERozYiBEbMWIjRmzELKpqXVVXUx9kZp5Pp9Nx6kOkrXa73V3TNNupDzInbdseFovFj7kFt2qaZnt7e3vcbDZPUx9mDh4fH7/v9/vtw8PDVVXNK7aqqs1m83R9ff1z6sPMyHrqA0zBAwIxYiNGbMSIjRixESM2YsRGjNiIERsxYiNGbMSIjRixEbOq+vPZy9QHmYs5/1uv2rY97Pf7bc30s5cptG17qKrnqc+R5rPwaczys/CFP79AylBXtln+pNLNIIOXuQ446ObiwcucBxx0M9TgxZMsn/JSlxixESM2YsRGjNiIERsxYiNGbMSIjRixESM2YsRGjNiIuXjwMucBB90MMniZ64CDbnwWTozBCzEeEIi59Dbq9snZLlpXWVXRRe91lVUVXV26rrKq4mweEIgRGzFiI0ZsxIiNGLERIzZixEaM2IgRGzFiI0ZsxIiNmN7rKqsqurpoXWVVRRc+CyfGuoqYS65srmp00nvwYuxCV70GL8Yu9HHJ4MXYhU681CVGbMSIjRixESM2YsRGjNiIERsxYiNGbMSIjRixESM2YnoNXoxd6KP34MXYha58Fk6MwQsxHhCIOec26nbJID5dV1lRMZQP11VWVAzpnHWVFRWD8IBAjNiIERsxYiNGbMSIjRixESM2YsRGjNiIERsxYiNGbMR8uK6yomJIn66rrKgYis/CibGuIua9K5urGYN7c/Bi5MIYXg1ejFwYy3uDFyMXBuelLjFiI0ZsxIiNGLERIzZixEaM2IgRGzFiI0ZsxIiNGLERIzZiXq2rLKoYy5vrKosqxmCDQIx1FTH/X9lczRjVv3WVRRVjWzZNs725uamXOV+f/3cUzrKsqlqv17+mPghfn5e6xIiNGLERIzZixEaM2IgRGzFiI0ZsxIiNGLERIzZixEbMsqrqeDx+m/ogfH3Ltm0P9/f3Ri6MzmfhxBi8EPP3ylauaoxttdvt7qqqjF0Y27Jpmq2xCwnesxEjNmLERozYiBEbMWIjRmzEiI0YsREjNmLERozYiBEbMWIjRmzEiI2Y1cuqqsqyipHZIBBjXUWM39mIERsxYiNGbMSIjZjfKHl/i+e2mY4AAAAASUVORK5CYII=\"></img></td>\n",
       "      <td id=\"T_7130d_row36_col5\" class=\"data row36 col5\" >0<br>(0.0%)</td>\n",
       "    </tr>\n",
       "    <tr>\n",
       "      <td id=\"T_7130d_row37_col0\" class=\"data row37 col0\" >38</td>\n",
       "      <td id=\"T_7130d_row37_col1\" class=\"data row37 col1\" ><strong>ind</strong><br>[float64]</td>\n",
       "      <td id=\"T_7130d_row37_col2\" class=\"data row37 col2\" >1. 3.0<br>2. 2.0<br>3. 1.0</td>\n",
       "      <td id=\"T_7130d_row37_col3\" class=\"data row37 col3\" >13,474 (70.8%)<br>5,155 (27.1%)<br>407 (2.1%)</td>\n",
       "      <td id=\"T_7130d_row37_col4\" class=\"data row37 col4\" ><img src = \"data:image/png;base64, iVBORw0KGgoAAAANSUhEUgAAAJsAAABFCAYAAABdVZTTAAAAOXRFWHRTb2Z0d2FyZQBNYXRwbG90bGliIHZlcnNpb24zLjcuMCwgaHR0cHM6Ly9tYXRwbG90bGliLm9yZy88F64QAAAACXBIWXMAAA9hAAAPYQGoP6dpAAABpklEQVR4nO3bMW6DQBRF0Y+FrLgBISQWM4vIYrMIdoMQUwTLzaSIEwVXTMEb//ieLt2Xcm0Ly69KKRmgcCp9AF5HZWYXMzuXPgTZbimltfQROeq+79+bpulKH4I8Mca5qqoPT8HVTdN0IYS1bdtr6WOwz7Isb+M4dtM0nc3MT2xmZm3bXodh+Cx9DLJcSh+QiwcEyBAbZIgNMsQGGWKDDLFBhtggQ2yQITbIEBtkiA0yxAYZYoMMsUGmNvv+fVTpQ7Cf1/9XHWOcx3HszOHvo15ZjHE2s1vpO3KwQfDL3QahYsoHFU/vbO5eydhys67yuCbClot1ldc1EbY8rat4WnaOL3UhQ2yQITbIEBtkiA0yxAYZYoMMsUGG2CBDbJAhNsgQG2SIDTLEBhkX66pnvw/7uFlXeVwTYYsNAmRYV0GGBwTIPH6M8lGFw2ymfMzlcKTTz5QvhLDeo/PwsACHfqd897+f+usP+MYDAmSIDTLEBhligwyxQYbYIENskCE2yBAbZIgNMsQGGWKDDLFBhtgg42LKh//h75SPuRwOxQYBMkz5IPMF416W6w9+AeEAAAAASUVORK5CYII=\"></img></td>\n",
       "      <td id=\"T_7130d_row37_col5\" class=\"data row37 col5\" >0<br>(0.0%)</td>\n",
       "    </tr>\n",
       "    <tr>\n",
       "      <td id=\"T_7130d_row38_col0\" class=\"data row38 col0\" >39</td>\n",
       "      <td id=\"T_7130d_row38_col1\" class=\"data row38 col1\" ><strong>urban_m</strong><br>[float64]</td>\n",
       "      <td id=\"T_7130d_row38_col2\" class=\"data row38 col2\" >1. 3.0<br>2. 1.0<br>3. 2.0</td>\n",
       "      <td id=\"T_7130d_row38_col3\" class=\"data row38 col3\" >7,691 (40.4%)<br>6,038 (31.7%)<br>5,307 (27.9%)</td>\n",
       "      <td id=\"T_7130d_row38_col4\" class=\"data row38 col4\" ><img src = \"data:image/png;base64, iVBORw0KGgoAAAANSUhEUgAAAJsAAABFCAYAAABdVZTTAAAAOXRFWHRTb2Z0d2FyZQBNYXRwbG90bGliIHZlcnNpb24zLjcuMCwgaHR0cHM6Ly9tYXRwbG90bGliLm9yZy88F64QAAAACXBIWXMAAA9hAAAPYQGoP6dpAAABjklEQVR4nO3bQWrCUBRG4ZsSpE4SguBiXEQX20VkN0F8gypO0kHnHZ7LzTvfCq5wUCL5h33fQyJ8ZB+gfgwRcY6IU/YhSd77vj+zj+jFeLlcvqZpWrIPydBauw/D8G1wjHGapuV2uz3neX5lH0N6PB6f67ou27adIsLYAGNExDzPr+v1+pN9TIJz9gE98QFBGGMTxtiEMTZhjE0YYxPG2IQxNmGMTRhjE8bYhDE2YYxNGGMTZoz4e7cr+xBaj58529hau6/rukSH73a11u4R8c6+oxduEHwlHDM45RPlKN9sfkMVcIh1lSupGsqvq1xJ1XGUdVV3T9IV+aeuMMYmjLEJY2zCGJswxiaMsQljbMIYmzDGJoyxCWNswhibMMYmTPl1VeXbe3OIdZUrqRrcIAjjukoYHxCEqfYz6s9lYaWmfE72aisz5XOyV1+1KV/Zv2fkA4JAxiaMsQljbMIYmzDGJoyxCWNswhibMMYmjLEJY2zCGJswxiZMmSlfhRv1v1JTPid7tblBEMYpnzC/SryjSn1Bb0YAAAAASUVORK5CYII=\"></img></td>\n",
       "      <td id=\"T_7130d_row38_col5\" class=\"data row38 col5\" >0<br>(0.0%)</td>\n",
       "    </tr>\n",
       "    <tr>\n",
       "      <td id=\"T_7130d_row39_col0\" class=\"data row39 col0\" >40</td>\n",
       "      <td id=\"T_7130d_row39_col1\" class=\"data row39 col1\" ><strong>region_m</strong><br>[object]</td>\n",
       "      <td id=\"T_7130d_row39_col2\" class=\"data row39 col2\" >1. Central<br>2. East<br>3. West</td>\n",
       "      <td id=\"T_7130d_row39_col3\" class=\"data row39 col3\" >11,290 (59.3%)<br>4,838 (25.4%)<br>2,908 (15.3%)</td>\n",
       "      <td id=\"T_7130d_row39_col4\" class=\"data row39 col4\" ><img src = \"data:image/png;base64, iVBORw0KGgoAAAANSUhEUgAAAJsAAABFCAYAAABdVZTTAAAAOXRFWHRTb2Z0d2FyZQBNYXRwbG90bGliIHZlcnNpb24zLjcuMCwgaHR0cHM6Ly9tYXRwbG90bGliLm9yZy88F64QAAAACXBIWXMAAA9hAAAPYQGoP6dpAAABlklEQVR4nO3bQWrCUBRG4ZsSpE4SQsDFuIgutovIbkTyBlWcpIMiOC+e98g93wouclAS/Ltt20IifNQ+QHl0EXGMiEPtQxJ5bNt2q31EDf08z1/DMEy1D8milHLtuu47Y3D9MAzT+Xy+jeN4r33M3q3r+rksy3S5XA4RkS+2iIhxHO+n0+mn9jFJHGsfUIsPCMIYmzDGJoyxCWNswhibMMYmjLEJY2zCGJswxiaMsQljbMIYmzB9xN//rGofkkH2z7kvpVyXZZki8f+sSKWUa0Q8at9RgxsEXtoNQueUT5TWv9nSfgvsUdPrqsxLpD1qdl2VfYm0R62vq3xC3hFf6gpjbMIYmzDGJoyxCWNswhibMMYmjLEJY2zCGJswxiaMsQljbMI0u65q8Sb9T9PrqsxLpD1ygyCM6yphfEAQhvgZ9adQEQFM+Zzj6emtUz7neHpFTPmae6WiOnxAEMbYhDE2YYxNGGMTxtiEMTZhjE0YYxPG2IQxNmGMTRhjE8bYhHnrlM85nl69fcrnHE9PbhCEcconzC9KvKNKTCZOCAAAAABJRU5ErkJggg==\"></img></td>\n",
       "      <td id=\"T_7130d_row39_col5\" class=\"data row39 col5\" >0<br>(0.0%)</td>\n",
       "    </tr>\n",
       "    <tr>\n",
       "      <td id=\"T_7130d_row40_col0\" class=\"data row40 col0\" >41</td>\n",
       "      <td id=\"T_7130d_row40_col1\" class=\"data row40 col1\" ><strong>founded_date</strong><br>[object]</td>\n",
       "      <td id=\"T_7130d_row40_col2\" class=\"data row40 col2\" >1. 2011-12-21<br>2. 2011-12-20<br>3. 1991-12-30<br>4. 2011-12-27<br>5. 1996-12-31<br>6. 2012-02-27<br>7. 2012-02-26<br>8. 2011-03-24<br>9. 2011-11-24<br>10. 2010-01-25<br>11. other</td>\n",
       "      <td id=\"T_7130d_row40_col3\" class=\"data row40 col3\" >45 (0.2%)<br>39 (0.2%)<br>35 (0.2%)<br>35 (0.2%)<br>32 (0.2%)<br>29 (0.2%)<br>28 (0.1%)<br>28 (0.1%)<br>27 (0.1%)<br>25 (0.1%)<br>18,713 (98.3%)</td>\n",
       "      <td id=\"T_7130d_row40_col4\" class=\"data row40 col4\" ><img src = \"data:image/png;base64, iVBORw0KGgoAAAANSUhEUgAAAJsAAAD+CAYAAAAtWHdlAAAAOXRFWHRTb2Z0d2FyZQBNYXRwbG90bGliIHZlcnNpb24zLjcuMCwgaHR0cHM6Ly9tYXRwbG90bGliLm9yZy88F64QAAAACXBIWXMAAA9hAAAPYQGoP6dpAAADaElEQVR4nO3cQWoUYRRG0VehiWbSTQhkCbqHLMLFuohehHsIITUwMZNyIIo41lvQnjPK8B9ceDTUl2XbtoHC1d4P4P8hNjJiIyM2MmIjIzYyYiMjNjJiIyM2MlfLsnxcluX93g/h8l3NzIeZebf3Q7h8zigZsZERGxmxkREbGbGRERsZsZERGxmxkREbGbGRERsZsZERGxmxkbmamS8z823vh3D5Fv/FiIozSkZsZKyryFhXkXFGyYiNjNjIiI2M2MiIjYzYyIiNjNjIiI2M2MiIjYzYyIiNjNjIGLyQMXgh44ySERsZgxcyBi9knFEyYiMjNjJiIyM2MmIjIzYyYiMjNjJiIyM2MmIjIzYyYiMjNjIGL2QMXsg4o2TERkZsZKyryFhXkXFGyYiNjNjIiI2M2MiIjYzYyIiNjNjIiI2M2MiIjYzYyIiNjNjIWFeRsa4i44ySERsZgxcyBi9knFEyYiMjNjJiIyM2MmIjIzYyYiMjNjJiIyM2MmIjIzYyYiMjNjIGL2QMXsg4o2TERsbghYzBCxlnlIzYyIiNjNjIiI2M2MiIjYzYyIiNjNjIiI2M2MiIjYzYyIiNjNjIWFeRsa4i44ySERsZ6yoy1lVknFEyYiMjNjJiIyM2MmIjIzYyYiMjNjJiIyM2MmIjIzYyYiMjNjIGL2QMXsg4o2TERsbghYzBCxlnlIzYyIiNjNjIiI2M2MiIjYzYyIiNjNjIiI2M2MiIjYzYyIiNjMELGYMXMs4oGbGRERsZ6yoy1lVknFEyYiMjNjJiIyM2MmIjIzYyYiMjNjJiIyM2MmIjIzYyYiMjNjLWVWSsq8g4o2TERsbghYzBCxlnlIzYyIiNjNjIiI2M2MiIjYzYyIiNjNjIiI2M2MiIjYzYyIiNjMELGYMXMs4omWVmbmbmeu+HcLHetm17mZk53N3dfToej7d7v4jLtK7r07Isn7dtezkcj8fbh4eHl9Pp9Lr3w7gsz8/P78/n8+3j4+P1zLwcZmZOp9Pr/f39153fxmW6+fmHHwhkxEZGbGTERkZsZMRGRmxkxEZGbGTERkZsZMRGRmxkDjM/PgXZ+yFcnj+7Oqzr+nQ+n2/nt09B4G9Z1/VpZt5mfBbOv/frs3DrKjJ+IJARGxmxkREbGbGRERsZsZERGxmxkfkOCvhuJDOJMoEAAAAASUVORK5CYII=\"></img></td>\n",
       "      <td id=\"T_7130d_row40_col5\" class=\"data row40 col5\" >0<br>(0.0%)</td>\n",
       "    </tr>\n",
       "    <tr>\n",
       "      <td id=\"T_7130d_row41_col0\" class=\"data row41 col0\" >42</td>\n",
       "      <td id=\"T_7130d_row41_col1\" class=\"data row41 col1\" ><strong>exit_date</strong><br>[object]</td>\n",
       "      <td id=\"T_7130d_row41_col2\" class=\"data row41 col2\" >1. nan<br>2. 2016-07-06<br>3. 2016-11-22<br>4. 2016-03-17<br>5. 2015-11-04<br>6. 2015-10-26<br>7. 2015-05-04<br>8. 2016-02-23<br>9. 2015-10-07<br>10. 2016-06-08<br>11. other</td>\n",
       "      <td id=\"T_7130d_row41_col3\" class=\"data row41 col3\" >16,972 (89.2%)<br>17 (0.1%)<br>15 (0.1%)<br>14 (0.1%)<br>14 (0.1%)<br>12 (0.1%)<br>10 (0.1%)<br>10 (0.1%)<br>10 (0.1%)<br>10 (0.1%)<br>1,952 (10.3%)</td>\n",
       "      <td id=\"T_7130d_row41_col4\" class=\"data row41 col4\" ><img src = \"data:image/png;base64, iVBORw0KGgoAAAANSUhEUgAAAJsAAAD+CAYAAAAtWHdlAAAAOXRFWHRTb2Z0d2FyZQBNYXRwbG90bGliIHZlcnNpb24zLjcuMCwgaHR0cHM6Ly9tYXRwbG90bGliLm9yZy88F64QAAAACXBIWXMAAA9hAAAPYQGoP6dpAAAD20lEQVR4nO3cTWojVxiG0a+McOKJhDB4CckevIhebC9Ci8gehHEN2o4nyqDn+ZGUx436nLmKO3jgUlCvltPpNFC4++wD8PMQGxmxkREbGbGRERsZsZERGxmxkVlm5mFm7j/7IPzwPk6n09slD9g8Pj5+2W63+2udiNu0ruvLsixfLwlus91u98/Pz2+73e79mofjdry+vv56OBz2x+PxfmbOj21mZrfbvT89PX272um4RQ+XPsALAhmxkREbGbGRERsZsZERGxmxkREbGbGRERsZsZERGxmxkdnMfP9e6bMPwo/rWn1s1nV9ORwO+7nC90rcrnVdX2bm45Jn2CDwb128QVj8ZRYVLwhk7pZl+X1ZFi8I/O/uZua3mfnlsw/C7XONkhEbGbGRERsZsZERGxmxkREbGbGRERsZsZERGxmxkREbGbGRuZuZP2bmz88+CLfPBoGMa5SM2MgYvJAxeCHjGiUjNjJiIyM2MmIjIzYyYiMjNjJiIyM2MmIjIzYyYiMjNjJiI2PwQsbghYxrlIzYyIiNjHUVGesqMq5RMmIjIzYyYiMjNjJiIyM2MmIjIzYyYiMjNjJiIyM2MmIjIzYy1lVkrKvIuEbJiI2MwQsZgxcyrlEyYiMjNjJiIyM2MmIjIzYyYiMjNjJiIyM2MmIjIzYyYiMjNjIGL2QMXsi4RsmIjYzBCxmDFzKuUTJiIyM2MmIjIzYyYiMjNjJiIyM2MmIjIzYyYiMjNjJiIyM2MmIjY11FxrqKjGuUjNjIWFeRsa4i4xolIzYyYiMjNjJiIyM2MmIjIzYyYiMjNjJiIyM2MmIjIzYyYiNj8ELG4IWMa5SM2MgYvJAxeCHjGiUjNjJiIyM2MmIjIzYyYiMjNjJiIyM2MmIjIzYyYiMjNjJiI2PwQsbghYxrlIzYyIiNjHUVGesqMq5RMmIjIzYyYiMjNjJiIyM2MmIjIzYyYiMjNjJiIyM2MmIjIzYy1lVkrKvIuEbJiI2MwQsZgxcyrlEyYiMjNjJiIyM2MmIjIzYyYiMjNjJiIyM2MmIjIzYyYiMjNjIGL2QMXsi4RsksM/MwM/cXPOPjdDq9Xek83LDN4+Pjl+12uz/3Aeu6vizL8lVw/JPNdrvdPz8/v+12u/f/+uPX19dfD4fD/ng83s+M2Phbm5mZ3W73/vT09O3MZzxc8TzcMC8IZMRGRmxkxEZGbGTERkZsZMRGRmxkxEZGbGTERkZsZDYz3z8VOufH5/6On9NmXdeXw+GwnzM/FVrX9WVmPq57LG6Rz8LJWFeR8YJARmxkxEZGbGTERkZsZMRGRmxkxEbmLwwonjTfyzCOAAAAAElFTkSuQmCC\"></img></td>\n",
       "      <td id=\"T_7130d_row41_col5\" class=\"data row41 col5\" >16,972<br>(89.2%)</td>\n",
       "    </tr>\n",
       "    <tr>\n",
       "      <td id=\"T_7130d_row42_col0\" class=\"data row42 col0\" >43</td>\n",
       "      <td id=\"T_7130d_row42_col1\" class=\"data row42 col1\" ><strong>status_alive</strong><br>[int64]</td>\n",
       "      <td id=\"T_7130d_row42_col2\" class=\"data row42 col2\" >1. 1</td>\n",
       "      <td id=\"T_7130d_row42_col3\" class=\"data row42 col3\" >19,036 (100.0%)</td>\n",
       "      <td id=\"T_7130d_row42_col4\" class=\"data row42 col4\" ><img src = \"data:image/png;base64, iVBORw0KGgoAAAANSUhEUgAAAJsAAAAXCAYAAAAcEz0vAAAAOXRFWHRTb2Z0d2FyZQBNYXRwbG90bGliIHZlcnNpb24zLjcuMCwgaHR0cHM6Ly9tYXRwbG90bGliLm9yZy88F64QAAAACXBIWXMAAA9hAAAPYQGoP6dpAAAAnUlEQVR4nO3bsQ0CMRBE0TlkoSPx6mTJxbgIUvovYZPjQgJqYCyZ/yqY4Ie7m6SHpLuAHyuttWet9Zg9BOsrtdZjjPGOiGv2GKwrM/ciSRFx9d7P2YOwttvsAfgfxAYbYoMNscGG2GBDbLAhNtgQG2yIDTbEBhtigw2xwYbYYENssCE22BAbbIgNNkX6nuzOHoK1Zea+tdZePLzA4QPFNA/EDSh7IQAAAABJRU5ErkJggg==\"></img></td>\n",
       "      <td id=\"T_7130d_row42_col5\" class=\"data row42 col5\" >0<br>(0.0%)</td>\n",
       "    </tr>\n",
       "    <tr>\n",
       "      <td id=\"T_7130d_row43_col0\" class=\"data row43 col0\" >44</td>\n",
       "      <td id=\"T_7130d_row43_col1\" class=\"data row43 col1\" ><strong>default</strong><br>[int64]</td>\n",
       "      <td id=\"T_7130d_row43_col2\" class=\"data row43 col2\" >1. 0<br>2. 1</td>\n",
       "      <td id=\"T_7130d_row43_col3\" class=\"data row43 col3\" >15,188 (79.8%)<br>3,848 (20.2%)</td>\n",
       "      <td id=\"T_7130d_row43_col4\" class=\"data row43 col4\" ><img src = \"data:image/png;base64, iVBORw0KGgoAAAANSUhEUgAAAJsAAAAuCAYAAAA/ZmtKAAAAOXRFWHRTb2Z0d2FyZQBNYXRwbG90bGliIHZlcnNpb24zLjcuMCwgaHR0cHM6Ly9tYXRwbG90bGliLm9yZy88F64QAAAACXBIWXMAAA9hAAAPYQGoP6dpAAABLklEQVR4nO3bwWnDQBBG4dkgTHzZRQhUjIpIsSliuxFCe4iNL8ohNeTNwe9rYAx+NtjoL9d1hUQoEXGPiFv2CxHmdV3XI+PwtCzLV611zjgu3hjjKKV8ZwQ31VrnbdserbUnfVys8zw/e+/zvu+3iOBji4horT3Xdf2hjyvFPevwR9ZhvR9jE8bYhDE2YYxNGGMTxtiEMTZhjE0YYxPG2IQxNmGMTRhjE8bYhJki/h6qy34h+n/Z7/M0xjh673MkPlQnzhjjiIhXxm0HL+8nbfBSnPKJkv3NlvYpEy91ypc5KxMvbcqXPSsTL3vK5y/gN+KfusIYmzDGJoyxCWNswhibMMYmjLEJY2zCGJswxiaMsQljbMIYmzDGJkzalC97ViZe6pQvc1YmnoMXYX4BCltq3/AabjIAAAAASUVORK5CYII=\"></img></td>\n",
       "      <td id=\"T_7130d_row43_col5\" class=\"data row43 col5\" >0<br>(0.0%)</td>\n",
       "    </tr>\n",
       "    <tr>\n",
       "      <td id=\"T_7130d_row44_col0\" class=\"data row44 col0\" >45</td>\n",
       "      <td id=\"T_7130d_row44_col1\" class=\"data row44 col1\" ><strong>ln_sales</strong><br>[float64]</td>\n",
       "      <td id=\"T_7130d_row44_col2\" class=\"data row44 col2\" >Mean (sd) : 10.8 (1.7)<br>min < med < max:<br>6.9 < 10.7 < 16.1<br>IQR (CV) : 2.2 (6.3)</td>\n",
       "      <td id=\"T_7130d_row44_col3\" class=\"data row44 col3\" >15,008 distinct values</td>\n",
       "      <td id=\"T_7130d_row44_col4\" class=\"data row44 col4\" ><img src = \"data:image/png;base64, iVBORw0KGgoAAAANSUhEUgAAAKoAAABGCAYAAABc8A97AAAAOXRFWHRTb2Z0d2FyZQBNYXRwbG90bGliIHZlcnNpb24zLjcuMCwgaHR0cHM6Ly9tYXRwbG90bGliLm9yZy88F64QAAAACXBIWXMAAA9hAAAPYQGoP6dpAAACr0lEQVR4nO3dPW4aQRyG8XeCQWMj7QqMcOcLWEqBRMMBUuawOUIKitTcgM4SQotMjFgWUiVKJGLDfpj5D8+vH7HFI2w+3sUdDgcBoft06QsATnFz6QsIlXPuVlKn5PHt4XB4rfN6rl20oVYMzff7/S9pmnbLHF6tVkvn3DdirU+UoTrnbu/v778mSdIrcz7Pcy/paTwe/xgMBqtzzmZZ5qfTaW+xWHQkEWpNogxVUidJkt5kMnlN03Rz7uH5fN6bzWZ33vt8OBz+LPH4tyXO4A2xhipJStN0Uya05XJJaIHhVT9MIFSYQKgwgVBhAqHCBEKFCYQKEwgVJhAqTCBUmECoMIFQYQKhwgRChQmEChMIFSZE/cXpSymKoi0pcc6VOc4w8AhCrdl6vW7nef758fGx1Wq1zp7BMAw8LuhQKyxJk/1+3677ek6x3W5vvPd3o9Fo8/DwsDznLMPA/ws21CpL0jzPfVEUT5vN5rukMuO8yrrdbqm9lhgGHhVsqKqwJP29It3tdq2mLg4fK+RQJZVbkrIijQ9vT8EEQoUJhAoTCBUmECpMIFSYQKgwgVBhAqHCBEKFCYQKEwgVJhAqTCBUmBD81/yuTcW9lRTp5opQA1J1byXFu7ki1IBU2VtJcW+uCDVAFfZWUqSbq0ZDrfh7pBdbkiI8jYVax++RXnpJinA0+Yxay++RsiSF9AH/o/J7pKgDb/jDBEKFCYQKEwgVJhAqTHj3Vb/FWz8iPm+Gav3Wj9co1rtdv/eMyq0fDYn5btcnveHPrR9tiPlu13x7KkIx3u2aV/0wgVBhAn/68UfIey1ChaTw91qECknh77UIFf+ostcqiiJRQx82ECpq0fSHDYSKWjT9YcNJoWZZ5s95YEl6eXnxkrRer/3z8/PdR563+thWr/vv8035BQQ9o68HuSUHAAAAAElFTkSuQmCC\"></img></td>\n",
       "      <td id=\"T_7130d_row44_col5\" class=\"data row44 col5\" >0<br>(0.0%)</td>\n",
       "    </tr>\n",
       "    <tr>\n",
       "      <td id=\"T_7130d_row45_col0\" class=\"data row45 col0\" >46</td>\n",
       "      <td id=\"T_7130d_row45_col1\" class=\"data row45 col1\" ><strong>sales_mil</strong><br>[float64]</td>\n",
       "      <td id=\"T_7130d_row45_col2\" class=\"data row45 col2\" >Mean (sd) : 0.2 (0.8)<br>min < med < max:<br>0.0 < 0.0 < 10.0<br>IQR (CV) : 0.1 (0.3)</td>\n",
       "      <td id=\"T_7130d_row45_col3\" class=\"data row45 col3\" >15,008 distinct values</td>\n",
       "      <td id=\"T_7130d_row45_col4\" class=\"data row45 col4\" ><img src = \"data:image/png;base64, iVBORw0KGgoAAAANSUhEUgAAAKoAAABGCAYAAABc8A97AAAAOXRFWHRTb2Z0d2FyZQBNYXRwbG90bGliIHZlcnNpb24zLjcuMCwgaHR0cHM6Ly9tYXRwbG90bGliLm9yZy88F64QAAAACXBIWXMAAA9hAAAPYQGoP6dpAAABuUlEQVR4nO3Xv07CUBiG8e+zQIohp5Aaxq5sXgCLd+DFurqzcyFgS0D+hRw3F6PAQdTXPL+5502TPmlTjzEa8Nfd/PYNAKdoHbvA3btm1knc38UY14lngXdfhuru3bIsH0MIg5TxxWLx4u5PxIpLHXujdkIIg/F4vC6KYnPOcNM0+WQyGcxms46ZESoucvTTb2ZWFMVmOBy+Jux3E84AH/AzBQmECgmECgmECgmECgmECgmECgmECgmECgmECgmECgmECgmECgmECgmECgmECgmECgmECgmECgmECgmECgmECgmECgmECgmECgmECgmECgmECgmECgmECgmECgmECgmECgmECgmECgmECgmECgmECgmECgmECgmECgmECgmECgmECgmECgmECgmECgmECgmECgmECgmECgmECgmECgmECgmECgmECgmECgmECgmECgmECgmECgmta44fDoe2mQV3T53YxRjX33hLEHW1UFerVXu/399XVZVlWbZJ2ajreunuz2aWcp7I/5GTQm2aJj93eD6f9/I8vx2NRt7v97fnnq/rujedTh+qqrpLCf3CyPHztjHGT5/VG1KQUuEbo1MLAAAAAElFTkSuQmCC\"></img></td>\n",
       "      <td id=\"T_7130d_row45_col5\" class=\"data row45 col5\" >0<br>(0.0%)</td>\n",
       "    </tr>\n",
       "    <tr>\n",
       "      <td id=\"T_7130d_row46_col0\" class=\"data row46 col0\" >47</td>\n",
       "      <td id=\"T_7130d_row46_col1\" class=\"data row46 col1\" ><strong>sales_mil_log</strong><br>[float64]</td>\n",
       "      <td id=\"T_7130d_row46_col2\" class=\"data row46 col2\" >Mean (sd) : -3.1 (1.7)<br>min < med < max:<br>-6.9 < -3.1 < 2.3<br>IQR (CV) : 2.2 (-1.8)</td>\n",
       "      <td id=\"T_7130d_row46_col3\" class=\"data row46 col3\" >15,008 distinct values</td>\n",
       "      <td id=\"T_7130d_row46_col4\" class=\"data row46 col4\" ><img src = \"data:image/png;base64, iVBORw0KGgoAAAANSUhEUgAAAKoAAABGCAYAAABc8A97AAAAOXRFWHRTb2Z0d2FyZQBNYXRwbG90bGliIHZlcnNpb24zLjcuMCwgaHR0cHM6Ly9tYXRwbG90bGliLm9yZy88F64QAAAACXBIWXMAAA9hAAAPYQGoP6dpAAACr0lEQVR4nO3dPW4aQRyG8XeCQWMj7QqMcOcLWEqBRMMBUuawOUIKitTcgM4SQotMjFgWUiVKJGLDfpj5D8+vH7HFI2w+3sUdDgcBoft06QsATnFz6QsIlXPuVlKn5PHt4XB4rfN6rl20oVYMzff7/S9pmnbLHF6tVkvn3DdirU+UoTrnbu/v778mSdIrcz7Pcy/paTwe/xgMBqtzzmZZ5qfTaW+xWHQkEWpNogxVUidJkt5kMnlN03Rz7uH5fN6bzWZ33vt8OBz+LPH4tyXO4A2xhipJStN0Uya05XJJaIHhVT9MIFSYQKgwgVBhAqHCBEKFCYQKEwgVJhAqTCBUmECoMIFQYQKhwgRChQmEChMIFSZE/cXpSymKoi0pcc6VOc4w8AhCrdl6vW7nef758fGx1Wq1zp7BMAw8LuhQKyxJk/1+3677ek6x3W5vvPd3o9Fo8/DwsDznLMPA/ws21CpL0jzPfVEUT5vN5rukMuO8yrrdbqm9lhgGHhVsqKqwJP29It3tdq2mLg4fK+RQJZVbkrIijQ9vT8EEQoUJhAoTCBUmECpMIFSYQKgwgVBhAqHCBEKFCYQKEwgVJhAqTCBUmBD81/yuTcW9lRTp5opQA1J1byXFu7ki1IBU2VtJcW+uCDVAFfZWUqSbq0ZDrfh7pBdbkiI8jYVax++RXnpJinA0+Yxay++RsiSF9AH/o/J7pKgDb/jDBEKFCYQKEwgVJhAqTHj3Vb/FWz8iPm+Gav3Wj9co1rtdv/eMyq0fDYn5btcnveHPrR9tiPlu13x7KkIx3u2aV/0wgVBhAn/68UfIey1ChaTw91qECknh77UIFf+ostcqiiJRQx82ECpq0fSHDYSKWjT9YcNJoWZZ5s95YEl6eXnxkrRer/3z8/PdR563+thWr/vv8035BQQ9o68HuSUHAAAAAElFTkSuQmCC\"></img></td>\n",
       "      <td id=\"T_7130d_row46_col5\" class=\"data row46 col5\" >0<br>(0.0%)</td>\n",
       "    </tr>\n",
       "    <tr>\n",
       "      <td id=\"T_7130d_row47_col0\" class=\"data row47 col0\" >48</td>\n",
       "      <td id=\"T_7130d_row47_col1\" class=\"data row47 col1\" ><strong>d1_sales_mil_log</strong><br>[float64]</td>\n",
       "      <td id=\"T_7130d_row47_col2\" class=\"data row47 col2\" >Mean (sd) : -0.1 (0.9)<br>min < med < max:<br>-6.8 < 0.0 < 7.9<br>IQR (CV) : 0.3 (-0.1)</td>\n",
       "      <td id=\"T_7130d_row47_col3\" class=\"data row47 col3\" >15,345 distinct values</td>\n",
       "      <td id=\"T_7130d_row47_col4\" class=\"data row47 col4\" ><img src = \"data:image/png;base64, iVBORw0KGgoAAAANSUhEUgAAAKoAAABGCAYAAABc8A97AAAAOXRFWHRTb2Z0d2FyZQBNYXRwbG90bGliIHZlcnNpb24zLjcuMCwgaHR0cHM6Ly9tYXRwbG90bGliLm9yZy88F64QAAAACXBIWXMAAA9hAAAPYQGoP6dpAAACZElEQVR4nO3XsW4aURRF0XuDIQNO3tOAhDt+IFIKl/Rp/bFu06WgSM0f0CBkNAaBmYBhUkVKIicOz8T44L36w9xii9F4VVUGvHRvjn0A8C/Ojn3AS+XuTTNrJM7XVVWtDnnPa0eoD3D3ZqfTuQoh5Cn7+XxeuPs1sR4OoT6sEULI+/3+KsZY7jOczWbZYDDIp9Npw8wI9UAI9S9ijGW3271LmDYPfswrx8cUJBAqJBAqJBAqJBAqJBAqJBAqJBAqJBAqJBAqJBAqJBAqJBAqJBAqJBAqJBAqJBAqJBAqJBAqJBAqJBAqJBAqJBAqJBAqJBAqJBAqJBAqJBAqJBAqJBAqJBAqJBAqJBAqJBAqJBAqJBAqJBAqJBAqJBAqJBAqJBAqJBAqJBAqJBAqJBAqJBAqJBAqJBAqJBAqJBAqJBAqJBAqJBAqJBAqJBAqJBAqJBAqJJwd+4BTtN1u62YW3D1lvq6qanXgk+QR6oEtl8v6ZrP52Ov1arVardx3P5/PC3e/JtZfnWyo7t40s0biPOx2u3rKcL1en2VZ1rq8vCwvLi6Kfbaz2SwbDAb5dDptmBmh/uQkQ3X3ZqfTuQoh5Cn7zWaTbbfbD2VZfjGzu5TfOD8/L7vdbsq2mfK8U3eSoZpZI4SQ9/v9VYxx79fvaDTKh8Nh6/7+vvY/jsP+XnSoT3h9h91uV48xFin/akVRHO1f7YkfYmYn+jH2aKjunpnZ22e45XdZu93+FGN8t+/wx6v75ubma8qDF4tFZma2XC6zyWTSeq7teDx+/5QPMTOz29vbhbt/NrOk/RF9q6rqjzd/ByERoL/MLfGDAAAAAElFTkSuQmCC\"></img></td>\n",
       "      <td id=\"T_7130d_row47_col5\" class=\"data row47 col5\" >0<br>(0.0%)</td>\n",
       "    </tr>\n",
       "    <tr>\n",
       "      <td id=\"T_7130d_row48_col0\" class=\"data row48 col0\" >49</td>\n",
       "      <td id=\"T_7130d_row48_col1\" class=\"data row48 col1\" ><strong>age</strong><br>[float64]</td>\n",
       "      <td id=\"T_7130d_row48_col2\" class=\"data row48 col2\" >Mean (sd) : 8.7 (6.9)<br>min < med < max:<br>0.0 < 7.0 < 34.0<br>IQR (CV) : 13.0 (1.3)</td>\n",
       "      <td id=\"T_7130d_row48_col3\" class=\"data row48 col3\" >31 distinct values</td>\n",
       "      <td id=\"T_7130d_row48_col4\" class=\"data row48 col4\" ><img src = \"data:image/png;base64, iVBORw0KGgoAAAANSUhEUgAAAKoAAABGCAYAAABc8A97AAAAOXRFWHRTb2Z0d2FyZQBNYXRwbG90bGliIHZlcnNpb24zLjcuMCwgaHR0cHM6Ly9tYXRwbG90bGliLm9yZy88F64QAAAACXBIWXMAAA9hAAAPYQGoP6dpAAACkElEQVR4nO3dsW7aUBiG4f8ASUxwbaG0sLF0rNSBkaV30Ivtmq1DuAGGLp1YEBIyRrihOK47VO1S0sQ2NHxH7zPnOB5egc+PpePKsjTg3LVe+gaA5+g89QfOua6ZXda8/r4sy/uaa4E//hmqc657c3PzMYqifp2LbzabxDn3iVjR1FOfqJdRFPUnk8l9HMe7KhdO0zS4u7vrr1arSzMjVDTy5Fe/mVkcx7vBYPCtxvW7NdYAf2EzBQmECgmECgmECgmECgmECgmECgmECgmECgmECgmECgmECgmECgmECgmECgmECgmECgmECgmECgmECgmECgmECgmECgmECgmECgmECgmECgmECgmECgmECgmECgmECgmECgmECgmECgmECgmECgnPOhWlrqIoLswscs7VvUTLzH7UXMthbB45WahZll3kef5+NBq12+12pTOqzH5FnmXZ2zAMv7Zarbzqeg5j88vJQt3v950gCK7H4/FuOBwmVdfP5/P+bDZ7Mx6Pv1Rdz2Fs/jnpV7+ZWa/Xq3WYWpIk3SbrjcPYvHLyUFVxWPF5IdQDmh5WvF6vt865WzOr/GxuRH6Qt6E2nDhEYRgOJpPJpuphxYvF4tV0Ov0wGo1e19lEsgk8zMtQm04c8jwPiqJ4d3V19bnq83GSJN26m0g2gY/zMtQjTRyuHx4e2nXvgU3gcXkZ6m9NJw44H/yECgmECgmECgleP6MqOsKLPF7OYQn1jDQdq5n5O4cl1DPSdKzm8xyWUM9QgxmsmadzWDZTkECokECokECokECokECokECokECokECokPCsX6bSNA2qXni73QZmZlmWBcvl8vp/rlf9303vO03ToCiKjjV7qeWlfC/L8tH3G34Cy+Yi9iFEclAAAAAASUVORK5CYII=\"></img></td>\n",
       "      <td id=\"T_7130d_row48_col5\" class=\"data row48 col5\" >0<br>(0.0%)</td>\n",
       "    </tr>\n",
       "    <tr>\n",
       "      <td id=\"T_7130d_row49_col0\" class=\"data row49 col0\" >50</td>\n",
       "      <td id=\"T_7130d_row49_col1\" class=\"data row49 col1\" ><strong>new</strong><br>[float64]</td>\n",
       "      <td id=\"T_7130d_row49_col2\" class=\"data row49 col2\" >1. 0.0<br>2. 1.0</td>\n",
       "      <td id=\"T_7130d_row49_col3\" class=\"data row49 col3\" >15,498 (81.4%)<br>3,538 (18.6%)</td>\n",
       "      <td id=\"T_7130d_row49_col4\" class=\"data row49 col4\" ><img src = \"data:image/png;base64, iVBORw0KGgoAAAANSUhEUgAAAJsAAAAuCAYAAAA/ZmtKAAAAOXRFWHRTb2Z0d2FyZQBNYXRwbG90bGliIHZlcnNpb24zLjcuMCwgaHR0cHM6Ly9tYXRwbG90bGliLm9yZy88F64QAAAACXBIWXMAAA9hAAAPYQGoP6dpAAABLElEQVR4nO3bwWnDQBBG4dkgTHzZRQhcjIpIsSliuxFCe4iNL8ohPbwJ6H0NjMHPBhv95TzPkAglIu4Rcct+IcK9z/N8kgenZVm+aq0zeVT5xhh7KeWbDG6qtc7ruj5bay/qqHIdx/HZe5+3bbtFBBdbRERr7fV4PH6oo/oX7vTBD/qgrsvYhDE2YYxNGGMTxtiEMTZhjE0YYxPG2IQxNmGMTRhjE8bYhDE2YaaIv4fpsl+IOFnv9zTG2HvvcyQ8TKc8Y4w9It7kTQcv14UPXopTPlGyvtnwT5XypUz5MmZkyodP+bJmZMqXNeXzl+8F+aeuMMYmjLEJY2zCGJswxiaMsQljbMIYmzDGJoyxCWNswhibMMYmjLEJg0/5nA1eV8qUL2NGpnwOXoT5BQpbat9IhQyXAAAAAElFTkSuQmCC\"></img></td>\n",
       "      <td id=\"T_7130d_row49_col5\" class=\"data row49 col5\" >0<br>(0.0%)</td>\n",
       "    </tr>\n",
       "    <tr>\n",
       "      <td id=\"T_7130d_row50_col0\" class=\"data row50 col0\" >51</td>\n",
       "      <td id=\"T_7130d_row50_col1\" class=\"data row50 col1\" ><strong>ind2_cat</strong><br>[float64]</td>\n",
       "      <td id=\"T_7130d_row50_col2\" class=\"data row50 col2\" >1. 56.0<br>2. 55.0<br>3. 28.0<br>4. 33.0<br>5. 26.0<br>6. 27.0<br>7. 29.0<br>8. 30.0</td>\n",
       "      <td id=\"T_7130d_row50_col3\" class=\"data row50 col3\" >11,413 (60.0%)<br>2,061 (10.8%)<br>1,790 (9.4%)<br>1,772 (9.3%)<br>994 (5.2%)<br>599 (3.1%)<br>259 (1.4%)<br>148 (0.8%)</td>\n",
       "      <td id=\"T_7130d_row50_col4\" class=\"data row50 col4\" ><img src = \"data:image/png;base64, iVBORw0KGgoAAAANSUhEUgAAAJsAAAC4CAYAAAD0WZ4UAAAAOXRFWHRTb2Z0d2FyZQBNYXRwbG90bGliIHZlcnNpb24zLjcuMCwgaHR0cHM6Ly9tYXRwbG90bGliLm9yZy88F64QAAAACXBIWXMAAA9hAAAPYQGoP6dpAAADcUlEQVR4nO3dTU7bYBiF0TdRRJuJoygSy2ABLILFdhFZAPtAER40lEk6KK0q8Rc79rWEz1nBp+rBxpYvXZxOp4KE5dQHYD7ERozYiBEbMWIjRmzELKpqXVVXUx9kZp5Pp9Nx6kOkrXa73V3TNNupDzInbdseFovFj7kFt2qaZnt7e3vcbDZPUx9mDh4fH7/v9/vtw8PDVVXNK7aqqs1m83R9ff1z6sPMyHrqA0zBAwIxYiNGbMSIjRixESM2YsRGjNiIERsxYiNGbMSIjRixEbOq+vPZy9QHmYs5/1uv2rY97Pf7bc30s5cptG17qKrnqc+R5rPwaczys/CFP79AylBXtln+pNLNIIOXuQ446ObiwcucBxx0M9TgxZMsn/JSlxixESM2YsRGjNiIERsxYiNGbMSIjRixESM2YsRGjNiIuXjwMucBB90MMniZ64CDbnwWTozBCzEeEIi59Dbq9snZLlpXWVXRRe91lVUVXV26rrKq4mweEIgRGzFiI0ZsxIiNGLERIzZixEaM2IgRGzFiI0ZsxIiNmN7rKqsqurpoXWVVRRc+CyfGuoqYS65srmp00nvwYuxCV70GL8Yu9HHJ4MXYhU681CVGbMSIjRixESM2YsRGjNiIERsxYiNGbMSIjRixESM2YnoNXoxd6KP34MXYha58Fk6MwQsxHhCIOec26nbJID5dV1lRMZQP11VWVAzpnHWVFRWD8IBAjNiIERsxYiNGbMSIjRixESM2YsRGjNiIERsxYiNGbMR8uK6yomJIn66rrKgYis/CibGuIua9K5urGYN7c/Bi5MIYXg1ejFwYy3uDFyMXBuelLjFiI0ZsxIiNGLERIzZixEaM2IgRGzFiI0ZsxIiNGLERIzZiXq2rLKoYy5vrKosqxmCDQIx1FTH/X9lczRjVv3WVRRVjWzZNs725uamXOV+f/3cUzrKsqlqv17+mPghfn5e6xIiNGLERIzZixEaM2IgRGzFiI0ZsxIiNGLERIzZixEbMsqrqeDx+m/ogfH3Ltm0P9/f3Ri6MzmfhxBi8EPP3ylauaoxttdvt7qqqjF0Y27Jpmq2xCwnesxEjNmLERozYiBEbMWIjRmzEiI0YsREjNmLERozYiBEbMWIjRmzEiI2Y1cuqqsqyipHZIBBjXUWM39mIERsxYiNGbMSIjZjfKHl/i+e2mY4AAAAASUVORK5CYII=\"></img></td>\n",
       "      <td id=\"T_7130d_row50_col5\" class=\"data row50 col5\" >0<br>(0.0%)</td>\n",
       "    </tr>\n",
       "    <tr>\n",
       "      <td id=\"T_7130d_row51_col0\" class=\"data row51 col0\" >52</td>\n",
       "      <td id=\"T_7130d_row51_col1\" class=\"data row51 col1\" ><strong>age2</strong><br>[float64]</td>\n",
       "      <td id=\"T_7130d_row51_col2\" class=\"data row51 col2\" >Mean (sd) : 123.7 (148.2)<br>min < med < max:<br>0.0 < 49.0 < 1156.0<br>IQR (CV) : 221.0 (0.8)</td>\n",
       "      <td id=\"T_7130d_row51_col3\" class=\"data row51 col3\" >31 distinct values</td>\n",
       "      <td id=\"T_7130d_row51_col4\" class=\"data row51 col4\" ><img src = \"data:image/png;base64, iVBORw0KGgoAAAANSUhEUgAAAKoAAABGCAYAAABc8A97AAAAOXRFWHRTb2Z0d2FyZQBNYXRwbG90bGliIHZlcnNpb24zLjcuMCwgaHR0cHM6Ly9tYXRwbG90bGliLm9yZy88F64QAAAACXBIWXMAAA9hAAAPYQGoP6dpAAACPklEQVR4nO3dwW7aQBRG4TuFIBNUW4jI7PwIXbBk0zfow2bbvXkVFMkyY+GEgix3lW6aBvBA45+cb80MLI4wcy1k17atAX335aM/AHCK4bEXOOfGZjbquP++bduXjmuBP94N1Tk3ns1mP+I4nnbZvKqq0jn3SKwIdewbdRTH8XS5XL4kSbI7Z2PvfZTn+bQoipGZESqCHL30m5klSbJL0/S5w/7jDmuAv3CYggRChQRChQRChQRChQRChQRChQRChQRChQRChQRChQRChQRChQRChQRChQRChQRChQRChQRChQRChQRChQRChQRChQRChQRChQRChQRChQRChQRChQRChQRChQRChQRChQRChQRChQRChQRChQRChQRChQRChQRChQRChQRChQRChYSTHtrbVdM0d2YWO+e6brHnEeowu2KodV3fHQ6Hb1mWDQaDwVmPUH9VVVXpnHskVlwt1P1+P4yi6H6xWOzm83l57nrvfZTn+bQoipGZEeond9VLv5nZZDLZpWn63HH5+KIfBrI4TEECoUICoUICoULC1Q9TIQLnsMxgb0hvQw2dw242m61z7qeZdZrhGqH3Sm9DDZnDrtfrr6vV6nuWZQ/cbLgNvQ31VZc5bFmWY2423JbehxqCmw23g1M/JBAqJNz0pT8Eo7F+IdQ3hI7GmBhcHqG+IWQ0xsTgOgj1HQFTAyYGF3ZSqN776NyNt9ttZGZW13X09PR0/z/Xf+R7e++jpmmGFvYXnM/oV9u2//yZ9RuXPuSHnG9s2AAAAABJRU5ErkJggg==\"></img></td>\n",
       "      <td id=\"T_7130d_row51_col5\" class=\"data row51 col5\" >0<br>(0.0%)</td>\n",
       "    </tr>\n",
       "    <tr>\n",
       "      <td id=\"T_7130d_row52_col0\" class=\"data row52 col0\" >53</td>\n",
       "      <td id=\"T_7130d_row52_col1\" class=\"data row52 col1\" ><strong>foreign_management</strong><br>[float64]</td>\n",
       "      <td id=\"T_7130d_row52_col2\" class=\"data row52 col2\" >1. 0.0<br>2. 1.0</td>\n",
       "      <td id=\"T_7130d_row52_col3\" class=\"data row52 col3\" >17,022 (89.4%)<br>2,014 (10.6%)</td>\n",
       "      <td id=\"T_7130d_row52_col4\" class=\"data row52 col4\" ><img src = \"data:image/png;base64, iVBORw0KGgoAAAANSUhEUgAAAJsAAAAuCAYAAAA/ZmtKAAAAOXRFWHRTb2Z0d2FyZQBNYXRwbG90bGliIHZlcnNpb24zLjcuMCwgaHR0cHM6Ly9tYXRwbG90bGliLm9yZy88F64QAAAACXBIWXMAAA9hAAAPYQGoP6dpAAABOklEQVR4nO3bQWrDMBRF0a9iQjORMAYvxovoYrsI7cYYa9CETJRBFtDGX7yk9j1zwx9cDAl+odZqgEIws7OZnV59CP6FW631svXhbhiGrxhj3/Ii7FMpZQkhfG8Nrosx9tM0XVJK19bHYT/Wdf3MOffzPJ/MbFtsZmYppes4jj9Nr8MenT0Pf7S6AvgNsUGG2CBDbJAhNsgQG2SIDTLEBhligwyxQYbYIENskCE2yBAbZIgNMp3Z48O4Vx+C99aika6UsuSce3N+GIf9K6UsZnbb+jyDFzzDNXgJTPmg0uLN5qodx+Ge8nnnXTgO15SvxbwLx9FiysevWPwJf+pChtggQ2yQITbIEBtkiA0yxAYZYoMMsUGG2CBDbJAhNsgQG2SIDTLEBhnXlI8JIJ7hnvJ55104DgYvkLkDCltq36WAMqoAAAAASUVORK5CYII=\"></img></td>\n",
       "      <td id=\"T_7130d_row52_col5\" class=\"data row52 col5\" >0<br>(0.0%)</td>\n",
       "    </tr>\n",
       "    <tr>\n",
       "      <td id=\"T_7130d_row53_col0\" class=\"data row53 col0\" >54</td>\n",
       "      <td id=\"T_7130d_row53_col1\" class=\"data row53 col1\" ><strong>gender_m</strong><br>[object]</td>\n",
       "      <td id=\"T_7130d_row53_col2\" class=\"data row53 col2\" >1. male<br>2. female<br>3. mix</td>\n",
       "      <td id=\"T_7130d_row53_col3\" class=\"data row53 col3\" >12,937 (68.0%)<br>3,853 (20.2%)<br>2,246 (11.8%)</td>\n",
       "      <td id=\"T_7130d_row53_col4\" class=\"data row53 col4\" ><img src = \"data:image/png;base64, iVBORw0KGgoAAAANSUhEUgAAAJsAAABFCAYAAABdVZTTAAAAOXRFWHRTb2Z0d2FyZQBNYXRwbG90bGliIHZlcnNpb24zLjcuMCwgaHR0cHM6Ly9tYXRwbG90bGliLm9yZy88F64QAAAACXBIWXMAAA9hAAAPYQGoP6dpAAABnElEQVR4nO3bQWrqYBiF4S8XKe0kQQQX4yLuYu8ishsRM2hLJ+mgw97aQMP5MX2eFXzgqxLxdPM8FyT8aX0Av0dXVU9V9dD6EG56m+f5pfURP7U7HA5/+77ftz6Er03TdOm67t+9B7fr+35/Op1ehmF4bX0Mn12v18dxHPfn8/mhqu47tqqqYRhej8fjc+tj+NJT6wPW4AGBGLERIzZixEaM2IgRGzFiI0ZsxIiNGLERIzZixEaM2IgRGzG7qo//TLU+hP/b0muzm6bpMo7jvjbyn6ktmqbpUlVvre/4KRuE+7CJDUJnykdK60+2TbxjWabpumorqyGWabau2tJqiGVar6s8Af8iftQlRmzEiI0YsREjNmLERozYiBEbMWIjRmzEiI0YsREjNmLERkyzddWWVkMs03RdtZXVEMvYIBBjXUWMBwRi1vwa9ZXITatN+czy+M4qUz6zPJZYc8pnlsdNHhCIERsxYiNGbMSIjRixESM2YsRGjNiIERsxYiNGbMSIjRixEbPKlM8sjyVWm/KZ5fEdGwRiTPmIeQfWeKNKbAtCfgAAAABJRU5ErkJggg==\"></img></td>\n",
       "      <td id=\"T_7130d_row53_col5\" class=\"data row53 col5\" >0<br>(0.0%)</td>\n",
       "    </tr>\n",
       "    <tr>\n",
       "      <td id=\"T_7130d_row54_col0\" class=\"data row54 col0\" >55</td>\n",
       "      <td id=\"T_7130d_row54_col1\" class=\"data row54 col1\" ><strong>m_region_loc</strong><br>[object]</td>\n",
       "      <td id=\"T_7130d_row54_col2\" class=\"data row54 col2\" >1. Central<br>2. East<br>3. West</td>\n",
       "      <td id=\"T_7130d_row54_col3\" class=\"data row54 col3\" >11,290 (59.3%)<br>4,838 (25.4%)<br>2,908 (15.3%)</td>\n",
       "      <td id=\"T_7130d_row54_col4\" class=\"data row54 col4\" ><img src = \"data:image/png;base64, iVBORw0KGgoAAAANSUhEUgAAAJsAAABFCAYAAABdVZTTAAAAOXRFWHRTb2Z0d2FyZQBNYXRwbG90bGliIHZlcnNpb24zLjcuMCwgaHR0cHM6Ly9tYXRwbG90bGliLm9yZy88F64QAAAACXBIWXMAAA9hAAAPYQGoP6dpAAABlklEQVR4nO3bQWrCUBRG4ZsSpE4SQsDFuIgutovIbkTyBlWcpIMiOC+e98g93wouclAS/Ltt20IifNQ+QHl0EXGMiEPtQxJ5bNt2q31EDf08z1/DMEy1D8milHLtuu47Y3D9MAzT+Xy+jeN4r33M3q3r+rksy3S5XA4RkS+2iIhxHO+n0+mn9jFJHGsfUIsPCMIYmzDGJoyxCWNswhibMMYmjLEJY2zCGJswxiaMsQljbMIYmzB9xN//rGofkkH2z7kvpVyXZZki8f+sSKWUa0Q8at9RgxsEXtoNQueUT5TWv9nSfgvsUdPrqsxLpD1qdl2VfYm0R62vq3xC3hFf6gpjbMIYmzDGJoyxCWNswhibMMYmjLEJY2zCGJswxiaMsQljbMI0u65q8Sb9T9PrqsxLpD1ygyCM6yphfEAQhvgZ9adQEQFM+Zzj6emtUz7neHpFTPmae6WiOnxAEMbYhDE2YYxNGGMTxtiEMTZhjE0YYxPG2IQxNmGMTRhjE8bYhHnrlM85nl69fcrnHE9PbhCEcconzC9KvKNKTCZOCAAAAABJRU5ErkJggg==\"></img></td>\n",
       "      <td id=\"T_7130d_row54_col5\" class=\"data row54 col5\" >0<br>(0.0%)</td>\n",
       "    </tr>\n",
       "    <tr>\n",
       "      <td id=\"T_7130d_row55_col0\" class=\"data row55 col0\" >56</td>\n",
       "      <td id=\"T_7130d_row55_col1\" class=\"data row55 col1\" ><strong>flag_asset_problem</strong><br>[float64]</td>\n",
       "      <td id=\"T_7130d_row55_col2\" class=\"data row55 col2\" >1. 0.0<br>2. 1.0</td>\n",
       "      <td id=\"T_7130d_row55_col3\" class=\"data row55 col3\" >19,023 (99.9%)<br>13 (0.1%)</td>\n",
       "      <td id=\"T_7130d_row55_col4\" class=\"data row55 col4\" ><img src = \"data:image/png;base64, iVBORw0KGgoAAAANSUhEUgAAAJsAAAAuCAYAAAA/ZmtKAAAAOXRFWHRTb2Z0d2FyZQBNYXRwbG90bGliIHZlcnNpb24zLjcuMCwgaHR0cHM6Ly9tYXRwbG90bGliLm9yZy88F64QAAAACXBIWXMAAA9hAAAPYQGoP6dpAAAA/0lEQVR4nO3bwUkEMQBG4T/DoOslYQlMCdrDFuHV3u0iF11P48EafIHs+yr4Dw9CICnneUYilCQvSZ5mD9H69t77e631OnuI1rfXWq+32+27tXafPUbrGmNc9iRprd2P4/iaPUhr22YP0OMwNmGMTRhjE8bYhDE2YYxNGGMTxtiEMTZhjE0YYxPG2IQxNmGMTZg9+XvYNnuI1jbGuJTe+4fPwkXww4swxa98onhBEGYrpbyVUrwg6N9tSV6TPM8eovV5jApjbMIYmzDGJoyxCWNswhibMMYmjLEJY2zCGJswxiaMsQljbMIYmzDGJoyxCbMl+UzyM3uI1ufvKmF+AXVbGymqDU4XAAAAAElFTkSuQmCC\"></img></td>\n",
       "      <td id=\"T_7130d_row55_col5\" class=\"data row55 col5\" >0<br>(0.0%)</td>\n",
       "    </tr>\n",
       "    <tr>\n",
       "      <td id=\"T_7130d_row56_col0\" class=\"data row56 col0\" >57</td>\n",
       "      <td id=\"T_7130d_row56_col1\" class=\"data row56 col1\" ><strong>total_assets_bs</strong><br>[float64]</td>\n",
       "      <td id=\"T_7130d_row56_col2\" class=\"data row56 col2\" >Mean (sd) : 247672.8 (1315972.1)<br>min < med < max:<br>0.0 < 24653.7 < 104683276.3<br>IQR (CV) : 91245.4 (0.2)</td>\n",
       "      <td id=\"T_7130d_row56_col3\" class=\"data row56 col3\" >16,495 distinct values</td>\n",
       "      <td id=\"T_7130d_row56_col4\" class=\"data row56 col4\" ><img src = \"data:image/png;base64, iVBORw0KGgoAAAANSUhEUgAAAKoAAABGCAYAAABc8A97AAAAOXRFWHRTb2Z0d2FyZQBNYXRwbG90bGliIHZlcnNpb24zLjcuMCwgaHR0cHM6Ly9tYXRwbG90bGliLm9yZy88F64QAAAACXBIWXMAAA9hAAAPYQGoP6dpAAABaUlEQVR4nO3XT2oCMRiH4aSI6GYGETyMh+hhewhvIyUuqi1Iuuum1D/jov3R59km+cjiZYbU3nuBv+7pty8At5hd21BrXZZS5hPnf/TejxPPwpeLodZal+v1+nkYhtWU4YfD4bXW+iJWHnXtizofhmG13W6P4zie7hncWlvsdrvVfr+fl1KEykOu/vpLKWUcx9Nms3mbMH854Qx84zFFBKESQahEECoRhEoEoRJBqEQQKhGESgShEkGoRBAqEYRKBKESQahEECoRhEoEoRJBqEQQKhGESgShEkGoRBAqEYRKBKESQahEECoRhEoEoRJBqEQQKhGESgShEkGoRBAqEYRKBKESQahEECoRhEoEoRJBqEQQKhGESgShEkGoRBAqEYRKBKESQahEECoRhEoEoRJBqEQQKhGESgShEkGoRBAqEYRKBKESQahEmN2yqbW2uHdwa21xPp9npZSh1nr3xfh33nvvp58WPwF79y3yrjldnwAAAABJRU5ErkJggg==\"></img></td>\n",
       "      <td id=\"T_7130d_row56_col5\" class=\"data row56 col5\" >0<br>(0.0%)</td>\n",
       "    </tr>\n",
       "    <tr>\n",
       "      <td id=\"T_7130d_row57_col0\" class=\"data row57 col0\" >58</td>\n",
       "      <td id=\"T_7130d_row57_col1\" class=\"data row57 col1\" ><strong>extra_exp_pl</strong><br>[float64]</td>\n",
       "      <td id=\"T_7130d_row57_col2\" class=\"data row57 col2\" >Mean (sd) : 0.0 (0.0)<br>min < med < max:<br>0.0 < 0.0 < 1.0<br>IQR (CV) : 0.0 (0.1)</td>\n",
       "      <td id=\"T_7130d_row57_col3\" class=\"data row57 col3\" >1,480 distinct values</td>\n",
       "      <td id=\"T_7130d_row57_col4\" class=\"data row57 col4\" ><img src = \"data:image/png;base64, iVBORw0KGgoAAAANSUhEUgAAAKoAAABGCAYAAABc8A97AAAAOXRFWHRTb2Z0d2FyZQBNYXRwbG90bGliIHZlcnNpb24zLjcuMCwgaHR0cHM6Ly9tYXRwbG90bGliLm9yZy88F64QAAAACXBIWXMAAA9hAAAPYQGoP6dpAAABaUlEQVR4nO3XT2oCMRiH4aSI6GYGETyMh+hhewhvIyUuqi1Iuuum1D/jov3R59km+cjiZYbU3nuBv+7pty8At5hd21BrXZZS5hPnf/TejxPPwpeLodZal+v1+nkYhtWU4YfD4bXW+iJWHnXtizofhmG13W6P4zie7hncWlvsdrvVfr+fl1KEykOu/vpLKWUcx9Nms3mbMH854Qx84zFFBKESQahEECoRhEoEoRJBqEQQKhGESgShEkGoRBAqEYRKBKESQahEECoRhEoEoRJBqEQQKhGESgShEkGoRBAqEYRKBKESQahEECoRhEoEoRJBqEQQKhGESgShEkGoRBAqEYRKBKESQahEECoRhEoEoRJBqEQQKhGESgShEkGoRBAqEYRKBKESQahEECoRhEoEoRJBqEQQKhGESgShEkGoRBAqEYRKBKESQahEmN2yqbW2uHdwa21xPp9npZSh1nr3xfh33nvvp58WPwF79y3yrjldnwAAAABJRU5ErkJggg==\"></img></td>\n",
       "      <td id=\"T_7130d_row57_col5\" class=\"data row57 col5\" >0<br>(0.0%)</td>\n",
       "    </tr>\n",
       "    <tr>\n",
       "      <td id=\"T_7130d_row58_col0\" class=\"data row58 col0\" >59</td>\n",
       "      <td id=\"T_7130d_row58_col1\" class=\"data row58 col1\" ><strong>extra_inc_pl</strong><br>[float64]</td>\n",
       "      <td id=\"T_7130d_row58_col2\" class=\"data row58 col2\" >Mean (sd) : 0.0 (0.1)<br>min < med < max:<br>0.0 < 0.0 < 1.0<br>IQR (CV) : 0.0 (0.1)</td>\n",
       "      <td id=\"T_7130d_row58_col3\" class=\"data row58 col3\" >1,501 distinct values</td>\n",
       "      <td id=\"T_7130d_row58_col4\" class=\"data row58 col4\" ><img src = \"data:image/png;base64, iVBORw0KGgoAAAANSUhEUgAAAKoAAABGCAYAAABc8A97AAAAOXRFWHRTb2Z0d2FyZQBNYXRwbG90bGliIHZlcnNpb24zLjcuMCwgaHR0cHM6Ly9tYXRwbG90bGliLm9yZy88F64QAAAACXBIWXMAAA9hAAAPYQGoP6dpAAABaUlEQVR4nO3XT2oCMRiH4aSI6GYGETyMh+hhewhvIyUuqi1Iuuum1D/jov3R59km+cjiZYbU3nuBv+7pty8At5hd21BrXZZS5hPnf/TejxPPwpeLodZal+v1+nkYhtWU4YfD4bXW+iJWHnXtizofhmG13W6P4zie7hncWlvsdrvVfr+fl1KEykOu/vpLKWUcx9Nms3mbMH854Qx84zFFBKESQahEECoRhEoEoRJBqEQQKhGESgShEkGoRBAqEYRKBKESQahEECoRhEoEoRJBqEQQKhGESgShEkGoRBAqEYRKBKESQahEECoRhEoEoRJBqEQQKhGESgShEkGoRBAqEYRKBKESQahEECoRhEoEoRJBqEQQKhGESgShEkGoRBAqEYRKBKESQahEECoRhEoEoRJBqEQQKhGESgShEkGoRBAqEYRKBKESQahEmN2yqbW2uHdwa21xPp9npZSh1nr3xfh33nvvp58WPwF79y3yrjldnwAAAABJRU5ErkJggg==\"></img></td>\n",
       "      <td id=\"T_7130d_row58_col5\" class=\"data row58 col5\" >0<br>(0.0%)</td>\n",
       "    </tr>\n",
       "    <tr>\n",
       "      <td id=\"T_7130d_row59_col0\" class=\"data row59 col0\" >60</td>\n",
       "      <td id=\"T_7130d_row59_col1\" class=\"data row59 col1\" ><strong>extra_profit_loss_pl</strong><br>[float64]</td>\n",
       "      <td id=\"T_7130d_row59_col2\" class=\"data row59 col2\" >Mean (sd) : 0.0 (0.1)<br>min < med < max:<br>-1.0 < 0.0 < 1.0<br>IQR (CV) : 0.0 (0.1)</td>\n",
       "      <td id=\"T_7130d_row59_col3\" class=\"data row59 col3\" >2,466 distinct values</td>\n",
       "      <td id=\"T_7130d_row59_col4\" class=\"data row59 col4\" ><img src = \"data:image/png;base64, iVBORw0KGgoAAAANSUhEUgAAAKoAAABGCAYAAABc8A97AAAAOXRFWHRTb2Z0d2FyZQBNYXRwbG90bGliIHZlcnNpb24zLjcuMCwgaHR0cHM6Ly9tYXRwbG90bGliLm9yZy88F64QAAAACXBIWXMAAA9hAAAPYQGoP6dpAAAB6klEQVR4nO3XTY7aUBBF4ao0cewevCfLkjeRHXgRvdgsIQNWwA6YISFkBI27wX6ZJlLnx8gELpxvXvIdHNmyp5QMuHWfrj0A+Bezaw+4R+5emFl25vl7Sukw5Z57QKgTc/eiqqqXEEJ5zv12u924+zdi/RWhTi8LIZRN0xxijN2Yw7Zt8/l8Xq7X68zMCPUnhHohMcauruvXM06LycfcAX6mIIFQIYFQIYFQIYFQIYFQIYFQIYFQIYFQIYFQIYFQIYFQIYFQIYFQIYFQIYFQIYFQIYFQIYFQIYFQIYFQIYFQIYFQIYFQIYFQIYFQIYFQIYFQIYFQIYFQIYFQIYFQIYFQIYFQIYFQIYFQIYFQIYFQIYFQIYFQIYFQIYFQIYFQIYFQIYFQIYFQIYFQIYFQIYFQIYFQIYFQIYFQIYFQIYFQIYFQIYFQIYFQIYFQIYFQIWF27QG3yt0LM8vOOA3DMHyees+jI9QPuHtRVdVLCKEce3s8HvO+7792XffdzF4vMO8hEerHshBC2TTNIcbYjTlcLpflYrF4Pp1OT5ca94gI9Q9ijF1d16PeipvNprjUnkf211DdPTezL/9hyy0JwzDM2rbNxx7udrvczGy/3+er1ep5zG3btnnf9zMzC+4+9tHq3lJKv/16/QAiE1jI90L3DQAAAABJRU5ErkJggg==\"></img></td>\n",
       "      <td id=\"T_7130d_row59_col5\" class=\"data row59 col5\" >0<br>(0.0%)</td>\n",
       "    </tr>\n",
       "    <tr>\n",
       "      <td id=\"T_7130d_row60_col0\" class=\"data row60 col0\" >61</td>\n",
       "      <td id=\"T_7130d_row60_col1\" class=\"data row60 col1\" ><strong>inc_bef_tax_pl</strong><br>[float64]</td>\n",
       "      <td id=\"T_7130d_row60_col2\" class=\"data row60 col2\" >Mean (sd) : -0.1 (0.4)<br>min < med < max:<br>-1.0 < 0.0 < 1.0<br>IQR (CV) : 0.3 (-0.3)</td>\n",
       "      <td id=\"T_7130d_row60_col3\" class=\"data row60 col3\" >17,573 distinct values</td>\n",
       "      <td id=\"T_7130d_row60_col4\" class=\"data row60 col4\" ><img src = \"data:image/png;base64, iVBORw0KGgoAAAANSUhEUgAAAKoAAABGCAYAAABc8A97AAAAOXRFWHRTb2Z0d2FyZQBNYXRwbG90bGliIHZlcnNpb24zLjcuMCwgaHR0cHM6Ly9tYXRwbG90bGliLm9yZy88F64QAAAACXBIWXMAAA9hAAAPYQGoP6dpAAAC9klEQVR4nO3dMU/bQBiA4e8aEl0S1SYQwZaVAakDEgtLt479sazdOgSpc1YmFoSIjK2kpDGOu7ZSgPjOR/wl77MfseRX8Z1zxqYsSwGa7tO2DwDYxMG2D2AXGWO6ItJxHL4sy/K5zuPZBYRaM2NM9/j4+HsURQOX8VmWJcaYa2L9H6HWrxNF0eDq6uo5juNFlYFpmtrxeDyYTqcdESHUfxBqIHEcL05OTn47DO3WfjA7gMUUVCBUqECoUIFQoQKhQgVChQqEChUIFSoQKlQgVKhAqFCBUKECoUIFQoUKhAoVCBUqECpUIFSoQKhQgVChAqFCBUKFCoQKFQgVKhAqVCBUqECoUIFQoQKhQgVChQqEChUIFSoQKlQgVKhAqFCB/+H/Co9X8ESr1apd9/HsO0Jdw+cVPHme26IozheLxU8RcXnZBNYg1PWcX8Fzd3c3mEwmvZeXl1aog9tHhPoGl1fwJEnC63cCYDEFFQgVKhAqVCBUqECoUIFQoQKhQgVChQqEChV29pcpj00lImwsaZx3Q/U84cuyLJ8dxzrz2VQiwsaSJnozVN8TnmVZYoy53kKszptKRNhY0kTvfaM6n/A0Te14PB5Mp9OOiHz4t6qI26YSETaWNNFGc1TXEy4inHDUglU/VNjZVb9WRVG0RSQyxrj+ia0sYENrdKj79tzSfD5v53n+ZTQatVqtVuVFoMhWF7BBNTbUfXxuablcHlhrexcXF4vT09Ok6vgmLGBDaWyossfPLfX7fdfFq8iOLmCDhuo534pWq1U7juOE55YQLFTf+ZbWyzfCCBaq73xL++V7WzyvYl53DEL+3B58juo63+LyXZ3vVezp6WlmjPkhIi53HOzR0dG3OI77DmPfvVvR5MUUKvK5it3f33++ubn5OhqNhq5TNRE5v7y8/DUcDrMqYze5W7FRqGma2iofLCIym82siMh8PrcPDw+9jxyv9bPrOm4XeZ4fWGt7Z2dn5vDw8E/V8Y+Pj/b29rZXFEWQqdpfMrRzgebMExoAAAAASUVORK5CYII=\"></img></td>\n",
       "      <td id=\"T_7130d_row60_col5\" class=\"data row60 col5\" >0<br>(0.0%)</td>\n",
       "    </tr>\n",
       "    <tr>\n",
       "      <td id=\"T_7130d_row61_col0\" class=\"data row61 col0\" >62</td>\n",
       "      <td id=\"T_7130d_row61_col1\" class=\"data row61 col1\" ><strong>inventories_pl</strong><br>[float64]</td>\n",
       "      <td id=\"T_7130d_row61_col2\" class=\"data row61 col2\" >Mean (sd) : 0.1 (0.2)<br>min < med < max:<br>0.0 < 0.0 < 1.0<br>IQR (CV) : 0.1 (0.5)</td>\n",
       "      <td id=\"T_7130d_row61_col3\" class=\"data row61 col3\" >11,869 distinct values</td>\n",
       "      <td id=\"T_7130d_row61_col4\" class=\"data row61 col4\" ><img src = \"data:image/png;base64, iVBORw0KGgoAAAANSUhEUgAAAKoAAABGCAYAAABc8A97AAAAOXRFWHRTb2Z0d2FyZQBNYXRwbG90bGliIHZlcnNpb24zLjcuMCwgaHR0cHM6Ly9tYXRwbG90bGliLm9yZy88F64QAAAACXBIWXMAAA9hAAAPYQGoP6dpAAACfUlEQVR4nO3YsU7bUBSH8XMSSG2wnEShZsvSgS0DI0vfgIdlZUTKDntfAMkQWzFJk6buRJdKBF8TyJ9+vznn+ir6bOva67o2YN91PnoDwGscbPuBu8dm1gtcf1XX9SJwFvjrxVDdPR6NRpdpmg5DFi/L8tHdr4gVbW17ovbSNB1eXFws+v3+ssnCRVFE0+l0mOd5z8wIFa1sffWbmfX7/WWWZU8B68cBM8A/OExBAqFCAqFCAqFCAqFCAqFCAqFCAqFCAqFCAqFCAqFCAqFCAqFCAqFCAqFCAqFCAqFCAqFCAqFCAqFCAqFCAqFCAqFCAqFCAqFCAqFCAqFCAqFCAqFCAqFCAqFCAqFCAqFCAqFCAqFCAqFCAqFCAqFCAqFCAqFCAqFCAqFCAqFCAqFCAqFCAqFCAqFCAqFCAqFCAqFCAqFCAqFCAqFCAqFCwsEuF99sNodmlrp76BKruq4Xb7gliNpZqFVVHa7X68l4PO52u91lyBplWT66+xWxYmehrlargyiKjs7Pz5enp6ePTeeLooim0+kwz/OemRHqf26nr34zs+Pj42WWZU+B4/GbbgayOExBws6fqG20PIxxEPtE9jbUtocxDmKfy96G2uYwVhRFdHNzk+V5fuLuZegWiLwZd4/NrBc4/uL/vbehPgs5jL3Fp7HZbDZ392szC5nvmNnvkOu2nDX7oBvM3ePRaHSZpukwZH7bG/BVoRZFETW98Hw+j8zMqqqK7u/vj95z/uHhIYmi6Ojs7MwHg8HPpteezWbJ7e3t9/F4fNI09M1mc1hV1bckSX50Op31e80+a3mDtZEmSfJ1Mpn8iuO40X++WCy+3N3dvfgp8g8+59pj6U3G7wAAAABJRU5ErkJggg==\"></img></td>\n",
       "      <td id=\"T_7130d_row61_col5\" class=\"data row61 col5\" >0<br>(0.0%)</td>\n",
       "    </tr>\n",
       "    <tr>\n",
       "      <td id=\"T_7130d_row62_col0\" class=\"data row62 col0\" >63</td>\n",
       "      <td id=\"T_7130d_row62_col1\" class=\"data row62 col1\" ><strong>material_exp_pl</strong><br>[float64]</td>\n",
       "      <td id=\"T_7130d_row62_col2\" class=\"data row62 col2\" >Mean (sd) : 0.7 (0.2)<br>min < med < max:<br>0.0 < 0.8 < 1.0<br>IQR (CV) : 0.3 (2.9)</td>\n",
       "      <td id=\"T_7130d_row62_col3\" class=\"data row62 col3\" >15,979 distinct values</td>\n",
       "      <td id=\"T_7130d_row62_col4\" class=\"data row62 col4\" ><img src = \"data:image/png;base64, iVBORw0KGgoAAAANSUhEUgAAAKoAAABGCAYAAABc8A97AAAAOXRFWHRTb2Z0d2FyZQBNYXRwbG90bGliIHZlcnNpb24zLjcuMCwgaHR0cHM6Ly9tYXRwbG90bGliLm9yZy88F64QAAAACXBIWXMAAA9hAAAPYQGoP6dpAAACqUlEQVR4nO3cu27iQBSA4TNLiAxItrgIOl4g0hZINDzAlvuw+wiLRLE1b0CHZFlGeGNhjLdLFQi+zNpn9H8tmsTFLxvPJMcURSFA131r+wKAZ7y0fQFwhzFmICKvFZdfiqJ4v/choaIRxpjBdDr96fv+uMr60+kUGWN+3YuVUNGUV9/3x5vN5j0IgrTMwjiOvd1uNw7D8FVECBX2BUGQzufzvxWWDh59yMsUVCBUqECoUIFQoQKhQgVChQqEChUIFSoQKlQgVKhAqFCBUKECoUIFQoUKhAoVCBUqECpUIFSoQKhQgVChAqFCBUKFCvy7tGNsTitpE6E6xPa0kjYRqlusTitpE6E6yNa0kjYRKj7ked4XEd8YU2W5f7vd+g1f0gdChYiIJEnSz7Ls+3K57PV6vVJfG0REsizz8jx/S9P0t4hUuZs/RKgQEZHL5fLied5wtVqli8UiKrv+cDiM9/v98Hq99mxcH6F2TM3tpdqP39FoVOn7bRRFVr/fEmqH1N1esv34bROhdkvl7SUR+4/fNhFqB1XdXrL9+G0TZ/1QgVChAqFCBUKFCoQKFQgVKhAqVGAf1YIax6BW/wJJM0JtWJ1jUJePQOsi1OZVPgZ1+Qi0LkK1pMoxqMtHoHXxMgUVCBUqECpUIFSoQKhQgbf+O9i07xZC/QSb9t1DqJ9j075jCPUBNu27g5cpqODsHbXtQQ5olpOhMsjBPV+GqnSCMYMcHPMw1LYnGNfdywyCIGKQgxu+uqPWmmC83W7nYRjOjDGnCtfmTSaTH0EQjMou5NHtnqe+o1bZpmli3qaIvK3X6z+z2axU6Dy63WPtZaqpeZue52XsZcL6W39X521CFzb8ocJTd9Q4jr2yP/h8PnsiIkmSeMfjcfg/12v93Vqvu+76Z/r6B2DljeF2ODfTAAAAAElFTkSuQmCC\"></img></td>\n",
       "      <td id=\"T_7130d_row62_col5\" class=\"data row62 col5\" >0<br>(0.0%)</td>\n",
       "    </tr>\n",
       "    <tr>\n",
       "      <td id=\"T_7130d_row63_col0\" class=\"data row63 col0\" >64</td>\n",
       "      <td id=\"T_7130d_row63_col1\" class=\"data row63 col1\" ><strong>profit_loss_year_pl</strong><br>[float64]</td>\n",
       "      <td id=\"T_7130d_row63_col2\" class=\"data row63 col2\" >Mean (sd) : -0.1 (0.4)<br>min < med < max:<br>-1.0 < 0.0 < 1.0<br>IQR (CV) : 0.3 (-0.4)</td>\n",
       "      <td id=\"T_7130d_row63_col3\" class=\"data row63 col3\" >17,030 distinct values</td>\n",
       "      <td id=\"T_7130d_row63_col4\" class=\"data row63 col4\" ><img src = \"data:image/png;base64, iVBORw0KGgoAAAANSUhEUgAAAKoAAABGCAYAAABc8A97AAAAOXRFWHRTb2Z0d2FyZQBNYXRwbG90bGliIHZlcnNpb24zLjcuMCwgaHR0cHM6Ly9tYXRwbG90bGliLm9yZy88F64QAAAACXBIWXMAAA9hAAAPYQGoP6dpAAAC4UlEQVR4nO3dMW/aQByG8f9BQIYgO4gq2Vg6ZKjUIWOWfoN+2KzdMrBHytopWyRijHBDcWx3qCq1UprEZxz8wvPbL5zkB2NfzrIry9KAtuvsegLAWxztegL7yDk3MLO+5/BNWZaP25zPPiDULXPODSaTydcwDMc+45fLZeycuyLWfxHq9vXDMBxfXl4+RlG0rjIwSZJgNpuN5/N538wI9S+E2pAoitanp6c/PIYOtj6ZPcDNFCQQKiQQKiQQKiQQKiQQKiQQKiQQKiQQKiQQKiQQKiQQKiQQKiQQKiQQKiQQKiQQKiQQKiQQKiQQKiQQKiQQKiQQKiQQKiQQKiQQKiQQKiQQKiQQKiQQKiQQKiQQKiQQKiQQKiQQKiQQKiTwson/qPGuqLAoit6253PoCPUZdd4VlWVZkOf5p/V6fW1mPm9FwTMI9Xne74q6u7sb397eDp+enrpNTe4QEeoLfN4VFccx74lqADdTkECokECokECokECokECokECokECokECokLC3/5mqsanEjI0lrfNqqDUP+KYsy0fPsd7qbCoxY2NJG70Yat0DvlwuY+fc1Q5i9d5UYsbGkjZ67YzqfcCTJAlms9l4Pp/3zezdz6pmfptKzNhY0kZvukb1PeBmxgHHVnDXDwmtvuvncRD80dpQD/VxkDzPe2YWOud8/8ROVlqa1tpQ7QAfB0nTtJdl2efpdNrtdruVVyvMdrrS0qhGQ615dgiLouhFURQfyuMgm83mKAiC4cXFxfrs7CyuOr4NKy1NaSzUumcH5Z/vuo6Pj31XWcz2dKWlsVDrnh1Uf77RjMavUX3PDqo/37tW83KrtTdibb6ZQkV1L7cWi8XKOffNzLxu5Oz3unzhOfbFL8mbQk2SJKj6qavVKjAzS9M0uL+/H77neNXPrjvvh4eHURAEw/Pzc3dycvKzytjFYjG6ubn5Mp1OP/hEnud5L03Tj6PR6Hun08mqjn9tteIXTYNb6T9HIlgAAAAASUVORK5CYII=\"></img></td>\n",
       "      <td id=\"T_7130d_row63_col5\" class=\"data row63 col5\" >0<br>(0.0%)</td>\n",
       "    </tr>\n",
       "    <tr>\n",
       "      <td id=\"T_7130d_row64_col0\" class=\"data row64 col0\" >65</td>\n",
       "      <td id=\"T_7130d_row64_col1\" class=\"data row64 col1\" ><strong>personnel_exp_pl</strong><br>[float64]</td>\n",
       "      <td id=\"T_7130d_row64_col2\" class=\"data row64 col2\" >Mean (sd) : 0.3 (0.3)<br>min < med < max:<br>0.0 < 0.3 < 1.0<br>IQR (CV) : 0.3 (1.2)</td>\n",
       "      <td id=\"T_7130d_row64_col3\" class=\"data row64 col3\" >16,632 distinct values</td>\n",
       "      <td id=\"T_7130d_row64_col4\" class=\"data row64 col4\" ><img src = \"data:image/png;base64, iVBORw0KGgoAAAANSUhEUgAAAKoAAABGCAYAAABc8A97AAAAOXRFWHRTb2Z0d2FyZQBNYXRwbG90bGliIHZlcnNpb24zLjcuMCwgaHR0cHM6Ly9tYXRwbG90bGliLm9yZy88F64QAAAACXBIWXMAAA9hAAAPYQGoP6dpAAAC2klEQVR4nO3dQW7aQBSA4Td1QIZIY1lUsOMCkbrIkkPksD1CInECbsAOCVmguLGwDd00UapCgBm7mef83zrjePHLHuwZ2RwOBwFC9+2zTwC4xM25PzDGDESk73j83eFweHEcC7z5MFRjzGA0Gj1Ya1OXg2+328wY85NY4evcFbVvrU1ns9lLkiTFNQfebDbxfD5P1+t1X0QIFV7O3vpFRJIkKcbj8S+H4w8cxrxh2oFXF4X6GZh24L1gQxWmHXgn5FBF5POmHQhLq6HWdd0TEWuMcRlu9/t9r+FTglKthZrnea8syx/T6TSKouiqW7eISFmWcV3Xd0VRPIqIyxUVHdJaqLvd7iaO4+H9/X0xmUyya8cvl8t0sVgMq6qK2jg/6NL6HPX29tZpjpllGXNMvOFdP1QgVKhAqFCBUKECoUIFQoUKhAoVCBUqBL8oxZXnOgMR1rMGpZOh+q4zEGE9a2g6GarvOgPWs4ank6G+cl1n8AdrDQLCjymoQKhQgVChAqFCBUKFCoQKFQgVKhAqVCBUqECoUIFQoQKhQgVChQqEChU6vczPh+cOAXYHNIxQj/DdIcDugOYR6hE+OwTYHdAOQv2Axw4Bdgc0jB9TUIFQoQKhQgVChQqEChUIFSoQKlQgVKjAA/8WsE6geYTaMNYJtINQG/aV1wkYYwYi0ncc/uGdhFBb8tXWCRhjBqPR6MFam7qMP3cnIVQ0pW+tTWez2UuSJFdNeS65kxAqGpUkSSt3Eh5PQQWuqIHhIxnHEWpA+EjGaYQaED6ScRqhBoiPZPyLUDumq69vCbVDuvz6llA7xPf17dPT03i9Xn83xmwd/r3d7/c9h3EXIdQOcpnj+l6Ny7KM67q+K4riUURc59cnESpExP+Jw3K5TBeLxbCqqqiN8yNU/MX1iUOWZa0+beAVKlS46Iq62Wziaw/8/Pwci4jkeR6vVqvh/xyv9X9rPW/f8Zf09Ru4FM2AuagRSgAAAABJRU5ErkJggg==\"></img></td>\n",
       "      <td id=\"T_7130d_row64_col5\" class=\"data row64 col5\" >0<br>(0.0%)</td>\n",
       "    </tr>\n",
       "    <tr>\n",
       "      <td id=\"T_7130d_row65_col0\" class=\"data row65 col0\" >66</td>\n",
       "      <td id=\"T_7130d_row65_col1\" class=\"data row65 col1\" ><strong>intang_assets_bs</strong><br>[float64]</td>\n",
       "      <td id=\"T_7130d_row65_col2\" class=\"data row65 col2\" >Mean (sd) : 0.0 (0.0)<br>min < med < max:<br>0.0 < 0.0 < 0.5<br>IQR (CV) : 0.0 (0.2)</td>\n",
       "      <td id=\"T_7130d_row65_col3\" class=\"data row65 col3\" >2,842 distinct values</td>\n",
       "      <td id=\"T_7130d_row65_col4\" class=\"data row65 col4\" ><img src = \"data:image/png;base64, iVBORw0KGgoAAAANSUhEUgAAAKoAAABGCAYAAABc8A97AAAAOXRFWHRTb2Z0d2FyZQBNYXRwbG90bGliIHZlcnNpb24zLjcuMCwgaHR0cHM6Ly9tYXRwbG90bGliLm9yZy88F64QAAAACXBIWXMAAA9hAAAPYQGoP6dpAAABk0lEQVR4nO3XwWoaUQCF4XtrKnHRGURw6SP0AXyIPGy23fssbqSOlGojcrPLJqTGSUt74PvWcw8X5mfE2lor8L/79K8vAO9xd+2BWuuslDIduf/UWjuOPAsvfhtqrXW2WCweuq6bjxk/HA7fa62PYuWjrn1Rp13Xzdfr9bHv+9Mtw8Mw3G82m/lut5uWUoTKh1z96S+llL7vT8vl8ueI/dmIM/CKP1NEECoRhEoEoRJBqEQQKhGESgShEkGoRBAqEYRKBKESQahEECoRhEoEoRJBqEQQKhGESgShEkGoRBAqEYRKBKESQahEECoRhEoEoRJBqEQQKhGESgShEkGoRBAqEYRKBKESQahEECoRhEoEoRJBqEQQKhGESgShEkGoRBAqEYRKBKESQahEECoRhEoEoRJBqEQQKhGESgShEkGoRBAqEYRKBKESQahEECoR7v7m+OVy+VxK6WqtYyeeWmvHP3glQr0r1GEY7m8d3m63X87n89fVajWZTCan269Wyn6//1Fr/VZKGXWeKL9aa2++52fxYDzEnB/1ZAAAAABJRU5ErkJggg==\"></img></td>\n",
       "      <td id=\"T_7130d_row65_col5\" class=\"data row65 col5\" >0<br>(0.0%)</td>\n",
       "    </tr>\n",
       "    <tr>\n",
       "      <td id=\"T_7130d_row66_col0\" class=\"data row66 col0\" >67</td>\n",
       "      <td id=\"T_7130d_row66_col1\" class=\"data row66 col1\" ><strong>curr_liab_bs</strong><br>[float64]</td>\n",
       "      <td id=\"T_7130d_row66_col2\" class=\"data row66 col2\" >Mean (sd) : 0.5 (0.4)<br>min < med < max:<br>0.0 < 0.5 < 1.0<br>IQR (CV) : 0.8 (1.5)</td>\n",
       "      <td id=\"T_7130d_row66_col3\" class=\"data row66 col3\" >13,215 distinct values</td>\n",
       "      <td id=\"T_7130d_row66_col4\" class=\"data row66 col4\" ><img src = \"data:image/png;base64, iVBORw0KGgoAAAANSUhEUgAAAKoAAABGCAYAAABc8A97AAAAOXRFWHRTb2Z0d2FyZQBNYXRwbG90bGliIHZlcnNpb24zLjcuMCwgaHR0cHM6Ly9tYXRwbG90bGliLm9yZy88F64QAAAACXBIWXMAAA9hAAAPYQGoP6dpAAACtElEQVR4nO3du47aQBSA4TOwIHOJLcQGOpqUkVK4pMkb5GHTplskeAGKNKloEBLiIpxFGOM0i7QNYI/trI/1fy0a7OJnNGMs28RxLEDZ1T76BIAknj76BFAdxpiWiDQth5/iOH699SGhIhfGmFa/3//hum7PZvx+v98YY37eipVQkZem67q98Xj86nneMc3A3W7nTKfT3nq9booIoaJ4nucdB4PBX4uhrXsfspmCCoQKFQgVKhAqVCBUqECoUIFQoQKhQgVChQqEChUIFSoQKlQgVKhAqFCBUKECoUIFQoUKhAoVCBUqECpUIFSoQKhQgVChAqFCBUKFCoQKFQgVKhAqVCBUqPDwaX5FPpwVSOpuqEU/nBVI6tGMWujDWYGkEj3It6iHswJJsZmCCoQKFQgVKhAqVCBUqECoUIFQoQKhQoVC39wXRVFDRFxjjO1XcK8ARKTAUIMgaIRh+G00GtXr9Xqqv1+vuFcAV4WFejqdnhzHafu+fxwOh5u047lXAO8V/tLeTqdje5+ACPcK4E2p3y6dcY3L+rZCShtq1jUu69tqKW2oWda4rG+rp7ShXtmucaMocoVLY5VR+lBtcGmseioZah6XxiaTyWC9Xj8bY/Y2p0Dg+apkqFe2ywY2cuVT6VBtZd3IMRvnj1DvsJmRs87G2+32YIz5JSJWa2upaOiEmrMss/Fyufw0m82+j0ajZ9tNYMbQayJysTmuiLiXy6VhOfYhQi2IzWy82WxaWTaBWUKPoqgRBMGXbrf7p1arhWmPHYahE0XR1+Px+CIitn+Z30SoJWS7CcwS+mKx6M3n88++7/+2+ZG8jW+fz+d62rFJEGoF2c7mtmPfjy8Kd/hDBUKFCoQKFQgVKhAqVEi069/tdk7aLz4cDo6ISBAEzmq1av/P8VqPrfW8s45P0tc/5TOh0ySpE7YAAAAASUVORK5CYII=\"></img></td>\n",
       "      <td id=\"T_7130d_row66_col5\" class=\"data row66 col5\" >0<br>(0.0%)</td>\n",
       "    </tr>\n",
       "    <tr>\n",
       "      <td id=\"T_7130d_row67_col0\" class=\"data row67 col0\" >68</td>\n",
       "      <td id=\"T_7130d_row67_col1\" class=\"data row67 col1\" ><strong>fixed_assets_bs</strong><br>[float64]</td>\n",
       "      <td id=\"T_7130d_row67_col2\" class=\"data row67 col2\" >Mean (sd) : 0.3 (0.3)<br>min < med < max:<br>0.0 < 0.2 < 1.0<br>IQR (CV) : 0.6 (1.0)</td>\n",
       "      <td id=\"T_7130d_row67_col3\" class=\"data row67 col3\" >14,460 distinct values</td>\n",
       "      <td id=\"T_7130d_row67_col4\" class=\"data row67 col4\" ><img src = \"data:image/png;base64, iVBORw0KGgoAAAANSUhEUgAAAKoAAABGCAYAAABc8A97AAAAOXRFWHRTb2Z0d2FyZQBNYXRwbG90bGliIHZlcnNpb24zLjcuMCwgaHR0cHM6Ly9tYXRwbG90bGliLm9yZy88F64QAAAACXBIWXMAAA9hAAAPYQGoP6dpAAAC4UlEQVR4nO3dMU/bQBiA4e8SEmxIz7LSmi1Lx0odMnrpP+DHsnZjCH+AoUsnFoQUGVsxsWIcd6hAlSpIfCaJP3ifNdzZit6zz1YkTF3XAnRd79AnAGzjaNMfGGN8ERk6zr+q63rpOBZ49mqoxhh/PB6fW2tDl8mzLEuMMRfEirY2XVGH1towjuNlEARFk4nTNPVms1k4n8+HIkKoaGXjrV9EJAiCIoqiB4f5fYcxwH94mIIKhAoVCBUqECpUIFSoQKhQgVChAqFCBUKFCoQKFQgVKhAqVCBUqECoUIFQoQKhQgVChQqEChUIFSoQKlQgVKhAqFCBUKECoUIFQoUKhAoVCBUqECpUIFSoQKhQgVChAqFCBUKFCoQKFQgVKhAqVCBUqECoUIFQoQKhQgVChQqEChUIFSoQKlQgVKiw1X+XBrZhjPFFZOg4fFXX9fKlDwkVb8IY44/H43NrbegyPsuyxBhz8VKsOw21qqqBiFhjjOsUr64ydMrQWhvGcbwMgqBoMjBNU282m4Xz+XwoIvsNNc/zQVmW3yeTSb/f7zc68SebVhm6JwiCIoqiB4eh/msf7izU1Wp15HneyXQ6Lc7OzpKm47dZZfg4dr5HPT09dV1hIhtWGT6OTj9Mtdzjsr99Rzobats97v39/cIY81NEnPbH8vcd89pxrMpF0vL1kl2v14O3PJ9/dTbUNnvc29vbT1dXVz8mk8lnl8irqhrkef51NBr97vV6ZdPxLRfJQSJv+3qpLEuvqqpvRVFciojrVu9FnQ31icseN0kSv82D3M3NTXh9ff1lOp3+2vciOeCdwI5GoyiO46zp6yWR5+/s5PHxse9w7I06H2obrg9ySZL4ruPbLJJD3gmerojHx8eXbb6zXXnXoR6StjvBrq+IbRFqBx3qTtD0ePvEr6egAqFCBUKFCoQKFQgVKmz11J+mqdd04sVi4YmI5Hnu3d3dnexzvNZjaz3vtuO36esP+ixzXo70mLUAAAAASUVORK5CYII=\"></img></td>\n",
       "      <td id=\"T_7130d_row67_col5\" class=\"data row67 col5\" >0<br>(0.0%)</td>\n",
       "    </tr>\n",
       "    <tr>\n",
       "      <td id=\"T_7130d_row68_col0\" class=\"data row68 col0\" >69</td>\n",
       "      <td id=\"T_7130d_row68_col1\" class=\"data row68 col1\" ><strong>liq_assets_bs</strong><br>[float64]</td>\n",
       "      <td id=\"T_7130d_row68_col2\" class=\"data row68 col2\" >Mean (sd) : 0.2 (0.3)<br>min < med < max:<br>0.0 < 0.1 < 1.0<br>IQR (CV) : 0.3 (0.8)</td>\n",
       "      <td id=\"T_7130d_row68_col3\" class=\"data row68 col3\" >18,118 distinct values</td>\n",
       "      <td id=\"T_7130d_row68_col4\" class=\"data row68 col4\" ><img src = \"data:image/png;base64, iVBORw0KGgoAAAANSUhEUgAAAKoAAABGCAYAAABc8A97AAAAOXRFWHRTb2Z0d2FyZQBNYXRwbG90bGliIHZlcnNpb24zLjcuMCwgaHR0cHM6Ly9tYXRwbG90bGliLm9yZy88F64QAAAACXBIWXMAAA9hAAAPYQGoP6dpAAAC4ElEQVR4nO3dsU7bUBSA4XMSEtlAr2WFmi1Lx0odMmbpG/CwrN1ACi/A0KUTC0Kygq0YrBgnXUqXqkl8TUhO+L+Ze22kPzfxtSXrcrkUYN91dn0CwCaO1v2BqoYi0vecf75cLp89xwJ/rQxVVcPBYHDhnIt9Js/zfKqql8SKttatqH3nXDwej5+jKCqbTJxlWTCZTOI0TfsiQqhoZe1Xv4hIFEVlkiRPHvOHHmOAf3AxBRMIFSYQKkwgVJhAqDCBUGECocIEQoUJhAoTCBUmECpMIFSYQKgwgVBhAqHCBEKFCYQKEwgVJhAqTCBUmECoMIFQYQKhwgRChQmEChMIFSYQKkwgVJhAqDCBUGECocIEQoUJhAoTCBUmECpMIFSYQKgwgVBhAqHCBEKFCYQKEwgVJhAqTCBUmLDRS3t91XXdExGnqr5TzHmFOkS2GGpRFL2qqr4Nh8Nut9tt9Ar1V3meT1X1klixtVDn8/lREATHo9GoPD8/nzYdn2VZMJlM4jRN+yJCqB/cVr/6RUROTk7KJEmePIeHb3oyMIuLKZhAqDCBUGECocKErV9MtdFyH5Y92AOyt6G23YdlD/aw7G2obfZh2YM9PHsb6ivffdi6rp1w+/Zg7H2oPrh9uxuqGopI33P4yoXhIEN9i9u319fXSZqmZ6qa+5zCRwtcVcPBYHDhnIt9xq9bGA4y1Fe+PxvarsiPj48zVf0hIj6rudXI+865eDweP0dR1Oj/3uSa4qBD9dVmRb6/v/90c3PzfTgcnu0gcpEdhx5Fke+zHSuf6yDUFXxW5Ol0Gu4qcpHWoXdEZOFzXBFxi8Wi5zl2LULdkveOXKRd6HVd94qi+HJ6evqr0+lUTY9dVVVQ1/XXsiyvRMT3abn/ItQ95Pvbuk3od3d38e3t7efRaPTT50PyZ/zxy8tLt+nYTWwUapZlQdOJZ7NZICJSFEXw8PBw/J7jrR77rc57l3zOfZO+fgNe6HmgmJA4OwAAAABJRU5ErkJggg==\"></img></td>\n",
       "      <td id=\"T_7130d_row68_col5\" class=\"data row68 col5\" >0<br>(0.0%)</td>\n",
       "    </tr>\n",
       "    <tr>\n",
       "      <td id=\"T_7130d_row69_col0\" class=\"data row69 col0\" >70</td>\n",
       "      <td id=\"T_7130d_row69_col1\" class=\"data row69 col1\" ><strong>curr_assets_bs</strong><br>[float64]</td>\n",
       "      <td id=\"T_7130d_row69_col2\" class=\"data row69 col2\" >Mean (sd) : 0.6 (0.3)<br>min < med < max:<br>0.0 < 0.8 < 1.0<br>IQR (CV) : 0.7 (1.9)</td>\n",
       "      <td id=\"T_7130d_row69_col3\" class=\"data row69 col3\" >14,457 distinct values</td>\n",
       "      <td id=\"T_7130d_row69_col4\" class=\"data row69 col4\" ><img src = \"data:image/png;base64, iVBORw0KGgoAAAANSUhEUgAAAKoAAABGCAYAAABc8A97AAAAOXRFWHRTb2Z0d2FyZQBNYXRwbG90bGliIHZlcnNpb24zLjcuMCwgaHR0cHM6Ly9tYXRwbG90bGliLm9yZy88F64QAAAACXBIWXMAAA9hAAAPYQGoP6dpAAACzklEQVR4nO3dsW/aQBSA8XcQoiOktiAUNpaOkTogZcnSrWP/2K7dikSkzhm6dMoSRULGCDcIx9ChitoOAfuOa/yS77fCwQl9Op4Rks12uxWg7hrPvQGgjKPn3gBeDmNMW0SOHZevt9vt/VMPEioOwhjTPjs7+xRFUddl/WKxSIwxn5+KlVBxKMdRFHUvLy/v4zheVVmYpqmdTqfd2Wx2LCKEivDiOF4NBoOfDkvbux7kYgoqECpUIFSoQKhQgVChAqFCBUKFCoQKFQgVKhAqVCBUqECoUIFQoQKhQgVChQqEChUIFSoQKlQgVKhAqFCBUKECoUIFQoUKhAoVCBUqECpUIFSoQKhQgVChAqFCBUKFCoQKFQgVKhAqVCBUqECoUIFQoQKhQgVChQqEChUIFSoQKlQgVKhAqFBh7017Q96DHShrZ6ih78EOlLXvRA16D3agrL1f/SLh7sGOevEc86LNZtM65H7+VipUvHy+Y16e57YoivPVavVVRFwOtZ0IFY+cxzwRkZubm+719fXJw8NDM8TmCBX/cB3zkiQJOuYFDbUoipaIRMYY15fg562KPObMoDOmr2ChZlnWyvP8/Wg0ajabzcpfJSKv8+ctzwsa2+v1PsZx3Km6MPSM6StYqOv1+shaezIej1fD4TCpuj5NUzuZTAaz2axvjFm4bMEncM9gGiKycVjnHJrI79hE5Pzi4uJbv9+v9JmFnjF9BZ9RO52O08zjeyLP5/OlMeaLiLic5s7BFEXRyrLs3enp6Y9Go5FXWesTmsif2Ky1edXPPPSM6au2F1M+J/Lt7e2bq6urD6PRqO8S+QFOprfj8fh71X37hCZS/9h81DbURy4ncpIkbZ+x4xAnk+u+qzz/Nal9qD5cxw6CqR/+5gcVCBUqECpUIFSoQKhQodRVf5qmtuoLL5dLKyKSZZm9u7s7+Z/rtb631n37ri/T1y+LS2J/v3vTwQAAAABJRU5ErkJggg==\"></img></td>\n",
       "      <td id=\"T_7130d_row69_col5\" class=\"data row69 col5\" >0<br>(0.0%)</td>\n",
       "    </tr>\n",
       "    <tr>\n",
       "      <td id=\"T_7130d_row70_col0\" class=\"data row70 col0\" >71</td>\n",
       "      <td id=\"T_7130d_row70_col1\" class=\"data row70 col1\" ><strong>share_eq_bs</strong><br>[float64]</td>\n",
       "      <td id=\"T_7130d_row70_col2\" class=\"data row70 col2\" >Mean (sd) : 0.0 (0.7)<br>min < med < max:<br>-1.0 < 0.2 < 1.0<br>IQR (CV) : 1.4 (0.1)</td>\n",
       "      <td id=\"T_7130d_row70_col3\" class=\"data row70 col3\" >14,320 distinct values</td>\n",
       "      <td id=\"T_7130d_row70_col4\" class=\"data row70 col4\" ><img src = \"data:image/png;base64, iVBORw0KGgoAAAANSUhEUgAAAKoAAABGCAYAAABc8A97AAAAOXRFWHRTb2Z0d2FyZQBNYXRwbG90bGliIHZlcnNpb24zLjcuMCwgaHR0cHM6Ly9tYXRwbG90bGliLm9yZy88F64QAAAACXBIWXMAAA9hAAAPYQGoP6dpAAACyElEQVR4nO3cP2/aQBiA8fdKIAektvgj2PgCkTpEysLSrWM/bNduGRKpM9+ABSEhA4IG4QCdiCo1Tbg7X+uXPL8553h4dD4L35nD4SBA2X343zcAnOLirT8wxtRFpOZ5/e3hcHj0HAs8ezVUY0y90+l8TZKk5XPx5XKZGWO+EStCvTWj1pIkaQ2Hw8c0TTcuF14sFvb+/r41m81qIkKoCPLmo19EJE3TTa/X++lx/brHGOAPvExBBUKFCoQKFQgVKhAqVCBUqECoUIFQoQKhQgVChQqEChUIFSoQKlQgVKhAqFCBUKECoUIFQoUKhAoVCBUqECpUIFSocNJ2aeAUMU/VIVQUIvapOoSKokQ9VYdQUahYp+rwMgUVmFEj4KjO4hFqwTiqMw5CLR5HdUZAqJFwVGexCBXPAtfWyX6/rxZ5P78j1JLZ7XZVEUmMMb6X8HoZC11b53lud7vd9WazuRMRnyfJqwi1RNbrdTXP80+DwaBSqVSc1rdH8/l8ZYz5LiKu45Orq6vecDhcuq6tRUTG43FrNBo1np6eKq5jT0GoJbLdbi+stY2bm5tNv9/PXMdPJpOPDw8PnweDQdc19OOMeHl5eeezts6yLOramlBLqNlser2IZVlW9w099owYilDPkE/osWfEUPyEChUIFSoQKlQgVKhAqFCBUKECoUIFQoUKhAoVCBUqECpUIFSoQKhQga+n/iJgW0bULRnvFaG+IGRbRuwtGe8Vob7Me8tz2T9A1opQX+Gz5bnsHyBrdbahlnnrL9ydZahl3/oLd6UONeTNu8xbf+EuaqiBhynYdrv9JU3TpuvAsm/9hbtooYYeppDnuRWR69vb2x/dbnfpMpYZ8fxECzX0MIVjbNbanDdvRF+jhhymEON+oBO/9UMFQoUKJz36F4uFdb3warWyIiLr9dpOp9PGvxyv9X9rve/Q8af09Quuw3sgkO4ehQAAAABJRU5ErkJggg==\"></img></td>\n",
       "      <td id=\"T_7130d_row70_col5\" class=\"data row70 col5\" >0<br>(0.0%)</td>\n",
       "    </tr>\n",
       "    <tr>\n",
       "      <td id=\"T_7130d_row71_col0\" class=\"data row71 col0\" >72</td>\n",
       "      <td id=\"T_7130d_row71_col1\" class=\"data row71 col1\" ><strong>subscribed_cap_bs</strong><br>[float64]</td>\n",
       "      <td id=\"T_7130d_row71_col2\" class=\"data row71 col2\" >Mean (sd) : 0.3 (0.3)<br>min < med < max:<br>0.0 < 0.1 < 1.0<br>IQR (CV) : 0.5 (0.9)</td>\n",
       "      <td id=\"T_7130d_row71_col3\" class=\"data row71 col3\" >15,933 distinct values</td>\n",
       "      <td id=\"T_7130d_row71_col4\" class=\"data row71 col4\" ><img src = \"data:image/png;base64, iVBORw0KGgoAAAANSUhEUgAAAKoAAABGCAYAAABc8A97AAAAOXRFWHRTb2Z0d2FyZQBNYXRwbG90bGliIHZlcnNpb24zLjcuMCwgaHR0cHM6Ly9tYXRwbG90bGliLm9yZy88F64QAAAACXBIWXMAAA9hAAAPYQGoP6dpAAACiUlEQVR4nO3dP47aQBiH4W/CggwoRogVdFwgUgpKmtwgh02bLkhwAW5Ag5As/giyCGNIRZokC4zXi3+T96mZwcWrMR4ZjTufzwaU3YdHXwBwi6drH3DO1c2s5jn/4Xw+v3iOBX57NVTnXL3T6XyN47jtM/lms1k6574RK/K6tqLW4jhuD4fDl1artb9n4vV6HY3H43aSJDUzI1TkcvXWb2bWarX23W73p8f8dY8xwB94mIIEQoUEQoUEQoUEQoUEQoUEQoUEQoUEQoUEQoUEQoUEQoUEQoUEQoUEQoUEQoUEQoUEQoUEQoUEQoUEQoUEQoUEQoUEQoUEQoUEQoUEQoUEQoUEQoUEQoUEQoUEQoUEQoUEQoUEQoUEQoUEQoUEQoUEQoUEQoWEmw5E85VlWdXMYuec7xScpQozKzDU3W5XTdP0c7/fr1QqlbuOp7zgLFUtRR7wXFioh8PhKYqixmAw2Pd6veW94zlLVUvRBzwXeus3M2s2m77nqJpxlqqSQg94LjxU/F+KOuCZp35IIFRIIFRIKPVv1Jz7sOzBBqS0oebdh2UPNiylDTXPPix7sOEpbagXOfZh2YMNCA9TkECokFD6W78v3twKS5Ch8uZWeIIM9S3e3BqNRt0kSZ6dcxufSyDwtxVkqBe+OwZ5V+TVarV1zn03M5/VnMj/IuhQfeVZkefz+cfJZPKl3+8/PyBys0BDJ9RX+KzIy+Wy/qjIzcJdzQm1IO8dudnDV/P4dDpVPcbdhFBLyPe39SNX8zRNoyzLPu33+x9m5vuPjn8i1AA9YjWfzWbt6XTaOB6PlXvH3uKmUNfrdXTvxNvtNjIz2+120WKxaLzneNXvLsN15+Xz3bf09QuB1YqH06izwwAAAABJRU5ErkJggg==\"></img></td>\n",
       "      <td id=\"T_7130d_row71_col5\" class=\"data row71 col5\" >0<br>(0.0%)</td>\n",
       "    </tr>\n",
       "    <tr>\n",
       "      <td id=\"T_7130d_row72_col0\" class=\"data row72 col0\" >73</td>\n",
       "      <td id=\"T_7130d_row72_col1\" class=\"data row72 col1\" ><strong>tang_assets_bs</strong><br>[float64]</td>\n",
       "      <td id=\"T_7130d_row72_col2\" class=\"data row72 col2\" >Mean (sd) : 0.3 (0.3)<br>min < med < max:<br>0.0 < 0.2 < 1.0<br>IQR (CV) : 0.6 (1.0)</td>\n",
       "      <td id=\"T_7130d_row72_col3\" class=\"data row72 col3\" >14,269 distinct values</td>\n",
       "      <td id=\"T_7130d_row72_col4\" class=\"data row72 col4\" ><img src = \"data:image/png;base64, iVBORw0KGgoAAAANSUhEUgAAAKoAAABGCAYAAABc8A97AAAAOXRFWHRTb2Z0d2FyZQBNYXRwbG90bGliIHZlcnNpb24zLjcuMCwgaHR0cHM6Ly9tYXRwbG90bGliLm9yZy88F64QAAAACXBIWXMAAA9hAAAPYQGoP6dpAAADAElEQVR4nO3av27aUBSA8XMhEJPQayFSZ2PpWKkDo5e+QR62a7dEIi+QoUunLFEki9jCwYIYdylVpaoB34sbH/r95p5rq/fzPxRTVZUAbdd56xMA9nGy6x8YYwYi0ndcf1VV1dJxFvjl1VCNMYPxeHxlrR25LJ5l2dwY84VY4WvXHbVvrR3FcbwMw7Cos3CapsFsNhslSdIXEUKFl52PfhGRMAyLKIqeHdYfOMwAf+BjCioQKlQgVKhAqFCBUKECoUIFQoUKhAoVCBUqECpUIFSoQKhQgVChAqFCBUKFCoQKFQgVKhAqVCBUqECoUIFQoQKhQgVChQqEChUIFSoQKlQgVKhAqFCBUKECoUIFQoUKhAoVCBUqECpUIFSoQKhQgVChAqFCBUKFCoQKFQgVKhAqVCBUqECoUIFQoQKhQgVChQonTS5elmVPRKwxxnWJVVVVywOeEhpkjBmISN9x/NW9bizUPM976/X602Qy6Xa73cJljSzL5saYL8TafsaYwXg8vrLWjlzmd+11Y6GuVquTIAjOptNpcXl5Oa87n6ZpMJvNRkmS9EWEUNuvb60dxXG8DMOw1o1pn71u9NEvInJ+fl5EUfTsOD446MmgcWEYuu73q3vdeKg+PN9xeb89Iq0N1fcdl/fb49LaUH3ecdM0DW5ubqIkSS6MMZnrKfxvkXt+tdvNZtM75Pn8rrWhbrm84x7iF4enp6eFMeariLjMd0Rk43JceaMLxPerfb1eB2VZfiyK4lpEXL9J/qr1obrw/cXh4eHh3e3t7efJZHJRN/SyLHt5nn8YDoffO53Ouu6xPS8QEfeLxA6HwyiO46zuV7uIyP39/eju7u7s5eWl63DsnY4y1C3XXxzm8/nANfSfG/Z+Op1+qzvrc4GI+F0k2zvi6enptev/Wd2ZOo46VF8uoW83zHXW50ngc5E0fUf0Ragt5PMkcJ1v+o7oiz9KgQqEChUIFSoQKlTY62MqTdOg7sKLxSIQEcnzPHh8fDz7l/Naj631vH3n9+nrB0ZDgA+e+GCoAAAAAElFTkSuQmCC\"></img></td>\n",
       "      <td id=\"T_7130d_row72_col5\" class=\"data row72 col5\" >0<br>(0.0%)</td>\n",
       "    </tr>\n",
       "    <tr>\n",
       "      <td id=\"T_7130d_row73_col0\" class=\"data row73 col0\" >74</td>\n",
       "      <td id=\"T_7130d_row73_col1\" class=\"data row73 col1\" ><strong>extra_exp_pl_flag_high</strong><br>[float64]</td>\n",
       "      <td id=\"T_7130d_row73_col2\" class=\"data row73 col2\" >1. 0.0<br>2. 1.0</td>\n",
       "      <td id=\"T_7130d_row73_col3\" class=\"data row73 col3\" >19,029 (100.0%)<br>7 (0.0%)</td>\n",
       "      <td id=\"T_7130d_row73_col4\" class=\"data row73 col4\" ><img src = \"data:image/png;base64, iVBORw0KGgoAAAANSUhEUgAAAJsAAAAuCAYAAAA/ZmtKAAAAOXRFWHRTb2Z0d2FyZQBNYXRwbG90bGliIHZlcnNpb24zLjcuMCwgaHR0cHM6Ly9tYXRwbG90bGliLm9yZy88F64QAAAACXBIWXMAAA9hAAAPYQGoP6dpAAAA/0lEQVR4nO3bwUkEMQBG4T/DoOslYQlMCdrDFuHV3u0iF11P48EafIHs+yr4Dw9CICnneUYilCQvSZ5mD9H69t77e631OnuI1rfXWq+32+27tXafPUbrGmNc9iRprd2P4/iaPUhr22YP0OMwNmGMTRhjE8bYhDE2YYxNGGMTxtiEMTZhjE0YYxPG2IQxNmGMTZg9+XvYNnuI1jbGuJTe+4fPwkXww4swxa98onhBEGYrpbyVUrwg6N9tSV6TPM8eovV5jApjbMIYmzDGJoyxCWNswhibMMYmjLEJY2zCGJswxiaMsQljbMIYmzDGJoyxCbMl+UzyM3uI1ufvKmF+AXVbGymqDU4XAAAAAElFTkSuQmCC\"></img></td>\n",
       "      <td id=\"T_7130d_row73_col5\" class=\"data row73 col5\" >0<br>(0.0%)</td>\n",
       "    </tr>\n",
       "    <tr>\n",
       "      <td id=\"T_7130d_row74_col0\" class=\"data row74 col0\" >75</td>\n",
       "      <td id=\"T_7130d_row74_col1\" class=\"data row74 col1\" ><strong>extra_inc_pl_flag_high</strong><br>[float64]</td>\n",
       "      <td id=\"T_7130d_row74_col2\" class=\"data row74 col2\" >1. 0.0<br>2. 1.0</td>\n",
       "      <td id=\"T_7130d_row74_col3\" class=\"data row74 col3\" >18,989 (99.8%)<br>47 (0.2%)</td>\n",
       "      <td id=\"T_7130d_row74_col4\" class=\"data row74 col4\" ><img src = \"data:image/png;base64, iVBORw0KGgoAAAANSUhEUgAAAJsAAAAuCAYAAAA/ZmtKAAAAOXRFWHRTb2Z0d2FyZQBNYXRwbG90bGliIHZlcnNpb24zLjcuMCwgaHR0cHM6Ly9tYXRwbG90bGliLm9yZy88F64QAAAACXBIWXMAAA9hAAAPYQGoP6dpAAAA/0lEQVR4nO3bwUkEMQBG4T/DoOslYQlMCdrDFuHV3u0iF11P48EafIHs+yr4Dw9CICnneUYilCQvSZ5mD9H69t77e631OnuI1rfXWq+32+27tXafPUbrGmNc9iRprd2P4/iaPUhr22YP0OMwNmGMTRhjE8bYhDE2YYxNGGMTxtiEMTZhjE0YYxPG2IQxNmGMTZg9+XvYNnuI1jbGuJTe+4fPwkXww4swxa98onhBEGYrpbyVUrwg6N9tSV6TPM8eovV5jApjbMIYmzDGJoyxCWNswhibMMYmjLEJY2zCGJswxiaMsQljbMIYmzDGJoyxCbMl+UzyM3uI1ufvKmF+AXVbGymqDU4XAAAAAElFTkSuQmCC\"></img></td>\n",
       "      <td id=\"T_7130d_row74_col5\" class=\"data row74 col5\" >0<br>(0.0%)</td>\n",
       "    </tr>\n",
       "    <tr>\n",
       "      <td id=\"T_7130d_row75_col0\" class=\"data row75 col0\" >76</td>\n",
       "      <td id=\"T_7130d_row75_col1\" class=\"data row75 col1\" ><strong>inventories_pl_flag_high</strong><br>[float64]</td>\n",
       "      <td id=\"T_7130d_row75_col2\" class=\"data row75 col2\" >1. 0.0<br>2. 1.0</td>\n",
       "      <td id=\"T_7130d_row75_col3\" class=\"data row75 col3\" >18,613 (97.8%)<br>423 (2.2%)</td>\n",
       "      <td id=\"T_7130d_row75_col4\" class=\"data row75 col4\" ><img src = \"data:image/png;base64, iVBORw0KGgoAAAANSUhEUgAAAJsAAAAuCAYAAAA/ZmtKAAAAOXRFWHRTb2Z0d2FyZQBNYXRwbG90bGliIHZlcnNpb24zLjcuMCwgaHR0cHM6Ly9tYXRwbG90bGliLm9yZy88F64QAAAACXBIWXMAAA9hAAAPYQGoP6dpAAABO0lEQVR4nO3bMY6CQByF8TeGmLVhQkg4DIfYw+4huA0hTLEYm9lilaA1vknw+1Xa/YsvRg0v5JwFOARJF0nn0ofgsG4550WSqrZtv+u6bkpfhGNKKU0hhJ+c81LVdd30fb/EGK+lD8OxzPP8NQxDM47jWdJSSVKM8dp13W/h23BMl8eLU8kr8FmIDTbEBhtigw2xwYbYYENssCE22BAbbIgNNsQGG2KDDbHBhthgQ2ywqaT/h9xKH4Ljee2qSilNwzA02jzkBuwlpTRJukkMXvB+6+AlMOWDy+sn21ohsLenKd92dlX6MBzP6THl6/t+uUfH9ze8xTrlu7/nFynehj91YUNssCE22BAbbIgNNsQGG2KDDbHBhthgQ2ywITbYEBtsiA02xAYbYoMNUz7YbKd8T7MrYG8MXmDzB6Z6XoDADA8xAAAAAElFTkSuQmCC\"></img></td>\n",
       "      <td id=\"T_7130d_row75_col5\" class=\"data row75 col5\" >0<br>(0.0%)</td>\n",
       "    </tr>\n",
       "    <tr>\n",
       "      <td id=\"T_7130d_row76_col0\" class=\"data row76 col0\" >77</td>\n",
       "      <td id=\"T_7130d_row76_col1\" class=\"data row76 col1\" ><strong>material_exp_pl_flag_high</strong><br>[float64]</td>\n",
       "      <td id=\"T_7130d_row76_col2\" class=\"data row76 col2\" >1. 0.0<br>2. 1.0</td>\n",
       "      <td id=\"T_7130d_row76_col3\" class=\"data row76 col3\" >16,050 (84.3%)<br>2,986 (15.7%)</td>\n",
       "      <td id=\"T_7130d_row76_col4\" class=\"data row76 col4\" ><img src = \"data:image/png;base64, iVBORw0KGgoAAAANSUhEUgAAAJsAAAAuCAYAAAA/ZmtKAAAAOXRFWHRTb2Z0d2FyZQBNYXRwbG90bGliIHZlcnNpb24zLjcuMCwgaHR0cHM6Ly9tYXRwbG90bGliLm9yZy88F64QAAAACXBIWXMAAA9hAAAPYQGoP6dpAAABNUlEQVR4nO3bwYnDMBhE4dFiwuYiYQwuxkVssVuEuzHGOiQhF+1hL27gH0fwvgIkH14CCZ7UWhPgkCTdJd2ufhB8hHdr7Rl1+DBN00/OeYy6AP2ote4ppd+o4Iac87gsy7OU8oq4AH04juN7Xddx27abpJjYJKmU8prn+RFxAbpyjzz8K/Jw4IzYYENssCE22BAbbIgNNsQGG2KDDbHBhthgQ2ywITbYEBtsiA02xAabQfp/ce7qB8G1HA0MtdZ9XddRwS/O4fPVWndJ76jzGbzgLHTwkpjywcXxzRb6aUE/wqd80fMw9CN0yueYh6Efjikfv3IhiT91YURssCE22BAbbIgNNsQGG2KDDbHBhthgQ2ywITbYEBtsiA02xAYbYoNN6JSPiSDOwqd80fMw9IPBC2z+AApbat9kj2SdAAAAAElFTkSuQmCC\"></img></td>\n",
       "      <td id=\"T_7130d_row76_col5\" class=\"data row76 col5\" >0<br>(0.0%)</td>\n",
       "    </tr>\n",
       "    <tr>\n",
       "      <td id=\"T_7130d_row77_col0\" class=\"data row77 col0\" >78</td>\n",
       "      <td id=\"T_7130d_row77_col1\" class=\"data row77 col1\" ><strong>personnel_exp_pl_flag_high</strong><br>[float64]</td>\n",
       "      <td id=\"T_7130d_row77_col2\" class=\"data row77 col2\" >1. 0.0<br>2. 1.0</td>\n",
       "      <td id=\"T_7130d_row77_col3\" class=\"data row77 col3\" >18,276 (96.0%)<br>760 (4.0%)</td>\n",
       "      <td id=\"T_7130d_row77_col4\" class=\"data row77 col4\" ><img src = \"data:image/png;base64, iVBORw0KGgoAAAANSUhEUgAAAJsAAAAuCAYAAAA/ZmtKAAAAOXRFWHRTb2Z0d2FyZQBNYXRwbG90bGliIHZlcnNpb24zLjcuMCwgaHR0cHM6Ly9tYXRwbG90bGliLm9yZy88F64QAAAACXBIWXMAAA9hAAAPYQGoP6dpAAABOUlEQVR4nO3bMWrDMBiG4V/FhGaRMAYfxofoYXsI3cYYa2hCFnXoVGMZYppPoL7P6OkfXgwJ/lzO2QAFZ2ZXM7vUPgRNeeScb9uH3TAMH977vsZFaFNKaXHOfW6D67z3/TRNtxDCvdZxaMe6ru8xxn6e54uZ/Y7NzCyEcB/H8avKdWjRde/hm/oK/F/EBhligwyxQYbYIENskCE2yBAbZIgNMsQGGWKDDLFBhtggQ2yQITbIdGY/H7zVPgRtOGqpSyktMcbeCh+8Ac9KKS1m9tg+Z/CCV9gdvDimfFA5erPt1gmcVZzyleZYwFm7U76jORZw1tGUj1+n+FP8qQsZYoMMsUGG2CBDbJAhNsgQG2SIDTLEBhligwyxQYbYIENskCE2yBAbZHanfEz78ArFKV9pjgWcxeAFMt8KW2rfzqzdbgAAAABJRU5ErkJggg==\"></img></td>\n",
       "      <td id=\"T_7130d_row77_col5\" class=\"data row77 col5\" >0<br>(0.0%)</td>\n",
       "    </tr>\n",
       "    <tr>\n",
       "      <td id=\"T_7130d_row78_col0\" class=\"data row78 col0\" >79</td>\n",
       "      <td id=\"T_7130d_row78_col1\" class=\"data row78 col1\" ><strong>curr_liab_bs_flag_high</strong><br>[float64]</td>\n",
       "      <td id=\"T_7130d_row78_col2\" class=\"data row78 col2\" >1. 0.0<br>2. 1.0</td>\n",
       "      <td id=\"T_7130d_row78_col3\" class=\"data row78 col3\" >13,603 (71.5%)<br>5,433 (28.5%)</td>\n",
       "      <td id=\"T_7130d_row78_col4\" class=\"data row78 col4\" ><img src = \"data:image/png;base64, iVBORw0KGgoAAAANSUhEUgAAAJsAAAAuCAYAAAA/ZmtKAAAAOXRFWHRTb2Z0d2FyZQBNYXRwbG90bGliIHZlcnNpb24zLjcuMCwgaHR0cHM6Ly9tYXRwbG90bGliLm9yZy88F64QAAAACXBIWXMAAA9hAAAPYQGoP6dpAAABO0lEQVR4nO3bMWrDQBCF4dkgTNzsIgQ6jA6Rw+YQexthtEVs3GwKF2pSSC7eMOT/TjDg3wYLvdR7N0AhmdnVzC7eh+Atz9773fuIo4Zpmr5yzqP3ITivtXZLKX1HCW7IOY/LstxLKQ/vY3Dctm2ftdZxXdeLmcWIzcyslPKY5/nH+xicdvU+4IwP7wPwfxAbZIgNMsQGGWKDDLFBhtggQ2yQITbIEBtkiA0yxAYZYoMMsUGG2CAzmL1exPM+BOdE/MyG1tqt1jpasBfx8Hot3Mye3nccxeAltlCDl8SUDyoRf9lCfZuxCzflizZfwy7UlC/ifA27iFM+/jUHxUNdyBAbZIgNMsQGGWKDDLFBhtggQ2yQITbIEBtkiA0yxAYZYoMMsUGG2CATasoX5U78LdyUL9p8DTsGL5D5BQpbat+rUw8kAAAAAElFTkSuQmCC\"></img></td>\n",
       "      <td id=\"T_7130d_row78_col5\" class=\"data row78 col5\" >0<br>(0.0%)</td>\n",
       "    </tr>\n",
       "    <tr>\n",
       "      <td id=\"T_7130d_row79_col0\" class=\"data row79 col0\" >80</td>\n",
       "      <td id=\"T_7130d_row79_col1\" class=\"data row79 col1\" ><strong>liq_assets_bs_flag_high</strong><br>[float64]</td>\n",
       "      <td id=\"T_7130d_row79_col2\" class=\"data row79 col2\" >1. 0.0<br>2. 1.0</td>\n",
       "      <td id=\"T_7130d_row79_col3\" class=\"data row79 col3\" >19,031 (100.0%)<br>5 (0.0%)</td>\n",
       "      <td id=\"T_7130d_row79_col4\" class=\"data row79 col4\" ><img src = \"data:image/png;base64, iVBORw0KGgoAAAANSUhEUgAAAJsAAAAuCAYAAAA/ZmtKAAAAOXRFWHRTb2Z0d2FyZQBNYXRwbG90bGliIHZlcnNpb24zLjcuMCwgaHR0cHM6Ly9tYXRwbG90bGliLm9yZy88F64QAAAACXBIWXMAAA9hAAAPYQGoP6dpAAAA/0lEQVR4nO3bwUkEMQBG4T/DoOslYQlMCdrDFuHV3u0iF11P48EafIHs+yr4Dw9CICnneUYilCQvSZ5mD9H69t77e631OnuI1rfXWq+32+27tXafPUbrGmNc9iRprd2P4/iaPUhr22YP0OMwNmGMTRhjE8bYhDE2YYxNGGMTxtiEMTZhjE0YYxPG2IQxNmGMTZg9+XvYNnuI1jbGuJTe+4fPwkXww4swxa98onhBEGYrpbyVUrwg6N9tSV6TPM8eovV5jApjbMIYmzDGJoyxCWNswhibMMYmjLEJY2zCGJswxiaMsQljbMIYmzDGJoyxCbMl+UzyM3uI1ufvKmF+AXVbGymqDU4XAAAAAElFTkSuQmCC\"></img></td>\n",
       "      <td id=\"T_7130d_row79_col5\" class=\"data row79 col5\" >0<br>(0.0%)</td>\n",
       "    </tr>\n",
       "    <tr>\n",
       "      <td id=\"T_7130d_row80_col0\" class=\"data row80 col0\" >81</td>\n",
       "      <td id=\"T_7130d_row80_col1\" class=\"data row80 col1\" ><strong>subscribed_cap_bs_flag_high</strong><br>[float64]</td>\n",
       "      <td id=\"T_7130d_row80_col2\" class=\"data row80 col2\" >1. 0.0<br>2. 1.0</td>\n",
       "      <td id=\"T_7130d_row80_col3\" class=\"data row80 col3\" >16,667 (87.6%)<br>2,369 (12.4%)</td>\n",
       "      <td id=\"T_7130d_row80_col4\" class=\"data row80 col4\" ><img src = \"data:image/png;base64, iVBORw0KGgoAAAANSUhEUgAAAJsAAAAuCAYAAAA/ZmtKAAAAOXRFWHRTb2Z0d2FyZQBNYXRwbG90bGliIHZlcnNpb24zLjcuMCwgaHR0cHM6Ly9tYXRwbG90bGliLm9yZy88F64QAAAACXBIWXMAAA9hAAAPYQGoP6dpAAABN0lEQVR4nO3bQWrDMBhE4V/FhGYjYQw+jA/Rw/YQvo0x1qIJ2aiLrosXGSZBvO8AQosXg4MntdYCcEgRcY2Iy6svgrf1aK3dFAcN0zR95ZxHxWHoT611Tyl9K4Ibcs7jsiy3UspdcTn04ziOz3Vdx23bLhHxfGwREaWU+zzPP0/fDj26qg76UB0EnCE22BAbbIgNNsQGG2KDDbHBhthgQ2ywITbYEBtsiA02xAYbYoMNscFmiPj7SO7VF8H7UXcx1Fr3dV3HEH4kh37UWveIeCjOYvCCM7LBS2LKBxf1k032K0B/pFM+5ewL/ZFN+dSzL/RHPeXjjRb/4k9d2BAbbIgNNsQGG2KDDbHBhthgQ2ywITbYEBtsiA02xAYbYoMNscGG2GAjm/IxB8QZ6ZRPOftCfxi8wOYXCltq3zIlI8QAAAAASUVORK5CYII=\"></img></td>\n",
       "      <td id=\"T_7130d_row80_col5\" class=\"data row80 col5\" >0<br>(0.0%)</td>\n",
       "    </tr>\n",
       "    <tr>\n",
       "      <td id=\"T_7130d_row81_col0\" class=\"data row81 col0\" >82</td>\n",
       "      <td id=\"T_7130d_row81_col1\" class=\"data row81 col1\" ><strong>extra_exp_pl_flag_error</strong><br>[float64]</td>\n",
       "      <td id=\"T_7130d_row81_col2\" class=\"data row81 col2\" >1. 0.0<br>2. 1.0</td>\n",
       "      <td id=\"T_7130d_row81_col3\" class=\"data row81 col3\" >19,033 (100.0%)<br>3 (0.0%)</td>\n",
       "      <td id=\"T_7130d_row81_col4\" class=\"data row81 col4\" ><img src = \"data:image/png;base64, iVBORw0KGgoAAAANSUhEUgAAAJsAAAAuCAYAAAA/ZmtKAAAAOXRFWHRTb2Z0d2FyZQBNYXRwbG90bGliIHZlcnNpb24zLjcuMCwgaHR0cHM6Ly9tYXRwbG90bGliLm9yZy88F64QAAAACXBIWXMAAA9hAAAPYQGoP6dpAAAA/0lEQVR4nO3bwUkEMQBG4T/DoOslYQlMCdrDFuHV3u0iF11P48EafIHs+yr4Dw9CICnneUYilCQvSZ5mD9H69t77e631OnuI1rfXWq+32+27tXafPUbrGmNc9iRprd2P4/iaPUhr22YP0OMwNmGMTRhjE8bYhDE2YYxNGGMTxtiEMTZhjE0YYxPG2IQxNmGMTZg9+XvYNnuI1jbGuJTe+4fPwkXww4swxa98onhBEGYrpbyVUrwg6N9tSV6TPM8eovV5jApjbMIYmzDGJoyxCWNswhibMMYmjLEJY2zCGJswxiaMsQljbMIYmzDGJoyxCbMl+UzyM3uI1ufvKmF+AXVbGymqDU4XAAAAAElFTkSuQmCC\"></img></td>\n",
       "      <td id=\"T_7130d_row81_col5\" class=\"data row81 col5\" >0<br>(0.0%)</td>\n",
       "    </tr>\n",
       "    <tr>\n",
       "      <td id=\"T_7130d_row82_col0\" class=\"data row82 col0\" >83</td>\n",
       "      <td id=\"T_7130d_row82_col1\" class=\"data row82 col1\" ><strong>extra_inc_pl_flag_error</strong><br>[float64]</td>\n",
       "      <td id=\"T_7130d_row82_col2\" class=\"data row82 col2\" >1. 0.0<br>2. 1.0</td>\n",
       "      <td id=\"T_7130d_row82_col3\" class=\"data row82 col3\" >19,034 (100.0%)<br>2 (0.0%)</td>\n",
       "      <td id=\"T_7130d_row82_col4\" class=\"data row82 col4\" ><img src = \"data:image/png;base64, iVBORw0KGgoAAAANSUhEUgAAAJsAAAAuCAYAAAA/ZmtKAAAAOXRFWHRTb2Z0d2FyZQBNYXRwbG90bGliIHZlcnNpb24zLjcuMCwgaHR0cHM6Ly9tYXRwbG90bGliLm9yZy88F64QAAAACXBIWXMAAA9hAAAPYQGoP6dpAAAA/0lEQVR4nO3bwUkEMQBG4T/DoOslYQlMCdrDFuHV3u0iF11P48EafIHs+yr4Dw9CICnneUYilCQvSZ5mD9H69t77e631OnuI1rfXWq+32+27tXafPUbrGmNc9iRprd2P4/iaPUhr22YP0OMwNmGMTRhjE8bYhDE2YYxNGGMTxtiEMTZhjE0YYxPG2IQxNmGMTZg9+XvYNnuI1jbGuJTe+4fPwkXww4swxa98onhBEGYrpbyVUrwg6N9tSV6TPM8eovV5jApjbMIYmzDGJoyxCWNswhibMMYmjLEJY2zCGJswxiaMsQljbMIYmzDGJoyxCbMl+UzyM3uI1ufvKmF+AXVbGymqDU4XAAAAAElFTkSuQmCC\"></img></td>\n",
       "      <td id=\"T_7130d_row82_col5\" class=\"data row82 col5\" >0<br>(0.0%)</td>\n",
       "    </tr>\n",
       "    <tr>\n",
       "      <td id=\"T_7130d_row83_col0\" class=\"data row83 col0\" >84</td>\n",
       "      <td id=\"T_7130d_row83_col1\" class=\"data row83 col1\" ><strong>inventories_pl_flag_error</strong><br>[float64]</td>\n",
       "      <td id=\"T_7130d_row83_col2\" class=\"data row83 col2\" >1. 0.0<br>2. 1.0</td>\n",
       "      <td id=\"T_7130d_row83_col3\" class=\"data row83 col3\" >19,032 (100.0%)<br>4 (0.0%)</td>\n",
       "      <td id=\"T_7130d_row83_col4\" class=\"data row83 col4\" ><img src = \"data:image/png;base64, iVBORw0KGgoAAAANSUhEUgAAAJsAAAAuCAYAAAA/ZmtKAAAAOXRFWHRTb2Z0d2FyZQBNYXRwbG90bGliIHZlcnNpb24zLjcuMCwgaHR0cHM6Ly9tYXRwbG90bGliLm9yZy88F64QAAAACXBIWXMAAA9hAAAPYQGoP6dpAAAA/0lEQVR4nO3bwUkEMQBG4T/DoOslYQlMCdrDFuHV3u0iF11P48EafIHs+yr4Dw9CICnneUYilCQvSZ5mD9H69t77e631OnuI1rfXWq+32+27tXafPUbrGmNc9iRprd2P4/iaPUhr22YP0OMwNmGMTRhjE8bYhDE2YYxNGGMTxtiEMTZhjE0YYxPG2IQxNmGMTZg9+XvYNnuI1jbGuJTe+4fPwkXww4swxa98onhBEGYrpbyVUrwg6N9tSV6TPM8eovV5jApjbMIYmzDGJoyxCWNswhibMMYmjLEJY2zCGJswxiaMsQljbMIYmzDGJoyxCbMl+UzyM3uI1ufvKmF+AXVbGymqDU4XAAAAAElFTkSuQmCC\"></img></td>\n",
       "      <td id=\"T_7130d_row83_col5\" class=\"data row83 col5\" >0<br>(0.0%)</td>\n",
       "    </tr>\n",
       "    <tr>\n",
       "      <td id=\"T_7130d_row84_col0\" class=\"data row84 col0\" >85</td>\n",
       "      <td id=\"T_7130d_row84_col1\" class=\"data row84 col1\" ><strong>material_exp_pl_flag_error</strong><br>[float64]</td>\n",
       "      <td id=\"T_7130d_row84_col2\" class=\"data row84 col2\" >1. 0.0<br>2. 1.0</td>\n",
       "      <td id=\"T_7130d_row84_col3\" class=\"data row84 col3\" >19,032 (100.0%)<br>4 (0.0%)</td>\n",
       "      <td id=\"T_7130d_row84_col4\" class=\"data row84 col4\" ><img src = \"data:image/png;base64, iVBORw0KGgoAAAANSUhEUgAAAJsAAAAuCAYAAAA/ZmtKAAAAOXRFWHRTb2Z0d2FyZQBNYXRwbG90bGliIHZlcnNpb24zLjcuMCwgaHR0cHM6Ly9tYXRwbG90bGliLm9yZy88F64QAAAACXBIWXMAAA9hAAAPYQGoP6dpAAAA/0lEQVR4nO3bwUkEMQBG4T/DoOslYQlMCdrDFuHV3u0iF11P48EafIHs+yr4Dw9CICnneUYilCQvSZ5mD9H69t77e631OnuI1rfXWq+32+27tXafPUbrGmNc9iRprd2P4/iaPUhr22YP0OMwNmGMTRhjE8bYhDE2YYxNGGMTxtiEMTZhjE0YYxPG2IQxNmGMTZg9+XvYNnuI1jbGuJTe+4fPwkXww4swxa98onhBEGYrpbyVUrwg6N9tSV6TPM8eovV5jApjbMIYmzDGJoyxCWNswhibMMYmjLEJY2zCGJswxiaMsQljbMIYmzDGJoyxCbMl+UzyM3uI1ufvKmF+AXVbGymqDU4XAAAAAElFTkSuQmCC\"></img></td>\n",
       "      <td id=\"T_7130d_row84_col5\" class=\"data row84 col5\" >0<br>(0.0%)</td>\n",
       "    </tr>\n",
       "    <tr>\n",
       "      <td id=\"T_7130d_row85_col0\" class=\"data row85 col0\" >86</td>\n",
       "      <td id=\"T_7130d_row85_col1\" class=\"data row85 col1\" ><strong>personnel_exp_pl_flag_error</strong><br>[float64]</td>\n",
       "      <td id=\"T_7130d_row85_col2\" class=\"data row85 col2\" >1. 0.0<br>2. 1.0</td>\n",
       "      <td id=\"T_7130d_row85_col3\" class=\"data row85 col3\" >19,030 (100.0%)<br>6 (0.0%)</td>\n",
       "      <td id=\"T_7130d_row85_col4\" class=\"data row85 col4\" ><img src = \"data:image/png;base64, iVBORw0KGgoAAAANSUhEUgAAAJsAAAAuCAYAAAA/ZmtKAAAAOXRFWHRTb2Z0d2FyZQBNYXRwbG90bGliIHZlcnNpb24zLjcuMCwgaHR0cHM6Ly9tYXRwbG90bGliLm9yZy88F64QAAAACXBIWXMAAA9hAAAPYQGoP6dpAAAA/0lEQVR4nO3bwUkEMQBG4T/DoOslYQlMCdrDFuHV3u0iF11P48EafIHs+yr4Dw9CICnneUYilCQvSZ5mD9H69t77e631OnuI1rfXWq+32+27tXafPUbrGmNc9iRprd2P4/iaPUhr22YP0OMwNmGMTRhjE8bYhDE2YYxNGGMTxtiEMTZhjE0YYxPG2IQxNmGMTZg9+XvYNnuI1jbGuJTe+4fPwkXww4swxa98onhBEGYrpbyVUrwg6N9tSV6TPM8eovV5jApjbMIYmzDGJoyxCWNswhibMMYmjLEJY2zCGJswxiaMsQljbMIYmzDGJoyxCbMl+UzyM3uI1ufvKmF+AXVbGymqDU4XAAAAAElFTkSuQmCC\"></img></td>\n",
       "      <td id=\"T_7130d_row85_col5\" class=\"data row85 col5\" >0<br>(0.0%)</td>\n",
       "    </tr>\n",
       "    <tr>\n",
       "      <td id=\"T_7130d_row86_col0\" class=\"data row86 col0\" >87</td>\n",
       "      <td id=\"T_7130d_row86_col1\" class=\"data row86 col1\" ><strong>curr_liab_bs_flag_error</strong><br>[float64]</td>\n",
       "      <td id=\"T_7130d_row86_col2\" class=\"data row86 col2\" >1. 0.0<br>2. 1.0</td>\n",
       "      <td id=\"T_7130d_row86_col3\" class=\"data row86 col3\" >19,027 (100.0%)<br>9 (0.0%)</td>\n",
       "      <td id=\"T_7130d_row86_col4\" class=\"data row86 col4\" ><img src = \"data:image/png;base64, iVBORw0KGgoAAAANSUhEUgAAAJsAAAAuCAYAAAA/ZmtKAAAAOXRFWHRTb2Z0d2FyZQBNYXRwbG90bGliIHZlcnNpb24zLjcuMCwgaHR0cHM6Ly9tYXRwbG90bGliLm9yZy88F64QAAAACXBIWXMAAA9hAAAPYQGoP6dpAAAA/0lEQVR4nO3bwUkEMQBG4T/DoOslYQlMCdrDFuHV3u0iF11P48EafIHs+yr4Dw9CICnneUYilCQvSZ5mD9H69t77e631OnuI1rfXWq+32+27tXafPUbrGmNc9iRprd2P4/iaPUhr22YP0OMwNmGMTRhjE8bYhDE2YYxNGGMTxtiEMTZhjE0YYxPG2IQxNmGMTZg9+XvYNnuI1jbGuJTe+4fPwkXww4swxa98onhBEGYrpbyVUrwg6N9tSV6TPM8eovV5jApjbMIYmzDGJoyxCWNswhibMMYmjLEJY2zCGJswxiaMsQljbMIYmzDGJoyxCbMl+UzyM3uI1ufvKmF+AXVbGymqDU4XAAAAAElFTkSuQmCC\"></img></td>\n",
       "      <td id=\"T_7130d_row86_col5\" class=\"data row86 col5\" >0<br>(0.0%)</td>\n",
       "    </tr>\n",
       "    <tr>\n",
       "      <td id=\"T_7130d_row87_col0\" class=\"data row87 col0\" >88</td>\n",
       "      <td id=\"T_7130d_row87_col1\" class=\"data row87 col1\" ><strong>liq_assets_bs_flag_error</strong><br>[float64]</td>\n",
       "      <td id=\"T_7130d_row87_col2\" class=\"data row87 col2\" >1. 0.0<br>2. 1.0</td>\n",
       "      <td id=\"T_7130d_row87_col3\" class=\"data row87 col3\" >19,009 (99.9%)<br>27 (0.1%)</td>\n",
       "      <td id=\"T_7130d_row87_col4\" class=\"data row87 col4\" ><img src = \"data:image/png;base64, iVBORw0KGgoAAAANSUhEUgAAAJsAAAAuCAYAAAA/ZmtKAAAAOXRFWHRTb2Z0d2FyZQBNYXRwbG90bGliIHZlcnNpb24zLjcuMCwgaHR0cHM6Ly9tYXRwbG90bGliLm9yZy88F64QAAAACXBIWXMAAA9hAAAPYQGoP6dpAAAA/0lEQVR4nO3bwUkEMQBG4T/DoOslYQlMCdrDFuHV3u0iF11P48EafIHs+yr4Dw9CICnneUYilCQvSZ5mD9H69t77e631OnuI1rfXWq+32+27tXafPUbrGmNc9iRprd2P4/iaPUhr22YP0OMwNmGMTRhjE8bYhDE2YYxNGGMTxtiEMTZhjE0YYxPG2IQxNmGMTZg9+XvYNnuI1jbGuJTe+4fPwkXww4swxa98onhBEGYrpbyVUrwg6N9tSV6TPM8eovV5jApjbMIYmzDGJoyxCWNswhibMMYmjLEJY2zCGJswxiaMsQljbMIYmzDGJoyxCbMl+UzyM3uI1ufvKmF+AXVbGymqDU4XAAAAAElFTkSuQmCC\"></img></td>\n",
       "      <td id=\"T_7130d_row87_col5\" class=\"data row87 col5\" >0<br>(0.0%)</td>\n",
       "    </tr>\n",
       "    <tr>\n",
       "      <td id=\"T_7130d_row88_col0\" class=\"data row88 col0\" >89</td>\n",
       "      <td id=\"T_7130d_row88_col1\" class=\"data row88 col1\" ><strong>subscribed_cap_bs_flag_error</strong><br>[float64]</td>\n",
       "      <td id=\"T_7130d_row88_col2\" class=\"data row88 col2\" >1. 0.0<br>2. 1.0</td>\n",
       "      <td id=\"T_7130d_row88_col3\" class=\"data row88 col3\" >19,035 (100.0%)<br>1 (0.0%)</td>\n",
       "      <td id=\"T_7130d_row88_col4\" class=\"data row88 col4\" ><img src = \"data:image/png;base64, iVBORw0KGgoAAAANSUhEUgAAAJsAAAAuCAYAAAA/ZmtKAAAAOXRFWHRTb2Z0d2FyZQBNYXRwbG90bGliIHZlcnNpb24zLjcuMCwgaHR0cHM6Ly9tYXRwbG90bGliLm9yZy88F64QAAAACXBIWXMAAA9hAAAPYQGoP6dpAAAA/0lEQVR4nO3bwUkEMQBG4T/DoOslYQlMCdrDFuHV3u0iF11P48EafIHs+yr4Dw9CICnneUYilCQvSZ5mD9H69t77e631OnuI1rfXWq+32+27tXafPUbrGmNc9iRprd2P4/iaPUhr22YP0OMwNmGMTRhjE8bYhDE2YYxNGGMTxtiEMTZhjE0YYxPG2IQxNmGMTZg9+XvYNnuI1jbGuJTe+4fPwkXww4swxa98onhBEGYrpbyVUrwg6N9tSV6TPM8eovV5jApjbMIYmzDGJoyxCWNswhibMMYmjLEJY2zCGJswxiaMsQljbMIYmzDGJoyxCbMl+UzyM3uI1ufvKmF+AXVbGymqDU4XAAAAAElFTkSuQmCC\"></img></td>\n",
       "      <td id=\"T_7130d_row88_col5\" class=\"data row88 col5\" >0<br>(0.0%)</td>\n",
       "    </tr>\n",
       "    <tr>\n",
       "      <td id=\"T_7130d_row89_col0\" class=\"data row89 col0\" >90</td>\n",
       "      <td id=\"T_7130d_row89_col1\" class=\"data row89 col1\" ><strong>extra_profit_loss_pl_flag_low</strong><br>[float64]</td>\n",
       "      <td id=\"T_7130d_row89_col2\" class=\"data row89 col2\" >1. 0.0<br>2. 1.0</td>\n",
       "      <td id=\"T_7130d_row89_col3\" class=\"data row89 col3\" >19,033 (100.0%)<br>3 (0.0%)</td>\n",
       "      <td id=\"T_7130d_row89_col4\" class=\"data row89 col4\" ><img src = \"data:image/png;base64, iVBORw0KGgoAAAANSUhEUgAAAJsAAAAuCAYAAAA/ZmtKAAAAOXRFWHRTb2Z0d2FyZQBNYXRwbG90bGliIHZlcnNpb24zLjcuMCwgaHR0cHM6Ly9tYXRwbG90bGliLm9yZy88F64QAAAACXBIWXMAAA9hAAAPYQGoP6dpAAAA/0lEQVR4nO3bwUkEMQBG4T/DoOslYQlMCdrDFuHV3u0iF11P48EafIHs+yr4Dw9CICnneUYilCQvSZ5mD9H69t77e631OnuI1rfXWq+32+27tXafPUbrGmNc9iRprd2P4/iaPUhr22YP0OMwNmGMTRhjE8bYhDE2YYxNGGMTxtiEMTZhjE0YYxPG2IQxNmGMTZg9+XvYNnuI1jbGuJTe+4fPwkXww4swxa98onhBEGYrpbyVUrwg6N9tSV6TPM8eovV5jApjbMIYmzDGJoyxCWNswhibMMYmjLEJY2zCGJswxiaMsQljbMIYmzDGJoyxCbMl+UzyM3uI1ufvKmF+AXVbGymqDU4XAAAAAElFTkSuQmCC\"></img></td>\n",
       "      <td id=\"T_7130d_row89_col5\" class=\"data row89 col5\" >0<br>(0.0%)</td>\n",
       "    </tr>\n",
       "    <tr>\n",
       "      <td id=\"T_7130d_row90_col0\" class=\"data row90 col0\" >91</td>\n",
       "      <td id=\"T_7130d_row90_col1\" class=\"data row90 col1\" ><strong>inc_bef_tax_pl_flag_low</strong><br>[float64]</td>\n",
       "      <td id=\"T_7130d_row90_col2\" class=\"data row90 col2\" >1. 0.0<br>2. 1.0</td>\n",
       "      <td id=\"T_7130d_row90_col3\" class=\"data row90 col3\" >17,708 (93.0%)<br>1,328 (7.0%)</td>\n",
       "      <td id=\"T_7130d_row90_col4\" class=\"data row90 col4\" ><img src = \"data:image/png;base64, iVBORw0KGgoAAAANSUhEUgAAAJsAAAAuCAYAAAA/ZmtKAAAAOXRFWHRTb2Z0d2FyZQBNYXRwbG90bGliIHZlcnNpb24zLjcuMCwgaHR0cHM6Ly9tYXRwbG90bGliLm9yZy88F64QAAAACXBIWXMAAA9hAAAPYQGoP6dpAAABOklEQVR4nO3bMWrDQBRF0T9BmLiZQQi0GC0ii80iZjdCaIrYuJkUIRDUZL6NnrG4p1bxi4vARi/UWg1QCGZ2NrPTsw/By7rVWi8tD3bDMHzEGPu9L8IxlVKWEMJnS3BdjLGfpumSUroqjsNxrOv6nnPu53k+mdn/sZmZpZSu4zh+7X4djujc+uDbnlcAfxEbZIgNMsQGGWKDDLFBhtggQ2yQITbIEBtkiA0yxAYZYoMMsUGG2CDTmf18BPfsQ/B6vN10pZQl59yb4yM44FcpZTGzW8uzDF7wqObBS2DKBxXvm625YmDLNeXzzLaAreYpn3e2BWx5p3z8YsXd+FMXMsQGGWKDDLFBhtggQ2yQITbIEBtkiA0yxAYZYoMMsUGG2CBDbJAhNsg0T/mY++FRrimfZ7YFbDF4gcw3Cltq37DVC0MAAAAASUVORK5CYII=\"></img></td>\n",
       "      <td id=\"T_7130d_row90_col5\" class=\"data row90 col5\" >0<br>(0.0%)</td>\n",
       "    </tr>\n",
       "    <tr>\n",
       "      <td id=\"T_7130d_row91_col0\" class=\"data row91 col0\" >92</td>\n",
       "      <td id=\"T_7130d_row91_col1\" class=\"data row91 col1\" ><strong>profit_loss_year_pl_flag_low</strong><br>[float64]</td>\n",
       "      <td id=\"T_7130d_row91_col2\" class=\"data row91 col2\" >1. 0.0<br>2. 1.0</td>\n",
       "      <td id=\"T_7130d_row91_col3\" class=\"data row91 col3\" >17,710 (93.0%)<br>1,326 (7.0%)</td>\n",
       "      <td id=\"T_7130d_row91_col4\" class=\"data row91 col4\" ><img src = \"data:image/png;base64, iVBORw0KGgoAAAANSUhEUgAAAJsAAAAuCAYAAAA/ZmtKAAAAOXRFWHRTb2Z0d2FyZQBNYXRwbG90bGliIHZlcnNpb24zLjcuMCwgaHR0cHM6Ly9tYXRwbG90bGliLm9yZy88F64QAAAACXBIWXMAAA9hAAAPYQGoP6dpAAABOklEQVR4nO3bMWrDQBRF0T9BmLiZQQi0GC0ii80iZjdCaIrYuJkUIRDUZL6NnrG4p1bxi4vARi/UWg1QCGZ2NrPTsw/By7rVWi8tD3bDMHzEGPu9L8IxlVKWEMJnS3BdjLGfpumSUroqjsNxrOv6nnPu53k+mdn/sZmZpZSu4zh+7X4djujc+uDbnlcAfxEbZIgNMsQGGWKDDLFBhtggQ2yQITbIEBtkiA0yxAYZYoMMsUGG2CDTmf18BPfsQ/B6vN10pZQl59yb4yM44FcpZTGzW8uzDF7wqObBS2DKBxXvm625YmDLNeXzzLaAreYpn3e2BWx5p3z8YsXd+FMXMsQGGWKDDLFBhtggQ2yQITbIEBtkiA0yxAYZYoMMsUGG2CBDbJAhNsg0T/mY++FRrimfZ7YFbDF4gcw3Cltq37DVC0MAAAAASUVORK5CYII=\"></img></td>\n",
       "      <td id=\"T_7130d_row91_col5\" class=\"data row91 col5\" >0<br>(0.0%)</td>\n",
       "    </tr>\n",
       "    <tr>\n",
       "      <td id=\"T_7130d_row92_col0\" class=\"data row92 col0\" >93</td>\n",
       "      <td id=\"T_7130d_row92_col1\" class=\"data row92 col1\" ><strong>share_eq_bs_flag_low</strong><br>[float64]</td>\n",
       "      <td id=\"T_7130d_row92_col2\" class=\"data row92 col2\" >1. 0.0<br>2. 1.0</td>\n",
       "      <td id=\"T_7130d_row92_col3\" class=\"data row92 col3\" >14,664 (77.0%)<br>4,372 (23.0%)</td>\n",
       "      <td id=\"T_7130d_row92_col4\" class=\"data row92 col4\" ><img src = \"data:image/png;base64, iVBORw0KGgoAAAANSUhEUgAAAJsAAAAuCAYAAAA/ZmtKAAAAOXRFWHRTb2Z0d2FyZQBNYXRwbG90bGliIHZlcnNpb24zLjcuMCwgaHR0cHM6Ly9tYXRwbG90bGliLm9yZy88F64QAAAACXBIWXMAAA9hAAAPYQGoP6dpAAABPElEQVR4nO3bQarCMBSF4ZtHEZ0klEIX00W42LeI7KaUZvAUJ3EggnPjycX3fyu44K9g6Qm1VgMUgpmdzOzQ+xB8xK3Weul9xNMwTdM5xjj2PgTtlVK2EMKvl+CGGOO4LMslpXTtfQza2ff9mHMe13U9mJmP2MzMUkrXeZ7/eh+D5k69D3j10/sA/B/EBhligwyxQYbYIENskCE2yBAbZIgNMsQGGWKDDLFBhtggQ2yQITbIDGaPF+16H4K2PH6mQyllyzmP5uxFO7yvlLKZ2a33HU8MXr6bq8FLYMoHFY+/bK6+jWjH3ZTP2/wM7bia8nmcn6Edj1M+/hV/KR7qQobYIENskCE2yBAbZIgNMsQGGWKDDLFBhtggQ2yQITbIEBtkiA0yxAYZV1M+L3fgM9xN+bzNz9AOgxfI3AEKW2rfNSUKrQAAAABJRU5ErkJggg==\"></img></td>\n",
       "      <td id=\"T_7130d_row92_col5\" class=\"data row92 col5\" >0<br>(0.0%)</td>\n",
       "    </tr>\n",
       "    <tr>\n",
       "      <td id=\"T_7130d_row93_col0\" class=\"data row93 col0\" >94</td>\n",
       "      <td id=\"T_7130d_row93_col1\" class=\"data row93 col1\" ><strong>extra_profit_loss_pl_flag_high</strong><br>[float64]</td>\n",
       "      <td id=\"T_7130d_row93_col2\" class=\"data row93 col2\" >1. 0.0<br>2. 1.0</td>\n",
       "      <td id=\"T_7130d_row93_col3\" class=\"data row93 col3\" >18,993 (99.8%)<br>43 (0.2%)</td>\n",
       "      <td id=\"T_7130d_row93_col4\" class=\"data row93 col4\" ><img src = \"data:image/png;base64, iVBORw0KGgoAAAANSUhEUgAAAJsAAAAuCAYAAAA/ZmtKAAAAOXRFWHRTb2Z0d2FyZQBNYXRwbG90bGliIHZlcnNpb24zLjcuMCwgaHR0cHM6Ly9tYXRwbG90bGliLm9yZy88F64QAAAACXBIWXMAAA9hAAAPYQGoP6dpAAAA/0lEQVR4nO3bwUkEMQBG4T/DoOslYQlMCdrDFuHV3u0iF11P48EafIHs+yr4Dw9CICnneUYilCQvSZ5mD9H69t77e631OnuI1rfXWq+32+27tXafPUbrGmNc9iRprd2P4/iaPUhr22YP0OMwNmGMTRhjE8bYhDE2YYxNGGMTxtiEMTZhjE0YYxPG2IQxNmGMTZg9+XvYNnuI1jbGuJTe+4fPwkXww4swxa98onhBEGYrpbyVUrwg6N9tSV6TPM8eovV5jApjbMIYmzDGJoyxCWNswhibMMYmjLEJY2zCGJswxiaMsQljbMIYmzDGJoyxCbMl+UzyM3uI1ufvKmF+AXVbGymqDU4XAAAAAElFTkSuQmCC\"></img></td>\n",
       "      <td id=\"T_7130d_row93_col5\" class=\"data row93 col5\" >0<br>(0.0%)</td>\n",
       "    </tr>\n",
       "    <tr>\n",
       "      <td id=\"T_7130d_row94_col0\" class=\"data row94 col0\" >95</td>\n",
       "      <td id=\"T_7130d_row94_col1\" class=\"data row94 col1\" ><strong>inc_bef_tax_pl_flag_high</strong><br>[float64]</td>\n",
       "      <td id=\"T_7130d_row94_col2\" class=\"data row94 col2\" >1. 0.0<br>2. 1.0</td>\n",
       "      <td id=\"T_7130d_row94_col3\" class=\"data row94 col3\" >18,949 (99.5%)<br>87 (0.5%)</td>\n",
       "      <td id=\"T_7130d_row94_col4\" class=\"data row94 col4\" ><img src = \"data:image/png;base64, iVBORw0KGgoAAAANSUhEUgAAAJsAAAAuCAYAAAA/ZmtKAAAAOXRFWHRTb2Z0d2FyZQBNYXRwbG90bGliIHZlcnNpb24zLjcuMCwgaHR0cHM6Ly9tYXRwbG90bGliLm9yZy88F64QAAAACXBIWXMAAA9hAAAPYQGoP6dpAAABG0lEQVR4nO3bMY6DMBRF0e/IiiaNLfQlFsMi0s4+ZxFsB/GLJKLxFJMsgWfJc09F+YorBAin1poBCsnMbmZ27T0Ewzuyu99LKVPvJRhbRGy5lDIty/Kstb56D8KY9n3/Wtd1ymZmtdbXPM+P3qMwtNul9wL8H8QGGWKDDLFBhtggQ2yQITbIEBtkiA0yxAYZYoMMsUGG2CBDbJAhNshks7+f23oPwbg+fSV3/+a3cJwtIjYOvEDlSBzlg8rnzmattWfnLRhcdve7mVlK6YfgcKZLKWV6vyDw3IZT8Z0NMsQGGWKDDLFBhtggQ2yQITbIEBtkiA0yxAYZYoMMsUGG2CBDbJAhNsgQG2SIDTI5Irb39dF1CYbHgRfI/ALJFjRJDx7WYQAAAABJRU5ErkJggg==\"></img></td>\n",
       "      <td id=\"T_7130d_row94_col5\" class=\"data row94 col5\" >0<br>(0.0%)</td>\n",
       "    </tr>\n",
       "    <tr>\n",
       "      <td id=\"T_7130d_row95_col0\" class=\"data row95 col0\" >96</td>\n",
       "      <td id=\"T_7130d_row95_col1\" class=\"data row95 col1\" ><strong>profit_loss_year_pl_flag_high</strong><br>[float64]</td>\n",
       "      <td id=\"T_7130d_row95_col2\" class=\"data row95 col2\" >1. 0.0<br>2. 1.0</td>\n",
       "      <td id=\"T_7130d_row95_col3\" class=\"data row95 col3\" >18,961 (99.6%)<br>75 (0.4%)</td>\n",
       "      <td id=\"T_7130d_row95_col4\" class=\"data row95 col4\" ><img src = \"data:image/png;base64, iVBORw0KGgoAAAANSUhEUgAAAJsAAAAuCAYAAAA/ZmtKAAAAOXRFWHRTb2Z0d2FyZQBNYXRwbG90bGliIHZlcnNpb24zLjcuMCwgaHR0cHM6Ly9tYXRwbG90bGliLm9yZy88F64QAAAACXBIWXMAAA9hAAAPYQGoP6dpAAABG0lEQVR4nO3bMY6DMBRF0e/IiiaNLfQlFsMi0s4+ZxFsB/GLJKLxFJMsgWfJc09F+YorBAin1poBCsnMbmZ27T0Ewzuyu99LKVPvJRhbRGy5lDIty/Kstb56D8KY9n3/Wtd1ymZmtdbXPM+P3qMwtNul9wL8H8QGGWKDDLFBhtggQ2yQITbIEBtkiA0yxAYZYoMMsUGG2CBDbJAhNshks7+f23oPwbg+fSV3/+a3cJwtIjYOvEDlSBzlg8rnzmattWfnLRhcdve7mVlK6YfgcKZLKWV6vyDw3IZT8Z0NMsQGGWKDDLFBhtggQ2yQITbIEBtkiA0yxAYZYoMMsUGG2CBDbJAhNsgQG2SIDTI5Irb39dF1CYbHgRfI/ALJFjRJDx7WYQAAAABJRU5ErkJggg==\"></img></td>\n",
       "      <td id=\"T_7130d_row95_col5\" class=\"data row95 col5\" >0<br>(0.0%)</td>\n",
       "    </tr>\n",
       "    <tr>\n",
       "      <td id=\"T_7130d_row96_col0\" class=\"data row96 col0\" >97</td>\n",
       "      <td id=\"T_7130d_row96_col1\" class=\"data row96 col1\" ><strong>share_eq_bs_flag_high</strong><br>[float64]</td>\n",
       "      <td id=\"T_7130d_row96_col2\" class=\"data row96 col2\" >1. 0.0<br>2. 1.0</td>\n",
       "      <td id=\"T_7130d_row96_col3\" class=\"data row96 col3\" >18,872 (99.1%)<br>164 (0.9%)</td>\n",
       "      <td id=\"T_7130d_row96_col4\" class=\"data row96 col4\" ><img src = \"data:image/png;base64, iVBORw0KGgoAAAANSUhEUgAAAJsAAAAuCAYAAAA/ZmtKAAAAOXRFWHRTb2Z0d2FyZQBNYXRwbG90bGliIHZlcnNpb24zLjcuMCwgaHR0cHM6Ly9tYXRwbG90bGliLm9yZy88F64QAAAACXBIWXMAAA9hAAAPYQGoP6dpAAABG0lEQVR4nO3bMY6DMBRF0e/IiiaNLfQlFsMi0s4+ZxFsB/GLJKLxFJMsgWfJc09F+YorBAin1poBCsnMbmZ27T0Ewzuyu99LKVPvJRhbRGy5lDIty/Kstb56D8KY9n3/Wtd1ymZmtdbXPM+P3qMwtNul9wL8H8QGGWKDDLFBhtggQ2yQITbIEBtkiA0yxAYZYoMMsUGG2CBDbJAhNshks7+f23oPwbg+fSV3/+a3cJwtIjYOvEDlSBzlg8rnzmattWfnLRhcdve7mVlK6YfgcKZLKWV6vyDw3IZT8Z0NMsQGGWKDDLFBhtggQ2yQITbIEBtkiA0yxAYZYoMMsUGG2CBDbJAhNsgQG2SIDTI5Irb39dF1CYbHgRfI/ALJFjRJDx7WYQAAAABJRU5ErkJggg==\"></img></td>\n",
       "      <td id=\"T_7130d_row96_col5\" class=\"data row96 col5\" >0<br>(0.0%)</td>\n",
       "    </tr>\n",
       "    <tr>\n",
       "      <td id=\"T_7130d_row97_col0\" class=\"data row97 col0\" >98</td>\n",
       "      <td id=\"T_7130d_row97_col1\" class=\"data row97 col1\" ><strong>extra_profit_loss_pl_flag_zero</strong><br>[float64]</td>\n",
       "      <td id=\"T_7130d_row97_col2\" class=\"data row97 col2\" >1. 1.0<br>2. 0.0</td>\n",
       "      <td id=\"T_7130d_row97_col3\" class=\"data row97 col3\" >16,527 (86.8%)<br>2,509 (13.2%)</td>\n",
       "      <td id=\"T_7130d_row97_col4\" class=\"data row97 col4\" ><img src = \"data:image/png;base64, iVBORw0KGgoAAAANSUhEUgAAAJsAAAAuCAYAAAA/ZmtKAAAAOXRFWHRTb2Z0d2FyZQBNYXRwbG90bGliIHZlcnNpb24zLjcuMCwgaHR0cHM6Ly9tYXRwbG90bGliLm9yZy88F64QAAAACXBIWXMAAA9hAAAPYQGoP6dpAAABOElEQVR4nO3bMWrDQBCF4dkgTNzsIgQ6jA6Rw+YQexshNEVs3GyKtEHV6Nle/u8Ag4rfBhu91FozQCGZ2dXMLs9+ELykR2vtFnVsmKbpK+c8Rh1EP9x9Syl9RwU35JzHZVlupZR7xEH0Yd/3z1rruK7rxcxiYjMzK6Xc53n+iTiIrlwjj31EHgOOEBtkiA0yxAYZYoMMsUGG2CBDbJAhNsgQG2SIDTLEBhligwyxQYbYIDOY/b0o9+wHwWs5o4nB3bda62jBL8rh/bn7ZmaPqHsMXnAkdPCSmPJB5YxvttBPA/oRPuWLnn+hH6FTvjPmX+jHGVM+ftXiX/ypCxligwyxQYbYIENskCE2yBAbZIgNMsQGGWKDDLFBhtggQ2yQITbIEBtkQqd8TAJxJHzKFz3/Qj8YvEDmFwpbat/b0fysAAAAAElFTkSuQmCC\"></img></td>\n",
       "      <td id=\"T_7130d_row97_col5\" class=\"data row97 col5\" >0<br>(0.0%)</td>\n",
       "    </tr>\n",
       "    <tr>\n",
       "      <td id=\"T_7130d_row98_col0\" class=\"data row98 col0\" >99</td>\n",
       "      <td id=\"T_7130d_row98_col1\" class=\"data row98 col1\" ><strong>inc_bef_tax_pl_flag_zero</strong><br>[float64]</td>\n",
       "      <td id=\"T_7130d_row98_col2\" class=\"data row98 col2\" >1. 0.0<br>2. 1.0</td>\n",
       "      <td id=\"T_7130d_row98_col3\" class=\"data row98 col3\" >19,003 (99.8%)<br>33 (0.2%)</td>\n",
       "      <td id=\"T_7130d_row98_col4\" class=\"data row98 col4\" ><img src = \"data:image/png;base64, iVBORw0KGgoAAAANSUhEUgAAAJsAAAAuCAYAAAA/ZmtKAAAAOXRFWHRTb2Z0d2FyZQBNYXRwbG90bGliIHZlcnNpb24zLjcuMCwgaHR0cHM6Ly9tYXRwbG90bGliLm9yZy88F64QAAAACXBIWXMAAA9hAAAPYQGoP6dpAAAA/0lEQVR4nO3bwUkEMQBG4T/DoOslYQlMCdrDFuHV3u0iF11P48EafIHs+yr4Dw9CICnneUYilCQvSZ5mD9H69t77e631OnuI1rfXWq+32+27tXafPUbrGmNc9iRprd2P4/iaPUhr22YP0OMwNmGMTRhjE8bYhDE2YYxNGGMTxtiEMTZhjE0YYxPG2IQxNmGMTZg9+XvYNnuI1jbGuJTe+4fPwkXww4swxa98onhBEGYrpbyVUrwg6N9tSV6TPM8eovV5jApjbMIYmzDGJoyxCWNswhibMMYmjLEJY2zCGJswxiaMsQljbMIYmzDGJoyxCbMl+UzyM3uI1ufvKmF+AXVbGymqDU4XAAAAAElFTkSuQmCC\"></img></td>\n",
       "      <td id=\"T_7130d_row98_col5\" class=\"data row98 col5\" >0<br>(0.0%)</td>\n",
       "    </tr>\n",
       "    <tr>\n",
       "      <td id=\"T_7130d_row99_col0\" class=\"data row99 col0\" >100</td>\n",
       "      <td id=\"T_7130d_row99_col1\" class=\"data row99 col1\" ><strong>profit_loss_year_pl_flag_zero</strong><br>[float64]</td>\n",
       "      <td id=\"T_7130d_row99_col2\" class=\"data row99 col2\" >1. 0.0<br>2. 1.0</td>\n",
       "      <td id=\"T_7130d_row99_col3\" class=\"data row99 col3\" >18,441 (96.9%)<br>595 (3.1%)</td>\n",
       "      <td id=\"T_7130d_row99_col4\" class=\"data row99 col4\" ><img src = \"data:image/png;base64, iVBORw0KGgoAAAANSUhEUgAAAJsAAAAuCAYAAAA/ZmtKAAAAOXRFWHRTb2Z0d2FyZQBNYXRwbG90bGliIHZlcnNpb24zLjcuMCwgaHR0cHM6Ly9tYXRwbG90bGliLm9yZy88F64QAAAACXBIWXMAAA9hAAAPYQGoP6dpAAABOklEQVR4nO3bMWrDMBiG4V/FhGaRMAYfxofoYXsI3cYYa2hCFnXoUFPLS918AvV9Rk//8GJI8OdyzgYoODO7mtml9iFoziPnfNs+6IZhePPe97UuQptSSotz7n0bXOe976dpuoUQ7jWPQzvWdX2NMfbzPF/M7Ds2M7MQwn0cx49q16FF158PXmpcgf+J2CBDbJAhNsgQG2SIDTLEBhligwyxQYbYIENskCE2yBAbZIgNMsQGmc7s62O32oegHUc9dSmlJcbYW+FjN+C3UkqLmT22zxi84Fl2gxfHlA8qR2+2XZXAWcUpX2mGBZy1m/IdzbCAs46mfPwyxZ/jT13IEBtkiA0yxAYZYoMMsUGG2CBDbJAhNsgQG2SIDTLEBhligwyxQYbYILOb8jHrw7MUp3ylGRZwFoMXyHwCCltq3167vXcAAAAASUVORK5CYII=\"></img></td>\n",
       "      <td id=\"T_7130d_row99_col5\" class=\"data row99 col5\" >0<br>(0.0%)</td>\n",
       "    </tr>\n",
       "    <tr>\n",
       "      <td id=\"T_7130d_row100_col0\" class=\"data row100 col0\" >101</td>\n",
       "      <td id=\"T_7130d_row100_col1\" class=\"data row100 col1\" ><strong>share_eq_bs_flag_zero</strong><br>[float64]</td>\n",
       "      <td id=\"T_7130d_row100_col2\" class=\"data row100 col2\" >1. 0.0<br>2. 1.0</td>\n",
       "      <td id=\"T_7130d_row100_col3\" class=\"data row100 col3\" >18,974 (99.7%)<br>62 (0.3%)</td>\n",
       "      <td id=\"T_7130d_row100_col4\" class=\"data row100 col4\" ><img src = \"data:image/png;base64, iVBORw0KGgoAAAANSUhEUgAAAJsAAAAuCAYAAAA/ZmtKAAAAOXRFWHRTb2Z0d2FyZQBNYXRwbG90bGliIHZlcnNpb24zLjcuMCwgaHR0cHM6Ly9tYXRwbG90bGliLm9yZy88F64QAAAACXBIWXMAAA9hAAAPYQGoP6dpAAABG0lEQVR4nO3bMY6DMBRF0e/IiiaNLfQlFsMi0s4+ZxFsB/GLJKLxFJMsgWfJc09F+YorBAin1poBCsnMbmZ27T0Ewzuyu99LKVPvJRhbRGy5lDIty/Kstb56D8KY9n3/Wtd1ymZmtdbXPM+P3qMwtNul9wL8H8QGGWKDDLFBhtggQ2yQITbIEBtkiA0yxAYZYoMMsUGG2CBDbJAhNshks7+f23oPwbg+fSV3/+a3cJwtIjYOvEDlSBzlg8rnzmattWfnLRhcdve7mVlK6YfgcKZLKWV6vyDw3IZT8Z0NMsQGGWKDDLFBhtggQ2yQITbIEBtkiA0yxAYZYoMMsUGG2CBDbJAhNsgQG2SIDTI5Irb39dF1CYbHgRfI/ALJFjRJDx7WYQAAAABJRU5ErkJggg==\"></img></td>\n",
       "      <td id=\"T_7130d_row100_col5\" class=\"data row100 col5\" >0<br>(0.0%)</td>\n",
       "    </tr>\n",
       "    <tr>\n",
       "      <td id=\"T_7130d_row101_col0\" class=\"data row101 col0\" >102</td>\n",
       "      <td id=\"T_7130d_row101_col1\" class=\"data row101 col1\" ><strong>extra_profit_loss_pl_quad</strong><br>[float64]</td>\n",
       "      <td id=\"T_7130d_row101_col2\" class=\"data row101 col2\" >Mean (sd) : 0.0 (0.1)<br>min < med < max:<br>0.0 < 0.0 < 1.0<br>IQR (CV) : 0.0 (0.1)</td>\n",
       "      <td id=\"T_7130d_row101_col3\" class=\"data row101 col3\" >2,464 distinct values</td>\n",
       "      <td id=\"T_7130d_row101_col4\" class=\"data row101 col4\" ><img src = \"data:image/png;base64, iVBORw0KGgoAAAANSUhEUgAAAKoAAABGCAYAAABc8A97AAAAOXRFWHRTb2Z0d2FyZQBNYXRwbG90bGliIHZlcnNpb24zLjcuMCwgaHR0cHM6Ly9tYXRwbG90bGliLm9yZy88F64QAAAACXBIWXMAAA9hAAAPYQGoP6dpAAABaUlEQVR4nO3XT2oCMRiH4aSI6GYGETyMh+hhewhvIyUuqi1Iuuum1D/jov3R59km+cjiZYbU3nuBv+7pty8At5hd21BrXZZS5hPnf/TejxPPwpeLodZal+v1+nkYhtWU4YfD4bXW+iJWHnXtizofhmG13W6P4zie7hncWlvsdrvVfr+fl1KEykOu/vpLKWUcx9Nms3mbMH854Qx84zFFBKESQahEECoRhEoEoRJBqEQQKhGESgShEkGoRBAqEYRKBKESQahEECoRhEoEoRJBqEQQKhGESgShEkGoRBAqEYRKBKESQahEECoRhEoEoRJBqEQQKhGESgShEkGoRBAqEYRKBKESQahEECoRhEoEoRJBqEQQKhGESgShEkGoRBAqEYRKBKESQahEECoRhEoEoRJBqEQQKhGESgShEkGoRBAqEYRKBKESQahEmN2yqbW2uHdwa21xPp9npZSh1nr3xfh33nvvp58WPwF79y3yrjldnwAAAABJRU5ErkJggg==\"></img></td>\n",
       "      <td id=\"T_7130d_row101_col5\" class=\"data row101 col5\" >0<br>(0.0%)</td>\n",
       "    </tr>\n",
       "    <tr>\n",
       "      <td id=\"T_7130d_row102_col0\" class=\"data row102 col0\" >103</td>\n",
       "      <td id=\"T_7130d_row102_col1\" class=\"data row102 col1\" ><strong>inc_bef_tax_pl_quad</strong><br>[float64]</td>\n",
       "      <td id=\"T_7130d_row102_col2\" class=\"data row102 col2\" >Mean (sd) : 0.2 (0.3)<br>min < med < max:<br>0.0 < 0.0 < 1.0<br>IQR (CV) : 0.1 (0.5)</td>\n",
       "      <td id=\"T_7130d_row102_col3\" class=\"data row102 col3\" >17,570 distinct values</td>\n",
       "      <td id=\"T_7130d_row102_col4\" class=\"data row102 col4\" ><img src = \"data:image/png;base64, iVBORw0KGgoAAAANSUhEUgAAAKoAAABGCAYAAABc8A97AAAAOXRFWHRTb2Z0d2FyZQBNYXRwbG90bGliIHZlcnNpb24zLjcuMCwgaHR0cHM6Ly9tYXRwbG90bGliLm9yZy88F64QAAAACXBIWXMAAA9hAAAPYQGoP6dpAAACoUlEQVR4nO3YvW4aQRSG4TP8abHJLIgEdzQpKCKlcEmTO/DFuk2PpXS+AIp0lgUyi1hDWC2bIlKayIadjeP9nPdp4Qwj8Q4MuKIoDKi7xmtvADhF69gTnHNdM+sErr8vimIbOAv89myozrnucDi88t4PQhZfr9cPzrlrYkVVxz5RO977wXQ63cZxvCuzcJIk0Ww2GyyXy46ZESoqOfrVb2YWx/FuNBo9BqzfDZgB/sCPKUggVEggVEggVEggVEggVEggVEggVEggVEggVEggVEggVEggVEggVEggVEggVEggVEggVEggVEggVEggVEggVEggVEggVEggVEggVEggVEggVEggVEggVEggVEggVEggVEggVEggVEggVEggVEggVEggVEggVEggVEggVEggVEggVEggVEggVEggVEggVEggVEggVEggVEggVEggVEggVEggVEhovfYG8HY457pm1gkc3xdFsX3qwRcNNc/ztpl551zoEs9uHvXhnOsOh8Mr7/0gZH69Xj84566fer9fLNQ0TdtZln0ej8fNZrO5C1nj2OZRKx3v/WA6nW7jOC71fidJEs1ms8FyueyY2b8Ndb/ft6IoOru8vNxdXFw8lJ0/ZfOonziOd6PR6DFgtPvcgy9+Rz0/Pw/duNmRzeP/UesfUxXvuNxv35Dahlr1jrtarTbOua9mFnQ/tl9/3R0CZzkkf1ltQ61yx727u3t3c3PzZTwevw+JPM/zdpqmH3u93rzRaGRl5ysekioHpOp8lVl/OBzagbNHnRRqkiRR2YU3m01kZpamaXR/f38WOh8iy7JWFEVnk8nE9fv9H2XnF4tFNJ/PP0wmk+/9fn9TZna1WvVub2+DDknVA1JlvuprZ1kW5Xn+abFYfCs7e0pfPwFR9+dhXKrPIwAAAABJRU5ErkJggg==\"></img></td>\n",
       "      <td id=\"T_7130d_row102_col5\" class=\"data row102 col5\" >0<br>(0.0%)</td>\n",
       "    </tr>\n",
       "    <tr>\n",
       "      <td id=\"T_7130d_row103_col0\" class=\"data row103 col0\" >104</td>\n",
       "      <td id=\"T_7130d_row103_col1\" class=\"data row103 col1\" ><strong>profit_loss_year_pl_quad</strong><br>[float64]</td>\n",
       "      <td id=\"T_7130d_row103_col2\" class=\"data row103 col2\" >Mean (sd) : 0.1 (0.3)<br>min < med < max:<br>0.0 < 0.0 < 1.0<br>IQR (CV) : 0.1 (0.5)</td>\n",
       "      <td id=\"T_7130d_row103_col3\" class=\"data row103 col3\" >17,027 distinct values</td>\n",
       "      <td id=\"T_7130d_row103_col4\" class=\"data row103 col4\" ><img src = \"data:image/png;base64, iVBORw0KGgoAAAANSUhEUgAAAKoAAABGCAYAAABc8A97AAAAOXRFWHRTb2Z0d2FyZQBNYXRwbG90bGliIHZlcnNpb24zLjcuMCwgaHR0cHM6Ly9tYXRwbG90bGliLm9yZy88F64QAAAACXBIWXMAAA9hAAAPYQGoP6dpAAACnklEQVR4nO3YvW4aQRSG4TP8abHJLIgEdzQpKCKlcEmTO/DFunWPpXS+AIp0CIHMItYQVsumiJQmsmFn45jPep8WzjAS78CAK4rCgHNXe+sNAKdoHHuCc65tZq3A9fdFUWwDZ4E/XgzVOdfu9/s33vteyOLr9frROXdLrKjq2Cdqy3vfG4/H2ziOd2UWTpIkmkwmveVy2TIzQkUlR7/6zcziON4NBoOngPXbATPAX/gxBQmECgmECgmECgmECgmECgmECgmECgmECgmECgmECgmECgmECgmECgmECgmECgmECgmECgmECgmECgmECgmECgmECgmECgmECgmECgmECgmECgmECgmECgmECgmECgmECgmECgmECgmECgmECgmECgmECgmECgmECgmECgmECgmECgmECgmECgmECgmECgmECgmECgmECgmECgmECgmECgmECgmECgmNt94A3g/nXNvMWoHj+6Iots89+Kqh5nneNDPvnAtd4sXN43w459r9fv/Ge98LmV+v14/Oudvn3u9XCzVN02aWZV+Hw2G9Xq/vQtY4tnmclZb3vjcej7dxHJd6v5MkiSaTSW+5XLbM7P+Gut/vG1EUXVxfX++urq4ey86fsnmcnziOd4PB4ClgtP3Sg69+R728vAzduOV57i386sC14R052x9TVa8Oq9Vq45y7M7Oga4f9/kfkEDjLIfnHzjbUKleH2Wz24f7+/ttwOPwYEnme5800TT93Op1prVbLys5XPCRVDkjV+Sqz/nA4NANnjzop1CRJorILbzabyMwsTdNoPp9fhM6HyLKsEUXRxWg0ct1u92fZ+cViEU2n00+j0ehHt9vdlJldrVadh4eHoENS9YBUma/62lmWRXmef1ksFt/Lzp7S1y/DTOdfJC3wmQAAAABJRU5ErkJggg==\"></img></td>\n",
       "      <td id=\"T_7130d_row103_col5\" class=\"data row103 col5\" >0<br>(0.0%)</td>\n",
       "    </tr>\n",
       "    <tr>\n",
       "      <td id=\"T_7130d_row104_col0\" class=\"data row104 col0\" >105</td>\n",
       "      <td id=\"T_7130d_row104_col1\" class=\"data row104 col1\" ><strong>share_eq_bs_quad</strong><br>[float64]</td>\n",
       "      <td id=\"T_7130d_row104_col2\" class=\"data row104 col2\" >Mean (sd) : 0.5 (0.4)<br>min < med < max:<br>0.0 < 0.4 < 1.0<br>IQR (CV) : 0.9 (1.2)</td>\n",
       "      <td id=\"T_7130d_row104_col3\" class=\"data row104 col3\" >14,319 distinct values</td>\n",
       "      <td id=\"T_7130d_row104_col4\" class=\"data row104 col4\" ><img src = \"data:image/png;base64, iVBORw0KGgoAAAANSUhEUgAAAKoAAABGCAYAAABc8A97AAAAOXRFWHRTb2Z0d2FyZQBNYXRwbG90bGliIHZlcnNpb24zLjcuMCwgaHR0cHM6Ly9tYXRwbG90bGliLm9yZy88F64QAAAACXBIWXMAAA9hAAAPYQGoP6dpAAACmElEQVR4nO3du47aQBSA4TOwIHOJLUQCnZuUkVK4pMkb5GHTptsCXoAiTSoahIS4CGcRZnCKBCkp2DVjDD7W/7XogIvfwIyLMWmaClB2tUdfAJDF06MvANVhjGmJSNNx/JCm6culFwkVN2GMafX7/a++7/dc5rfb7coY8+1SrISKW2n6vt8bjUYvQRDsrxncbDbeeDzuLZfLpogQKooXBMF+MBj8chhtvfYiiymoQKhQ4c2f/iJXckBWr4Za9EoOyOqtb9RCV3JAVplW/UWt5ICsWExBBUKFCoQKFQgVKhAqVCBUqECoUIFQoQKhQgVChQqEChUIFSoQKlQgVKhAqFCBUKECoUIFQoUKhAoVCBUqECpUIFSoQKhQgVChAqFCBUKFCoQKFQgVKhAqVCBUqECoUIFQoQKhQgVChQqEChUKPbnPWtsQEd8Y4/oWHP8DESkw1DiOG0mSfA7DsF6v1686UeWM439wVlioh8PhyfO8dhRF++FwuLp2nuN/8K/CD+3tdDquR/+IcPwP/mIxBRUIFSoU/tOfR85dA3YMKqS0oebdNWDHoFpKG2qeXQN2DKqntKGeue4aWGt94WFDZZQ+VBe3eNiwXq93xpjvIuIyT+Q3VslQ8z5smM/n7yaTyZcwDN+7hE7kt1fJUM9c/zasVquWa+gPjlzkz5bjyXG2tDdJpUPNyyX0R0ZurW3Ecfyx2+3+rNVqybXzOW8S/3Q6NRzmMiHUgtw7chGR2WzWm06nH6Io+nHvmyRJEs9a+2m/3z+LiOsj84sItYTy/GVxnb/RTdI+Ho/1a2ezIFT8J+9NUhSe9UMFQoUKhAoVCBUqECpUyLTq32w23rVvvNvtPBGROI69xWLRvue81s/Wet1557P09RvXb4hprgEQnwAAAABJRU5ErkJggg==\"></img></td>\n",
       "      <td id=\"T_7130d_row104_col5\" class=\"data row104 col5\" >0<br>(0.0%)</td>\n",
       "    </tr>\n",
       "    <tr>\n",
       "      <td id=\"T_7130d_row105_col0\" class=\"data row105 col0\" >106</td>\n",
       "      <td id=\"T_7130d_row105_col1\" class=\"data row105 col1\" ><strong>ceo_age</strong><br>[float64]</td>\n",
       "      <td id=\"T_7130d_row105_col2\" class=\"data row105 col2\" >Mean (sd) : 46.4 (10.3)<br>min < med < max:<br>25.0 < 46.5 < 75.0<br>IQR (CV) : 14.0 (4.5)</td>\n",
       "      <td id=\"T_7130d_row105_col3\" class=\"data row105 col3\" >183 distinct values</td>\n",
       "      <td id=\"T_7130d_row105_col4\" class=\"data row105 col4\" ><img src = \"data:image/png;base64, iVBORw0KGgoAAAANSUhEUgAAAKoAAABGCAYAAABc8A97AAAAOXRFWHRTb2Z0d2FyZQBNYXRwbG90bGliIHZlcnNpb24zLjcuMCwgaHR0cHM6Ly9tYXRwbG90bGliLm9yZy88F64QAAAACXBIWXMAAA9hAAAPYQGoP6dpAAACxUlEQVR4nO3dQW7aQBSA4TclIAOqLUQEOy5QqQuWbHqDHrbb7ooEF+AGbBCSZYygQYChm7RqJJTAzDjMc/5vP7IXv5z4eTSY8/ksQOg+3fsGgGs83PsGQmWMaYpIw3L5/nw+P/m8n4+OUC8wxjS73e73OI47NuvX63VmjPlBrP4Q6mWNOI47o9HoKUmS3S0L8zyPJpNJJ03ThogQqieE+ookSXa9Xu+3xdKm95v54HiZggqEChUIFSoQKlQgVKhAqFCBUKECoUIFQoUKhAoVCBUqECpUIFSoQKhQgVChAqFCBUKFCoQKFQgVKhAqVCBUqECoUIFQoQKhQgVChQqEChUIFSoEffYURz/ir2BDdT36cbVabYwxP0XkptP4nsWn06luc12UI9hQxeHox8Vi8Xk6nX4bDAaPtVrt5lAPh0NUFMWX3W73S0RsTvODZyGHKiJ2Rz9mWdaMoqg1HA53/X4/u/Wa8/m8M5vNWsfjsXbrWpQj+FBdtNttq/NNsyzjfNPA8NYPFQgVKhAqVCBUqFDpl6l7KYqiLiKxMcZmOR8qLiBUz7bbbf1wOHwdDAY1mxkuv1F1GaF6tt/vH2xnuHmeR+PxuJem6aMxZm17C1WMnFBLYjPDdX0ai1T3iUyoAXF5GotU+1cDCTVAtl/UnlXyqxrjKahQ6hPVcT8pW+3wT2mhuu4nZasd/lfmE9V6P6kIW+3wUukvU7Y/Jc5WOztV/SrGW3+FVPmrGKFWiOtXsZBnsIRaQQ5z2GD/3WKOChUIFSq8+affYWjPwB7evBqqy9CegT18euuJaj20Z2Cvj+MMVqTEOexVb/22h0DY3RLuIfS9sIynICLh74UlVLwQ6l5YxlNQgScqvClzQwyhwouyN8QQKrwoe0MMocKrsjbEXBVqnufRrVfdbDaRiMh2u42Wy2XrPddrvbbW+3Zdf01ffwAqQrPa3eD4HwAAAABJRU5ErkJggg==\"></img></td>\n",
       "      <td id=\"T_7130d_row105_col5\" class=\"data row105 col5\" >0<br>(0.0%)</td>\n",
       "    </tr>\n",
       "    <tr>\n",
       "      <td id=\"T_7130d_row106_col0\" class=\"data row106 col0\" >107</td>\n",
       "      <td id=\"T_7130d_row106_col1\" class=\"data row106 col1\" ><strong>flag_low_ceo_age</strong><br>[int64]</td>\n",
       "      <td id=\"T_7130d_row106_col2\" class=\"data row106 col2\" >1. 0<br>2. 1</td>\n",
       "      <td id=\"T_7130d_row106_col3\" class=\"data row106 col3\" >18,823 (98.9%)<br>213 (1.1%)</td>\n",
       "      <td id=\"T_7130d_row106_col4\" class=\"data row106 col4\" ><img src = \"data:image/png;base64, iVBORw0KGgoAAAANSUhEUgAAAJsAAAAuCAYAAAA/ZmtKAAAAOXRFWHRTb2Z0d2FyZQBNYXRwbG90bGliIHZlcnNpb24zLjcuMCwgaHR0cHM6Ly9tYXRwbG90bGliLm9yZy88F64QAAAACXBIWXMAAA9hAAAPYQGoP6dpAAABRElEQVR4nO3bwW2DQBhE4QEhJ1wWIUsuwwW4iBSbIiiAPhBiD1mHy+YQ23IB8ay0eV8Fc3hCCPE3OWcBDo2kXtKh9BBUbc85p+54PH6EEMbSa1CvGOPaNM1nF0IYL5dLGobhWnoU6rNt2/s0TeOyLIdOkoZhuJ5Op6/Sw1CtXpLa0ivwfxAbbIgNNsQGG2KDDbHBhthgQ2ywITbYEBtsiA02xAYbYoMNscGG2GDTSb8/uJUegjo9t9XFGNdpmkbdfnAD/lqMcZW0c/AChz3nnBpO+eDy/GTbc86p8B5U7HHKdz+3Iji8ShtCGM/ns263o7y74WVaSer7/rv0ENSPj7qwITbYEBtsiA02xAYbYoMNscGG2GBDbLAhNtgQG2yIDTbEBhtigw2xwaaVpJTSW+khqF8bY1zneX6cW5UehHpx8AKbHxqqVtmKubAMAAAAAElFTkSuQmCC\"></img></td>\n",
       "      <td id=\"T_7130d_row106_col5\" class=\"data row106 col5\" >0<br>(0.0%)</td>\n",
       "    </tr>\n",
       "    <tr>\n",
       "      <td id=\"T_7130d_row107_col0\" class=\"data row107 col0\" >108</td>\n",
       "      <td id=\"T_7130d_row107_col1\" class=\"data row107 col1\" ><strong>flag_high_ceo_age</strong><br>[int64]</td>\n",
       "      <td id=\"T_7130d_row107_col2\" class=\"data row107 col2\" >1. 0<br>2. 1</td>\n",
       "      <td id=\"T_7130d_row107_col3\" class=\"data row107 col3\" >18,957 (99.6%)<br>79 (0.4%)</td>\n",
       "      <td id=\"T_7130d_row107_col4\" class=\"data row107 col4\" ><img src = \"data:image/png;base64, iVBORw0KGgoAAAANSUhEUgAAAJsAAAAuCAYAAAA/ZmtKAAAAOXRFWHRTb2Z0d2FyZQBNYXRwbG90bGliIHZlcnNpb24zLjcuMCwgaHR0cHM6Ly9tYXRwbG90bGliLm9yZy88F64QAAAACXBIWXMAAA9hAAAPYQGoP6dpAAABG0lEQVR4nO3bMY6DMBRF0e/IiiaNLfQlFsMi0s4+ZxFsB/GLJKLxFJMsgWfJc09F+YorBAin1poBCsnMbmZ27T0Ewzuyu99LKVPvJRhbRGy5lDIty/Kstb56D8KY9n3/Wtd1ymZmtdbXPM+P3qMwtNul9wL8H8QGGWKDDLFBhtggQ2yQITbIEBtkiA0yxAYZYoMMsUGG2CBDbJAhNshks7+f23oPwbg+fSV3/+a3cJwtIjYOvEDlSBzlg8rnzmattWfnLRhcdve7mVlK6YfgcKZLKWV6vyDw3IZT8Z0NMsQGGWKDDLFBhtggQ2yQITbIEBtkiA0yxAYZYoMMsUGG2CBDbJAhNsgQG2SIDTI5Irb39dF1CYbHgRfI/ALJFjRJDx7WYQAAAABJRU5ErkJggg==\"></img></td>\n",
       "      <td id=\"T_7130d_row107_col5\" class=\"data row107 col5\" >0<br>(0.0%)</td>\n",
       "    </tr>\n",
       "    <tr>\n",
       "      <td id=\"T_7130d_row108_col0\" class=\"data row108 col0\" >109</td>\n",
       "      <td id=\"T_7130d_row108_col1\" class=\"data row108 col1\" ><strong>flag_miss_ceo_age</strong><br>[int64]</td>\n",
       "      <td id=\"T_7130d_row108_col2\" class=\"data row108 col2\" >1. 0<br>2. 1</td>\n",
       "      <td id=\"T_7130d_row108_col3\" class=\"data row108 col3\" >16,264 (85.4%)<br>2,772 (14.6%)</td>\n",
       "      <td id=\"T_7130d_row108_col4\" class=\"data row108 col4\" ><img src = \"data:image/png;base64, iVBORw0KGgoAAAANSUhEUgAAAJsAAAAuCAYAAAA/ZmtKAAAAOXRFWHRTb2Z0d2FyZQBNYXRwbG90bGliIHZlcnNpb24zLjcuMCwgaHR0cHM6Ly9tYXRwbG90bGliLm9yZy88F64QAAAACXBIWXMAAA9hAAAPYQGoP6dpAAABN0lEQVR4nO3bMWrDQBCF4dkgTNzsIgQ6jA6Rw+YQexshNEVs3GyKQArVmicv/N8BBhW/DTZ6qbVmgEIys7uZ3a5+ELyNV2vtEXF4mKbpK+c8RhxHf9x9Syl9RwQ35JzHZVkepZTn2cfRl33fP2ut47quNzM7PzYzs1LKc57nn7OPo0v3qMMfUYeBI2KDDLFBhtggQ2yQITbIEBtkiA0yxAYZYoMMsUGG2CBDbJAhNsgQG2QGs7+X5q5+EFwvuoPB3bda62iBL82hH+6+mdkr4jaDFxyFDV4SUz6oRH+zhX1K0J/QKV/kLAz9CZvyRc/C0J/oKR+/cPGPP3UhQ2yQITbIEBtkiA0yxAYZYoMMsUGG2CBDbJAhNsgQG2SIDTLEBhlig0zYlI95II5Cp3yRszD0h8ELZH4BCltq32Ss9CQAAAAASUVORK5CYII=\"></img></td>\n",
       "      <td id=\"T_7130d_row108_col5\" class=\"data row108 col5\" >0<br>(0.0%)</td>\n",
       "    </tr>\n",
       "    <tr>\n",
       "      <td id=\"T_7130d_row109_col0\" class=\"data row109 col0\" >110</td>\n",
       "      <td id=\"T_7130d_row109_col1\" class=\"data row109 col1\" ><strong>ceo_young</strong><br>[int64]</td>\n",
       "      <td id=\"T_7130d_row109_col2\" class=\"data row109 col2\" >1. 0<br>2. 1</td>\n",
       "      <td id=\"T_7130d_row109_col3\" class=\"data row109 col3\" >13,946 (73.3%)<br>5,090 (26.7%)</td>\n",
       "      <td id=\"T_7130d_row109_col4\" class=\"data row109 col4\" ><img src = \"data:image/png;base64, iVBORw0KGgoAAAANSUhEUgAAAJsAAAAuCAYAAAA/ZmtKAAAAOXRFWHRTb2Z0d2FyZQBNYXRwbG90bGliIHZlcnNpb24zLjcuMCwgaHR0cHM6Ly9tYXRwbG90bGliLm9yZy88F64QAAAACXBIWXMAAA9hAAAPYQGoP6dpAAABPklEQVR4nO3bQWrDMBRF0a9iQjORMAYvxovoYrsI7cYYa9CETJRBxo1oDE9Ses8KPuQmEOPncs4GKDgzO5vZqfYhOOyWc77UPuKZYZqmL+/9WPsQHJNS2pxz3y0HN3jvx2VZLiGEa+1j8Jp93z9jjOO6riczazc2M7MQwnWe55/ax+CQc+0DSj5qH4D/g9ggQ2yQITbIEBtkiA0yxAYZYoMMsUGG2CBDbJAhNsgQG2SIDTLEBpnB7PHyXe1D8LpePr8hpbTFGEfr4OU7/C6ltJnZrfYdzzB4eR/ND14cUz6o9PLL1vy3FmVdTPl6mKmhrPkpXy8zNZT1MuXjn/Ib4KEuZIgNMsQGGWKDDLFBhtggQ2yQITbIEBtkiA0yxAYZYoMMsUGG2CBDbJBpfsrX8m34my6mfD3M1FDG4AUydwpbat/TdFWSAAAAAElFTkSuQmCC\"></img></td>\n",
       "      <td id=\"T_7130d_row109_col5\" class=\"data row109 col5\" >0<br>(0.0%)</td>\n",
       "    </tr>\n",
       "    <tr>\n",
       "      <td id=\"T_7130d_row110_col0\" class=\"data row110 col0\" >111</td>\n",
       "      <td id=\"T_7130d_row110_col1\" class=\"data row110 col1\" ><strong>labor_avg_mod</strong><br>[float64]</td>\n",
       "      <td id=\"T_7130d_row110_col2\" class=\"data row110 col2\" >Mean (sd) : 0.6 (1.5)<br>min < med < max:<br>0.1 < 0.3 < 42.1<br>IQR (CV) : 0.5 (0.4)</td>\n",
       "      <td id=\"T_7130d_row110_col3\" class=\"data row110 col3\" >1,582 distinct values</td>\n",
       "      <td id=\"T_7130d_row110_col4\" class=\"data row110 col4\" ><img src = \"data:image/png;base64, iVBORw0KGgoAAAANSUhEUgAAAKoAAABGCAYAAABc8A97AAAAOXRFWHRTb2Z0d2FyZQBNYXRwbG90bGliIHZlcnNpb24zLjcuMCwgaHR0cHM6Ly9tYXRwbG90bGliLm9yZy88F64QAAAACXBIWXMAAA9hAAAPYQGoP6dpAAABk0lEQVR4nO3XwWoaUQCF4XtrKnHRGURw6SP0AXyIPGy23fssbqSOlGojcrPLJqTGSUt74PvWcw8X5mfE2lor8L/79K8vAO9xd+2BWuuslDIduf/UWjuOPAsvfhtqrXW2WCweuq6bjxk/HA7fa62PYuWjrn1Rp13Xzdfr9bHv+9Mtw8Mw3G82m/lut5uWUoTKh1z96S+llL7vT8vl8ueI/dmIM/CKP1NEECoRhEoEoRJBqEQQKhGESgShEkGoRBAqEYRKBKESQahEECoRhEoEoRJBqEQQKhGESgShEkGoRBAqEYRKBKESQahEECoRhEoEoRJBqEQQKhGESgShEkGoRBAqEYRKBKESQahEECoRhEoEoRJBqEQQKhGESgShEkGoRBAqEYRKBKESQahEECoRhEoEoRJBqEQQKhGESgShEkGoRBAqEYRKBKESQahEECoR7v7m+OVy+VxK6WqtYyeeWmvHP3glQr0r1GEY7m8d3m63X87n89fVajWZTCan269Wyn6//1Fr/VZKGXWeKL9aa2++52fxYDzEnB/1ZAAAAABJRU5ErkJggg==\"></img></td>\n",
       "      <td id=\"T_7130d_row110_col5\" class=\"data row110 col5\" >0<br>(0.0%)</td>\n",
       "    </tr>\n",
       "    <tr>\n",
       "      <td id=\"T_7130d_row111_col0\" class=\"data row111 col0\" >112</td>\n",
       "      <td id=\"T_7130d_row111_col1\" class=\"data row111 col1\" ><strong>flag_miss_labor_avg</strong><br>[int64]</td>\n",
       "      <td id=\"T_7130d_row111_col2\" class=\"data row111 col2\" >1. 0<br>2. 1</td>\n",
       "      <td id=\"T_7130d_row111_col3\" class=\"data row111 col3\" >16,449 (86.4%)<br>2,587 (13.6%)</td>\n",
       "      <td id=\"T_7130d_row111_col4\" class=\"data row111 col4\" ><img src = \"data:image/png;base64, iVBORw0KGgoAAAANSUhEUgAAAJsAAAAuCAYAAAA/ZmtKAAAAOXRFWHRTb2Z0d2FyZQBNYXRwbG90bGliIHZlcnNpb24zLjcuMCwgaHR0cHM6Ly9tYXRwbG90bGliLm9yZy88F64QAAAACXBIWXMAAA9hAAAPYQGoP6dpAAABOElEQVR4nO3bQarCMBSF4ZtHkeckoRS6mC7Cxb5FZDelNAMVJ3HwhtLZzdHI/y3g0sGvoPSEWqsBCsHMzmZ2eveD4OM8aq03z4PDNE2XGOPoeRT9K6VsIYQ/z+CGGOO4LMstpXT3Ooq+7fv+m3Me13U9mZlfbGZmKaX7PM9Xr6P4Cmfvgz/eB4EjxAYZYoMMsUGG2CBDbJAhNsgQG2SIDTLEBhligwyxQYbYIENskCE2yAxm/y/LvftB8Dla9TCUUrac82gNXpZDv0opm5k9PG8yeMER98FLYMoHlVbfbO6fCvSvyZSvxQwM/XOf8rWagaF/raZ8/LLFC/7UhQyxQYbYIENskCE2yBAbZIgNMsQGGWKDDLFBhtggQ2yQITbIEBtkiA0y7lM+ZoE40mTK12IGhv4xeIHMEwpbat9AdB4KAAAAAElFTkSuQmCC\"></img></td>\n",
       "      <td id=\"T_7130d_row111_col5\" class=\"data row111 col5\" >0<br>(0.0%)</td>\n",
       "    </tr>\n",
       "    <tr>\n",
       "      <td id=\"T_7130d_row112_col0\" class=\"data row112 col0\" >113</td>\n",
       "      <td id=\"T_7130d_row112_col1\" class=\"data row112 col1\" ><strong>default_f</strong><br>[object]</td>\n",
       "      <td id=\"T_7130d_row112_col2\" class=\"data row112 col2\" >1. no_default<br>2. default</td>\n",
       "      <td id=\"T_7130d_row112_col3\" class=\"data row112 col3\" >15,188 (79.8%)<br>3,848 (20.2%)</td>\n",
       "      <td id=\"T_7130d_row112_col4\" class=\"data row112 col4\" ><img src = \"data:image/png;base64, iVBORw0KGgoAAAANSUhEUgAAAJsAAAAuCAYAAAA/ZmtKAAAAOXRFWHRTb2Z0d2FyZQBNYXRwbG90bGliIHZlcnNpb24zLjcuMCwgaHR0cHM6Ly9tYXRwbG90bGliLm9yZy88F64QAAAACXBIWXMAAA9hAAAPYQGoP6dpAAABLklEQVR4nO3bwWnDQBBG4dkgTHzZRQhUjIpIsSliuxFCe4iNL8ohNeTNwe9rYAx+NtjoL9d1hUQoEXGPiFv2CxHmdV3XI+PwtCzLV611zjgu3hjjKKV8ZwQ31VrnbdserbUnfVys8zw/e+/zvu+3iOBji4horT3Xdf2hjyvFPevwR9ZhvR9jE8bYhDE2YYxNGGMTxtiEMTZhjE0YYxPG2IQxNmGMTRhjE8bYhJki/h6qy34h+n/Z7/M0xjh673MkPlQnzhjjiIhXxm0HL+8nbfBSnPKJkv3NlvYpEy91ypc5KxMvbcqXPSsTL3vK5y/gN+KfusIYmzDGJoyxCWNswhibMMYmjLEJY2zCGJswxiaMsQljbMIYmzDGJkzalC97ViZe6pQvc1YmnoMXYX4BCltq3/AabjIAAAAASUVORK5CYII=\"></img></td>\n",
       "      <td id=\"T_7130d_row112_col5\" class=\"data row112 col5\" >0<br>(0.0%)</td>\n",
       "    </tr>\n",
       "    <tr>\n",
       "      <td id=\"T_7130d_row113_col0\" class=\"data row113 col0\" >114</td>\n",
       "      <td id=\"T_7130d_row113_col1\" class=\"data row113 col1\" ><strong>sales_mil_log_sq</strong><br>[float64]</td>\n",
       "      <td id=\"T_7130d_row113_col2\" class=\"data row113 col2\" >Mean (sd) : 12.3 (10.4)<br>min < med < max:<br>0.0 < 9.8 < 47.7<br>IQR (CV) : 13.5 (1.2)</td>\n",
       "      <td id=\"T_7130d_row113_col3\" class=\"data row113 col3\" >15,008 distinct values</td>\n",
       "      <td id=\"T_7130d_row113_col4\" class=\"data row113 col4\" ><img src = \"data:image/png;base64, iVBORw0KGgoAAAANSUhEUgAAAKoAAABGCAYAAABc8A97AAAAOXRFWHRTb2Z0d2FyZQBNYXRwbG90bGliIHZlcnNpb24zLjcuMCwgaHR0cHM6Ly9tYXRwbG90bGliLm9yZy88F64QAAAACXBIWXMAAA9hAAAPYQGoP6dpAAACcElEQVR4nO3bQW7aQBSA4TclQSaothAR7HyELliy6Q162Gy7RIKrICTLGOEGgZC7KVWikAAznmTe6P/W2Hjxa7A9PNM0jQCh+/bVFwBc4+7SB4wxPRHpWp5/3zTNs+WxwH8fhmqM6Q2Hw19pmg5sTr7ZbEpjzBOxwtWlFbWbpulgOp0+Z1m2u+XEVVUl8/l8UBRFV0QIFU4u/vSLiGRZthuNRn8szt+zOAZ4g4cpqECoUIFQoQKhQgVChQqEChUIFSoQKlQgVKhAqFCBUKECoUIFQoUKhAoVrvqbn63j8XgvIqkxxvYUTAhARDyGWtf1/eFw+JHneafT6dz0p+sTJgRw4i3U/X5/lyTJw2Qy2Y3H4/LW45kQwEtef/pFRPr9vu10gAgTAviHhymoQKhQgVChAqFCBUKFCoQKFby/nnLhuLPFrlZEgg3VdWeLXa24BBuqy84Wu1rxCTbUE4edLXa1IsLDFFQgVKhAqFCBUKECoUKF4J/6bTEGE5coQ2UMJj5RhsoYTHyiDPWEMZh48DAFFQgVKhAqVCBUqECoUIFQoQKhQoWo36O6YF4rLIR6BvNa4SHUM5jXCg+hfoB5rXDwMAUVCBUqECpU4B7VA15ttY9QW8arLT8ItWW82vKDUD3h1Va7CDUwTM+eR6gBYXr2fYQakDamZ2ez2agoikdjzMbmEkINnFADZHt/67oir9frrTHmt4hYrebiMXRCjYjLirxcLr8vFoufeZ4/hnjbQagRslmRy7LshXzbQah45atuOy6txoSKVvje6Lgq1Kqqklu+WERku90mIiJ1XSer1erhM4/X+t1ar/vl8b78BZUcw4Vjz1zWAAAAAElFTkSuQmCC\"></img></td>\n",
       "      <td id=\"T_7130d_row113_col5\" class=\"data row113 col5\" >0<br>(0.0%)</td>\n",
       "    </tr>\n",
       "    <tr>\n",
       "      <td id=\"T_7130d_row114_col0\" class=\"data row114 col0\" >115</td>\n",
       "      <td id=\"T_7130d_row114_col1\" class=\"data row114 col1\" ><strong>flag_low_d1_sales_mil_log</strong><br>[int64]</td>\n",
       "      <td id=\"T_7130d_row114_col2\" class=\"data row114 col2\" >1. 0<br>2. 1</td>\n",
       "      <td id=\"T_7130d_row114_col3\" class=\"data row114 col3\" >18,295 (96.1%)<br>741 (3.9%)</td>\n",
       "      <td id=\"T_7130d_row114_col4\" class=\"data row114 col4\" ><img src = \"data:image/png;base64, iVBORw0KGgoAAAANSUhEUgAAAJsAAAAuCAYAAAA/ZmtKAAAAOXRFWHRTb2Z0d2FyZQBNYXRwbG90bGliIHZlcnNpb24zLjcuMCwgaHR0cHM6Ly9tYXRwbG90bGliLm9yZy88F64QAAAACXBIWXMAAA9hAAAPYQGoP6dpAAABOUlEQVR4nO3bMWrDMBiG4V/FhGaRMAYfxofoYXsI3cYYa2hCFnXoVGMZYppPoL7P6OkfXgwJ/lzO2QAFZ2ZXM7vUPgRNeeScb9uH3TAMH977vsZFaFNKaXHOfW6D67z3/TRNtxDCvdZxaMe6ru8xxn6e54uZ/Y7NzCyEcB/H8avKdWjRde/hm/oK/F/EBhligwyxQYbYIENskCE2yBAbZIgNMsQGGWKDDLFBhtggQ2yQITbIdGY/H7zVPgRtOGqpSyktMcbeCh+8Ac9KKS1m9tg+Z/CCV9gdvDimfFA5erPt1gmcVZzyleZYwFm7U76jORZw1tGUj1+n+FP8qQsZYoMMsUGG2CBDbJAhNsgQG2SIDTLEBhligwyxQYbYIENskCE2yBAbZHanfEz78ArFKV9pjgWcxeAFMt8KW2rfzqzdbgAAAABJRU5ErkJggg==\"></img></td>\n",
       "      <td id=\"T_7130d_row114_col5\" class=\"data row114 col5\" >0<br>(0.0%)</td>\n",
       "    </tr>\n",
       "    <tr>\n",
       "      <td id=\"T_7130d_row115_col0\" class=\"data row115 col0\" >116</td>\n",
       "      <td id=\"T_7130d_row115_col1\" class=\"data row115 col1\" ><strong>flag_high_d1_sales_mil_log</strong><br>[int64]</td>\n",
       "      <td id=\"T_7130d_row115_col2\" class=\"data row115 col2\" >1. 0<br>2. 1</td>\n",
       "      <td id=\"T_7130d_row115_col3\" class=\"data row115 col3\" >18,626 (97.8%)<br>410 (2.2%)</td>\n",
       "      <td id=\"T_7130d_row115_col4\" class=\"data row115 col4\" ><img src = \"data:image/png;base64, iVBORw0KGgoAAAANSUhEUgAAAJsAAAAuCAYAAAA/ZmtKAAAAOXRFWHRTb2Z0d2FyZQBNYXRwbG90bGliIHZlcnNpb24zLjcuMCwgaHR0cHM6Ly9tYXRwbG90bGliLm9yZy88F64QAAAACXBIWXMAAA9hAAAPYQGoP6dpAAABO0lEQVR4nO3bMY6CQByF8TeGmLVhQkg4DIfYw+4huA0hTLEYm9lilaA1vknw+1Xa/YsvRg0v5JwFOARJF0nn0ofgsG4550WSqrZtv+u6bkpfhGNKKU0hhJ+c81LVdd30fb/EGK+lD8OxzPP8NQxDM47jWdJSSVKM8dp13W/h23BMl8eLU8kr8FmIDTbEBhtigw2xwYbYYENssCE22BAbbIgNNsQGG2KDDbHBhthgQ2ywqaT/h9xKH4Ljee2qSilNwzA02jzkBuwlpTRJukkMXvB+6+AlMOWDy+sn21ohsLenKd92dlX6MBzP6THl6/t+uUfH9ze8xTrlu7/nFynehj91YUNssCE22BAbbIgNNsQGG2KDDbHBhthgQ2ywITbYEBtsiA02xAYbYoMNUz7YbKd8T7MrYG8MXmDzB6Z6XoDADA8xAAAAAElFTkSuQmCC\"></img></td>\n",
       "      <td id=\"T_7130d_row115_col5\" class=\"data row115 col5\" >0<br>(0.0%)</td>\n",
       "    </tr>\n",
       "    <tr>\n",
       "      <td id=\"T_7130d_row116_col0\" class=\"data row116 col0\" >117</td>\n",
       "      <td id=\"T_7130d_row116_col1\" class=\"data row116 col1\" ><strong>d1_sales_mil_log_mod</strong><br>[float64]</td>\n",
       "      <td id=\"T_7130d_row116_col2\" class=\"data row116 col2\" >Mean (sd) : -0.0 (0.5)<br>min < med < max:<br>-1.5 < 0.0 < 1.5<br>IQR (CV) : 0.3 (-0.1)</td>\n",
       "      <td id=\"T_7130d_row116_col3\" class=\"data row116 col3\" >14,211 distinct values</td>\n",
       "      <td id=\"T_7130d_row116_col4\" class=\"data row116 col4\" ><img src = \"data:image/png;base64, iVBORw0KGgoAAAANSUhEUgAAAKoAAABGCAYAAABc8A97AAAAOXRFWHRTb2Z0d2FyZQBNYXRwbG90bGliIHZlcnNpb24zLjcuMCwgaHR0cHM6Ly9tYXRwbG90bGliLm9yZy88F64QAAAACXBIWXMAAA9hAAAPYQGoP6dpAAAC2UlEQVR4nO3cT2/aMBiA8dejIANTUsQEN649TNqBYz/EPmw/wirxCbj21BsiRI5gZfzLLp20SawldlJ4w/O7u1joabAj2SbPcwEu3adzTwA4xc25J1BHxpi2iLQ8h2/yPH8pcz51QKglM8a0+/3+9yiKej7jsyxLjTEPxPovQi1fK4qi3v39/Uscx+siA51zdjKZ9JIkaYkIof6FUCsSx/F6MBj89BjaLn0yNcBmCioQKlQgVKhAqFCBUKECoUIFQoUKhAoVCBUqECpUIFSoQKhQgVChAqFCBUKFCoQKFQgVKhAqVCBUqECoUIFQoQKhQgVChQqEChUIFSoQKlQgVKjA3VP/EXB1ZHQ4HJplz+faEeoRIVdHbrdbu9/vv67X6x8i4nNJGo4g1OO8r458fn7uTafTzm63a1Q1uWtEqG/wuToyTVOujawAmymoQKhQgVChAqFCBUKFCoQKFQgVKhAqVCBUqECoUIFQoQKhQgVChQqEChUIFSoQKlQgVKhAqFCBUKFCbc9MBRx3FuHI88WpZaghx51Fznvkeb/fN0UkMsb4/olNnucvJU7pItQyVAk47ixyviPPq9Wqud1uv41Go0aj0Sg8bxGRLMtSY8xD3WKta6gi4nfcWeR8R543m82NtbYzHo/Xw+EwLTreOWcnk0kvSZKWiBAqqtXtdr3+wV7V8l6Bd0MN3JTUcr2Ej/dmqKGbkrqul/Dx3nuiem9KylgvcaMe/jhpjeq7KZGA9RI36ulT5TLxkjdT3KjnIfA9rPeeouplYqWhBn5p0eFwaMZxnHKj3mlC38MG7ikqXSZWFmrol8bPd3Eh72Gdc/bx8XGQJMkXY0zm8fHeD5ZXbz5cKgs19OX1Nf98h/J5D3vpD5aTQnXO2aJ/eLlcFh5zzGq1srPZrOPz2T5jQ8efa2zo+MVi8dla27m7uzO3t7e/in72fD63T09PHedcdzabbYqMPaWv3wMujjs3T3WLAAAAAElFTkSuQmCC\"></img></td>\n",
       "      <td id=\"T_7130d_row116_col5\" class=\"data row116 col5\" >0<br>(0.0%)</td>\n",
       "    </tr>\n",
       "    <tr>\n",
       "      <td id=\"T_7130d_row117_col0\" class=\"data row117 col0\" >118</td>\n",
       "      <td id=\"T_7130d_row117_col1\" class=\"data row117 col1\" ><strong>d1_sales_mil_log_mod_sq</strong><br>[float64]</td>\n",
       "      <td id=\"T_7130d_row117_col2\" class=\"data row117 col2\" >Mean (sd) : 0.3 (0.6)<br>min < med < max:<br>0.0 < 0.0 < 2.2<br>IQR (CV) : 0.2 (0.5)</td>\n",
       "      <td id=\"T_7130d_row117_col3\" class=\"data row117 col3\" >14,207 distinct values</td>\n",
       "      <td id=\"T_7130d_row117_col4\" class=\"data row117 col4\" ><img src = \"data:image/png;base64, iVBORw0KGgoAAAANSUhEUgAAAKoAAABGCAYAAABc8A97AAAAOXRFWHRTb2Z0d2FyZQBNYXRwbG90bGliIHZlcnNpb24zLjcuMCwgaHR0cHM6Ly9tYXRwbG90bGliLm9yZy88F64QAAAACXBIWXMAAA9hAAAPYQGoP6dpAAACgUlEQVR4nO3Xv27aYBSG8XP4J5PQzyAqsrF0yFCpQ0aW3kEuNmt2kLpxAd1RFBSMcKBYxt26VArwUQqv9PxWOMdIfmR/eFVVBly72qV/AHCIxr4vuHvbzFqR+7dVVa0jZ4E/PgzV3dv9fv8xhNCLWb5cLt/c/YlYcap9T9RWCKE3Go3WaZpujlmcZVkyHo978/m8ZWaEipPsffWbmaVpuhkMBu8R+9sRM8Bf+DMFCYQKCYQKCYQKCYQKCYQKCYQKCYQKCYQKCYQKCYQKCYQKCYQKCYQKCYQKCYQKCYQKCYQKCYQKCYQKCYQKCYQKCYQKCYQKCYQKCYQKCYQKCYQKCYQKCYQKCYQKCYQKCYQKCYQKCYQKCYQKCYQKCYQKCYQKCYQKCYQKCYQKCYQKCYQKCYQKCYQKCYQKCYQKCYQKCYQKCYQKCYQKCYQKCYQKCYQKCYQKCYQKCY1zLi/Lsmlmwd1jV2yrqlr/w5+EM3L3tpm1Isc/vNdnCzXP82ZRFN+Gw2G9Xq9vYnYsl8s3d38i1uvn7u1+v/8YQujFzO+712cLdbvdNpIkuXl4eNjc3d29HTufZVkyHo978/m8ZWaEev1aIYTeaDRap2l61IPpkHt91le/mdnt7e1mMBi8x8yWZRks/ujAseEC0jSNvd/tjz48e6ixTj06LBaLlbs/m1nUscMI/apcbainHB1ms9mnyWTyfTgcfo49H58Yes3MdjHXPXH2ktcOu92uGTm710GhZlmWHLt4tVolZmZ5nicvLy83sfMxiqJoJElyc39/791u99ex84vFojOdTqNCL8uymef5l06n87NWqxX/a/bS1y6KIinL8uvr6+uPY2cP6es38F7fa2kBAysAAAAASUVORK5CYII=\"></img></td>\n",
       "      <td id=\"T_7130d_row117_col5\" class=\"data row117 col5\" >0<br>(0.0%)</td>\n",
       "    </tr>\n",
       "  </tbody>\n",
       "</table>\n",
       "\n",
       "    </div>\n",
       "    <style>\n",
       "    #btn-2658.st-collapsible {\n",
       "      background-color: white;\n",
       "      color: #444;\n",
       "      cursor: pointer;\n",
       "      padding: 1.5rem 2rem;\n",
       "      width: 100%;\n",
       "      text-align: left;\n",
       "      outline: none;\n",
       "      font-size: 14px;\n",
       "      border-top-left-radius: 0.375rem;\n",
       "      border-top-right-radius: 0.375rem;\n",
       "      border: 1px solid #dee2e6;\n",
       "      border-bottom: none;\n",
       "      font-weight: 500;\n",
       "    }\n",
       "\n",
       "    #btn-2658.active {\n",
       "      background-color: #e7f1ff;\n",
       "      color: #0c63e4;\n",
       "    }\n",
       "\n",
       "    #cont-2658.st-content {\n",
       "      padding: 0 10px;\n",
       "      background-color: white;\n",
       "      max-height: 0;\n",
       "      overflow: hidden;\n",
       "      transition: max-height 0.2s ease-out;\n",
       "      border: 1px solid #dee2e6;\n",
       "      border-top: none;\n",
       "    }\n",
       "\n",
       "    #cont-2658.st-content .active {\n",
       "      border: 1px solid #dee2e6;\n",
       "      border-bottom-left-radius: 0.375rem;\n",
       "      border-bottom-right-radius: 0.375rem;\n",
       "    }\n",
       "\n",
       "    #btn-2658.st-collapsible:after {\n",
       "      content: '';\n",
       "      background-image: url(\"data:image/svg+xml,%3csvg xmlns='http://www.w3.org/2000/svg' viewBox='0 0 16 16' fill='%23212529'%3e%3cpath fill-rule='evenodd' d='M1.646 4.646a.5.5 0 0 1 .708 0L8 10.293l5.646-5.647a.5.5 0 0 1 .708.708l-6 6a.5.5 0 0 1-.708 0l-6-6a.5.5 0 0 1 0-.708z'/%3e%3c/svg%3e\");\n",
       "      color: #444;\n",
       "      font-weight: bold;\n",
       "      float: right;\n",
       "      margin-left: 5px;\n",
       "      height: 1.5em;\n",
       "      width:  1.5rem;\n",
       "      background-repeat: no-repeat;\n",
       "      transition: transform 0.2s ease-in-out;\n",
       "    }\n",
       "\n",
       "    #btn-2658.active:after {\n",
       "      content: '';\n",
       "      background-image: url(\"data:image/svg+xml,%3csvg xmlns='http://www.w3.org/2000/svg' viewBox='0 0 16 16' fill='%230c63e4'%3e%3cpath fill-rule='evenodd' d='M1.646 4.646a.5.5 0 0 1 .708 0L8 10.293l5.646-5.647a.5.5 0 0 1 .708.708l-6 6a.5.5 0 0 1-.708 0l-6-6a.5.5 0 0 1 0-.708z'/%3e%3c/svg%3e\");\n",
       "      transform: rotate(180deg);\n",
       "    }\n",
       "    </style><script>\n",
       "    function coll_toggle_2658(){\n",
       "        var coll = document.getElementById(\"btn-2658\");\n",
       "        var content = document.getElementById(\"cont-2658\");\n",
       "        coll.classList.toggle(\"active\");\n",
       "        if (content.style.maxHeight){\n",
       "          content.style.maxHeight = null;\n",
       "          coll.innerHTML = \"Show Summary - data\";\n",
       "        } else {\n",
       "          content.style.maxHeight = content.scrollHeight + \"px\";\n",
       "          coll.innerHTML = \"Hide Summary - data\";\n",
       "        }\n",
       "    }  \n",
       "\n",
       "    </script>"
      ],
      "text/plain": [
       "<IPython.core.display.HTML object>"
      ]
     },
     "execution_count": 21,
     "metadata": {},
     "output_type": "execute_result"
    }
   ],
   "source": [
    "from summarytools import dfSummary\n",
    "dfSummary(data, is_collapsible = True)"
   ]
  },
  {
   "cell_type": "code",
   "execution_count": 22,
   "id": "7f5b0a8d",
   "metadata": {},
   "outputs": [
    {
     "data": {
      "text/plain": [
       "<Axes: xlabel='default_f', ylabel='Percent'>"
      ]
     },
     "execution_count": 22,
     "metadata": {},
     "output_type": "execute_result"
    },
    {
     "data": {
      "image/png": "[encoded data removed]",
      "text/plain": [
       "<Figure size 640x480 with 1 Axes>"
      ]
     },
     "metadata": {},
     "output_type": "display_data"
    }
   ],
   "source": [
    "sns.histplot(data=data, x=\"default_f\", stat=\"percent\")"
   ]
  },
  {
   "cell_type": "code",
   "execution_count": 23,
   "id": "0091f577",
   "metadata": {},
   "outputs": [],
   "source": [
    "y=data['default']\n",
    "X=data.drop(columns='default')"
   ]
  },
  {
   "cell_type": "code",
   "execution_count": 24,
   "id": "c5185ff4",
   "metadata": {},
   "outputs": [],
   "source": [
    "X_train, X_test, y_train, y_test = train_test_split(X, y, random_state=42)"
   ]
  },
  {
   "cell_type": "code",
   "execution_count": 25,
   "id": "a18ddc47",
   "metadata": {},
   "outputs": [
    {
     "name": "stdout",
     "output_type": "stream",
     "text": [
      "--- Total ---\n",
      "0    0.797857\n",
      "1    0.202143\n",
      "Name: default, dtype: float64\n",
      "--- Train ---\n",
      "0    0.799958\n",
      "1    0.200042\n",
      "Name: default, dtype: float64\n",
      "--- Test ---\n",
      "0    0.791553\n",
      "1    0.208447\n",
      "Name: default, dtype: float64\n"
     ]
    }
   ],
   "source": [
    "print(\"--- Total ---\")\n",
    "print(y.value_counts(normalize=True))\n",
    "print(\"--- Train ---\")\n",
    "print(y_train.value_counts(normalize=True))\n",
    "print(\"--- Test ---\")\n",
    "print(y_test.value_counts(normalize=True))"
   ]
  },
  {
   "cell_type": "markdown",
   "id": "6c58ac3c",
   "metadata": {},
   "source": [
    "### Model building\n",
    "We are going to compare several models : \n",
    "- Logit with a selection of variables M1\n",
    "- Logit with a selection of variables M2\n",
    "- Regularized logit on M2 variables"
   ]
  },
  {
   "cell_type": "markdown",
   "id": "f7e37535",
   "metadata": {},
   "source": [
    "Firm related variables"
   ]
  },
  {
   "cell_type": "code",
   "execution_count": 26,
   "id": "7d074373",
   "metadata": {},
   "outputs": [],
   "source": [
    "firm = [\"age\", \"age2\", \"new\", \"ind2_cat\", \"m_region_loc\", \"urban_m\"]"
   ]
  },
  {
   "cell_type": "markdown",
   "id": "fda65f4d",
   "metadata": {},
   "source": [
    "Human capital related variables"
   ]
  },
  {
   "cell_type": "code",
   "execution_count": 27,
   "id": "1de8b119",
   "metadata": {},
   "outputs": [],
   "source": [
    "hr = [\n",
    "    \"female\",\n",
    "    \"ceo_age\",\n",
    "    \"flag_high_ceo_age\",\n",
    "    \"flag_low_ceo_age\",\n",
    "    \"flag_miss_ceo_age\",\n",
    "    \"ceo_count\",\n",
    "    \"labor_avg_mod\",\n",
    "    \"flag_miss_labor_avg\",\n",
    "    \"foreign_management\",\n",
    "]"
   ]
  },
  {
   "cell_type": "markdown",
   "id": "9afa494e",
   "metadata": {},
   "source": [
    "Financial variables"
   ]
  },
  {
   "cell_type": "code",
   "execution_count": 28,
   "id": "a37d6aad",
   "metadata": {},
   "outputs": [],
   "source": [
    "qualityvars = [\"balsheet_flag\", \"balsheet_length\", \"balsheet_notfullyear\"]\n",
    "engvar = [\n",
    "    \"total_assets_bs\",\n",
    "    \"fixed_assets_bs\",\n",
    "    \"liq_assets_bs\",\n",
    "    \"curr_assets_bs\",\n",
    "    \"share_eq_bs\",\n",
    "    \"subscribed_cap_bs\",\n",
    "    \"intang_assets_bs\",\n",
    "    \"extra_exp_pl\",\n",
    "    \"extra_inc_pl\",\n",
    "    \"extra_profit_loss_pl\",\n",
    "    \"inc_bef_tax_pl\",\n",
    "    \"inventories_pl\",\n",
    "    \"material_exp_pl\",\n",
    "    \"profit_loss_year_pl\",\n",
    "    \"personnel_exp_pl\",\n",
    "]"
   ]
  },
  {
   "cell_type": "markdown",
   "id": "e1635626",
   "metadata": {},
   "source": [
    "Growth variables"
   ]
  },
  {
   "cell_type": "code",
   "execution_count": 29,
   "id": "35a902be",
   "metadata": {},
   "outputs": [],
   "source": [
    "d1 = [ \n",
    "    \"d1_sales_mil_log_mod\",\n",
    "    \"d1_sales_mil_log_mod_sq\",\n",
    "    \"flag_low_d1_sales_mil_log\",\n",
    "    \"flag_high_d1_sales_mil_log\",\n",
    "]"
   ]
  },
  {
   "cell_type": "code",
   "execution_count": 30,
   "id": "b967ffd2",
   "metadata": {},
   "outputs": [],
   "source": [
    "M1 = [\n",
    "    \"sales_mil_log\",\n",
    "    \"sales_mil_log_sq\",\n",
    "    \"d1_sales_mil_log_mod\",\n",
    "    \"profit_loss_year_pl\",\n",
    "    \"fixed_assets_bs\",\n",
    "    \"share_eq_bs\",\n",
    "    \"age\",\n",
    "    \"foreign_management\",\n",
    "    \"ind2_cat\",\n",
    "]\n",
    "M2 = [\"sales_mil_log\", \"sales_mil_log_sq\"] + firm + engvar + d1 + hr"
   ]
  },
  {
   "cell_type": "markdown",
   "id": "ffefada7",
   "metadata": {},
   "source": [
    "#### Selection of the relevant variables"
   ]
  },
  {
   "cell_type": "code",
   "execution_count": 31,
   "id": "4a302a75",
   "metadata": {},
   "outputs": [],
   "source": [
    "X_train_M1=X_train[M1]\n",
    "X_test_M1 =X_test[M1]\n",
    "\n",
    "X_train_M2=X_train[M2]\n",
    "X_test_M2 =X_test[M2]"
   ]
  },
  {
   "cell_type": "markdown",
   "id": "eed1bbc8",
   "metadata": {},
   "source": [
    "#### Set up the method for model selection"
   ]
  },
  {
   "cell_type": "code",
   "execution_count": 32,
   "id": "5398f85e",
   "metadata": {},
   "outputs": [],
   "source": [
    "k = KFold(n_splits=5, shuffle=True, random_state=42)"
   ]
  },
  {
   "cell_type": "markdown",
   "id": "fbfbebc6",
   "metadata": {},
   "source": [
    "#### No regularisation needed so setting the paremeter to very high value"
   ]
  },
  {
   "cell_type": "code",
   "execution_count": 33,
   "id": "534d4baf",
   "metadata": {},
   "outputs": [],
   "source": [
    "C_value_logit = [1e20]"
   ]
  },
  {
   "cell_type": "markdown",
   "id": "f7ecc5c8",
   "metadata": {},
   "source": [
    "#### Where we put the results of the different models, for comparison purposes:"
   ]
  },
  {
   "cell_type": "code",
   "execution_count": 34,
   "id": "8bbe01b0",
   "metadata": {},
   "outputs": [],
   "source": [
    "test_accuracy={}\n",
    "test_auc_roc={}"
   ]
  },
  {
   "cell_type": "markdown",
   "id": "859a52f7",
   "metadata": {},
   "source": [
    "### Model 1: Logit\n",
    "#### Set up Logit model object"
   ]
  },
  {
   "cell_type": "code",
   "execution_count": 35,
   "id": "7e8ab100",
   "metadata": {},
   "outputs": [],
   "source": [
    "logistic = LogisticRegressionCV(\n",
    "    Cs=C_value_logit,\n",
    "    cv=k,\n",
    "    refit=True,\n",
    "    solver=\"newton-cg\",\n",
    "    tol=1e-7,\n",
    "    random_state=42,\n",
    ")"
   ]
  },
  {
   "cell_type": "markdown",
   "id": "75c2fe54",
   "metadata": {},
   "source": [
    "#### Creating the pipeline"
   ]
  },
  {
   "cell_type": "markdown",
   "id": "0d79f2d6",
   "metadata": {},
   "source": [
    "Identifying categorical columns"
   ]
  },
  {
   "cell_type": "code",
   "execution_count": 36,
   "id": "5cbaa070",
   "metadata": {},
   "outputs": [
    {
     "data": {
      "text/plain": [
       "[]"
      ]
     },
     "execution_count": 36,
     "metadata": {},
     "output_type": "execute_result"
    }
   ],
   "source": [
    "from sklearn.compose import make_column_selector as selector\n",
    "\n",
    "categorical_columns_selector = selector(dtype_include=object)\n",
    "categorical_columns = categorical_columns_selector(X_train_M1)\n",
    "categorical_columns"
   ]
  },
  {
   "cell_type": "markdown",
   "id": "e02ceb4f",
   "metadata": {},
   "source": [
    "Identifying categorical columns"
   ]
  },
  {
   "cell_type": "code",
   "execution_count": 37,
   "id": "757ceba1",
   "metadata": {},
   "outputs": [
    {
     "data": {
      "text/plain": [
       "['sales_mil_log',\n",
       " 'sales_mil_log_sq',\n",
       " 'd1_sales_mil_log_mod',\n",
       " 'profit_loss_year_pl',\n",
       " 'fixed_assets_bs',\n",
       " 'share_eq_bs',\n",
       " 'age',\n",
       " 'foreign_management',\n",
       " 'ind2_cat']"
      ]
     },
     "execution_count": 37,
     "metadata": {},
     "output_type": "execute_result"
    }
   ],
   "source": [
    "numeric_columns = [col for col in X_train_M1.columns if col not in categorical_columns]\n",
    "numeric_columns"
   ]
  },
  {
   "cell_type": "code",
   "execution_count": 38,
   "id": "6bc4a3a9",
   "metadata": {},
   "outputs": [
    {
     "data": {
      "text/html": [
       "<style>#sk-container-id-3 {color: black;background-color: white;}#sk-container-id-3 pre{padding: 0;}#sk-container-id-3 div.sk-toggleable {background-color: white;}#sk-container-id-3 label.sk-toggleable__label {cursor: pointer;display: block;width: 100%;margin-bottom: 0;padding: 0.3em;box-sizing: border-box;text-align: center;}#sk-container-id-3 label.sk-toggleable__label-arrow:before {content: \"▸\";float: left;margin-right: 0.25em;color: #696969;}#sk-container-id-3 label.sk-toggleable__label-arrow:hover:before {color: black;}#sk-container-id-3 div.sk-estimator:hover label.sk-toggleable__label-arrow:before {color: black;}#sk-container-id-3 div.sk-toggleable__content {max-height: 0;max-width: 0;overflow: hidden;text-align: left;background-color: #f0f8ff;}#sk-container-id-3 div.sk-toggleable__content pre {margin: 0.2em;color: black;border-radius: 0.25em;background-color: #f0f8ff;}#sk-container-id-3 input.sk-toggleable__control:checked~div.sk-toggleable__content {max-height: 200px;max-width: 100%;overflow: auto;}#sk-container-id-3 input.sk-toggleable__control:checked~label.sk-toggleable__label-arrow:before {content: \"▾\";}#sk-container-id-3 div.sk-estimator input.sk-toggleable__control:checked~label.sk-toggleable__label {background-color: #d4ebff;}#sk-container-id-3 div.sk-label input.sk-toggleable__control:checked~label.sk-toggleable__label {background-color: #d4ebff;}#sk-container-id-3 input.sk-hidden--visually {border: 0;clip: rect(1px 1px 1px 1px);clip: rect(1px, 1px, 1px, 1px);height: 1px;margin: -1px;overflow: hidden;padding: 0;position: absolute;width: 1px;}#sk-container-id-3 div.sk-estimator {font-family: monospace;background-color: #f0f8ff;border: 1px dotted black;border-radius: 0.25em;box-sizing: border-box;margin-bottom: 0.5em;}#sk-container-id-3 div.sk-estimator:hover {background-color: #d4ebff;}#sk-container-id-3 div.sk-parallel-item::after {content: \"\";width: 100%;border-bottom: 1px solid gray;flex-grow: 1;}#sk-container-id-3 div.sk-label:hover label.sk-toggleable__label {background-color: #d4ebff;}#sk-container-id-3 div.sk-serial::before {content: \"\";position: absolute;border-left: 1px solid gray;box-sizing: border-box;top: 0;bottom: 0;left: 50%;z-index: 0;}#sk-container-id-3 div.sk-serial {display: flex;flex-direction: column;align-items: center;background-color: white;padding-right: 0.2em;padding-left: 0.2em;position: relative;}#sk-container-id-3 div.sk-item {position: relative;z-index: 1;}#sk-container-id-3 div.sk-parallel {display: flex;align-items: stretch;justify-content: center;background-color: white;position: relative;}#sk-container-id-3 div.sk-item::before, #sk-container-id-3 div.sk-parallel-item::before {content: \"\";position: absolute;border-left: 1px solid gray;box-sizing: border-box;top: 0;bottom: 0;left: 50%;z-index: -1;}#sk-container-id-3 div.sk-parallel-item {display: flex;flex-direction: column;z-index: 1;position: relative;background-color: white;}#sk-container-id-3 div.sk-parallel-item:first-child::after {align-self: flex-end;width: 50%;}#sk-container-id-3 div.sk-parallel-item:last-child::after {align-self: flex-start;width: 50%;}#sk-container-id-3 div.sk-parallel-item:only-child::after {width: 0;}#sk-container-id-3 div.sk-dashed-wrapped {border: 1px dashed gray;margin: 0 0.4em 0.5em 0.4em;box-sizing: border-box;padding-bottom: 0.4em;background-color: white;}#sk-container-id-3 div.sk-label label {font-family: monospace;font-weight: bold;display: inline-block;line-height: 1.2em;}#sk-container-id-3 div.sk-label-container {text-align: center;}#sk-container-id-3 div.sk-container {/* jupyter's `normalize.less` sets `[hidden] { display: none; }` but bootstrap.min.css set `[hidden] { display: none !important; }` so we also need the `!important` here to be able to override the default hidden behavior on the sphinx rendered scikit-learn.org. See: https://github.com/scikit-learn/scikit-learn/issues/21755 */display: inline-block !important;position: relative;}#sk-container-id-3 div.sk-text-repr-fallback {display: none;}</style><div id=\"sk-container-id-3\" class=\"sk-top-container\"><div class=\"sk-text-repr-fallback\"><pre>Pipeline(steps=[(&#x27;standardize&#x27;, StandardScaler()),\n",
       "                (&#x27;log_reg&#x27;,\n",
       "                 LogisticRegressionCV(Cs=[1e+20],\n",
       "                                      cv=KFold(n_splits=5, random_state=42, shuffle=True),\n",
       "                                      random_state=42, solver=&#x27;newton-cg&#x27;,\n",
       "                                      tol=1e-07))])</pre><b>In a Jupyter environment, please rerun this cell to show the HTML representation or trust the notebook. <br />On GitHub, the HTML representation is unable to render, please try loading this page with nbviewer.org.</b></div><div class=\"sk-container\" hidden><div class=\"sk-item sk-dashed-wrapped\"><div class=\"sk-label-container\"><div class=\"sk-label sk-toggleable\"><input class=\"sk-toggleable__control sk-hidden--visually\" id=\"sk-estimator-id-7\" type=\"checkbox\" ><label for=\"sk-estimator-id-7\" class=\"sk-toggleable__label sk-toggleable__label-arrow\">Pipeline</label><div class=\"sk-toggleable__content\"><pre>Pipeline(steps=[(&#x27;standardize&#x27;, StandardScaler()),\n",
       "                (&#x27;log_reg&#x27;,\n",
       "                 LogisticRegressionCV(Cs=[1e+20],\n",
       "                                      cv=KFold(n_splits=5, random_state=42, shuffle=True),\n",
       "                                      random_state=42, solver=&#x27;newton-cg&#x27;,\n",
       "                                      tol=1e-07))])</pre></div></div></div><div class=\"sk-serial\"><div class=\"sk-item\"><div class=\"sk-estimator sk-toggleable\"><input class=\"sk-toggleable__control sk-hidden--visually\" id=\"sk-estimator-id-8\" type=\"checkbox\" ><label for=\"sk-estimator-id-8\" class=\"sk-toggleable__label sk-toggleable__label-arrow\">StandardScaler</label><div class=\"sk-toggleable__content\"><pre>StandardScaler()</pre></div></div></div><div class=\"sk-item\"><div class=\"sk-estimator sk-toggleable\"><input class=\"sk-toggleable__control sk-hidden--visually\" id=\"sk-estimator-id-9\" type=\"checkbox\" ><label for=\"sk-estimator-id-9\" class=\"sk-toggleable__label sk-toggleable__label-arrow\">LogisticRegressionCV</label><div class=\"sk-toggleable__content\"><pre>LogisticRegressionCV(Cs=[1e+20],\n",
       "                     cv=KFold(n_splits=5, random_state=42, shuffle=True),\n",
       "                     random_state=42, solver=&#x27;newton-cg&#x27;, tol=1e-07)</pre></div></div></div></div></div></div></div>"
      ],
      "text/plain": [
       "Pipeline(steps=[('standardize', StandardScaler()),\n",
       "                ('log_reg',\n",
       "                 LogisticRegressionCV(Cs=[1e+20],\n",
       "                                      cv=KFold(n_splits=5, random_state=42, shuffle=True),\n",
       "                                      random_state=42, solver='newton-cg',\n",
       "                                      tol=1e-07))])"
      ]
     },
     "execution_count": 38,
     "metadata": {},
     "output_type": "execute_result"
    }
   ],
   "source": [
    "pipeline_logit = Pipeline([\n",
    "    ('standardize', StandardScaler()),\n",
    "    ('log_reg', logistic)\n",
    "                          ])\n",
    "pipeline_logit"
   ]
  },
  {
   "cell_type": "code",
   "execution_count": 39,
   "id": "4e94c0e5",
   "metadata": {},
   "outputs": [
    {
     "data": {
      "text/html": [
       "<style>#sk-container-id-4 {color: black;background-color: white;}#sk-container-id-4 pre{padding: 0;}#sk-container-id-4 div.sk-toggleable {background-color: white;}#sk-container-id-4 label.sk-toggleable__label {cursor: pointer;display: block;width: 100%;margin-bottom: 0;padding: 0.3em;box-sizing: border-box;text-align: center;}#sk-container-id-4 label.sk-toggleable__label-arrow:before {content: \"▸\";float: left;margin-right: 0.25em;color: #696969;}#sk-container-id-4 label.sk-toggleable__label-arrow:hover:before {color: black;}#sk-container-id-4 div.sk-estimator:hover label.sk-toggleable__label-arrow:before {color: black;}#sk-container-id-4 div.sk-toggleable__content {max-height: 0;max-width: 0;overflow: hidden;text-align: left;background-color: #f0f8ff;}#sk-container-id-4 div.sk-toggleable__content pre {margin: 0.2em;color: black;border-radius: 0.25em;background-color: #f0f8ff;}#sk-container-id-4 input.sk-toggleable__control:checked~div.sk-toggleable__content {max-height: 200px;max-width: 100%;overflow: auto;}#sk-container-id-4 input.sk-toggleable__control:checked~label.sk-toggleable__label-arrow:before {content: \"▾\";}#sk-container-id-4 div.sk-estimator input.sk-toggleable__control:checked~label.sk-toggleable__label {background-color: #d4ebff;}#sk-container-id-4 div.sk-label input.sk-toggleable__control:checked~label.sk-toggleable__label {background-color: #d4ebff;}#sk-container-id-4 input.sk-hidden--visually {border: 0;clip: rect(1px 1px 1px 1px);clip: rect(1px, 1px, 1px, 1px);height: 1px;margin: -1px;overflow: hidden;padding: 0;position: absolute;width: 1px;}#sk-container-id-4 div.sk-estimator {font-family: monospace;background-color: #f0f8ff;border: 1px dotted black;border-radius: 0.25em;box-sizing: border-box;margin-bottom: 0.5em;}#sk-container-id-4 div.sk-estimator:hover {background-color: #d4ebff;}#sk-container-id-4 div.sk-parallel-item::after {content: \"\";width: 100%;border-bottom: 1px solid gray;flex-grow: 1;}#sk-container-id-4 div.sk-label:hover label.sk-toggleable__label {background-color: #d4ebff;}#sk-container-id-4 div.sk-serial::before {content: \"\";position: absolute;border-left: 1px solid gray;box-sizing: border-box;top: 0;bottom: 0;left: 50%;z-index: 0;}#sk-container-id-4 div.sk-serial {display: flex;flex-direction: column;align-items: center;background-color: white;padding-right: 0.2em;padding-left: 0.2em;position: relative;}#sk-container-id-4 div.sk-item {position: relative;z-index: 1;}#sk-container-id-4 div.sk-parallel {display: flex;align-items: stretch;justify-content: center;background-color: white;position: relative;}#sk-container-id-4 div.sk-item::before, #sk-container-id-4 div.sk-parallel-item::before {content: \"\";position: absolute;border-left: 1px solid gray;box-sizing: border-box;top: 0;bottom: 0;left: 50%;z-index: -1;}#sk-container-id-4 div.sk-parallel-item {display: flex;flex-direction: column;z-index: 1;position: relative;background-color: white;}#sk-container-id-4 div.sk-parallel-item:first-child::after {align-self: flex-end;width: 50%;}#sk-container-id-4 div.sk-parallel-item:last-child::after {align-self: flex-start;width: 50%;}#sk-container-id-4 div.sk-parallel-item:only-child::after {width: 0;}#sk-container-id-4 div.sk-dashed-wrapped {border: 1px dashed gray;margin: 0 0.4em 0.5em 0.4em;box-sizing: border-box;padding-bottom: 0.4em;background-color: white;}#sk-container-id-4 div.sk-label label {font-family: monospace;font-weight: bold;display: inline-block;line-height: 1.2em;}#sk-container-id-4 div.sk-label-container {text-align: center;}#sk-container-id-4 div.sk-container {/* jupyter's `normalize.less` sets `[hidden] { display: none; }` but bootstrap.min.css set `[hidden] { display: none !important; }` so we also need the `!important` here to be able to override the default hidden behavior on the sphinx rendered scikit-learn.org. See: https://github.com/scikit-learn/scikit-learn/issues/21755 */display: inline-block !important;position: relative;}#sk-container-id-4 div.sk-text-repr-fallback {display: none;}</style><div id=\"sk-container-id-4\" class=\"sk-top-container\"><div class=\"sk-text-repr-fallback\"><pre>Pipeline(steps=[(&#x27;standardize&#x27;, StandardScaler()),\n",
       "                (&#x27;log_reg&#x27;,\n",
       "                 LogisticRegressionCV(Cs=[1e+20],\n",
       "                                      cv=KFold(n_splits=5, random_state=42, shuffle=True),\n",
       "                                      random_state=42, solver=&#x27;newton-cg&#x27;,\n",
       "                                      tol=1e-07))])</pre><b>In a Jupyter environment, please rerun this cell to show the HTML representation or trust the notebook. <br />On GitHub, the HTML representation is unable to render, please try loading this page with nbviewer.org.</b></div><div class=\"sk-container\" hidden><div class=\"sk-item sk-dashed-wrapped\"><div class=\"sk-label-container\"><div class=\"sk-label sk-toggleable\"><input class=\"sk-toggleable__control sk-hidden--visually\" id=\"sk-estimator-id-10\" type=\"checkbox\" ><label for=\"sk-estimator-id-10\" class=\"sk-toggleable__label sk-toggleable__label-arrow\">Pipeline</label><div class=\"sk-toggleable__content\"><pre>Pipeline(steps=[(&#x27;standardize&#x27;, StandardScaler()),\n",
       "                (&#x27;log_reg&#x27;,\n",
       "                 LogisticRegressionCV(Cs=[1e+20],\n",
       "                                      cv=KFold(n_splits=5, random_state=42, shuffle=True),\n",
       "                                      random_state=42, solver=&#x27;newton-cg&#x27;,\n",
       "                                      tol=1e-07))])</pre></div></div></div><div class=\"sk-serial\"><div class=\"sk-item\"><div class=\"sk-estimator sk-toggleable\"><input class=\"sk-toggleable__control sk-hidden--visually\" id=\"sk-estimator-id-11\" type=\"checkbox\" ><label for=\"sk-estimator-id-11\" class=\"sk-toggleable__label sk-toggleable__label-arrow\">StandardScaler</label><div class=\"sk-toggleable__content\"><pre>StandardScaler()</pre></div></div></div><div class=\"sk-item\"><div class=\"sk-estimator sk-toggleable\"><input class=\"sk-toggleable__control sk-hidden--visually\" id=\"sk-estimator-id-12\" type=\"checkbox\" ><label for=\"sk-estimator-id-12\" class=\"sk-toggleable__label sk-toggleable__label-arrow\">LogisticRegressionCV</label><div class=\"sk-toggleable__content\"><pre>LogisticRegressionCV(Cs=[1e+20],\n",
       "                     cv=KFold(n_splits=5, random_state=42, shuffle=True),\n",
       "                     random_state=42, solver=&#x27;newton-cg&#x27;, tol=1e-07)</pre></div></div></div></div></div></div></div>"
      ],
      "text/plain": [
       "Pipeline(steps=[('standardize', StandardScaler()),\n",
       "                ('log_reg',\n",
       "                 LogisticRegressionCV(Cs=[1e+20],\n",
       "                                      cv=KFold(n_splits=5, random_state=42, shuffle=True),\n",
       "                                      random_state=42, solver='newton-cg',\n",
       "                                      tol=1e-07))])"
      ]
     },
     "execution_count": 39,
     "metadata": {},
     "output_type": "execute_result"
    }
   ],
   "source": [
    "scaler = StandardScaler()\n",
    "\n",
    "pipeline_logit = Pipeline([('standardize', scaler),\n",
    "                           ('log_reg', logistic)])\n",
    "pipeline_logit"
   ]
  },
  {
   "cell_type": "markdown",
   "id": "ae97fbf4",
   "metadata": {},
   "source": [
    "#### On M1 features set"
   ]
  },
  {
   "cell_type": "code",
   "execution_count": 40,
   "id": "df09897c",
   "metadata": {},
   "outputs": [
    {
     "name": "stderr",
     "output_type": "stream",
     "text": [
      "/opt/homebrew/lib/python3.10/site-packages/scipy/optimize/_linesearch.py:416: LineSearchWarning: Rounding errors prevent the line search from converging\n",
      "  warn(msg, LineSearchWarning)\n",
      "/opt/homebrew/lib/python3.10/site-packages/scipy/optimize/_linesearch.py:306: LineSearchWarning: The line search algorithm did not converge\n",
      "  warn('The line search algorithm did not converge', LineSearchWarning)\n",
      "/opt/homebrew/lib/python3.10/site-packages/sklearn/utils/optimize.py:203: UserWarning: Line Search failed\n",
      "  warnings.warn(\"Line Search failed\")\n"
     ]
    },
    {
     "data": {
      "text/html": [
       "<style>#sk-container-id-5 {color: black;background-color: white;}#sk-container-id-5 pre{padding: 0;}#sk-container-id-5 div.sk-toggleable {background-color: white;}#sk-container-id-5 label.sk-toggleable__label {cursor: pointer;display: block;width: 100%;margin-bottom: 0;padding: 0.3em;box-sizing: border-box;text-align: center;}#sk-container-id-5 label.sk-toggleable__label-arrow:before {content: \"▸\";float: left;margin-right: 0.25em;color: #696969;}#sk-container-id-5 label.sk-toggleable__label-arrow:hover:before {color: black;}#sk-container-id-5 div.sk-estimator:hover label.sk-toggleable__label-arrow:before {color: black;}#sk-container-id-5 div.sk-toggleable__content {max-height: 0;max-width: 0;overflow: hidden;text-align: left;background-color: #f0f8ff;}#sk-container-id-5 div.sk-toggleable__content pre {margin: 0.2em;color: black;border-radius: 0.25em;background-color: #f0f8ff;}#sk-container-id-5 input.sk-toggleable__control:checked~div.sk-toggleable__content {max-height: 200px;max-width: 100%;overflow: auto;}#sk-container-id-5 input.sk-toggleable__control:checked~label.sk-toggleable__label-arrow:before {content: \"▾\";}#sk-container-id-5 div.sk-estimator input.sk-toggleable__control:checked~label.sk-toggleable__label {background-color: #d4ebff;}#sk-container-id-5 div.sk-label input.sk-toggleable__control:checked~label.sk-toggleable__label {background-color: #d4ebff;}#sk-container-id-5 input.sk-hidden--visually {border: 0;clip: rect(1px 1px 1px 1px);clip: rect(1px, 1px, 1px, 1px);height: 1px;margin: -1px;overflow: hidden;padding: 0;position: absolute;width: 1px;}#sk-container-id-5 div.sk-estimator {font-family: monospace;background-color: #f0f8ff;border: 1px dotted black;border-radius: 0.25em;box-sizing: border-box;margin-bottom: 0.5em;}#sk-container-id-5 div.sk-estimator:hover {background-color: #d4ebff;}#sk-container-id-5 div.sk-parallel-item::after {content: \"\";width: 100%;border-bottom: 1px solid gray;flex-grow: 1;}#sk-container-id-5 div.sk-label:hover label.sk-toggleable__label {background-color: #d4ebff;}#sk-container-id-5 div.sk-serial::before {content: \"\";position: absolute;border-left: 1px solid gray;box-sizing: border-box;top: 0;bottom: 0;left: 50%;z-index: 0;}#sk-container-id-5 div.sk-serial {display: flex;flex-direction: column;align-items: center;background-color: white;padding-right: 0.2em;padding-left: 0.2em;position: relative;}#sk-container-id-5 div.sk-item {position: relative;z-index: 1;}#sk-container-id-5 div.sk-parallel {display: flex;align-items: stretch;justify-content: center;background-color: white;position: relative;}#sk-container-id-5 div.sk-item::before, #sk-container-id-5 div.sk-parallel-item::before {content: \"\";position: absolute;border-left: 1px solid gray;box-sizing: border-box;top: 0;bottom: 0;left: 50%;z-index: -1;}#sk-container-id-5 div.sk-parallel-item {display: flex;flex-direction: column;z-index: 1;position: relative;background-color: white;}#sk-container-id-5 div.sk-parallel-item:first-child::after {align-self: flex-end;width: 50%;}#sk-container-id-5 div.sk-parallel-item:last-child::after {align-self: flex-start;width: 50%;}#sk-container-id-5 div.sk-parallel-item:only-child::after {width: 0;}#sk-container-id-5 div.sk-dashed-wrapped {border: 1px dashed gray;margin: 0 0.4em 0.5em 0.4em;box-sizing: border-box;padding-bottom: 0.4em;background-color: white;}#sk-container-id-5 div.sk-label label {font-family: monospace;font-weight: bold;display: inline-block;line-height: 1.2em;}#sk-container-id-5 div.sk-label-container {text-align: center;}#sk-container-id-5 div.sk-container {/* jupyter's `normalize.less` sets `[hidden] { display: none; }` but bootstrap.min.css set `[hidden] { display: none !important; }` so we also need the `!important` here to be able to override the default hidden behavior on the sphinx rendered scikit-learn.org. See: https://github.com/scikit-learn/scikit-learn/issues/21755 */display: inline-block !important;position: relative;}#sk-container-id-5 div.sk-text-repr-fallback {display: none;}</style><div id=\"sk-container-id-5\" class=\"sk-top-container\"><div class=\"sk-text-repr-fallback\"><pre>Pipeline(steps=[(&#x27;standardize&#x27;, StandardScaler()),\n",
       "                (&#x27;log_reg&#x27;,\n",
       "                 LogisticRegressionCV(Cs=[1e+20],\n",
       "                                      cv=KFold(n_splits=5, random_state=42, shuffle=True),\n",
       "                                      random_state=42, solver=&#x27;newton-cg&#x27;,\n",
       "                                      tol=1e-07))])</pre><b>In a Jupyter environment, please rerun this cell to show the HTML representation or trust the notebook. <br />On GitHub, the HTML representation is unable to render, please try loading this page with nbviewer.org.</b></div><div class=\"sk-container\" hidden><div class=\"sk-item sk-dashed-wrapped\"><div class=\"sk-label-container\"><div class=\"sk-label sk-toggleable\"><input class=\"sk-toggleable__control sk-hidden--visually\" id=\"sk-estimator-id-13\" type=\"checkbox\" ><label for=\"sk-estimator-id-13\" class=\"sk-toggleable__label sk-toggleable__label-arrow\">Pipeline</label><div class=\"sk-toggleable__content\"><pre>Pipeline(steps=[(&#x27;standardize&#x27;, StandardScaler()),\n",
       "                (&#x27;log_reg&#x27;,\n",
       "                 LogisticRegressionCV(Cs=[1e+20],\n",
       "                                      cv=KFold(n_splits=5, random_state=42, shuffle=True),\n",
       "                                      random_state=42, solver=&#x27;newton-cg&#x27;,\n",
       "                                      tol=1e-07))])</pre></div></div></div><div class=\"sk-serial\"><div class=\"sk-item\"><div class=\"sk-estimator sk-toggleable\"><input class=\"sk-toggleable__control sk-hidden--visually\" id=\"sk-estimator-id-14\" type=\"checkbox\" ><label for=\"sk-estimator-id-14\" class=\"sk-toggleable__label sk-toggleable__label-arrow\">StandardScaler</label><div class=\"sk-toggleable__content\"><pre>StandardScaler()</pre></div></div></div><div class=\"sk-item\"><div class=\"sk-estimator sk-toggleable\"><input class=\"sk-toggleable__control sk-hidden--visually\" id=\"sk-estimator-id-15\" type=\"checkbox\" ><label for=\"sk-estimator-id-15\" class=\"sk-toggleable__label sk-toggleable__label-arrow\">LogisticRegressionCV</label><div class=\"sk-toggleable__content\"><pre>LogisticRegressionCV(Cs=[1e+20],\n",
       "                     cv=KFold(n_splits=5, random_state=42, shuffle=True),\n",
       "                     random_state=42, solver=&#x27;newton-cg&#x27;, tol=1e-07)</pre></div></div></div></div></div></div></div>"
      ],
      "text/plain": [
       "Pipeline(steps=[('standardize', StandardScaler()),\n",
       "                ('log_reg',\n",
       "                 LogisticRegressionCV(Cs=[1e+20],\n",
       "                                      cv=KFold(n_splits=5, random_state=42, shuffle=True),\n",
       "                                      random_state=42, solver='newton-cg',\n",
       "                                      tol=1e-07))])"
      ]
     },
     "execution_count": 40,
     "metadata": {},
     "output_type": "execute_result"
    }
   ],
   "source": [
    "pipeline_logit.fit(X_train_M1, y_train)"
   ]
  },
  {
   "cell_type": "code",
   "execution_count": 41,
   "id": "d8cbe260",
   "metadata": {},
   "outputs": [
    {
     "name": "stdout",
     "output_type": "stream",
     "text": [
      "Confusion matrix:\n",
      " [[3615  152]\n",
      " [ 786  206]]\n",
      "Testing AUC: 76.5941 %\n",
      "Testing accuracy: 80.2900 %\n"
     ]
    }
   ],
   "source": [
    "y_test_hat = pipeline_logit.predict(X_test_M1)\n",
    "y_test_hat_probs = pipeline_logit.predict_proba(X_test_M1)[:,1]\n",
    "\n",
    "test_accuracy['logit_m1'] = accuracy_score(y_test, y_test_hat)*100\n",
    "test_auc_roc['logit_m1'] = roc_auc_score(y_test, y_test_hat_probs)*100\n",
    "\n",
    "print('Confusion matrix:\\n', confusion_matrix(y_test, y_test_hat))\n",
    "print('Testing AUC: %.4f %%' % test_auc_roc['logit_m1'])\n",
    "print('Testing accuracy: %.4f %%' % test_accuracy['logit_m1']) \n"
   ]
  },
  {
   "cell_type": "markdown",
   "id": "3f2d1ecb",
   "metadata": {},
   "source": [
    "<div class=\"alert alert-info\">\n",
    "<h4> Your turn: On M2 features set </h4>\n",
    "Following M1 example, define, estimate and evaluate a logit model with cross-validation using the M2 set of features.     \n",
    "</div>"
   ]
  },
  {
   "cell_type": "markdown",
   "id": "e27e1130",
   "metadata": {},
   "source": [
    "##### Categorical features"
   ]
  },
  {
   "cell_type": "code",
   "execution_count": 42,
   "id": "c73cd0da",
   "metadata": {},
   "outputs": [
    {
     "data": {
      "text/plain": [
       "['m_region_loc']"
      ]
     },
     "execution_count": 42,
     "metadata": {},
     "output_type": "execute_result"
    }
   ],
   "source": [
    "from sklearn.compose import make_column_selector as selector\n",
    "categorical_columns_selector = selector(dtype_include=object)\n",
    "categorical_features = categorical_columns_selector(X_train_M2)\n",
    "\n",
    "categorical_features"
   ]
  },
  {
   "cell_type": "code",
   "execution_count": 43,
   "id": "3a4ed525",
   "metadata": {},
   "outputs": [
    {
     "data": {
      "text/html": [
       "<style>#sk-container-id-6 {color: black;background-color: white;}#sk-container-id-6 pre{padding: 0;}#sk-container-id-6 div.sk-toggleable {background-color: white;}#sk-container-id-6 label.sk-toggleable__label {cursor: pointer;display: block;width: 100%;margin-bottom: 0;padding: 0.3em;box-sizing: border-box;text-align: center;}#sk-container-id-6 label.sk-toggleable__label-arrow:before {content: \"▸\";float: left;margin-right: 0.25em;color: #696969;}#sk-container-id-6 label.sk-toggleable__label-arrow:hover:before {color: black;}#sk-container-id-6 div.sk-estimator:hover label.sk-toggleable__label-arrow:before {color: black;}#sk-container-id-6 div.sk-toggleable__content {max-height: 0;max-width: 0;overflow: hidden;text-align: left;background-color: #f0f8ff;}#sk-container-id-6 div.sk-toggleable__content pre {margin: 0.2em;color: black;border-radius: 0.25em;background-color: #f0f8ff;}#sk-container-id-6 input.sk-toggleable__control:checked~div.sk-toggleable__content {max-height: 200px;max-width: 100%;overflow: auto;}#sk-container-id-6 input.sk-toggleable__control:checked~label.sk-toggleable__label-arrow:before {content: \"▾\";}#sk-container-id-6 div.sk-estimator input.sk-toggleable__control:checked~label.sk-toggleable__label {background-color: #d4ebff;}#sk-container-id-6 div.sk-label input.sk-toggleable__control:checked~label.sk-toggleable__label {background-color: #d4ebff;}#sk-container-id-6 input.sk-hidden--visually {border: 0;clip: rect(1px 1px 1px 1px);clip: rect(1px, 1px, 1px, 1px);height: 1px;margin: -1px;overflow: hidden;padding: 0;position: absolute;width: 1px;}#sk-container-id-6 div.sk-estimator {font-family: monospace;background-color: #f0f8ff;border: 1px dotted black;border-radius: 0.25em;box-sizing: border-box;margin-bottom: 0.5em;}#sk-container-id-6 div.sk-estimator:hover {background-color: #d4ebff;}#sk-container-id-6 div.sk-parallel-item::after {content: \"\";width: 100%;border-bottom: 1px solid gray;flex-grow: 1;}#sk-container-id-6 div.sk-label:hover label.sk-toggleable__label {background-color: #d4ebff;}#sk-container-id-6 div.sk-serial::before {content: \"\";position: absolute;border-left: 1px solid gray;box-sizing: border-box;top: 0;bottom: 0;left: 50%;z-index: 0;}#sk-container-id-6 div.sk-serial {display: flex;flex-direction: column;align-items: center;background-color: white;padding-right: 0.2em;padding-left: 0.2em;position: relative;}#sk-container-id-6 div.sk-item {position: relative;z-index: 1;}#sk-container-id-6 div.sk-parallel {display: flex;align-items: stretch;justify-content: center;background-color: white;position: relative;}#sk-container-id-6 div.sk-item::before, #sk-container-id-6 div.sk-parallel-item::before {content: \"\";position: absolute;border-left: 1px solid gray;box-sizing: border-box;top: 0;bottom: 0;left: 50%;z-index: -1;}#sk-container-id-6 div.sk-parallel-item {display: flex;flex-direction: column;z-index: 1;position: relative;background-color: white;}#sk-container-id-6 div.sk-parallel-item:first-child::after {align-self: flex-end;width: 50%;}#sk-container-id-6 div.sk-parallel-item:last-child::after {align-self: flex-start;width: 50%;}#sk-container-id-6 div.sk-parallel-item:only-child::after {width: 0;}#sk-container-id-6 div.sk-dashed-wrapped {border: 1px dashed gray;margin: 0 0.4em 0.5em 0.4em;box-sizing: border-box;padding-bottom: 0.4em;background-color: white;}#sk-container-id-6 div.sk-label label {font-family: monospace;font-weight: bold;display: inline-block;line-height: 1.2em;}#sk-container-id-6 div.sk-label-container {text-align: center;}#sk-container-id-6 div.sk-container {/* jupyter's `normalize.less` sets `[hidden] { display: none; }` but bootstrap.min.css set `[hidden] { display: none !important; }` so we also need the `!important` here to be able to override the default hidden behavior on the sphinx rendered scikit-learn.org. See: https://github.com/scikit-learn/scikit-learn/issues/21755 */display: inline-block !important;position: relative;}#sk-container-id-6 div.sk-text-repr-fallback {display: none;}</style><div id=\"sk-container-id-6\" class=\"sk-top-container\"><div class=\"sk-text-repr-fallback\"><pre>Pipeline(steps=[(&#x27;encoder&#x27;, OneHotEncoder(handle_unknown=&#x27;ignore&#x27;))])</pre><b>In a Jupyter environment, please rerun this cell to show the HTML representation or trust the notebook. <br />On GitHub, the HTML representation is unable to render, please try loading this page with nbviewer.org.</b></div><div class=\"sk-container\" hidden><div class=\"sk-item sk-dashed-wrapped\"><div class=\"sk-label-container\"><div class=\"sk-label sk-toggleable\"><input class=\"sk-toggleable__control sk-hidden--visually\" id=\"sk-estimator-id-16\" type=\"checkbox\" ><label for=\"sk-estimator-id-16\" class=\"sk-toggleable__label sk-toggleable__label-arrow\">Pipeline</label><div class=\"sk-toggleable__content\"><pre>Pipeline(steps=[(&#x27;encoder&#x27;, OneHotEncoder(handle_unknown=&#x27;ignore&#x27;))])</pre></div></div></div><div class=\"sk-serial\"><div class=\"sk-item\"><div class=\"sk-estimator sk-toggleable\"><input class=\"sk-toggleable__control sk-hidden--visually\" id=\"sk-estimator-id-17\" type=\"checkbox\" ><label for=\"sk-estimator-id-17\" class=\"sk-toggleable__label sk-toggleable__label-arrow\">OneHotEncoder</label><div class=\"sk-toggleable__content\"><pre>OneHotEncoder(handle_unknown=&#x27;ignore&#x27;)</pre></div></div></div></div></div></div></div>"
      ],
      "text/plain": [
       "Pipeline(steps=[('encoder', OneHotEncoder(handle_unknown='ignore'))])"
      ]
     },
     "execution_count": 43,
     "metadata": {},
     "output_type": "execute_result"
    }
   ],
   "source": [
    "categorical_transformer = Pipeline(\n",
    "    steps=[\n",
    "        (\"encoder\", OneHotEncoder(handle_unknown=\"ignore\")),\n",
    "    ]\n",
    ")\n",
    "categorical_transformer"
   ]
  },
  {
   "cell_type": "markdown",
   "id": "23557398",
   "metadata": {},
   "source": [
    "##### Numeric features"
   ]
  },
  {
   "cell_type": "code",
   "execution_count": 44,
   "id": "63af076e",
   "metadata": {},
   "outputs": [
    {
     "data": {
      "text/plain": [
       "35"
      ]
     },
     "execution_count": 44,
     "metadata": {},
     "output_type": "execute_result"
    }
   ],
   "source": [
    "numeric_features = [col for col in X_train_M2.columns if col not in categorical_features]\n",
    "len(numeric_features)"
   ]
  },
  {
   "cell_type": "code",
   "execution_count": 45,
   "id": "d6ad61ad",
   "metadata": {},
   "outputs": [
    {
     "data": {
      "text/html": [
       "<style>#sk-container-id-7 {color: black;background-color: white;}#sk-container-id-7 pre{padding: 0;}#sk-container-id-7 div.sk-toggleable {background-color: white;}#sk-container-id-7 label.sk-toggleable__label {cursor: pointer;display: block;width: 100%;margin-bottom: 0;padding: 0.3em;box-sizing: border-box;text-align: center;}#sk-container-id-7 label.sk-toggleable__label-arrow:before {content: \"▸\";float: left;margin-right: 0.25em;color: #696969;}#sk-container-id-7 label.sk-toggleable__label-arrow:hover:before {color: black;}#sk-container-id-7 div.sk-estimator:hover label.sk-toggleable__label-arrow:before {color: black;}#sk-container-id-7 div.sk-toggleable__content {max-height: 0;max-width: 0;overflow: hidden;text-align: left;background-color: #f0f8ff;}#sk-container-id-7 div.sk-toggleable__content pre {margin: 0.2em;color: black;border-radius: 0.25em;background-color: #f0f8ff;}#sk-container-id-7 input.sk-toggleable__control:checked~div.sk-toggleable__content {max-height: 200px;max-width: 100%;overflow: auto;}#sk-container-id-7 input.sk-toggleable__control:checked~label.sk-toggleable__label-arrow:before {content: \"▾\";}#sk-container-id-7 div.sk-estimator input.sk-toggleable__control:checked~label.sk-toggleable__label {background-color: #d4ebff;}#sk-container-id-7 div.sk-label input.sk-toggleable__control:checked~label.sk-toggleable__label {background-color: #d4ebff;}#sk-container-id-7 input.sk-hidden--visually {border: 0;clip: rect(1px 1px 1px 1px);clip: rect(1px, 1px, 1px, 1px);height: 1px;margin: -1px;overflow: hidden;padding: 0;position: absolute;width: 1px;}#sk-container-id-7 div.sk-estimator {font-family: monospace;background-color: #f0f8ff;border: 1px dotted black;border-radius: 0.25em;box-sizing: border-box;margin-bottom: 0.5em;}#sk-container-id-7 div.sk-estimator:hover {background-color: #d4ebff;}#sk-container-id-7 div.sk-parallel-item::after {content: \"\";width: 100%;border-bottom: 1px solid gray;flex-grow: 1;}#sk-container-id-7 div.sk-label:hover label.sk-toggleable__label {background-color: #d4ebff;}#sk-container-id-7 div.sk-serial::before {content: \"\";position: absolute;border-left: 1px solid gray;box-sizing: border-box;top: 0;bottom: 0;left: 50%;z-index: 0;}#sk-container-id-7 div.sk-serial {display: flex;flex-direction: column;align-items: center;background-color: white;padding-right: 0.2em;padding-left: 0.2em;position: relative;}#sk-container-id-7 div.sk-item {position: relative;z-index: 1;}#sk-container-id-7 div.sk-parallel {display: flex;align-items: stretch;justify-content: center;background-color: white;position: relative;}#sk-container-id-7 div.sk-item::before, #sk-container-id-7 div.sk-parallel-item::before {content: \"\";position: absolute;border-left: 1px solid gray;box-sizing: border-box;top: 0;bottom: 0;left: 50%;z-index: -1;}#sk-container-id-7 div.sk-parallel-item {display: flex;flex-direction: column;z-index: 1;position: relative;background-color: white;}#sk-container-id-7 div.sk-parallel-item:first-child::after {align-self: flex-end;width: 50%;}#sk-container-id-7 div.sk-parallel-item:last-child::after {align-self: flex-start;width: 50%;}#sk-container-id-7 div.sk-parallel-item:only-child::after {width: 0;}#sk-container-id-7 div.sk-dashed-wrapped {border: 1px dashed gray;margin: 0 0.4em 0.5em 0.4em;box-sizing: border-box;padding-bottom: 0.4em;background-color: white;}#sk-container-id-7 div.sk-label label {font-family: monospace;font-weight: bold;display: inline-block;line-height: 1.2em;}#sk-container-id-7 div.sk-label-container {text-align: center;}#sk-container-id-7 div.sk-container {/* jupyter's `normalize.less` sets `[hidden] { display: none; }` but bootstrap.min.css set `[hidden] { display: none !important; }` so we also need the `!important` here to be able to override the default hidden behavior on the sphinx rendered scikit-learn.org. See: https://github.com/scikit-learn/scikit-learn/issues/21755 */display: inline-block !important;position: relative;}#sk-container-id-7 div.sk-text-repr-fallback {display: none;}</style><div id=\"sk-container-id-7\" class=\"sk-top-container\"><div class=\"sk-text-repr-fallback\"><pre>Pipeline(steps=[(&#x27;scaler&#x27;, StandardScaler())])</pre><b>In a Jupyter environment, please rerun this cell to show the HTML representation or trust the notebook. <br />On GitHub, the HTML representation is unable to render, please try loading this page with nbviewer.org.</b></div><div class=\"sk-container\" hidden><div class=\"sk-item sk-dashed-wrapped\"><div class=\"sk-label-container\"><div class=\"sk-label sk-toggleable\"><input class=\"sk-toggleable__control sk-hidden--visually\" id=\"sk-estimator-id-18\" type=\"checkbox\" ><label for=\"sk-estimator-id-18\" class=\"sk-toggleable__label sk-toggleable__label-arrow\">Pipeline</label><div class=\"sk-toggleable__content\"><pre>Pipeline(steps=[(&#x27;scaler&#x27;, StandardScaler())])</pre></div></div></div><div class=\"sk-serial\"><div class=\"sk-item\"><div class=\"sk-estimator sk-toggleable\"><input class=\"sk-toggleable__control sk-hidden--visually\" id=\"sk-estimator-id-19\" type=\"checkbox\" ><label for=\"sk-estimator-id-19\" class=\"sk-toggleable__label sk-toggleable__label-arrow\">StandardScaler</label><div class=\"sk-toggleable__content\"><pre>StandardScaler()</pre></div></div></div></div></div></div></div>"
      ],
      "text/plain": [
       "Pipeline(steps=[('scaler', StandardScaler())])"
      ]
     },
     "execution_count": 45,
     "metadata": {},
     "output_type": "execute_result"
    }
   ],
   "source": [
    "numeric_transformer = Pipeline(\n",
    "    steps=[(\"scaler\", StandardScaler())]\n",
    ")\n",
    "numeric_transformer"
   ]
  },
  {
   "cell_type": "code",
   "execution_count": 46,
   "id": "07340627",
   "metadata": {},
   "outputs": [
    {
     "data": {
      "text/html": [
       "<style>#sk-container-id-8 {color: black;background-color: white;}#sk-container-id-8 pre{padding: 0;}#sk-container-id-8 div.sk-toggleable {background-color: white;}#sk-container-id-8 label.sk-toggleable__label {cursor: pointer;display: block;width: 100%;margin-bottom: 0;padding: 0.3em;box-sizing: border-box;text-align: center;}#sk-container-id-8 label.sk-toggleable__label-arrow:before {content: \"▸\";float: left;margin-right: 0.25em;color: #696969;}#sk-container-id-8 label.sk-toggleable__label-arrow:hover:before {color: black;}#sk-container-id-8 div.sk-estimator:hover label.sk-toggleable__label-arrow:before {color: black;}#sk-container-id-8 div.sk-toggleable__content {max-height: 0;max-width: 0;overflow: hidden;text-align: left;background-color: #f0f8ff;}#sk-container-id-8 div.sk-toggleable__content pre {margin: 0.2em;color: black;border-radius: 0.25em;background-color: #f0f8ff;}#sk-container-id-8 input.sk-toggleable__control:checked~div.sk-toggleable__content {max-height: 200px;max-width: 100%;overflow: auto;}#sk-container-id-8 input.sk-toggleable__control:checked~label.sk-toggleable__label-arrow:before {content: \"▾\";}#sk-container-id-8 div.sk-estimator input.sk-toggleable__control:checked~label.sk-toggleable__label {background-color: #d4ebff;}#sk-container-id-8 div.sk-label input.sk-toggleable__control:checked~label.sk-toggleable__label {background-color: #d4ebff;}#sk-container-id-8 input.sk-hidden--visually {border: 0;clip: rect(1px 1px 1px 1px);clip: rect(1px, 1px, 1px, 1px);height: 1px;margin: -1px;overflow: hidden;padding: 0;position: absolute;width: 1px;}#sk-container-id-8 div.sk-estimator {font-family: monospace;background-color: #f0f8ff;border: 1px dotted black;border-radius: 0.25em;box-sizing: border-box;margin-bottom: 0.5em;}#sk-container-id-8 div.sk-estimator:hover {background-color: #d4ebff;}#sk-container-id-8 div.sk-parallel-item::after {content: \"\";width: 100%;border-bottom: 1px solid gray;flex-grow: 1;}#sk-container-id-8 div.sk-label:hover label.sk-toggleable__label {background-color: #d4ebff;}#sk-container-id-8 div.sk-serial::before {content: \"\";position: absolute;border-left: 1px solid gray;box-sizing: border-box;top: 0;bottom: 0;left: 50%;z-index: 0;}#sk-container-id-8 div.sk-serial {display: flex;flex-direction: column;align-items: center;background-color: white;padding-right: 0.2em;padding-left: 0.2em;position: relative;}#sk-container-id-8 div.sk-item {position: relative;z-index: 1;}#sk-container-id-8 div.sk-parallel {display: flex;align-items: stretch;justify-content: center;background-color: white;position: relative;}#sk-container-id-8 div.sk-item::before, #sk-container-id-8 div.sk-parallel-item::before {content: \"\";position: absolute;border-left: 1px solid gray;box-sizing: border-box;top: 0;bottom: 0;left: 50%;z-index: -1;}#sk-container-id-8 div.sk-parallel-item {display: flex;flex-direction: column;z-index: 1;position: relative;background-color: white;}#sk-container-id-8 div.sk-parallel-item:first-child::after {align-self: flex-end;width: 50%;}#sk-container-id-8 div.sk-parallel-item:last-child::after {align-self: flex-start;width: 50%;}#sk-container-id-8 div.sk-parallel-item:only-child::after {width: 0;}#sk-container-id-8 div.sk-dashed-wrapped {border: 1px dashed gray;margin: 0 0.4em 0.5em 0.4em;box-sizing: border-box;padding-bottom: 0.4em;background-color: white;}#sk-container-id-8 div.sk-label label {font-family: monospace;font-weight: bold;display: inline-block;line-height: 1.2em;}#sk-container-id-8 div.sk-label-container {text-align: center;}#sk-container-id-8 div.sk-container {/* jupyter's `normalize.less` sets `[hidden] { display: none; }` but bootstrap.min.css set `[hidden] { display: none !important; }` so we also need the `!important` here to be able to override the default hidden behavior on the sphinx rendered scikit-learn.org. See: https://github.com/scikit-learn/scikit-learn/issues/21755 */display: inline-block !important;position: relative;}#sk-container-id-8 div.sk-text-repr-fallback {display: none;}</style><div id=\"sk-container-id-8\" class=\"sk-top-container\"><div class=\"sk-text-repr-fallback\"><pre>ColumnTransformer(transformers=[(&#x27;num&#x27;,\n",
       "                                 Pipeline(steps=[(&#x27;scaler&#x27;, StandardScaler())]),\n",
       "                                 [&#x27;sales_mil_log&#x27;, &#x27;sales_mil_log_sq&#x27;, &#x27;age&#x27;,\n",
       "                                  &#x27;age2&#x27;, &#x27;new&#x27;, &#x27;ind2_cat&#x27;, &#x27;urban_m&#x27;,\n",
       "                                  &#x27;total_assets_bs&#x27;, &#x27;fixed_assets_bs&#x27;,\n",
       "                                  &#x27;liq_assets_bs&#x27;, &#x27;curr_assets_bs&#x27;,\n",
       "                                  &#x27;share_eq_bs&#x27;, &#x27;subscribed_cap_bs&#x27;,\n",
       "                                  &#x27;intang_assets_bs&#x27;, &#x27;extra_exp_pl&#x27;,\n",
       "                                  &#x27;extra_inc_pl&#x27;, &#x27;extra_profit_loss_pl&#x27;,\n",
       "                                  &#x27;inc_bef_tax_pl&#x27;, &#x27;inventories_pl&#x27;,\n",
       "                                  &#x27;material_exp_pl&#x27;, &#x27;profit_loss_year_pl&#x27;,\n",
       "                                  &#x27;personnel_exp_pl&#x27;, &#x27;d1_sales_mil_log_mod&#x27;,\n",
       "                                  &#x27;d1_sales_mil_log_mod_sq&#x27;,\n",
       "                                  &#x27;flag_low_d1_sales_mil_log&#x27;,\n",
       "                                  &#x27;flag_high_d1_sales_mil_log&#x27;, &#x27;female&#x27;,\n",
       "                                  &#x27;ceo_age&#x27;, &#x27;flag_high_ceo_age&#x27;,\n",
       "                                  &#x27;flag_low_ceo_age&#x27;, ...]),\n",
       "                                (&#x27;cat&#x27;,\n",
       "                                 Pipeline(steps=[(&#x27;encoder&#x27;,\n",
       "                                                  OneHotEncoder(handle_unknown=&#x27;ignore&#x27;))]),\n",
       "                                 [&#x27;m_region_loc&#x27;])])</pre><b>In a Jupyter environment, please rerun this cell to show the HTML representation or trust the notebook. <br />On GitHub, the HTML representation is unable to render, please try loading this page with nbviewer.org.</b></div><div class=\"sk-container\" hidden><div class=\"sk-item sk-dashed-wrapped\"><div class=\"sk-label-container\"><div class=\"sk-label sk-toggleable\"><input class=\"sk-toggleable__control sk-hidden--visually\" id=\"sk-estimator-id-20\" type=\"checkbox\" ><label for=\"sk-estimator-id-20\" class=\"sk-toggleable__label sk-toggleable__label-arrow\">ColumnTransformer</label><div class=\"sk-toggleable__content\"><pre>ColumnTransformer(transformers=[(&#x27;num&#x27;,\n",
       "                                 Pipeline(steps=[(&#x27;scaler&#x27;, StandardScaler())]),\n",
       "                                 [&#x27;sales_mil_log&#x27;, &#x27;sales_mil_log_sq&#x27;, &#x27;age&#x27;,\n",
       "                                  &#x27;age2&#x27;, &#x27;new&#x27;, &#x27;ind2_cat&#x27;, &#x27;urban_m&#x27;,\n",
       "                                  &#x27;total_assets_bs&#x27;, &#x27;fixed_assets_bs&#x27;,\n",
       "                                  &#x27;liq_assets_bs&#x27;, &#x27;curr_assets_bs&#x27;,\n",
       "                                  &#x27;share_eq_bs&#x27;, &#x27;subscribed_cap_bs&#x27;,\n",
       "                                  &#x27;intang_assets_bs&#x27;, &#x27;extra_exp_pl&#x27;,\n",
       "                                  &#x27;extra_inc_pl&#x27;, &#x27;extra_profit_loss_pl&#x27;,\n",
       "                                  &#x27;inc_bef_tax_pl&#x27;, &#x27;inventories_pl&#x27;,\n",
       "                                  &#x27;material_exp_pl&#x27;, &#x27;profit_loss_year_pl&#x27;,\n",
       "                                  &#x27;personnel_exp_pl&#x27;, &#x27;d1_sales_mil_log_mod&#x27;,\n",
       "                                  &#x27;d1_sales_mil_log_mod_sq&#x27;,\n",
       "                                  &#x27;flag_low_d1_sales_mil_log&#x27;,\n",
       "                                  &#x27;flag_high_d1_sales_mil_log&#x27;, &#x27;female&#x27;,\n",
       "                                  &#x27;ceo_age&#x27;, &#x27;flag_high_ceo_age&#x27;,\n",
       "                                  &#x27;flag_low_ceo_age&#x27;, ...]),\n",
       "                                (&#x27;cat&#x27;,\n",
       "                                 Pipeline(steps=[(&#x27;encoder&#x27;,\n",
       "                                                  OneHotEncoder(handle_unknown=&#x27;ignore&#x27;))]),\n",
       "                                 [&#x27;m_region_loc&#x27;])])</pre></div></div></div><div class=\"sk-parallel\"><div class=\"sk-parallel-item\"><div class=\"sk-item\"><div class=\"sk-label-container\"><div class=\"sk-label sk-toggleable\"><input class=\"sk-toggleable__control sk-hidden--visually\" id=\"sk-estimator-id-21\" type=\"checkbox\" ><label for=\"sk-estimator-id-21\" class=\"sk-toggleable__label sk-toggleable__label-arrow\">num</label><div class=\"sk-toggleable__content\"><pre>[&#x27;sales_mil_log&#x27;, &#x27;sales_mil_log_sq&#x27;, &#x27;age&#x27;, &#x27;age2&#x27;, &#x27;new&#x27;, &#x27;ind2_cat&#x27;, &#x27;urban_m&#x27;, &#x27;total_assets_bs&#x27;, &#x27;fixed_assets_bs&#x27;, &#x27;liq_assets_bs&#x27;, &#x27;curr_assets_bs&#x27;, &#x27;share_eq_bs&#x27;, &#x27;subscribed_cap_bs&#x27;, &#x27;intang_assets_bs&#x27;, &#x27;extra_exp_pl&#x27;, &#x27;extra_inc_pl&#x27;, &#x27;extra_profit_loss_pl&#x27;, &#x27;inc_bef_tax_pl&#x27;, &#x27;inventories_pl&#x27;, &#x27;material_exp_pl&#x27;, &#x27;profit_loss_year_pl&#x27;, &#x27;personnel_exp_pl&#x27;, &#x27;d1_sales_mil_log_mod&#x27;, &#x27;d1_sales_mil_log_mod_sq&#x27;, &#x27;flag_low_d1_sales_mil_log&#x27;, &#x27;flag_high_d1_sales_mil_log&#x27;, &#x27;female&#x27;, &#x27;ceo_age&#x27;, &#x27;flag_high_ceo_age&#x27;, &#x27;flag_low_ceo_age&#x27;, &#x27;flag_miss_ceo_age&#x27;, &#x27;ceo_count&#x27;, &#x27;labor_avg_mod&#x27;, &#x27;flag_miss_labor_avg&#x27;, &#x27;foreign_management&#x27;]</pre></div></div></div><div class=\"sk-serial\"><div class=\"sk-item\"><div class=\"sk-serial\"><div class=\"sk-item\"><div class=\"sk-estimator sk-toggleable\"><input class=\"sk-toggleable__control sk-hidden--visually\" id=\"sk-estimator-id-22\" type=\"checkbox\" ><label for=\"sk-estimator-id-22\" class=\"sk-toggleable__label sk-toggleable__label-arrow\">StandardScaler</label><div class=\"sk-toggleable__content\"><pre>StandardScaler()</pre></div></div></div></div></div></div></div></div><div class=\"sk-parallel-item\"><div class=\"sk-item\"><div class=\"sk-label-container\"><div class=\"sk-label sk-toggleable\"><input class=\"sk-toggleable__control sk-hidden--visually\" id=\"sk-estimator-id-23\" type=\"checkbox\" ><label for=\"sk-estimator-id-23\" class=\"sk-toggleable__label sk-toggleable__label-arrow\">cat</label><div class=\"sk-toggleable__content\"><pre>[&#x27;m_region_loc&#x27;]</pre></div></div></div><div class=\"sk-serial\"><div class=\"sk-item\"><div class=\"sk-serial\"><div class=\"sk-item\"><div class=\"sk-estimator sk-toggleable\"><input class=\"sk-toggleable__control sk-hidden--visually\" id=\"sk-estimator-id-24\" type=\"checkbox\" ><label for=\"sk-estimator-id-24\" class=\"sk-toggleable__label sk-toggleable__label-arrow\">OneHotEncoder</label><div class=\"sk-toggleable__content\"><pre>OneHotEncoder(handle_unknown=&#x27;ignore&#x27;)</pre></div></div></div></div></div></div></div></div></div></div></div></div>"
      ],
      "text/plain": [
       "ColumnTransformer(transformers=[('num',\n",
       "                                 Pipeline(steps=[('scaler', StandardScaler())]),\n",
       "                                 ['sales_mil_log', 'sales_mil_log_sq', 'age',\n",
       "                                  'age2', 'new', 'ind2_cat', 'urban_m',\n",
       "                                  'total_assets_bs', 'fixed_assets_bs',\n",
       "                                  'liq_assets_bs', 'curr_assets_bs',\n",
       "                                  'share_eq_bs', 'subscribed_cap_bs',\n",
       "                                  'intang_assets_bs', 'extra_exp_pl',\n",
       "                                  'extra_inc_pl', 'extra_profit_loss_pl',\n",
       "                                  'inc_bef_tax_pl', 'inventories_pl',\n",
       "                                  'material_exp_pl', 'profit_loss_year_pl',\n",
       "                                  'personnel_exp_pl', 'd1_sales_mil_log_mod',\n",
       "                                  'd1_sales_mil_log_mod_sq',\n",
       "                                  'flag_low_d1_sales_mil_log',\n",
       "                                  'flag_high_d1_sales_mil_log', 'female',\n",
       "                                  'ceo_age', 'flag_high_ceo_age',\n",
       "                                  'flag_low_ceo_age', ...]),\n",
       "                                ('cat',\n",
       "                                 Pipeline(steps=[('encoder',\n",
       "                                                  OneHotEncoder(handle_unknown='ignore'))]),\n",
       "                                 ['m_region_loc'])])"
      ]
     },
     "execution_count": 46,
     "metadata": {},
     "output_type": "execute_result"
    }
   ],
   "source": [
    "from sklearn.compose import ColumnTransformer\n",
    "preprocessor = ColumnTransformer(\n",
    "    transformers=[\n",
    "        (\"num\", numeric_transformer, numeric_features),\n",
    "        (\"cat\", categorical_transformer, categorical_features),\n",
    "    ]\n",
    ")\n",
    "preprocessor"
   ]
  },
  {
   "cell_type": "markdown",
   "id": "2859449f",
   "metadata": {},
   "source": [
    "##### The pipeline:"
   ]
  },
  {
   "cell_type": "code",
   "execution_count": 47,
   "id": "8c4c5143",
   "metadata": {},
   "outputs": [
    {
     "data": {
      "text/html": [
       "<style>#sk-container-id-9 {color: black;background-color: white;}#sk-container-id-9 pre{padding: 0;}#sk-container-id-9 div.sk-toggleable {background-color: white;}#sk-container-id-9 label.sk-toggleable__label {cursor: pointer;display: block;width: 100%;margin-bottom: 0;padding: 0.3em;box-sizing: border-box;text-align: center;}#sk-container-id-9 label.sk-toggleable__label-arrow:before {content: \"▸\";float: left;margin-right: 0.25em;color: #696969;}#sk-container-id-9 label.sk-toggleable__label-arrow:hover:before {color: black;}#sk-container-id-9 div.sk-estimator:hover label.sk-toggleable__label-arrow:before {color: black;}#sk-container-id-9 div.sk-toggleable__content {max-height: 0;max-width: 0;overflow: hidden;text-align: left;background-color: #f0f8ff;}#sk-container-id-9 div.sk-toggleable__content pre {margin: 0.2em;color: black;border-radius: 0.25em;background-color: #f0f8ff;}#sk-container-id-9 input.sk-toggleable__control:checked~div.sk-toggleable__content {max-height: 200px;max-width: 100%;overflow: auto;}#sk-container-id-9 input.sk-toggleable__control:checked~label.sk-toggleable__label-arrow:before {content: \"▾\";}#sk-container-id-9 div.sk-estimator input.sk-toggleable__control:checked~label.sk-toggleable__label {background-color: #d4ebff;}#sk-container-id-9 div.sk-label input.sk-toggleable__control:checked~label.sk-toggleable__label {background-color: #d4ebff;}#sk-container-id-9 input.sk-hidden--visually {border: 0;clip: rect(1px 1px 1px 1px);clip: rect(1px, 1px, 1px, 1px);height: 1px;margin: -1px;overflow: hidden;padding: 0;position: absolute;width: 1px;}#sk-container-id-9 div.sk-estimator {font-family: monospace;background-color: #f0f8ff;border: 1px dotted black;border-radius: 0.25em;box-sizing: border-box;margin-bottom: 0.5em;}#sk-container-id-9 div.sk-estimator:hover {background-color: #d4ebff;}#sk-container-id-9 div.sk-parallel-item::after {content: \"\";width: 100%;border-bottom: 1px solid gray;flex-grow: 1;}#sk-container-id-9 div.sk-label:hover label.sk-toggleable__label {background-color: #d4ebff;}#sk-container-id-9 div.sk-serial::before {content: \"\";position: absolute;border-left: 1px solid gray;box-sizing: border-box;top: 0;bottom: 0;left: 50%;z-index: 0;}#sk-container-id-9 div.sk-serial {display: flex;flex-direction: column;align-items: center;background-color: white;padding-right: 0.2em;padding-left: 0.2em;position: relative;}#sk-container-id-9 div.sk-item {position: relative;z-index: 1;}#sk-container-id-9 div.sk-parallel {display: flex;align-items: stretch;justify-content: center;background-color: white;position: relative;}#sk-container-id-9 div.sk-item::before, #sk-container-id-9 div.sk-parallel-item::before {content: \"\";position: absolute;border-left: 1px solid gray;box-sizing: border-box;top: 0;bottom: 0;left: 50%;z-index: -1;}#sk-container-id-9 div.sk-parallel-item {display: flex;flex-direction: column;z-index: 1;position: relative;background-color: white;}#sk-container-id-9 div.sk-parallel-item:first-child::after {align-self: flex-end;width: 50%;}#sk-container-id-9 div.sk-parallel-item:last-child::after {align-self: flex-start;width: 50%;}#sk-container-id-9 div.sk-parallel-item:only-child::after {width: 0;}#sk-container-id-9 div.sk-dashed-wrapped {border: 1px dashed gray;margin: 0 0.4em 0.5em 0.4em;box-sizing: border-box;padding-bottom: 0.4em;background-color: white;}#sk-container-id-9 div.sk-label label {font-family: monospace;font-weight: bold;display: inline-block;line-height: 1.2em;}#sk-container-id-9 div.sk-label-container {text-align: center;}#sk-container-id-9 div.sk-container {/* jupyter's `normalize.less` sets `[hidden] { display: none; }` but bootstrap.min.css set `[hidden] { display: none !important; }` so we also need the `!important` here to be able to override the default hidden behavior on the sphinx rendered scikit-learn.org. See: https://github.com/scikit-learn/scikit-learn/issues/21755 */display: inline-block !important;position: relative;}#sk-container-id-9 div.sk-text-repr-fallback {display: none;}</style><div id=\"sk-container-id-9\" class=\"sk-top-container\"><div class=\"sk-text-repr-fallback\"><pre>Pipeline(steps=[(&#x27;preprocessor&#x27;,\n",
       "                 ColumnTransformer(transformers=[(&#x27;num&#x27;,\n",
       "                                                  Pipeline(steps=[(&#x27;scaler&#x27;,\n",
       "                                                                   StandardScaler())]),\n",
       "                                                  [&#x27;sales_mil_log&#x27;,\n",
       "                                                   &#x27;sales_mil_log_sq&#x27;, &#x27;age&#x27;,\n",
       "                                                   &#x27;age2&#x27;, &#x27;new&#x27;, &#x27;ind2_cat&#x27;,\n",
       "                                                   &#x27;urban_m&#x27;, &#x27;total_assets_bs&#x27;,\n",
       "                                                   &#x27;fixed_assets_bs&#x27;,\n",
       "                                                   &#x27;liq_assets_bs&#x27;,\n",
       "                                                   &#x27;curr_assets_bs&#x27;,\n",
       "                                                   &#x27;share_eq_bs&#x27;,\n",
       "                                                   &#x27;subscribed_cap_bs&#x27;,\n",
       "                                                   &#x27;intang_assets_bs&#x27;,\n",
       "                                                   &#x27;extra_exp_pl&#x27;,\n",
       "                                                   &#x27;extra_inc_pl&#x27;,\n",
       "                                                   &#x27;extr...\n",
       "                                                   &#x27;flag_low_d1_sales_mil_log&#x27;,\n",
       "                                                   &#x27;flag_high_d1_sales_mil_log&#x27;,\n",
       "                                                   &#x27;female&#x27;, &#x27;ceo_age&#x27;,\n",
       "                                                   &#x27;flag_high_ceo_age&#x27;,\n",
       "                                                   &#x27;flag_low_ceo_age&#x27;, ...]),\n",
       "                                                 (&#x27;cat&#x27;,\n",
       "                                                  Pipeline(steps=[(&#x27;encoder&#x27;,\n",
       "                                                                   OneHotEncoder(handle_unknown=&#x27;ignore&#x27;))]),\n",
       "                                                  [&#x27;m_region_loc&#x27;])])),\n",
       "                (&#x27;classifier&#x27;,\n",
       "                 LogisticRegressionCV(Cs=[1e+20],\n",
       "                                      cv=KFold(n_splits=5, random_state=42, shuffle=True),\n",
       "                                      random_state=42, solver=&#x27;newton-cg&#x27;,\n",
       "                                      tol=1e-07))])</pre><b>In a Jupyter environment, please rerun this cell to show the HTML representation or trust the notebook. <br />On GitHub, the HTML representation is unable to render, please try loading this page with nbviewer.org.</b></div><div class=\"sk-container\" hidden><div class=\"sk-item sk-dashed-wrapped\"><div class=\"sk-label-container\"><div class=\"sk-label sk-toggleable\"><input class=\"sk-toggleable__control sk-hidden--visually\" id=\"sk-estimator-id-25\" type=\"checkbox\" ><label for=\"sk-estimator-id-25\" class=\"sk-toggleable__label sk-toggleable__label-arrow\">Pipeline</label><div class=\"sk-toggleable__content\"><pre>Pipeline(steps=[(&#x27;preprocessor&#x27;,\n",
       "                 ColumnTransformer(transformers=[(&#x27;num&#x27;,\n",
       "                                                  Pipeline(steps=[(&#x27;scaler&#x27;,\n",
       "                                                                   StandardScaler())]),\n",
       "                                                  [&#x27;sales_mil_log&#x27;,\n",
       "                                                   &#x27;sales_mil_log_sq&#x27;, &#x27;age&#x27;,\n",
       "                                                   &#x27;age2&#x27;, &#x27;new&#x27;, &#x27;ind2_cat&#x27;,\n",
       "                                                   &#x27;urban_m&#x27;, &#x27;total_assets_bs&#x27;,\n",
       "                                                   &#x27;fixed_assets_bs&#x27;,\n",
       "                                                   &#x27;liq_assets_bs&#x27;,\n",
       "                                                   &#x27;curr_assets_bs&#x27;,\n",
       "                                                   &#x27;share_eq_bs&#x27;,\n",
       "                                                   &#x27;subscribed_cap_bs&#x27;,\n",
       "                                                   &#x27;intang_assets_bs&#x27;,\n",
       "                                                   &#x27;extra_exp_pl&#x27;,\n",
       "                                                   &#x27;extra_inc_pl&#x27;,\n",
       "                                                   &#x27;extr...\n",
       "                                                   &#x27;flag_low_d1_sales_mil_log&#x27;,\n",
       "                                                   &#x27;flag_high_d1_sales_mil_log&#x27;,\n",
       "                                                   &#x27;female&#x27;, &#x27;ceo_age&#x27;,\n",
       "                                                   &#x27;flag_high_ceo_age&#x27;,\n",
       "                                                   &#x27;flag_low_ceo_age&#x27;, ...]),\n",
       "                                                 (&#x27;cat&#x27;,\n",
       "                                                  Pipeline(steps=[(&#x27;encoder&#x27;,\n",
       "                                                                   OneHotEncoder(handle_unknown=&#x27;ignore&#x27;))]),\n",
       "                                                  [&#x27;m_region_loc&#x27;])])),\n",
       "                (&#x27;classifier&#x27;,\n",
       "                 LogisticRegressionCV(Cs=[1e+20],\n",
       "                                      cv=KFold(n_splits=5, random_state=42, shuffle=True),\n",
       "                                      random_state=42, solver=&#x27;newton-cg&#x27;,\n",
       "                                      tol=1e-07))])</pre></div></div></div><div class=\"sk-serial\"><div class=\"sk-item sk-dashed-wrapped\"><div class=\"sk-label-container\"><div class=\"sk-label sk-toggleable\"><input class=\"sk-toggleable__control sk-hidden--visually\" id=\"sk-estimator-id-26\" type=\"checkbox\" ><label for=\"sk-estimator-id-26\" class=\"sk-toggleable__label sk-toggleable__label-arrow\">preprocessor: ColumnTransformer</label><div class=\"sk-toggleable__content\"><pre>ColumnTransformer(transformers=[(&#x27;num&#x27;,\n",
       "                                 Pipeline(steps=[(&#x27;scaler&#x27;, StandardScaler())]),\n",
       "                                 [&#x27;sales_mil_log&#x27;, &#x27;sales_mil_log_sq&#x27;, &#x27;age&#x27;,\n",
       "                                  &#x27;age2&#x27;, &#x27;new&#x27;, &#x27;ind2_cat&#x27;, &#x27;urban_m&#x27;,\n",
       "                                  &#x27;total_assets_bs&#x27;, &#x27;fixed_assets_bs&#x27;,\n",
       "                                  &#x27;liq_assets_bs&#x27;, &#x27;curr_assets_bs&#x27;,\n",
       "                                  &#x27;share_eq_bs&#x27;, &#x27;subscribed_cap_bs&#x27;,\n",
       "                                  &#x27;intang_assets_bs&#x27;, &#x27;extra_exp_pl&#x27;,\n",
       "                                  &#x27;extra_inc_pl&#x27;, &#x27;extra_profit_loss_pl&#x27;,\n",
       "                                  &#x27;inc_bef_tax_pl&#x27;, &#x27;inventories_pl&#x27;,\n",
       "                                  &#x27;material_exp_pl&#x27;, &#x27;profit_loss_year_pl&#x27;,\n",
       "                                  &#x27;personnel_exp_pl&#x27;, &#x27;d1_sales_mil_log_mod&#x27;,\n",
       "                                  &#x27;d1_sales_mil_log_mod_sq&#x27;,\n",
       "                                  &#x27;flag_low_d1_sales_mil_log&#x27;,\n",
       "                                  &#x27;flag_high_d1_sales_mil_log&#x27;, &#x27;female&#x27;,\n",
       "                                  &#x27;ceo_age&#x27;, &#x27;flag_high_ceo_age&#x27;,\n",
       "                                  &#x27;flag_low_ceo_age&#x27;, ...]),\n",
       "                                (&#x27;cat&#x27;,\n",
       "                                 Pipeline(steps=[(&#x27;encoder&#x27;,\n",
       "                                                  OneHotEncoder(handle_unknown=&#x27;ignore&#x27;))]),\n",
       "                                 [&#x27;m_region_loc&#x27;])])</pre></div></div></div><div class=\"sk-parallel\"><div class=\"sk-parallel-item\"><div class=\"sk-item\"><div class=\"sk-label-container\"><div class=\"sk-label sk-toggleable\"><input class=\"sk-toggleable__control sk-hidden--visually\" id=\"sk-estimator-id-27\" type=\"checkbox\" ><label for=\"sk-estimator-id-27\" class=\"sk-toggleable__label sk-toggleable__label-arrow\">num</label><div class=\"sk-toggleable__content\"><pre>[&#x27;sales_mil_log&#x27;, &#x27;sales_mil_log_sq&#x27;, &#x27;age&#x27;, &#x27;age2&#x27;, &#x27;new&#x27;, &#x27;ind2_cat&#x27;, &#x27;urban_m&#x27;, &#x27;total_assets_bs&#x27;, &#x27;fixed_assets_bs&#x27;, &#x27;liq_assets_bs&#x27;, &#x27;curr_assets_bs&#x27;, &#x27;share_eq_bs&#x27;, &#x27;subscribed_cap_bs&#x27;, &#x27;intang_assets_bs&#x27;, &#x27;extra_exp_pl&#x27;, &#x27;extra_inc_pl&#x27;, &#x27;extra_profit_loss_pl&#x27;, &#x27;inc_bef_tax_pl&#x27;, &#x27;inventories_pl&#x27;, &#x27;material_exp_pl&#x27;, &#x27;profit_loss_year_pl&#x27;, &#x27;personnel_exp_pl&#x27;, &#x27;d1_sales_mil_log_mod&#x27;, &#x27;d1_sales_mil_log_mod_sq&#x27;, &#x27;flag_low_d1_sales_mil_log&#x27;, &#x27;flag_high_d1_sales_mil_log&#x27;, &#x27;female&#x27;, &#x27;ceo_age&#x27;, &#x27;flag_high_ceo_age&#x27;, &#x27;flag_low_ceo_age&#x27;, &#x27;flag_miss_ceo_age&#x27;, &#x27;ceo_count&#x27;, &#x27;labor_avg_mod&#x27;, &#x27;flag_miss_labor_avg&#x27;, &#x27;foreign_management&#x27;]</pre></div></div></div><div class=\"sk-serial\"><div class=\"sk-item\"><div class=\"sk-serial\"><div class=\"sk-item\"><div class=\"sk-estimator sk-toggleable\"><input class=\"sk-toggleable__control sk-hidden--visually\" id=\"sk-estimator-id-28\" type=\"checkbox\" ><label for=\"sk-estimator-id-28\" class=\"sk-toggleable__label sk-toggleable__label-arrow\">StandardScaler</label><div class=\"sk-toggleable__content\"><pre>StandardScaler()</pre></div></div></div></div></div></div></div></div><div class=\"sk-parallel-item\"><div class=\"sk-item\"><div class=\"sk-label-container\"><div class=\"sk-label sk-toggleable\"><input class=\"sk-toggleable__control sk-hidden--visually\" id=\"sk-estimator-id-29\" type=\"checkbox\" ><label for=\"sk-estimator-id-29\" class=\"sk-toggleable__label sk-toggleable__label-arrow\">cat</label><div class=\"sk-toggleable__content\"><pre>[&#x27;m_region_loc&#x27;]</pre></div></div></div><div class=\"sk-serial\"><div class=\"sk-item\"><div class=\"sk-serial\"><div class=\"sk-item\"><div class=\"sk-estimator sk-toggleable\"><input class=\"sk-toggleable__control sk-hidden--visually\" id=\"sk-estimator-id-30\" type=\"checkbox\" ><label for=\"sk-estimator-id-30\" class=\"sk-toggleable__label sk-toggleable__label-arrow\">OneHotEncoder</label><div class=\"sk-toggleable__content\"><pre>OneHotEncoder(handle_unknown=&#x27;ignore&#x27;)</pre></div></div></div></div></div></div></div></div></div></div><div class=\"sk-item\"><div class=\"sk-estimator sk-toggleable\"><input class=\"sk-toggleable__control sk-hidden--visually\" id=\"sk-estimator-id-31\" type=\"checkbox\" ><label for=\"sk-estimator-id-31\" class=\"sk-toggleable__label sk-toggleable__label-arrow\">LogisticRegressionCV</label><div class=\"sk-toggleable__content\"><pre>LogisticRegressionCV(Cs=[1e+20],\n",
       "                     cv=KFold(n_splits=5, random_state=42, shuffle=True),\n",
       "                     random_state=42, solver=&#x27;newton-cg&#x27;, tol=1e-07)</pre></div></div></div></div></div></div></div>"
      ],
      "text/plain": [
       "Pipeline(steps=[('preprocessor',\n",
       "                 ColumnTransformer(transformers=[('num',\n",
       "                                                  Pipeline(steps=[('scaler',\n",
       "                                                                   StandardScaler())]),\n",
       "                                                  ['sales_mil_log',\n",
       "                                                   'sales_mil_log_sq', 'age',\n",
       "                                                   'age2', 'new', 'ind2_cat',\n",
       "                                                   'urban_m', 'total_assets_bs',\n",
       "                                                   'fixed_assets_bs',\n",
       "                                                   'liq_assets_bs',\n",
       "                                                   'curr_assets_bs',\n",
       "                                                   'share_eq_bs',\n",
       "                                                   'subscribed_cap_bs',\n",
       "                                                   'intang_assets_bs',\n",
       "                                                   'extra_exp_pl',\n",
       "                                                   'extra_inc_pl',\n",
       "                                                   'extr...\n",
       "                                                   'flag_low_d1_sales_mil_log',\n",
       "                                                   'flag_high_d1_sales_mil_log',\n",
       "                                                   'female', 'ceo_age',\n",
       "                                                   'flag_high_ceo_age',\n",
       "                                                   'flag_low_ceo_age', ...]),\n",
       "                                                 ('cat',\n",
       "                                                  Pipeline(steps=[('encoder',\n",
       "                                                                   OneHotEncoder(handle_unknown='ignore'))]),\n",
       "                                                  ['m_region_loc'])])),\n",
       "                ('classifier',\n",
       "                 LogisticRegressionCV(Cs=[1e+20],\n",
       "                                      cv=KFold(n_splits=5, random_state=42, shuffle=True),\n",
       "                                      random_state=42, solver='newton-cg',\n",
       "                                      tol=1e-07))])"
      ]
     },
     "execution_count": 47,
     "metadata": {},
     "output_type": "execute_result"
    }
   ],
   "source": [
    "#Append classifier to preprocessing pipeline. Now we have a full prediction pipeline.\n",
    "pipeline_logit = Pipeline(\n",
    "    steps=[(\"preprocessor\", preprocessor), (\"classifier\", logistic)]\n",
    ")\n",
    "pipeline_logit"
   ]
  },
  {
   "cell_type": "markdown",
   "id": "55d91c4a",
   "metadata": {},
   "source": [
    "##### Fit the pipeline"
   ]
  },
  {
   "cell_type": "code",
   "execution_count": 48,
   "id": "ccd4f8f4",
   "metadata": {},
   "outputs": [
    {
     "data": {
      "text/html": [
       "<style>#sk-container-id-10 {color: black;background-color: white;}#sk-container-id-10 pre{padding: 0;}#sk-container-id-10 div.sk-toggleable {background-color: white;}#sk-container-id-10 label.sk-toggleable__label {cursor: pointer;display: block;width: 100%;margin-bottom: 0;padding: 0.3em;box-sizing: border-box;text-align: center;}#sk-container-id-10 label.sk-toggleable__label-arrow:before {content: \"▸\";float: left;margin-right: 0.25em;color: #696969;}#sk-container-id-10 label.sk-toggleable__label-arrow:hover:before {color: black;}#sk-container-id-10 div.sk-estimator:hover label.sk-toggleable__label-arrow:before {color: black;}#sk-container-id-10 div.sk-toggleable__content {max-height: 0;max-width: 0;overflow: hidden;text-align: left;background-color: #f0f8ff;}#sk-container-id-10 div.sk-toggleable__content pre {margin: 0.2em;color: black;border-radius: 0.25em;background-color: #f0f8ff;}#sk-container-id-10 input.sk-toggleable__control:checked~div.sk-toggleable__content {max-height: 200px;max-width: 100%;overflow: auto;}#sk-container-id-10 input.sk-toggleable__control:checked~label.sk-toggleable__label-arrow:before {content: \"▾\";}#sk-container-id-10 div.sk-estimator input.sk-toggleable__control:checked~label.sk-toggleable__label {background-color: #d4ebff;}#sk-container-id-10 div.sk-label input.sk-toggleable__control:checked~label.sk-toggleable__label {background-color: #d4ebff;}#sk-container-id-10 input.sk-hidden--visually {border: 0;clip: rect(1px 1px 1px 1px);clip: rect(1px, 1px, 1px, 1px);height: 1px;margin: -1px;overflow: hidden;padding: 0;position: absolute;width: 1px;}#sk-container-id-10 div.sk-estimator {font-family: monospace;background-color: #f0f8ff;border: 1px dotted black;border-radius: 0.25em;box-sizing: border-box;margin-bottom: 0.5em;}#sk-container-id-10 div.sk-estimator:hover {background-color: #d4ebff;}#sk-container-id-10 div.sk-parallel-item::after {content: \"\";width: 100%;border-bottom: 1px solid gray;flex-grow: 1;}#sk-container-id-10 div.sk-label:hover label.sk-toggleable__label {background-color: #d4ebff;}#sk-container-id-10 div.sk-serial::before {content: \"\";position: absolute;border-left: 1px solid gray;box-sizing: border-box;top: 0;bottom: 0;left: 50%;z-index: 0;}#sk-container-id-10 div.sk-serial {display: flex;flex-direction: column;align-items: center;background-color: white;padding-right: 0.2em;padding-left: 0.2em;position: relative;}#sk-container-id-10 div.sk-item {position: relative;z-index: 1;}#sk-container-id-10 div.sk-parallel {display: flex;align-items: stretch;justify-content: center;background-color: white;position: relative;}#sk-container-id-10 div.sk-item::before, #sk-container-id-10 div.sk-parallel-item::before {content: \"\";position: absolute;border-left: 1px solid gray;box-sizing: border-box;top: 0;bottom: 0;left: 50%;z-index: -1;}#sk-container-id-10 div.sk-parallel-item {display: flex;flex-direction: column;z-index: 1;position: relative;background-color: white;}#sk-container-id-10 div.sk-parallel-item:first-child::after {align-self: flex-end;width: 50%;}#sk-container-id-10 div.sk-parallel-item:last-child::after {align-self: flex-start;width: 50%;}#sk-container-id-10 div.sk-parallel-item:only-child::after {width: 0;}#sk-container-id-10 div.sk-dashed-wrapped {border: 1px dashed gray;margin: 0 0.4em 0.5em 0.4em;box-sizing: border-box;padding-bottom: 0.4em;background-color: white;}#sk-container-id-10 div.sk-label label {font-family: monospace;font-weight: bold;display: inline-block;line-height: 1.2em;}#sk-container-id-10 div.sk-label-container {text-align: center;}#sk-container-id-10 div.sk-container {/* jupyter's `normalize.less` sets `[hidden] { display: none; }` but bootstrap.min.css set `[hidden] { display: none !important; }` so we also need the `!important` here to be able to override the default hidden behavior on the sphinx rendered scikit-learn.org. See: https://github.com/scikit-learn/scikit-learn/issues/21755 */display: inline-block !important;position: relative;}#sk-container-id-10 div.sk-text-repr-fallback {display: none;}</style><div id=\"sk-container-id-10\" class=\"sk-top-container\"><div class=\"sk-text-repr-fallback\"><pre>Pipeline(steps=[(&#x27;preprocessor&#x27;,\n",
       "                 ColumnTransformer(transformers=[(&#x27;num&#x27;,\n",
       "                                                  Pipeline(steps=[(&#x27;scaler&#x27;,\n",
       "                                                                   StandardScaler())]),\n",
       "                                                  [&#x27;sales_mil_log&#x27;,\n",
       "                                                   &#x27;sales_mil_log_sq&#x27;, &#x27;age&#x27;,\n",
       "                                                   &#x27;age2&#x27;, &#x27;new&#x27;, &#x27;ind2_cat&#x27;,\n",
       "                                                   &#x27;urban_m&#x27;, &#x27;total_assets_bs&#x27;,\n",
       "                                                   &#x27;fixed_assets_bs&#x27;,\n",
       "                                                   &#x27;liq_assets_bs&#x27;,\n",
       "                                                   &#x27;curr_assets_bs&#x27;,\n",
       "                                                   &#x27;share_eq_bs&#x27;,\n",
       "                                                   &#x27;subscribed_cap_bs&#x27;,\n",
       "                                                   &#x27;intang_assets_bs&#x27;,\n",
       "                                                   &#x27;extra_exp_pl&#x27;,\n",
       "                                                   &#x27;extra_inc_pl&#x27;,\n",
       "                                                   &#x27;extr...\n",
       "                                                   &#x27;flag_low_d1_sales_mil_log&#x27;,\n",
       "                                                   &#x27;flag_high_d1_sales_mil_log&#x27;,\n",
       "                                                   &#x27;female&#x27;, &#x27;ceo_age&#x27;,\n",
       "                                                   &#x27;flag_high_ceo_age&#x27;,\n",
       "                                                   &#x27;flag_low_ceo_age&#x27;, ...]),\n",
       "                                                 (&#x27;cat&#x27;,\n",
       "                                                  Pipeline(steps=[(&#x27;encoder&#x27;,\n",
       "                                                                   OneHotEncoder(handle_unknown=&#x27;ignore&#x27;))]),\n",
       "                                                  [&#x27;m_region_loc&#x27;])])),\n",
       "                (&#x27;classifier&#x27;,\n",
       "                 LogisticRegressionCV(Cs=[1e+20],\n",
       "                                      cv=KFold(n_splits=5, random_state=42, shuffle=True),\n",
       "                                      random_state=42, solver=&#x27;newton-cg&#x27;,\n",
       "                                      tol=1e-07))])</pre><b>In a Jupyter environment, please rerun this cell to show the HTML representation or trust the notebook. <br />On GitHub, the HTML representation is unable to render, please try loading this page with nbviewer.org.</b></div><div class=\"sk-container\" hidden><div class=\"sk-item sk-dashed-wrapped\"><div class=\"sk-label-container\"><div class=\"sk-label sk-toggleable\"><input class=\"sk-toggleable__control sk-hidden--visually\" id=\"sk-estimator-id-32\" type=\"checkbox\" ><label for=\"sk-estimator-id-32\" class=\"sk-toggleable__label sk-toggleable__label-arrow\">Pipeline</label><div class=\"sk-toggleable__content\"><pre>Pipeline(steps=[(&#x27;preprocessor&#x27;,\n",
       "                 ColumnTransformer(transformers=[(&#x27;num&#x27;,\n",
       "                                                  Pipeline(steps=[(&#x27;scaler&#x27;,\n",
       "                                                                   StandardScaler())]),\n",
       "                                                  [&#x27;sales_mil_log&#x27;,\n",
       "                                                   &#x27;sales_mil_log_sq&#x27;, &#x27;age&#x27;,\n",
       "                                                   &#x27;age2&#x27;, &#x27;new&#x27;, &#x27;ind2_cat&#x27;,\n",
       "                                                   &#x27;urban_m&#x27;, &#x27;total_assets_bs&#x27;,\n",
       "                                                   &#x27;fixed_assets_bs&#x27;,\n",
       "                                                   &#x27;liq_assets_bs&#x27;,\n",
       "                                                   &#x27;curr_assets_bs&#x27;,\n",
       "                                                   &#x27;share_eq_bs&#x27;,\n",
       "                                                   &#x27;subscribed_cap_bs&#x27;,\n",
       "                                                   &#x27;intang_assets_bs&#x27;,\n",
       "                                                   &#x27;extra_exp_pl&#x27;,\n",
       "                                                   &#x27;extra_inc_pl&#x27;,\n",
       "                                                   &#x27;extr...\n",
       "                                                   &#x27;flag_low_d1_sales_mil_log&#x27;,\n",
       "                                                   &#x27;flag_high_d1_sales_mil_log&#x27;,\n",
       "                                                   &#x27;female&#x27;, &#x27;ceo_age&#x27;,\n",
       "                                                   &#x27;flag_high_ceo_age&#x27;,\n",
       "                                                   &#x27;flag_low_ceo_age&#x27;, ...]),\n",
       "                                                 (&#x27;cat&#x27;,\n",
       "                                                  Pipeline(steps=[(&#x27;encoder&#x27;,\n",
       "                                                                   OneHotEncoder(handle_unknown=&#x27;ignore&#x27;))]),\n",
       "                                                  [&#x27;m_region_loc&#x27;])])),\n",
       "                (&#x27;classifier&#x27;,\n",
       "                 LogisticRegressionCV(Cs=[1e+20],\n",
       "                                      cv=KFold(n_splits=5, random_state=42, shuffle=True),\n",
       "                                      random_state=42, solver=&#x27;newton-cg&#x27;,\n",
       "                                      tol=1e-07))])</pre></div></div></div><div class=\"sk-serial\"><div class=\"sk-item sk-dashed-wrapped\"><div class=\"sk-label-container\"><div class=\"sk-label sk-toggleable\"><input class=\"sk-toggleable__control sk-hidden--visually\" id=\"sk-estimator-id-33\" type=\"checkbox\" ><label for=\"sk-estimator-id-33\" class=\"sk-toggleable__label sk-toggleable__label-arrow\">preprocessor: ColumnTransformer</label><div class=\"sk-toggleable__content\"><pre>ColumnTransformer(transformers=[(&#x27;num&#x27;,\n",
       "                                 Pipeline(steps=[(&#x27;scaler&#x27;, StandardScaler())]),\n",
       "                                 [&#x27;sales_mil_log&#x27;, &#x27;sales_mil_log_sq&#x27;, &#x27;age&#x27;,\n",
       "                                  &#x27;age2&#x27;, &#x27;new&#x27;, &#x27;ind2_cat&#x27;, &#x27;urban_m&#x27;,\n",
       "                                  &#x27;total_assets_bs&#x27;, &#x27;fixed_assets_bs&#x27;,\n",
       "                                  &#x27;liq_assets_bs&#x27;, &#x27;curr_assets_bs&#x27;,\n",
       "                                  &#x27;share_eq_bs&#x27;, &#x27;subscribed_cap_bs&#x27;,\n",
       "                                  &#x27;intang_assets_bs&#x27;, &#x27;extra_exp_pl&#x27;,\n",
       "                                  &#x27;extra_inc_pl&#x27;, &#x27;extra_profit_loss_pl&#x27;,\n",
       "                                  &#x27;inc_bef_tax_pl&#x27;, &#x27;inventories_pl&#x27;,\n",
       "                                  &#x27;material_exp_pl&#x27;, &#x27;profit_loss_year_pl&#x27;,\n",
       "                                  &#x27;personnel_exp_pl&#x27;, &#x27;d1_sales_mil_log_mod&#x27;,\n",
       "                                  &#x27;d1_sales_mil_log_mod_sq&#x27;,\n",
       "                                  &#x27;flag_low_d1_sales_mil_log&#x27;,\n",
       "                                  &#x27;flag_high_d1_sales_mil_log&#x27;, &#x27;female&#x27;,\n",
       "                                  &#x27;ceo_age&#x27;, &#x27;flag_high_ceo_age&#x27;,\n",
       "                                  &#x27;flag_low_ceo_age&#x27;, ...]),\n",
       "                                (&#x27;cat&#x27;,\n",
       "                                 Pipeline(steps=[(&#x27;encoder&#x27;,\n",
       "                                                  OneHotEncoder(handle_unknown=&#x27;ignore&#x27;))]),\n",
       "                                 [&#x27;m_region_loc&#x27;])])</pre></div></div></div><div class=\"sk-parallel\"><div class=\"sk-parallel-item\"><div class=\"sk-item\"><div class=\"sk-label-container\"><div class=\"sk-label sk-toggleable\"><input class=\"sk-toggleable__control sk-hidden--visually\" id=\"sk-estimator-id-34\" type=\"checkbox\" ><label for=\"sk-estimator-id-34\" class=\"sk-toggleable__label sk-toggleable__label-arrow\">num</label><div class=\"sk-toggleable__content\"><pre>[&#x27;sales_mil_log&#x27;, &#x27;sales_mil_log_sq&#x27;, &#x27;age&#x27;, &#x27;age2&#x27;, &#x27;new&#x27;, &#x27;ind2_cat&#x27;, &#x27;urban_m&#x27;, &#x27;total_assets_bs&#x27;, &#x27;fixed_assets_bs&#x27;, &#x27;liq_assets_bs&#x27;, &#x27;curr_assets_bs&#x27;, &#x27;share_eq_bs&#x27;, &#x27;subscribed_cap_bs&#x27;, &#x27;intang_assets_bs&#x27;, &#x27;extra_exp_pl&#x27;, &#x27;extra_inc_pl&#x27;, &#x27;extra_profit_loss_pl&#x27;, &#x27;inc_bef_tax_pl&#x27;, &#x27;inventories_pl&#x27;, &#x27;material_exp_pl&#x27;, &#x27;profit_loss_year_pl&#x27;, &#x27;personnel_exp_pl&#x27;, &#x27;d1_sales_mil_log_mod&#x27;, &#x27;d1_sales_mil_log_mod_sq&#x27;, &#x27;flag_low_d1_sales_mil_log&#x27;, &#x27;flag_high_d1_sales_mil_log&#x27;, &#x27;female&#x27;, &#x27;ceo_age&#x27;, &#x27;flag_high_ceo_age&#x27;, &#x27;flag_low_ceo_age&#x27;, &#x27;flag_miss_ceo_age&#x27;, &#x27;ceo_count&#x27;, &#x27;labor_avg_mod&#x27;, &#x27;flag_miss_labor_avg&#x27;, &#x27;foreign_management&#x27;]</pre></div></div></div><div class=\"sk-serial\"><div class=\"sk-item\"><div class=\"sk-serial\"><div class=\"sk-item\"><div class=\"sk-estimator sk-toggleable\"><input class=\"sk-toggleable__control sk-hidden--visually\" id=\"sk-estimator-id-35\" type=\"checkbox\" ><label for=\"sk-estimator-id-35\" class=\"sk-toggleable__label sk-toggleable__label-arrow\">StandardScaler</label><div class=\"sk-toggleable__content\"><pre>StandardScaler()</pre></div></div></div></div></div></div></div></div><div class=\"sk-parallel-item\"><div class=\"sk-item\"><div class=\"sk-label-container\"><div class=\"sk-label sk-toggleable\"><input class=\"sk-toggleable__control sk-hidden--visually\" id=\"sk-estimator-id-36\" type=\"checkbox\" ><label for=\"sk-estimator-id-36\" class=\"sk-toggleable__label sk-toggleable__label-arrow\">cat</label><div class=\"sk-toggleable__content\"><pre>[&#x27;m_region_loc&#x27;]</pre></div></div></div><div class=\"sk-serial\"><div class=\"sk-item\"><div class=\"sk-serial\"><div class=\"sk-item\"><div class=\"sk-estimator sk-toggleable\"><input class=\"sk-toggleable__control sk-hidden--visually\" id=\"sk-estimator-id-37\" type=\"checkbox\" ><label for=\"sk-estimator-id-37\" class=\"sk-toggleable__label sk-toggleable__label-arrow\">OneHotEncoder</label><div class=\"sk-toggleable__content\"><pre>OneHotEncoder(handle_unknown=&#x27;ignore&#x27;)</pre></div></div></div></div></div></div></div></div></div></div><div class=\"sk-item\"><div class=\"sk-estimator sk-toggleable\"><input class=\"sk-toggleable__control sk-hidden--visually\" id=\"sk-estimator-id-38\" type=\"checkbox\" ><label for=\"sk-estimator-id-38\" class=\"sk-toggleable__label sk-toggleable__label-arrow\">LogisticRegressionCV</label><div class=\"sk-toggleable__content\"><pre>LogisticRegressionCV(Cs=[1e+20],\n",
       "                     cv=KFold(n_splits=5, random_state=42, shuffle=True),\n",
       "                     random_state=42, solver=&#x27;newton-cg&#x27;, tol=1e-07)</pre></div></div></div></div></div></div></div>"
      ],
      "text/plain": [
       "Pipeline(steps=[('preprocessor',\n",
       "                 ColumnTransformer(transformers=[('num',\n",
       "                                                  Pipeline(steps=[('scaler',\n",
       "                                                                   StandardScaler())]),\n",
       "                                                  ['sales_mil_log',\n",
       "                                                   'sales_mil_log_sq', 'age',\n",
       "                                                   'age2', 'new', 'ind2_cat',\n",
       "                                                   'urban_m', 'total_assets_bs',\n",
       "                                                   'fixed_assets_bs',\n",
       "                                                   'liq_assets_bs',\n",
       "                                                   'curr_assets_bs',\n",
       "                                                   'share_eq_bs',\n",
       "                                                   'subscribed_cap_bs',\n",
       "                                                   'intang_assets_bs',\n",
       "                                                   'extra_exp_pl',\n",
       "                                                   'extra_inc_pl',\n",
       "                                                   'extr...\n",
       "                                                   'flag_low_d1_sales_mil_log',\n",
       "                                                   'flag_high_d1_sales_mil_log',\n",
       "                                                   'female', 'ceo_age',\n",
       "                                                   'flag_high_ceo_age',\n",
       "                                                   'flag_low_ceo_age', ...]),\n",
       "                                                 ('cat',\n",
       "                                                  Pipeline(steps=[('encoder',\n",
       "                                                                   OneHotEncoder(handle_unknown='ignore'))]),\n",
       "                                                  ['m_region_loc'])])),\n",
       "                ('classifier',\n",
       "                 LogisticRegressionCV(Cs=[1e+20],\n",
       "                                      cv=KFold(n_splits=5, random_state=42, shuffle=True),\n",
       "                                      random_state=42, solver='newton-cg',\n",
       "                                      tol=1e-07))])"
      ]
     },
     "execution_count": 48,
     "metadata": {},
     "output_type": "execute_result"
    }
   ],
   "source": [
    "pipeline_logit.fit(X_train_M2, y_train)"
   ]
  },
  {
   "cell_type": "markdown",
   "id": "58309ea4",
   "metadata": {},
   "source": [
    "##### Performances for M2"
   ]
  },
  {
   "cell_type": "code",
   "execution_count": 49,
   "id": "fdd06be9",
   "metadata": {},
   "outputs": [
    {
     "name": "stdout",
     "output_type": "stream",
     "text": [
      "Confusion matrix:\n",
      " [[3606  161]\n",
      " [ 745  247]]\n",
      "Testing AUC: 77.8797 %\n",
      "Testing accuracy: 80.9624 %\n"
     ]
    }
   ],
   "source": [
    "y_test_hat = pipeline_logit.predict(X_test_M2)\n",
    "y_test_hat_probs = pipeline_logit.predict_proba(X_test_M2)[:,1]\n",
    "\n",
    "test_accuracy['logit_m2'] = accuracy_score(y_test, y_test_hat)*100\n",
    "test_auc_roc['logit_m2'] = roc_auc_score(y_test, y_test_hat_probs)*100\n",
    "\n",
    "print('Confusion matrix:\\n', confusion_matrix(y_test, y_test_hat))\n",
    "print('Testing AUC: %.4f %%' % test_auc_roc['logit_m2'])\n",
    "print('Testing accuracy: %.4f %%' % test_accuracy['logit_m2']) "
   ]
  },
  {
   "cell_type": "markdown",
   "id": "e8385143",
   "metadata": {},
   "source": [
    "#### Comparing performance for the 2 logit models: "
   ]
  },
  {
   "cell_type": "code",
   "execution_count": 50,
   "id": "1af6a49b",
   "metadata": {},
   "outputs": [
    {
     "data": {
      "text/plain": [
       "{'logit_m1': 76.59411742038243, 'logit_m2': 77.87974087363095}"
      ]
     },
     "execution_count": 50,
     "metadata": {},
     "output_type": "execute_result"
    }
   ],
   "source": [
    "test_auc_roc"
   ]
  },
  {
   "cell_type": "code",
   "execution_count": 51,
   "id": "510d9047",
   "metadata": {},
   "outputs": [
    {
     "data": {
      "text/plain": [
       "{'logit_m1': 80.28997688590039, 'logit_m2': 80.96238705610422}"
      ]
     },
     "execution_count": 51,
     "metadata": {},
     "output_type": "execute_result"
    }
   ],
   "source": [
    "test_accuracy"
   ]
  },
  {
   "cell_type": "markdown",
   "id": "73d76505",
   "metadata": {},
   "source": [
    "### Model 2: Lasso with standardized X data"
   ]
  },
  {
   "cell_type": "code",
   "execution_count": 52,
   "id": "a91f06a7",
   "metadata": {},
   "outputs": [
    {
     "data": {
      "text/plain": [
       "10"
      ]
     },
     "execution_count": 52,
     "metadata": {},
     "output_type": "execute_result"
    }
   ],
   "source": [
    "lambdas = list(10 ** np.arange(-1, -4.01, -1 / 3))\n",
    "n_obs = X_train_M2.shape[0] * 4 / 5\n",
    "C_values = [\n",
    "    1 / (l * n_obs) for l in lambdas\n",
    "]  # Cs are the inverse of regularization strength\n",
    "len(C_values)"
   ]
  },
  {
   "cell_type": "code",
   "execution_count": 53,
   "id": "94298290",
   "metadata": {},
   "outputs": [],
   "source": [
    "logistic_lasso = LogisticRegressionCV(\n",
    "    Cs=C_values,\n",
    "    penalty=\"l1\", # L1 regularization = lasso \n",
    "    cv=k,\n",
    "    refit=True,\n",
    "    scoring=\"roc_auc\",\n",
    "    solver=\"liblinear\",\n",
    "    random_state=42,\n",
    ")\n"
   ]
  },
  {
   "cell_type": "code",
   "execution_count": 54,
   "id": "f6c87048",
   "metadata": {},
   "outputs": [
    {
     "data": {
      "text/html": [
       "<style>#sk-container-id-11 {color: black;background-color: white;}#sk-container-id-11 pre{padding: 0;}#sk-container-id-11 div.sk-toggleable {background-color: white;}#sk-container-id-11 label.sk-toggleable__label {cursor: pointer;display: block;width: 100%;margin-bottom: 0;padding: 0.3em;box-sizing: border-box;text-align: center;}#sk-container-id-11 label.sk-toggleable__label-arrow:before {content: \"▸\";float: left;margin-right: 0.25em;color: #696969;}#sk-container-id-11 label.sk-toggleable__label-arrow:hover:before {color: black;}#sk-container-id-11 div.sk-estimator:hover label.sk-toggleable__label-arrow:before {color: black;}#sk-container-id-11 div.sk-toggleable__content {max-height: 0;max-width: 0;overflow: hidden;text-align: left;background-color: #f0f8ff;}#sk-container-id-11 div.sk-toggleable__content pre {margin: 0.2em;color: black;border-radius: 0.25em;background-color: #f0f8ff;}#sk-container-id-11 input.sk-toggleable__control:checked~div.sk-toggleable__content {max-height: 200px;max-width: 100%;overflow: auto;}#sk-container-id-11 input.sk-toggleable__control:checked~label.sk-toggleable__label-arrow:before {content: \"▾\";}#sk-container-id-11 div.sk-estimator input.sk-toggleable__control:checked~label.sk-toggleable__label {background-color: #d4ebff;}#sk-container-id-11 div.sk-label input.sk-toggleable__control:checked~label.sk-toggleable__label {background-color: #d4ebff;}#sk-container-id-11 input.sk-hidden--visually {border: 0;clip: rect(1px 1px 1px 1px);clip: rect(1px, 1px, 1px, 1px);height: 1px;margin: -1px;overflow: hidden;padding: 0;position: absolute;width: 1px;}#sk-container-id-11 div.sk-estimator {font-family: monospace;background-color: #f0f8ff;border: 1px dotted black;border-radius: 0.25em;box-sizing: border-box;margin-bottom: 0.5em;}#sk-container-id-11 div.sk-estimator:hover {background-color: #d4ebff;}#sk-container-id-11 div.sk-parallel-item::after {content: \"\";width: 100%;border-bottom: 1px solid gray;flex-grow: 1;}#sk-container-id-11 div.sk-label:hover label.sk-toggleable__label {background-color: #d4ebff;}#sk-container-id-11 div.sk-serial::before {content: \"\";position: absolute;border-left: 1px solid gray;box-sizing: border-box;top: 0;bottom: 0;left: 50%;z-index: 0;}#sk-container-id-11 div.sk-serial {display: flex;flex-direction: column;align-items: center;background-color: white;padding-right: 0.2em;padding-left: 0.2em;position: relative;}#sk-container-id-11 div.sk-item {position: relative;z-index: 1;}#sk-container-id-11 div.sk-parallel {display: flex;align-items: stretch;justify-content: center;background-color: white;position: relative;}#sk-container-id-11 div.sk-item::before, #sk-container-id-11 div.sk-parallel-item::before {content: \"\";position: absolute;border-left: 1px solid gray;box-sizing: border-box;top: 0;bottom: 0;left: 50%;z-index: -1;}#sk-container-id-11 div.sk-parallel-item {display: flex;flex-direction: column;z-index: 1;position: relative;background-color: white;}#sk-container-id-11 div.sk-parallel-item:first-child::after {align-self: flex-end;width: 50%;}#sk-container-id-11 div.sk-parallel-item:last-child::after {align-self: flex-start;width: 50%;}#sk-container-id-11 div.sk-parallel-item:only-child::after {width: 0;}#sk-container-id-11 div.sk-dashed-wrapped {border: 1px dashed gray;margin: 0 0.4em 0.5em 0.4em;box-sizing: border-box;padding-bottom: 0.4em;background-color: white;}#sk-container-id-11 div.sk-label label {font-family: monospace;font-weight: bold;display: inline-block;line-height: 1.2em;}#sk-container-id-11 div.sk-label-container {text-align: center;}#sk-container-id-11 div.sk-container {/* jupyter's `normalize.less` sets `[hidden] { display: none; }` but bootstrap.min.css set `[hidden] { display: none !important; }` so we also need the `!important` here to be able to override the default hidden behavior on the sphinx rendered scikit-learn.org. See: https://github.com/scikit-learn/scikit-learn/issues/21755 */display: inline-block !important;position: relative;}#sk-container-id-11 div.sk-text-repr-fallback {display: none;}</style><div id=\"sk-container-id-11\" class=\"sk-top-container\"><div class=\"sk-text-repr-fallback\"><pre>Pipeline(steps=[(&#x27;preprocessor&#x27;,\n",
       "                 ColumnTransformer(transformers=[(&#x27;num&#x27;,\n",
       "                                                  Pipeline(steps=[(&#x27;scaler&#x27;,\n",
       "                                                                   StandardScaler())]),\n",
       "                                                  [&#x27;sales_mil_log&#x27;,\n",
       "                                                   &#x27;sales_mil_log_sq&#x27;, &#x27;age&#x27;,\n",
       "                                                   &#x27;age2&#x27;, &#x27;new&#x27;, &#x27;ind2_cat&#x27;,\n",
       "                                                   &#x27;urban_m&#x27;, &#x27;total_assets_bs&#x27;,\n",
       "                                                   &#x27;fixed_assets_bs&#x27;,\n",
       "                                                   &#x27;liq_assets_bs&#x27;,\n",
       "                                                   &#x27;curr_assets_bs&#x27;,\n",
       "                                                   &#x27;share_eq_bs&#x27;,\n",
       "                                                   &#x27;subscribed_cap_bs&#x27;,\n",
       "                                                   &#x27;intang_assets_bs&#x27;,\n",
       "                                                   &#x27;extra_exp_pl&#x27;,\n",
       "                                                   &#x27;extra_inc_pl&#x27;,\n",
       "                                                   &#x27;extr...\n",
       "                (&#x27;classifier&#x27;,\n",
       "                 LogisticRegressionCV(Cs=[0.0008755340757862296,\n",
       "                                          0.001886280985178857,\n",
       "                                          0.004063869189616846,\n",
       "                                          0.00875534075786229,\n",
       "                                          0.018862809851788558,\n",
       "                                          0.04063869189616842,\n",
       "                                          0.08755340757862287,\n",
       "                                          0.1886280985178856,\n",
       "                                          0.4063869189616842,\n",
       "                                          0.8755340757862277],\n",
       "                                      cv=KFold(n_splits=5, random_state=42, shuffle=True),\n",
       "                                      penalty=&#x27;l1&#x27;, random_state=42,\n",
       "                                      scoring=&#x27;roc_auc&#x27;, solver=&#x27;liblinear&#x27;))])</pre><b>In a Jupyter environment, please rerun this cell to show the HTML representation or trust the notebook. <br />On GitHub, the HTML representation is unable to render, please try loading this page with nbviewer.org.</b></div><div class=\"sk-container\" hidden><div class=\"sk-item sk-dashed-wrapped\"><div class=\"sk-label-container\"><div class=\"sk-label sk-toggleable\"><input class=\"sk-toggleable__control sk-hidden--visually\" id=\"sk-estimator-id-39\" type=\"checkbox\" ><label for=\"sk-estimator-id-39\" class=\"sk-toggleable__label sk-toggleable__label-arrow\">Pipeline</label><div class=\"sk-toggleable__content\"><pre>Pipeline(steps=[(&#x27;preprocessor&#x27;,\n",
       "                 ColumnTransformer(transformers=[(&#x27;num&#x27;,\n",
       "                                                  Pipeline(steps=[(&#x27;scaler&#x27;,\n",
       "                                                                   StandardScaler())]),\n",
       "                                                  [&#x27;sales_mil_log&#x27;,\n",
       "                                                   &#x27;sales_mil_log_sq&#x27;, &#x27;age&#x27;,\n",
       "                                                   &#x27;age2&#x27;, &#x27;new&#x27;, &#x27;ind2_cat&#x27;,\n",
       "                                                   &#x27;urban_m&#x27;, &#x27;total_assets_bs&#x27;,\n",
       "                                                   &#x27;fixed_assets_bs&#x27;,\n",
       "                                                   &#x27;liq_assets_bs&#x27;,\n",
       "                                                   &#x27;curr_assets_bs&#x27;,\n",
       "                                                   &#x27;share_eq_bs&#x27;,\n",
       "                                                   &#x27;subscribed_cap_bs&#x27;,\n",
       "                                                   &#x27;intang_assets_bs&#x27;,\n",
       "                                                   &#x27;extra_exp_pl&#x27;,\n",
       "                                                   &#x27;extra_inc_pl&#x27;,\n",
       "                                                   &#x27;extr...\n",
       "                (&#x27;classifier&#x27;,\n",
       "                 LogisticRegressionCV(Cs=[0.0008755340757862296,\n",
       "                                          0.001886280985178857,\n",
       "                                          0.004063869189616846,\n",
       "                                          0.00875534075786229,\n",
       "                                          0.018862809851788558,\n",
       "                                          0.04063869189616842,\n",
       "                                          0.08755340757862287,\n",
       "                                          0.1886280985178856,\n",
       "                                          0.4063869189616842,\n",
       "                                          0.8755340757862277],\n",
       "                                      cv=KFold(n_splits=5, random_state=42, shuffle=True),\n",
       "                                      penalty=&#x27;l1&#x27;, random_state=42,\n",
       "                                      scoring=&#x27;roc_auc&#x27;, solver=&#x27;liblinear&#x27;))])</pre></div></div></div><div class=\"sk-serial\"><div class=\"sk-item sk-dashed-wrapped\"><div class=\"sk-label-container\"><div class=\"sk-label sk-toggleable\"><input class=\"sk-toggleable__control sk-hidden--visually\" id=\"sk-estimator-id-40\" type=\"checkbox\" ><label for=\"sk-estimator-id-40\" class=\"sk-toggleable__label sk-toggleable__label-arrow\">preprocessor: ColumnTransformer</label><div class=\"sk-toggleable__content\"><pre>ColumnTransformer(transformers=[(&#x27;num&#x27;,\n",
       "                                 Pipeline(steps=[(&#x27;scaler&#x27;, StandardScaler())]),\n",
       "                                 [&#x27;sales_mil_log&#x27;, &#x27;sales_mil_log_sq&#x27;, &#x27;age&#x27;,\n",
       "                                  &#x27;age2&#x27;, &#x27;new&#x27;, &#x27;ind2_cat&#x27;, &#x27;urban_m&#x27;,\n",
       "                                  &#x27;total_assets_bs&#x27;, &#x27;fixed_assets_bs&#x27;,\n",
       "                                  &#x27;liq_assets_bs&#x27;, &#x27;curr_assets_bs&#x27;,\n",
       "                                  &#x27;share_eq_bs&#x27;, &#x27;subscribed_cap_bs&#x27;,\n",
       "                                  &#x27;intang_assets_bs&#x27;, &#x27;extra_exp_pl&#x27;,\n",
       "                                  &#x27;extra_inc_pl&#x27;, &#x27;extra_profit_loss_pl&#x27;,\n",
       "                                  &#x27;inc_bef_tax_pl&#x27;, &#x27;inventories_pl&#x27;,\n",
       "                                  &#x27;material_exp_pl&#x27;, &#x27;profit_loss_year_pl&#x27;,\n",
       "                                  &#x27;personnel_exp_pl&#x27;, &#x27;d1_sales_mil_log_mod&#x27;,\n",
       "                                  &#x27;d1_sales_mil_log_mod_sq&#x27;,\n",
       "                                  &#x27;flag_low_d1_sales_mil_log&#x27;,\n",
       "                                  &#x27;flag_high_d1_sales_mil_log&#x27;, &#x27;female&#x27;,\n",
       "                                  &#x27;ceo_age&#x27;, &#x27;flag_high_ceo_age&#x27;,\n",
       "                                  &#x27;flag_low_ceo_age&#x27;, ...]),\n",
       "                                (&#x27;cat&#x27;,\n",
       "                                 Pipeline(steps=[(&#x27;encoder&#x27;,\n",
       "                                                  OneHotEncoder(handle_unknown=&#x27;ignore&#x27;))]),\n",
       "                                 [&#x27;m_region_loc&#x27;])])</pre></div></div></div><div class=\"sk-parallel\"><div class=\"sk-parallel-item\"><div class=\"sk-item\"><div class=\"sk-label-container\"><div class=\"sk-label sk-toggleable\"><input class=\"sk-toggleable__control sk-hidden--visually\" id=\"sk-estimator-id-41\" type=\"checkbox\" ><label for=\"sk-estimator-id-41\" class=\"sk-toggleable__label sk-toggleable__label-arrow\">num</label><div class=\"sk-toggleable__content\"><pre>[&#x27;sales_mil_log&#x27;, &#x27;sales_mil_log_sq&#x27;, &#x27;age&#x27;, &#x27;age2&#x27;, &#x27;new&#x27;, &#x27;ind2_cat&#x27;, &#x27;urban_m&#x27;, &#x27;total_assets_bs&#x27;, &#x27;fixed_assets_bs&#x27;, &#x27;liq_assets_bs&#x27;, &#x27;curr_assets_bs&#x27;, &#x27;share_eq_bs&#x27;, &#x27;subscribed_cap_bs&#x27;, &#x27;intang_assets_bs&#x27;, &#x27;extra_exp_pl&#x27;, &#x27;extra_inc_pl&#x27;, &#x27;extra_profit_loss_pl&#x27;, &#x27;inc_bef_tax_pl&#x27;, &#x27;inventories_pl&#x27;, &#x27;material_exp_pl&#x27;, &#x27;profit_loss_year_pl&#x27;, &#x27;personnel_exp_pl&#x27;, &#x27;d1_sales_mil_log_mod&#x27;, &#x27;d1_sales_mil_log_mod_sq&#x27;, &#x27;flag_low_d1_sales_mil_log&#x27;, &#x27;flag_high_d1_sales_mil_log&#x27;, &#x27;female&#x27;, &#x27;ceo_age&#x27;, &#x27;flag_high_ceo_age&#x27;, &#x27;flag_low_ceo_age&#x27;, &#x27;flag_miss_ceo_age&#x27;, &#x27;ceo_count&#x27;, &#x27;labor_avg_mod&#x27;, &#x27;flag_miss_labor_avg&#x27;, &#x27;foreign_management&#x27;]</pre></div></div></div><div class=\"sk-serial\"><div class=\"sk-item\"><div class=\"sk-serial\"><div class=\"sk-item\"><div class=\"sk-estimator sk-toggleable\"><input class=\"sk-toggleable__control sk-hidden--visually\" id=\"sk-estimator-id-42\" type=\"checkbox\" ><label for=\"sk-estimator-id-42\" class=\"sk-toggleable__label sk-toggleable__label-arrow\">StandardScaler</label><div class=\"sk-toggleable__content\"><pre>StandardScaler()</pre></div></div></div></div></div></div></div></div><div class=\"sk-parallel-item\"><div class=\"sk-item\"><div class=\"sk-label-container\"><div class=\"sk-label sk-toggleable\"><input class=\"sk-toggleable__control sk-hidden--visually\" id=\"sk-estimator-id-43\" type=\"checkbox\" ><label for=\"sk-estimator-id-43\" class=\"sk-toggleable__label sk-toggleable__label-arrow\">cat</label><div class=\"sk-toggleable__content\"><pre>[&#x27;m_region_loc&#x27;]</pre></div></div></div><div class=\"sk-serial\"><div class=\"sk-item\"><div class=\"sk-serial\"><div class=\"sk-item\"><div class=\"sk-estimator sk-toggleable\"><input class=\"sk-toggleable__control sk-hidden--visually\" id=\"sk-estimator-id-44\" type=\"checkbox\" ><label for=\"sk-estimator-id-44\" class=\"sk-toggleable__label sk-toggleable__label-arrow\">OneHotEncoder</label><div class=\"sk-toggleable__content\"><pre>OneHotEncoder(handle_unknown=&#x27;ignore&#x27;)</pre></div></div></div></div></div></div></div></div></div></div><div class=\"sk-item\"><div class=\"sk-estimator sk-toggleable\"><input class=\"sk-toggleable__control sk-hidden--visually\" id=\"sk-estimator-id-45\" type=\"checkbox\" ><label for=\"sk-estimator-id-45\" class=\"sk-toggleable__label sk-toggleable__label-arrow\">LogisticRegressionCV</label><div class=\"sk-toggleable__content\"><pre>LogisticRegressionCV(Cs=[0.0008755340757862296, 0.001886280985178857,\n",
       "                         0.004063869189616846, 0.00875534075786229,\n",
       "                         0.018862809851788558, 0.04063869189616842,\n",
       "                         0.08755340757862287, 0.1886280985178856,\n",
       "                         0.4063869189616842, 0.8755340757862277],\n",
       "                     cv=KFold(n_splits=5, random_state=42, shuffle=True),\n",
       "                     penalty=&#x27;l1&#x27;, random_state=42, scoring=&#x27;roc_auc&#x27;,\n",
       "                     solver=&#x27;liblinear&#x27;)</pre></div></div></div></div></div></div></div>"
      ],
      "text/plain": [
       "Pipeline(steps=[('preprocessor',\n",
       "                 ColumnTransformer(transformers=[('num',\n",
       "                                                  Pipeline(steps=[('scaler',\n",
       "                                                                   StandardScaler())]),\n",
       "                                                  ['sales_mil_log',\n",
       "                                                   'sales_mil_log_sq', 'age',\n",
       "                                                   'age2', 'new', 'ind2_cat',\n",
       "                                                   'urban_m', 'total_assets_bs',\n",
       "                                                   'fixed_assets_bs',\n",
       "                                                   'liq_assets_bs',\n",
       "                                                   'curr_assets_bs',\n",
       "                                                   'share_eq_bs',\n",
       "                                                   'subscribed_cap_bs',\n",
       "                                                   'intang_assets_bs',\n",
       "                                                   'extra_exp_pl',\n",
       "                                                   'extra_inc_pl',\n",
       "                                                   'extr...\n",
       "                ('classifier',\n",
       "                 LogisticRegressionCV(Cs=[0.0008755340757862296,\n",
       "                                          0.001886280985178857,\n",
       "                                          0.004063869189616846,\n",
       "                                          0.00875534075786229,\n",
       "                                          0.018862809851788558,\n",
       "                                          0.04063869189616842,\n",
       "                                          0.08755340757862287,\n",
       "                                          0.1886280985178856,\n",
       "                                          0.4063869189616842,\n",
       "                                          0.8755340757862277],\n",
       "                                      cv=KFold(n_splits=5, random_state=42, shuffle=True),\n",
       "                                      penalty='l1', random_state=42,\n",
       "                                      scoring='roc_auc', solver='liblinear'))])"
      ]
     },
     "execution_count": 54,
     "metadata": {},
     "output_type": "execute_result"
    }
   ],
   "source": [
    "#Append classifier to preprocessing pipeline. Now we have a full prediction pipeline.\n",
    "pipeline_logistic_lasso = Pipeline(\n",
    "    steps=[(\"preprocessor\", preprocessor), (\"classifier\", logistic_lasso)]\n",
    ")\n",
    "pipeline_logistic_lasso"
   ]
  },
  {
   "cell_type": "code",
   "execution_count": 55,
   "id": "fa6657c4",
   "metadata": {},
   "outputs": [
    {
     "data": {
      "text/html": [
       "<style>#sk-container-id-12 {color: black;background-color: white;}#sk-container-id-12 pre{padding: 0;}#sk-container-id-12 div.sk-toggleable {background-color: white;}#sk-container-id-12 label.sk-toggleable__label {cursor: pointer;display: block;width: 100%;margin-bottom: 0;padding: 0.3em;box-sizing: border-box;text-align: center;}#sk-container-id-12 label.sk-toggleable__label-arrow:before {content: \"▸\";float: left;margin-right: 0.25em;color: #696969;}#sk-container-id-12 label.sk-toggleable__label-arrow:hover:before {color: black;}#sk-container-id-12 div.sk-estimator:hover label.sk-toggleable__label-arrow:before {color: black;}#sk-container-id-12 div.sk-toggleable__content {max-height: 0;max-width: 0;overflow: hidden;text-align: left;background-color: #f0f8ff;}#sk-container-id-12 div.sk-toggleable__content pre {margin: 0.2em;color: black;border-radius: 0.25em;background-color: #f0f8ff;}#sk-container-id-12 input.sk-toggleable__control:checked~div.sk-toggleable__content {max-height: 200px;max-width: 100%;overflow: auto;}#sk-container-id-12 input.sk-toggleable__control:checked~label.sk-toggleable__label-arrow:before {content: \"▾\";}#sk-container-id-12 div.sk-estimator input.sk-toggleable__control:checked~label.sk-toggleable__label {background-color: #d4ebff;}#sk-container-id-12 div.sk-label input.sk-toggleable__control:checked~label.sk-toggleable__label {background-color: #d4ebff;}#sk-container-id-12 input.sk-hidden--visually {border: 0;clip: rect(1px 1px 1px 1px);clip: rect(1px, 1px, 1px, 1px);height: 1px;margin: -1px;overflow: hidden;padding: 0;position: absolute;width: 1px;}#sk-container-id-12 div.sk-estimator {font-family: monospace;background-color: #f0f8ff;border: 1px dotted black;border-radius: 0.25em;box-sizing: border-box;margin-bottom: 0.5em;}#sk-container-id-12 div.sk-estimator:hover {background-color: #d4ebff;}#sk-container-id-12 div.sk-parallel-item::after {content: \"\";width: 100%;border-bottom: 1px solid gray;flex-grow: 1;}#sk-container-id-12 div.sk-label:hover label.sk-toggleable__label {background-color: #d4ebff;}#sk-container-id-12 div.sk-serial::before {content: \"\";position: absolute;border-left: 1px solid gray;box-sizing: border-box;top: 0;bottom: 0;left: 50%;z-index: 0;}#sk-container-id-12 div.sk-serial {display: flex;flex-direction: column;align-items: center;background-color: white;padding-right: 0.2em;padding-left: 0.2em;position: relative;}#sk-container-id-12 div.sk-item {position: relative;z-index: 1;}#sk-container-id-12 div.sk-parallel {display: flex;align-items: stretch;justify-content: center;background-color: white;position: relative;}#sk-container-id-12 div.sk-item::before, #sk-container-id-12 div.sk-parallel-item::before {content: \"\";position: absolute;border-left: 1px solid gray;box-sizing: border-box;top: 0;bottom: 0;left: 50%;z-index: -1;}#sk-container-id-12 div.sk-parallel-item {display: flex;flex-direction: column;z-index: 1;position: relative;background-color: white;}#sk-container-id-12 div.sk-parallel-item:first-child::after {align-self: flex-end;width: 50%;}#sk-container-id-12 div.sk-parallel-item:last-child::after {align-self: flex-start;width: 50%;}#sk-container-id-12 div.sk-parallel-item:only-child::after {width: 0;}#sk-container-id-12 div.sk-dashed-wrapped {border: 1px dashed gray;margin: 0 0.4em 0.5em 0.4em;box-sizing: border-box;padding-bottom: 0.4em;background-color: white;}#sk-container-id-12 div.sk-label label {font-family: monospace;font-weight: bold;display: inline-block;line-height: 1.2em;}#sk-container-id-12 div.sk-label-container {text-align: center;}#sk-container-id-12 div.sk-container {/* jupyter's `normalize.less` sets `[hidden] { display: none; }` but bootstrap.min.css set `[hidden] { display: none !important; }` so we also need the `!important` here to be able to override the default hidden behavior on the sphinx rendered scikit-learn.org. See: https://github.com/scikit-learn/scikit-learn/issues/21755 */display: inline-block !important;position: relative;}#sk-container-id-12 div.sk-text-repr-fallback {display: none;}</style><div id=\"sk-container-id-12\" class=\"sk-top-container\"><div class=\"sk-text-repr-fallback\"><pre>Pipeline(steps=[(&#x27;preprocessor&#x27;,\n",
       "                 ColumnTransformer(transformers=[(&#x27;num&#x27;,\n",
       "                                                  Pipeline(steps=[(&#x27;scaler&#x27;,\n",
       "                                                                   StandardScaler())]),\n",
       "                                                  [&#x27;sales_mil_log&#x27;,\n",
       "                                                   &#x27;sales_mil_log_sq&#x27;, &#x27;age&#x27;,\n",
       "                                                   &#x27;age2&#x27;, &#x27;new&#x27;, &#x27;ind2_cat&#x27;,\n",
       "                                                   &#x27;urban_m&#x27;, &#x27;total_assets_bs&#x27;,\n",
       "                                                   &#x27;fixed_assets_bs&#x27;,\n",
       "                                                   &#x27;liq_assets_bs&#x27;,\n",
       "                                                   &#x27;curr_assets_bs&#x27;,\n",
       "                                                   &#x27;share_eq_bs&#x27;,\n",
       "                                                   &#x27;subscribed_cap_bs&#x27;,\n",
       "                                                   &#x27;intang_assets_bs&#x27;,\n",
       "                                                   &#x27;extra_exp_pl&#x27;,\n",
       "                                                   &#x27;extra_inc_pl&#x27;,\n",
       "                                                   &#x27;extr...\n",
       "                (&#x27;classifier&#x27;,\n",
       "                 LogisticRegressionCV(Cs=[0.0008755340757862296,\n",
       "                                          0.001886280985178857,\n",
       "                                          0.004063869189616846,\n",
       "                                          0.00875534075786229,\n",
       "                                          0.018862809851788558,\n",
       "                                          0.04063869189616842,\n",
       "                                          0.08755340757862287,\n",
       "                                          0.1886280985178856,\n",
       "                                          0.4063869189616842,\n",
       "                                          0.8755340757862277],\n",
       "                                      cv=KFold(n_splits=5, random_state=42, shuffle=True),\n",
       "                                      penalty=&#x27;l1&#x27;, random_state=42,\n",
       "                                      scoring=&#x27;roc_auc&#x27;, solver=&#x27;liblinear&#x27;))])</pre><b>In a Jupyter environment, please rerun this cell to show the HTML representation or trust the notebook. <br />On GitHub, the HTML representation is unable to render, please try loading this page with nbviewer.org.</b></div><div class=\"sk-container\" hidden><div class=\"sk-item sk-dashed-wrapped\"><div class=\"sk-label-container\"><div class=\"sk-label sk-toggleable\"><input class=\"sk-toggleable__control sk-hidden--visually\" id=\"sk-estimator-id-46\" type=\"checkbox\" ><label for=\"sk-estimator-id-46\" class=\"sk-toggleable__label sk-toggleable__label-arrow\">Pipeline</label><div class=\"sk-toggleable__content\"><pre>Pipeline(steps=[(&#x27;preprocessor&#x27;,\n",
       "                 ColumnTransformer(transformers=[(&#x27;num&#x27;,\n",
       "                                                  Pipeline(steps=[(&#x27;scaler&#x27;,\n",
       "                                                                   StandardScaler())]),\n",
       "                                                  [&#x27;sales_mil_log&#x27;,\n",
       "                                                   &#x27;sales_mil_log_sq&#x27;, &#x27;age&#x27;,\n",
       "                                                   &#x27;age2&#x27;, &#x27;new&#x27;, &#x27;ind2_cat&#x27;,\n",
       "                                                   &#x27;urban_m&#x27;, &#x27;total_assets_bs&#x27;,\n",
       "                                                   &#x27;fixed_assets_bs&#x27;,\n",
       "                                                   &#x27;liq_assets_bs&#x27;,\n",
       "                                                   &#x27;curr_assets_bs&#x27;,\n",
       "                                                   &#x27;share_eq_bs&#x27;,\n",
       "                                                   &#x27;subscribed_cap_bs&#x27;,\n",
       "                                                   &#x27;intang_assets_bs&#x27;,\n",
       "                                                   &#x27;extra_exp_pl&#x27;,\n",
       "                                                   &#x27;extra_inc_pl&#x27;,\n",
       "                                                   &#x27;extr...\n",
       "                (&#x27;classifier&#x27;,\n",
       "                 LogisticRegressionCV(Cs=[0.0008755340757862296,\n",
       "                                          0.001886280985178857,\n",
       "                                          0.004063869189616846,\n",
       "                                          0.00875534075786229,\n",
       "                                          0.018862809851788558,\n",
       "                                          0.04063869189616842,\n",
       "                                          0.08755340757862287,\n",
       "                                          0.1886280985178856,\n",
       "                                          0.4063869189616842,\n",
       "                                          0.8755340757862277],\n",
       "                                      cv=KFold(n_splits=5, random_state=42, shuffle=True),\n",
       "                                      penalty=&#x27;l1&#x27;, random_state=42,\n",
       "                                      scoring=&#x27;roc_auc&#x27;, solver=&#x27;liblinear&#x27;))])</pre></div></div></div><div class=\"sk-serial\"><div class=\"sk-item sk-dashed-wrapped\"><div class=\"sk-label-container\"><div class=\"sk-label sk-toggleable\"><input class=\"sk-toggleable__control sk-hidden--visually\" id=\"sk-estimator-id-47\" type=\"checkbox\" ><label for=\"sk-estimator-id-47\" class=\"sk-toggleable__label sk-toggleable__label-arrow\">preprocessor: ColumnTransformer</label><div class=\"sk-toggleable__content\"><pre>ColumnTransformer(transformers=[(&#x27;num&#x27;,\n",
       "                                 Pipeline(steps=[(&#x27;scaler&#x27;, StandardScaler())]),\n",
       "                                 [&#x27;sales_mil_log&#x27;, &#x27;sales_mil_log_sq&#x27;, &#x27;age&#x27;,\n",
       "                                  &#x27;age2&#x27;, &#x27;new&#x27;, &#x27;ind2_cat&#x27;, &#x27;urban_m&#x27;,\n",
       "                                  &#x27;total_assets_bs&#x27;, &#x27;fixed_assets_bs&#x27;,\n",
       "                                  &#x27;liq_assets_bs&#x27;, &#x27;curr_assets_bs&#x27;,\n",
       "                                  &#x27;share_eq_bs&#x27;, &#x27;subscribed_cap_bs&#x27;,\n",
       "                                  &#x27;intang_assets_bs&#x27;, &#x27;extra_exp_pl&#x27;,\n",
       "                                  &#x27;extra_inc_pl&#x27;, &#x27;extra_profit_loss_pl&#x27;,\n",
       "                                  &#x27;inc_bef_tax_pl&#x27;, &#x27;inventories_pl&#x27;,\n",
       "                                  &#x27;material_exp_pl&#x27;, &#x27;profit_loss_year_pl&#x27;,\n",
       "                                  &#x27;personnel_exp_pl&#x27;, &#x27;d1_sales_mil_log_mod&#x27;,\n",
       "                                  &#x27;d1_sales_mil_log_mod_sq&#x27;,\n",
       "                                  &#x27;flag_low_d1_sales_mil_log&#x27;,\n",
       "                                  &#x27;flag_high_d1_sales_mil_log&#x27;, &#x27;female&#x27;,\n",
       "                                  &#x27;ceo_age&#x27;, &#x27;flag_high_ceo_age&#x27;,\n",
       "                                  &#x27;flag_low_ceo_age&#x27;, ...]),\n",
       "                                (&#x27;cat&#x27;,\n",
       "                                 Pipeline(steps=[(&#x27;encoder&#x27;,\n",
       "                                                  OneHotEncoder(handle_unknown=&#x27;ignore&#x27;))]),\n",
       "                                 [&#x27;m_region_loc&#x27;])])</pre></div></div></div><div class=\"sk-parallel\"><div class=\"sk-parallel-item\"><div class=\"sk-item\"><div class=\"sk-label-container\"><div class=\"sk-label sk-toggleable\"><input class=\"sk-toggleable__control sk-hidden--visually\" id=\"sk-estimator-id-48\" type=\"checkbox\" ><label for=\"sk-estimator-id-48\" class=\"sk-toggleable__label sk-toggleable__label-arrow\">num</label><div class=\"sk-toggleable__content\"><pre>[&#x27;sales_mil_log&#x27;, &#x27;sales_mil_log_sq&#x27;, &#x27;age&#x27;, &#x27;age2&#x27;, &#x27;new&#x27;, &#x27;ind2_cat&#x27;, &#x27;urban_m&#x27;, &#x27;total_assets_bs&#x27;, &#x27;fixed_assets_bs&#x27;, &#x27;liq_assets_bs&#x27;, &#x27;curr_assets_bs&#x27;, &#x27;share_eq_bs&#x27;, &#x27;subscribed_cap_bs&#x27;, &#x27;intang_assets_bs&#x27;, &#x27;extra_exp_pl&#x27;, &#x27;extra_inc_pl&#x27;, &#x27;extra_profit_loss_pl&#x27;, &#x27;inc_bef_tax_pl&#x27;, &#x27;inventories_pl&#x27;, &#x27;material_exp_pl&#x27;, &#x27;profit_loss_year_pl&#x27;, &#x27;personnel_exp_pl&#x27;, &#x27;d1_sales_mil_log_mod&#x27;, &#x27;d1_sales_mil_log_mod_sq&#x27;, &#x27;flag_low_d1_sales_mil_log&#x27;, &#x27;flag_high_d1_sales_mil_log&#x27;, &#x27;female&#x27;, &#x27;ceo_age&#x27;, &#x27;flag_high_ceo_age&#x27;, &#x27;flag_low_ceo_age&#x27;, &#x27;flag_miss_ceo_age&#x27;, &#x27;ceo_count&#x27;, &#x27;labor_avg_mod&#x27;, &#x27;flag_miss_labor_avg&#x27;, &#x27;foreign_management&#x27;]</pre></div></div></div><div class=\"sk-serial\"><div class=\"sk-item\"><div class=\"sk-serial\"><div class=\"sk-item\"><div class=\"sk-estimator sk-toggleable\"><input class=\"sk-toggleable__control sk-hidden--visually\" id=\"sk-estimator-id-49\" type=\"checkbox\" ><label for=\"sk-estimator-id-49\" class=\"sk-toggleable__label sk-toggleable__label-arrow\">StandardScaler</label><div class=\"sk-toggleable__content\"><pre>StandardScaler()</pre></div></div></div></div></div></div></div></div><div class=\"sk-parallel-item\"><div class=\"sk-item\"><div class=\"sk-label-container\"><div class=\"sk-label sk-toggleable\"><input class=\"sk-toggleable__control sk-hidden--visually\" id=\"sk-estimator-id-50\" type=\"checkbox\" ><label for=\"sk-estimator-id-50\" class=\"sk-toggleable__label sk-toggleable__label-arrow\">cat</label><div class=\"sk-toggleable__content\"><pre>[&#x27;m_region_loc&#x27;]</pre></div></div></div><div class=\"sk-serial\"><div class=\"sk-item\"><div class=\"sk-serial\"><div class=\"sk-item\"><div class=\"sk-estimator sk-toggleable\"><input class=\"sk-toggleable__control sk-hidden--visually\" id=\"sk-estimator-id-51\" type=\"checkbox\" ><label for=\"sk-estimator-id-51\" class=\"sk-toggleable__label sk-toggleable__label-arrow\">OneHotEncoder</label><div class=\"sk-toggleable__content\"><pre>OneHotEncoder(handle_unknown=&#x27;ignore&#x27;)</pre></div></div></div></div></div></div></div></div></div></div><div class=\"sk-item\"><div class=\"sk-estimator sk-toggleable\"><input class=\"sk-toggleable__control sk-hidden--visually\" id=\"sk-estimator-id-52\" type=\"checkbox\" ><label for=\"sk-estimator-id-52\" class=\"sk-toggleable__label sk-toggleable__label-arrow\">LogisticRegressionCV</label><div class=\"sk-toggleable__content\"><pre>LogisticRegressionCV(Cs=[0.0008755340757862296, 0.001886280985178857,\n",
       "                         0.004063869189616846, 0.00875534075786229,\n",
       "                         0.018862809851788558, 0.04063869189616842,\n",
       "                         0.08755340757862287, 0.1886280985178856,\n",
       "                         0.4063869189616842, 0.8755340757862277],\n",
       "                     cv=KFold(n_splits=5, random_state=42, shuffle=True),\n",
       "                     penalty=&#x27;l1&#x27;, random_state=42, scoring=&#x27;roc_auc&#x27;,\n",
       "                     solver=&#x27;liblinear&#x27;)</pre></div></div></div></div></div></div></div>"
      ],
      "text/plain": [
       "Pipeline(steps=[('preprocessor',\n",
       "                 ColumnTransformer(transformers=[('num',\n",
       "                                                  Pipeline(steps=[('scaler',\n",
       "                                                                   StandardScaler())]),\n",
       "                                                  ['sales_mil_log',\n",
       "                                                   'sales_mil_log_sq', 'age',\n",
       "                                                   'age2', 'new', 'ind2_cat',\n",
       "                                                   'urban_m', 'total_assets_bs',\n",
       "                                                   'fixed_assets_bs',\n",
       "                                                   'liq_assets_bs',\n",
       "                                                   'curr_assets_bs',\n",
       "                                                   'share_eq_bs',\n",
       "                                                   'subscribed_cap_bs',\n",
       "                                                   'intang_assets_bs',\n",
       "                                                   'extra_exp_pl',\n",
       "                                                   'extra_inc_pl',\n",
       "                                                   'extr...\n",
       "                ('classifier',\n",
       "                 LogisticRegressionCV(Cs=[0.0008755340757862296,\n",
       "                                          0.001886280985178857,\n",
       "                                          0.004063869189616846,\n",
       "                                          0.00875534075786229,\n",
       "                                          0.018862809851788558,\n",
       "                                          0.04063869189616842,\n",
       "                                          0.08755340757862287,\n",
       "                                          0.1886280985178856,\n",
       "                                          0.4063869189616842,\n",
       "                                          0.8755340757862277],\n",
       "                                      cv=KFold(n_splits=5, random_state=42, shuffle=True),\n",
       "                                      penalty='l1', random_state=42,\n",
       "                                      scoring='roc_auc', solver='liblinear'))])"
      ]
     },
     "execution_count": 55,
     "metadata": {},
     "output_type": "execute_result"
    }
   ],
   "source": [
    "logLasso=pipeline_logistic_lasso.fit(X_train_M2, y_train)\n",
    "logLasso"
   ]
  },
  {
   "cell_type": "code",
   "execution_count": 56,
   "id": "1f59e609",
   "metadata": {},
   "outputs": [],
   "source": [
    "from sklearn.model_selection import cross_val_score"
   ]
  },
  {
   "cell_type": "code",
   "execution_count": 57,
   "id": "ded6d3c5",
   "metadata": {},
   "outputs": [],
   "source": [
    "# k = KFold(n_splits=5, shuffle=True, random_state=42)\n",
    "scores = cross_val_score(pipeline_logistic_lasso, X_train_M2, y_train, cv = k)"
   ]
  },
  {
   "cell_type": "code",
   "execution_count": 58,
   "id": "a0079601",
   "metadata": {},
   "outputs": [],
   "source": [
    "y_test_hat = pipeline_logistic_lasso.predict(X_test_M2)\n",
    "y_test_hat_probs = pipeline_logistic_lasso.predict_proba(X_test_M2)[:,1]"
   ]
  },
  {
   "cell_type": "code",
   "execution_count": 59,
   "id": "8088bf9e",
   "metadata": {},
   "outputs": [],
   "source": [
    "test_accuracy['logistic_lasso'] = accuracy_score(y_test, y_test_hat)*100\n",
    "test_auc_roc['logistic_lasso'] = roc_auc_score(y_test, y_test_hat_probs)*100"
   ]
  },
  {
   "cell_type": "code",
   "execution_count": 60,
   "id": "cc2056d7",
   "metadata": {},
   "outputs": [
    {
     "data": {
      "text/plain": [
       "array([1.92899416, 0.92899416, 0.86952718, ..., 0.01826181, 0.01825688,\n",
       "       0.01127071])"
      ]
     },
     "execution_count": 60,
     "metadata": {},
     "output_type": "execute_result"
    }
   ],
   "source": [
    "from sklearn import metrics\n",
    "\n",
    "fpr, tpr, threshold = metrics.roc_curve(y_test, y_test_hat_probs)\n",
    "roc_auc = metrics.auc(fpr, tpr)\n",
    "threshold"
   ]
  },
  {
   "cell_type": "code",
   "execution_count": 61,
   "id": "a86bbeb0",
   "metadata": {},
   "outputs": [
    {
     "data": {
      "image/png": "[encoded data removed]",
      "text/plain": [
       "<Figure size 640x480 with 1 Axes>"
      ]
     },
     "metadata": {},
     "output_type": "display_data"
    }
   ],
   "source": [
    "# method I: plt\n",
    "import matplotlib.pyplot as plt\n",
    "plt.title('Receiver Operating Characteristic')\n",
    "plt.plot(fpr, tpr, 'b', label = 'AUC = %0.2f' % roc_auc)\n",
    "plt.plot([0, 1], [0, 1],'r--')\n",
    "plt.ylabel('True Positive Rate')\n",
    "plt.xlabel('False Positive Rate')\n",
    "plt.show()"
   ]
  },
  {
   "cell_type": "markdown",
   "id": "934dd4e2",
   "metadata": {},
   "source": [
    "### Comparing the models"
   ]
  },
  {
   "cell_type": "code",
   "execution_count": 62,
   "id": "2efbeda0",
   "metadata": {
    "scrolled": true
   },
   "outputs": [
    {
     "data": {
      "text/plain": [
       "{'logit_m1': 76.59411742038243,\n",
       " 'logit_m2': 77.87974087363095,\n",
       " 'logistic_lasso': 77.82742427875353}"
      ]
     },
     "execution_count": 62,
     "metadata": {},
     "output_type": "execute_result"
    }
   ],
   "source": [
    "test_auc_roc"
   ]
  },
  {
   "cell_type": "code",
   "execution_count": 63,
   "id": "81dbd4bf",
   "metadata": {},
   "outputs": [
    {
     "data": {
      "text/plain": [
       "{'logit_m1': 80.28997688590039,\n",
       " 'logit_m2': 80.96238705610422,\n",
       " 'logistic_lasso': 80.75225887791552}"
      ]
     },
     "execution_count": 63,
     "metadata": {},
     "output_type": "execute_result"
    }
   ],
   "source": [
    "test_accuracy"
   ]
  },
  {
   "cell_type": "markdown",
   "id": "2f0f24f4",
   "metadata": {},
   "source": [
    "#### Deciding on the model"
   ]
  },
  {
   "cell_type": "markdown",
   "id": "f6fa6724",
   "metadata": {},
   "source": [
    "`logit_m2` seems to perform marginaly better on the test set. "
   ]
  },
  {
   "cell_type": "markdown",
   "id": "287e1d51",
   "metadata": {},
   "source": [
    "### Re-estimating the model on the full dataset"
   ]
  },
  {
   "cell_type": "code",
   "execution_count": 64,
   "id": "fda3f727",
   "metadata": {},
   "outputs": [
    {
     "data": {
      "text/html": [
       "<style>#sk-container-id-13 {color: black;background-color: white;}#sk-container-id-13 pre{padding: 0;}#sk-container-id-13 div.sk-toggleable {background-color: white;}#sk-container-id-13 label.sk-toggleable__label {cursor: pointer;display: block;width: 100%;margin-bottom: 0;padding: 0.3em;box-sizing: border-box;text-align: center;}#sk-container-id-13 label.sk-toggleable__label-arrow:before {content: \"▸\";float: left;margin-right: 0.25em;color: #696969;}#sk-container-id-13 label.sk-toggleable__label-arrow:hover:before {color: black;}#sk-container-id-13 div.sk-estimator:hover label.sk-toggleable__label-arrow:before {color: black;}#sk-container-id-13 div.sk-toggleable__content {max-height: 0;max-width: 0;overflow: hidden;text-align: left;background-color: #f0f8ff;}#sk-container-id-13 div.sk-toggleable__content pre {margin: 0.2em;color: black;border-radius: 0.25em;background-color: #f0f8ff;}#sk-container-id-13 input.sk-toggleable__control:checked~div.sk-toggleable__content {max-height: 200px;max-width: 100%;overflow: auto;}#sk-container-id-13 input.sk-toggleable__control:checked~label.sk-toggleable__label-arrow:before {content: \"▾\";}#sk-container-id-13 div.sk-estimator input.sk-toggleable__control:checked~label.sk-toggleable__label {background-color: #d4ebff;}#sk-container-id-13 div.sk-label input.sk-toggleable__control:checked~label.sk-toggleable__label {background-color: #d4ebff;}#sk-container-id-13 input.sk-hidden--visually {border: 0;clip: rect(1px 1px 1px 1px);clip: rect(1px, 1px, 1px, 1px);height: 1px;margin: -1px;overflow: hidden;padding: 0;position: absolute;width: 1px;}#sk-container-id-13 div.sk-estimator {font-family: monospace;background-color: #f0f8ff;border: 1px dotted black;border-radius: 0.25em;box-sizing: border-box;margin-bottom: 0.5em;}#sk-container-id-13 div.sk-estimator:hover {background-color: #d4ebff;}#sk-container-id-13 div.sk-parallel-item::after {content: \"\";width: 100%;border-bottom: 1px solid gray;flex-grow: 1;}#sk-container-id-13 div.sk-label:hover label.sk-toggleable__label {background-color: #d4ebff;}#sk-container-id-13 div.sk-serial::before {content: \"\";position: absolute;border-left: 1px solid gray;box-sizing: border-box;top: 0;bottom: 0;left: 50%;z-index: 0;}#sk-container-id-13 div.sk-serial {display: flex;flex-direction: column;align-items: center;background-color: white;padding-right: 0.2em;padding-left: 0.2em;position: relative;}#sk-container-id-13 div.sk-item {position: relative;z-index: 1;}#sk-container-id-13 div.sk-parallel {display: flex;align-items: stretch;justify-content: center;background-color: white;position: relative;}#sk-container-id-13 div.sk-item::before, #sk-container-id-13 div.sk-parallel-item::before {content: \"\";position: absolute;border-left: 1px solid gray;box-sizing: border-box;top: 0;bottom: 0;left: 50%;z-index: -1;}#sk-container-id-13 div.sk-parallel-item {display: flex;flex-direction: column;z-index: 1;position: relative;background-color: white;}#sk-container-id-13 div.sk-parallel-item:first-child::after {align-self: flex-end;width: 50%;}#sk-container-id-13 div.sk-parallel-item:last-child::after {align-self: flex-start;width: 50%;}#sk-container-id-13 div.sk-parallel-item:only-child::after {width: 0;}#sk-container-id-13 div.sk-dashed-wrapped {border: 1px dashed gray;margin: 0 0.4em 0.5em 0.4em;box-sizing: border-box;padding-bottom: 0.4em;background-color: white;}#sk-container-id-13 div.sk-label label {font-family: monospace;font-weight: bold;display: inline-block;line-height: 1.2em;}#sk-container-id-13 div.sk-label-container {text-align: center;}#sk-container-id-13 div.sk-container {/* jupyter's `normalize.less` sets `[hidden] { display: none; }` but bootstrap.min.css set `[hidden] { display: none !important; }` so we also need the `!important` here to be able to override the default hidden behavior on the sphinx rendered scikit-learn.org. See: https://github.com/scikit-learn/scikit-learn/issues/21755 */display: inline-block !important;position: relative;}#sk-container-id-13 div.sk-text-repr-fallback {display: none;}</style><div id=\"sk-container-id-13\" class=\"sk-top-container\"><div class=\"sk-text-repr-fallback\"><pre>Pipeline(steps=[(&#x27;preprocessor&#x27;,\n",
       "                 ColumnTransformer(transformers=[(&#x27;num&#x27;,\n",
       "                                                  Pipeline(steps=[(&#x27;scaler&#x27;,\n",
       "                                                                   StandardScaler())]),\n",
       "                                                  [&#x27;sales_mil_log&#x27;,\n",
       "                                                   &#x27;sales_mil_log_sq&#x27;, &#x27;age&#x27;,\n",
       "                                                   &#x27;age2&#x27;, &#x27;new&#x27;, &#x27;ind2_cat&#x27;,\n",
       "                                                   &#x27;urban_m&#x27;, &#x27;total_assets_bs&#x27;,\n",
       "                                                   &#x27;fixed_assets_bs&#x27;,\n",
       "                                                   &#x27;liq_assets_bs&#x27;,\n",
       "                                                   &#x27;curr_assets_bs&#x27;,\n",
       "                                                   &#x27;share_eq_bs&#x27;,\n",
       "                                                   &#x27;subscribed_cap_bs&#x27;,\n",
       "                                                   &#x27;intang_assets_bs&#x27;,\n",
       "                                                   &#x27;extra_exp_pl&#x27;,\n",
       "                                                   &#x27;extra_inc_pl&#x27;,\n",
       "                                                   &#x27;extr...\n",
       "                                                   &#x27;flag_low_d1_sales_mil_log&#x27;,\n",
       "                                                   &#x27;flag_high_d1_sales_mil_log&#x27;,\n",
       "                                                   &#x27;female&#x27;, &#x27;ceo_age&#x27;,\n",
       "                                                   &#x27;flag_high_ceo_age&#x27;,\n",
       "                                                   &#x27;flag_low_ceo_age&#x27;, ...]),\n",
       "                                                 (&#x27;cat&#x27;,\n",
       "                                                  Pipeline(steps=[(&#x27;encoder&#x27;,\n",
       "                                                                   OneHotEncoder(handle_unknown=&#x27;ignore&#x27;))]),\n",
       "                                                  [&#x27;m_region_loc&#x27;])])),\n",
       "                (&#x27;classifier&#x27;,\n",
       "                 LogisticRegressionCV(Cs=[1e+20],\n",
       "                                      cv=KFold(n_splits=5, random_state=42, shuffle=True),\n",
       "                                      random_state=42, solver=&#x27;newton-cg&#x27;,\n",
       "                                      tol=1e-07))])</pre><b>In a Jupyter environment, please rerun this cell to show the HTML representation or trust the notebook. <br />On GitHub, the HTML representation is unable to render, please try loading this page with nbviewer.org.</b></div><div class=\"sk-container\" hidden><div class=\"sk-item sk-dashed-wrapped\"><div class=\"sk-label-container\"><div class=\"sk-label sk-toggleable\"><input class=\"sk-toggleable__control sk-hidden--visually\" id=\"sk-estimator-id-53\" type=\"checkbox\" ><label for=\"sk-estimator-id-53\" class=\"sk-toggleable__label sk-toggleable__label-arrow\">Pipeline</label><div class=\"sk-toggleable__content\"><pre>Pipeline(steps=[(&#x27;preprocessor&#x27;,\n",
       "                 ColumnTransformer(transformers=[(&#x27;num&#x27;,\n",
       "                                                  Pipeline(steps=[(&#x27;scaler&#x27;,\n",
       "                                                                   StandardScaler())]),\n",
       "                                                  [&#x27;sales_mil_log&#x27;,\n",
       "                                                   &#x27;sales_mil_log_sq&#x27;, &#x27;age&#x27;,\n",
       "                                                   &#x27;age2&#x27;, &#x27;new&#x27;, &#x27;ind2_cat&#x27;,\n",
       "                                                   &#x27;urban_m&#x27;, &#x27;total_assets_bs&#x27;,\n",
       "                                                   &#x27;fixed_assets_bs&#x27;,\n",
       "                                                   &#x27;liq_assets_bs&#x27;,\n",
       "                                                   &#x27;curr_assets_bs&#x27;,\n",
       "                                                   &#x27;share_eq_bs&#x27;,\n",
       "                                                   &#x27;subscribed_cap_bs&#x27;,\n",
       "                                                   &#x27;intang_assets_bs&#x27;,\n",
       "                                                   &#x27;extra_exp_pl&#x27;,\n",
       "                                                   &#x27;extra_inc_pl&#x27;,\n",
       "                                                   &#x27;extr...\n",
       "                                                   &#x27;flag_low_d1_sales_mil_log&#x27;,\n",
       "                                                   &#x27;flag_high_d1_sales_mil_log&#x27;,\n",
       "                                                   &#x27;female&#x27;, &#x27;ceo_age&#x27;,\n",
       "                                                   &#x27;flag_high_ceo_age&#x27;,\n",
       "                                                   &#x27;flag_low_ceo_age&#x27;, ...]),\n",
       "                                                 (&#x27;cat&#x27;,\n",
       "                                                  Pipeline(steps=[(&#x27;encoder&#x27;,\n",
       "                                                                   OneHotEncoder(handle_unknown=&#x27;ignore&#x27;))]),\n",
       "                                                  [&#x27;m_region_loc&#x27;])])),\n",
       "                (&#x27;classifier&#x27;,\n",
       "                 LogisticRegressionCV(Cs=[1e+20],\n",
       "                                      cv=KFold(n_splits=5, random_state=42, shuffle=True),\n",
       "                                      random_state=42, solver=&#x27;newton-cg&#x27;,\n",
       "                                      tol=1e-07))])</pre></div></div></div><div class=\"sk-serial\"><div class=\"sk-item sk-dashed-wrapped\"><div class=\"sk-label-container\"><div class=\"sk-label sk-toggleable\"><input class=\"sk-toggleable__control sk-hidden--visually\" id=\"sk-estimator-id-54\" type=\"checkbox\" ><label for=\"sk-estimator-id-54\" class=\"sk-toggleable__label sk-toggleable__label-arrow\">preprocessor: ColumnTransformer</label><div class=\"sk-toggleable__content\"><pre>ColumnTransformer(transformers=[(&#x27;num&#x27;,\n",
       "                                 Pipeline(steps=[(&#x27;scaler&#x27;, StandardScaler())]),\n",
       "                                 [&#x27;sales_mil_log&#x27;, &#x27;sales_mil_log_sq&#x27;, &#x27;age&#x27;,\n",
       "                                  &#x27;age2&#x27;, &#x27;new&#x27;, &#x27;ind2_cat&#x27;, &#x27;urban_m&#x27;,\n",
       "                                  &#x27;total_assets_bs&#x27;, &#x27;fixed_assets_bs&#x27;,\n",
       "                                  &#x27;liq_assets_bs&#x27;, &#x27;curr_assets_bs&#x27;,\n",
       "                                  &#x27;share_eq_bs&#x27;, &#x27;subscribed_cap_bs&#x27;,\n",
       "                                  &#x27;intang_assets_bs&#x27;, &#x27;extra_exp_pl&#x27;,\n",
       "                                  &#x27;extra_inc_pl&#x27;, &#x27;extra_profit_loss_pl&#x27;,\n",
       "                                  &#x27;inc_bef_tax_pl&#x27;, &#x27;inventories_pl&#x27;,\n",
       "                                  &#x27;material_exp_pl&#x27;, &#x27;profit_loss_year_pl&#x27;,\n",
       "                                  &#x27;personnel_exp_pl&#x27;, &#x27;d1_sales_mil_log_mod&#x27;,\n",
       "                                  &#x27;d1_sales_mil_log_mod_sq&#x27;,\n",
       "                                  &#x27;flag_low_d1_sales_mil_log&#x27;,\n",
       "                                  &#x27;flag_high_d1_sales_mil_log&#x27;, &#x27;female&#x27;,\n",
       "                                  &#x27;ceo_age&#x27;, &#x27;flag_high_ceo_age&#x27;,\n",
       "                                  &#x27;flag_low_ceo_age&#x27;, ...]),\n",
       "                                (&#x27;cat&#x27;,\n",
       "                                 Pipeline(steps=[(&#x27;encoder&#x27;,\n",
       "                                                  OneHotEncoder(handle_unknown=&#x27;ignore&#x27;))]),\n",
       "                                 [&#x27;m_region_loc&#x27;])])</pre></div></div></div><div class=\"sk-parallel\"><div class=\"sk-parallel-item\"><div class=\"sk-item\"><div class=\"sk-label-container\"><div class=\"sk-label sk-toggleable\"><input class=\"sk-toggleable__control sk-hidden--visually\" id=\"sk-estimator-id-55\" type=\"checkbox\" ><label for=\"sk-estimator-id-55\" class=\"sk-toggleable__label sk-toggleable__label-arrow\">num</label><div class=\"sk-toggleable__content\"><pre>[&#x27;sales_mil_log&#x27;, &#x27;sales_mil_log_sq&#x27;, &#x27;age&#x27;, &#x27;age2&#x27;, &#x27;new&#x27;, &#x27;ind2_cat&#x27;, &#x27;urban_m&#x27;, &#x27;total_assets_bs&#x27;, &#x27;fixed_assets_bs&#x27;, &#x27;liq_assets_bs&#x27;, &#x27;curr_assets_bs&#x27;, &#x27;share_eq_bs&#x27;, &#x27;subscribed_cap_bs&#x27;, &#x27;intang_assets_bs&#x27;, &#x27;extra_exp_pl&#x27;, &#x27;extra_inc_pl&#x27;, &#x27;extra_profit_loss_pl&#x27;, &#x27;inc_bef_tax_pl&#x27;, &#x27;inventories_pl&#x27;, &#x27;material_exp_pl&#x27;, &#x27;profit_loss_year_pl&#x27;, &#x27;personnel_exp_pl&#x27;, &#x27;d1_sales_mil_log_mod&#x27;, &#x27;d1_sales_mil_log_mod_sq&#x27;, &#x27;flag_low_d1_sales_mil_log&#x27;, &#x27;flag_high_d1_sales_mil_log&#x27;, &#x27;female&#x27;, &#x27;ceo_age&#x27;, &#x27;flag_high_ceo_age&#x27;, &#x27;flag_low_ceo_age&#x27;, &#x27;flag_miss_ceo_age&#x27;, &#x27;ceo_count&#x27;, &#x27;labor_avg_mod&#x27;, &#x27;flag_miss_labor_avg&#x27;, &#x27;foreign_management&#x27;]</pre></div></div></div><div class=\"sk-serial\"><div class=\"sk-item\"><div class=\"sk-serial\"><div class=\"sk-item\"><div class=\"sk-estimator sk-toggleable\"><input class=\"sk-toggleable__control sk-hidden--visually\" id=\"sk-estimator-id-56\" type=\"checkbox\" ><label for=\"sk-estimator-id-56\" class=\"sk-toggleable__label sk-toggleable__label-arrow\">StandardScaler</label><div class=\"sk-toggleable__content\"><pre>StandardScaler()</pre></div></div></div></div></div></div></div></div><div class=\"sk-parallel-item\"><div class=\"sk-item\"><div class=\"sk-label-container\"><div class=\"sk-label sk-toggleable\"><input class=\"sk-toggleable__control sk-hidden--visually\" id=\"sk-estimator-id-57\" type=\"checkbox\" ><label for=\"sk-estimator-id-57\" class=\"sk-toggleable__label sk-toggleable__label-arrow\">cat</label><div class=\"sk-toggleable__content\"><pre>[&#x27;m_region_loc&#x27;]</pre></div></div></div><div class=\"sk-serial\"><div class=\"sk-item\"><div class=\"sk-serial\"><div class=\"sk-item\"><div class=\"sk-estimator sk-toggleable\"><input class=\"sk-toggleable__control sk-hidden--visually\" id=\"sk-estimator-id-58\" type=\"checkbox\" ><label for=\"sk-estimator-id-58\" class=\"sk-toggleable__label sk-toggleable__label-arrow\">OneHotEncoder</label><div class=\"sk-toggleable__content\"><pre>OneHotEncoder(handle_unknown=&#x27;ignore&#x27;)</pre></div></div></div></div></div></div></div></div></div></div><div class=\"sk-item\"><div class=\"sk-estimator sk-toggleable\"><input class=\"sk-toggleable__control sk-hidden--visually\" id=\"sk-estimator-id-59\" type=\"checkbox\" ><label for=\"sk-estimator-id-59\" class=\"sk-toggleable__label sk-toggleable__label-arrow\">LogisticRegressionCV</label><div class=\"sk-toggleable__content\"><pre>LogisticRegressionCV(Cs=[1e+20],\n",
       "                     cv=KFold(n_splits=5, random_state=42, shuffle=True),\n",
       "                     random_state=42, solver=&#x27;newton-cg&#x27;, tol=1e-07)</pre></div></div></div></div></div></div></div>"
      ],
      "text/plain": [
       "Pipeline(steps=[('preprocessor',\n",
       "                 ColumnTransformer(transformers=[('num',\n",
       "                                                  Pipeline(steps=[('scaler',\n",
       "                                                                   StandardScaler())]),\n",
       "                                                  ['sales_mil_log',\n",
       "                                                   'sales_mil_log_sq', 'age',\n",
       "                                                   'age2', 'new', 'ind2_cat',\n",
       "                                                   'urban_m', 'total_assets_bs',\n",
       "                                                   'fixed_assets_bs',\n",
       "                                                   'liq_assets_bs',\n",
       "                                                   'curr_assets_bs',\n",
       "                                                   'share_eq_bs',\n",
       "                                                   'subscribed_cap_bs',\n",
       "                                                   'intang_assets_bs',\n",
       "                                                   'extra_exp_pl',\n",
       "                                                   'extra_inc_pl',\n",
       "                                                   'extr...\n",
       "                                                   'flag_low_d1_sales_mil_log',\n",
       "                                                   'flag_high_d1_sales_mil_log',\n",
       "                                                   'female', 'ceo_age',\n",
       "                                                   'flag_high_ceo_age',\n",
       "                                                   'flag_low_ceo_age', ...]),\n",
       "                                                 ('cat',\n",
       "                                                  Pipeline(steps=[('encoder',\n",
       "                                                                   OneHotEncoder(handle_unknown='ignore'))]),\n",
       "                                                  ['m_region_loc'])])),\n",
       "                ('classifier',\n",
       "                 LogisticRegressionCV(Cs=[1e+20],\n",
       "                                      cv=KFold(n_splits=5, random_state=42, shuffle=True),\n",
       "                                      random_state=42, solver='newton-cg',\n",
       "                                      tol=1e-07))])"
      ]
     },
     "execution_count": 64,
     "metadata": {},
     "output_type": "execute_result"
    }
   ],
   "source": [
    "#Append classifier to preprocessing pipeline. Now we have a full prediction pipeline.\n",
    "pipeline_logit = Pipeline(\n",
    "    steps=[(\"preprocessor\", preprocessor), (\"classifier\", logistic)]\n",
    ")\n",
    "pipeline_logit"
   ]
  },
  {
   "cell_type": "code",
   "execution_count": 65,
   "id": "39b68106",
   "metadata": {},
   "outputs": [],
   "source": [
    "X_M2 = X[M2]"
   ]
  },
  {
   "cell_type": "code",
   "execution_count": 66,
   "id": "84767e1b",
   "metadata": {},
   "outputs": [
    {
     "name": "stderr",
     "output_type": "stream",
     "text": [
      "/opt/homebrew/lib/python3.10/site-packages/scipy/optimize/_linesearch.py:306: LineSearchWarning: The line search algorithm did not converge\n",
      "  warn('The line search algorithm did not converge', LineSearchWarning)\n",
      "/opt/homebrew/lib/python3.10/site-packages/sklearn/utils/optimize.py:203: UserWarning: Line Search failed\n",
      "  warnings.warn(\"Line Search failed\")\n"
     ]
    },
    {
     "data": {
      "text/html": [
       "<style>#sk-container-id-14 {color: black;background-color: white;}#sk-container-id-14 pre{padding: 0;}#sk-container-id-14 div.sk-toggleable {background-color: white;}#sk-container-id-14 label.sk-toggleable__label {cursor: pointer;display: block;width: 100%;margin-bottom: 0;padding: 0.3em;box-sizing: border-box;text-align: center;}#sk-container-id-14 label.sk-toggleable__label-arrow:before {content: \"▸\";float: left;margin-right: 0.25em;color: #696969;}#sk-container-id-14 label.sk-toggleable__label-arrow:hover:before {color: black;}#sk-container-id-14 div.sk-estimator:hover label.sk-toggleable__label-arrow:before {color: black;}#sk-container-id-14 div.sk-toggleable__content {max-height: 0;max-width: 0;overflow: hidden;text-align: left;background-color: #f0f8ff;}#sk-container-id-14 div.sk-toggleable__content pre {margin: 0.2em;color: black;border-radius: 0.25em;background-color: #f0f8ff;}#sk-container-id-14 input.sk-toggleable__control:checked~div.sk-toggleable__content {max-height: 200px;max-width: 100%;overflow: auto;}#sk-container-id-14 input.sk-toggleable__control:checked~label.sk-toggleable__label-arrow:before {content: \"▾\";}#sk-container-id-14 div.sk-estimator input.sk-toggleable__control:checked~label.sk-toggleable__label {background-color: #d4ebff;}#sk-container-id-14 div.sk-label input.sk-toggleable__control:checked~label.sk-toggleable__label {background-color: #d4ebff;}#sk-container-id-14 input.sk-hidden--visually {border: 0;clip: rect(1px 1px 1px 1px);clip: rect(1px, 1px, 1px, 1px);height: 1px;margin: -1px;overflow: hidden;padding: 0;position: absolute;width: 1px;}#sk-container-id-14 div.sk-estimator {font-family: monospace;background-color: #f0f8ff;border: 1px dotted black;border-radius: 0.25em;box-sizing: border-box;margin-bottom: 0.5em;}#sk-container-id-14 div.sk-estimator:hover {background-color: #d4ebff;}#sk-container-id-14 div.sk-parallel-item::after {content: \"\";width: 100%;border-bottom: 1px solid gray;flex-grow: 1;}#sk-container-id-14 div.sk-label:hover label.sk-toggleable__label {background-color: #d4ebff;}#sk-container-id-14 div.sk-serial::before {content: \"\";position: absolute;border-left: 1px solid gray;box-sizing: border-box;top: 0;bottom: 0;left: 50%;z-index: 0;}#sk-container-id-14 div.sk-serial {display: flex;flex-direction: column;align-items: center;background-color: white;padding-right: 0.2em;padding-left: 0.2em;position: relative;}#sk-container-id-14 div.sk-item {position: relative;z-index: 1;}#sk-container-id-14 div.sk-parallel {display: flex;align-items: stretch;justify-content: center;background-color: white;position: relative;}#sk-container-id-14 div.sk-item::before, #sk-container-id-14 div.sk-parallel-item::before {content: \"\";position: absolute;border-left: 1px solid gray;box-sizing: border-box;top: 0;bottom: 0;left: 50%;z-index: -1;}#sk-container-id-14 div.sk-parallel-item {display: flex;flex-direction: column;z-index: 1;position: relative;background-color: white;}#sk-container-id-14 div.sk-parallel-item:first-child::after {align-self: flex-end;width: 50%;}#sk-container-id-14 div.sk-parallel-item:last-child::after {align-self: flex-start;width: 50%;}#sk-container-id-14 div.sk-parallel-item:only-child::after {width: 0;}#sk-container-id-14 div.sk-dashed-wrapped {border: 1px dashed gray;margin: 0 0.4em 0.5em 0.4em;box-sizing: border-box;padding-bottom: 0.4em;background-color: white;}#sk-container-id-14 div.sk-label label {font-family: monospace;font-weight: bold;display: inline-block;line-height: 1.2em;}#sk-container-id-14 div.sk-label-container {text-align: center;}#sk-container-id-14 div.sk-container {/* jupyter's `normalize.less` sets `[hidden] { display: none; }` but bootstrap.min.css set `[hidden] { display: none !important; }` so we also need the `!important` here to be able to override the default hidden behavior on the sphinx rendered scikit-learn.org. See: https://github.com/scikit-learn/scikit-learn/issues/21755 */display: inline-block !important;position: relative;}#sk-container-id-14 div.sk-text-repr-fallback {display: none;}</style><div id=\"sk-container-id-14\" class=\"sk-top-container\"><div class=\"sk-text-repr-fallback\"><pre>Pipeline(steps=[(&#x27;preprocessor&#x27;,\n",
       "                 ColumnTransformer(transformers=[(&#x27;num&#x27;,\n",
       "                                                  Pipeline(steps=[(&#x27;scaler&#x27;,\n",
       "                                                                   StandardScaler())]),\n",
       "                                                  [&#x27;sales_mil_log&#x27;,\n",
       "                                                   &#x27;sales_mil_log_sq&#x27;, &#x27;age&#x27;,\n",
       "                                                   &#x27;age2&#x27;, &#x27;new&#x27;, &#x27;ind2_cat&#x27;,\n",
       "                                                   &#x27;urban_m&#x27;, &#x27;total_assets_bs&#x27;,\n",
       "                                                   &#x27;fixed_assets_bs&#x27;,\n",
       "                                                   &#x27;liq_assets_bs&#x27;,\n",
       "                                                   &#x27;curr_assets_bs&#x27;,\n",
       "                                                   &#x27;share_eq_bs&#x27;,\n",
       "                                                   &#x27;subscribed_cap_bs&#x27;,\n",
       "                                                   &#x27;intang_assets_bs&#x27;,\n",
       "                                                   &#x27;extra_exp_pl&#x27;,\n",
       "                                                   &#x27;extra_inc_pl&#x27;,\n",
       "                                                   &#x27;extr...\n",
       "                                                   &#x27;flag_low_d1_sales_mil_log&#x27;,\n",
       "                                                   &#x27;flag_high_d1_sales_mil_log&#x27;,\n",
       "                                                   &#x27;female&#x27;, &#x27;ceo_age&#x27;,\n",
       "                                                   &#x27;flag_high_ceo_age&#x27;,\n",
       "                                                   &#x27;flag_low_ceo_age&#x27;, ...]),\n",
       "                                                 (&#x27;cat&#x27;,\n",
       "                                                  Pipeline(steps=[(&#x27;encoder&#x27;,\n",
       "                                                                   OneHotEncoder(handle_unknown=&#x27;ignore&#x27;))]),\n",
       "                                                  [&#x27;m_region_loc&#x27;])])),\n",
       "                (&#x27;classifier&#x27;,\n",
       "                 LogisticRegressionCV(Cs=[1e+20],\n",
       "                                      cv=KFold(n_splits=5, random_state=42, shuffle=True),\n",
       "                                      random_state=42, solver=&#x27;newton-cg&#x27;,\n",
       "                                      tol=1e-07))])</pre><b>In a Jupyter environment, please rerun this cell to show the HTML representation or trust the notebook. <br />On GitHub, the HTML representation is unable to render, please try loading this page with nbviewer.org.</b></div><div class=\"sk-container\" hidden><div class=\"sk-item sk-dashed-wrapped\"><div class=\"sk-label-container\"><div class=\"sk-label sk-toggleable\"><input class=\"sk-toggleable__control sk-hidden--visually\" id=\"sk-estimator-id-60\" type=\"checkbox\" ><label for=\"sk-estimator-id-60\" class=\"sk-toggleable__label sk-toggleable__label-arrow\">Pipeline</label><div class=\"sk-toggleable__content\"><pre>Pipeline(steps=[(&#x27;preprocessor&#x27;,\n",
       "                 ColumnTransformer(transformers=[(&#x27;num&#x27;,\n",
       "                                                  Pipeline(steps=[(&#x27;scaler&#x27;,\n",
       "                                                                   StandardScaler())]),\n",
       "                                                  [&#x27;sales_mil_log&#x27;,\n",
       "                                                   &#x27;sales_mil_log_sq&#x27;, &#x27;age&#x27;,\n",
       "                                                   &#x27;age2&#x27;, &#x27;new&#x27;, &#x27;ind2_cat&#x27;,\n",
       "                                                   &#x27;urban_m&#x27;, &#x27;total_assets_bs&#x27;,\n",
       "                                                   &#x27;fixed_assets_bs&#x27;,\n",
       "                                                   &#x27;liq_assets_bs&#x27;,\n",
       "                                                   &#x27;curr_assets_bs&#x27;,\n",
       "                                                   &#x27;share_eq_bs&#x27;,\n",
       "                                                   &#x27;subscribed_cap_bs&#x27;,\n",
       "                                                   &#x27;intang_assets_bs&#x27;,\n",
       "                                                   &#x27;extra_exp_pl&#x27;,\n",
       "                                                   &#x27;extra_inc_pl&#x27;,\n",
       "                                                   &#x27;extr...\n",
       "                                                   &#x27;flag_low_d1_sales_mil_log&#x27;,\n",
       "                                                   &#x27;flag_high_d1_sales_mil_log&#x27;,\n",
       "                                                   &#x27;female&#x27;, &#x27;ceo_age&#x27;,\n",
       "                                                   &#x27;flag_high_ceo_age&#x27;,\n",
       "                                                   &#x27;flag_low_ceo_age&#x27;, ...]),\n",
       "                                                 (&#x27;cat&#x27;,\n",
       "                                                  Pipeline(steps=[(&#x27;encoder&#x27;,\n",
       "                                                                   OneHotEncoder(handle_unknown=&#x27;ignore&#x27;))]),\n",
       "                                                  [&#x27;m_region_loc&#x27;])])),\n",
       "                (&#x27;classifier&#x27;,\n",
       "                 LogisticRegressionCV(Cs=[1e+20],\n",
       "                                      cv=KFold(n_splits=5, random_state=42, shuffle=True),\n",
       "                                      random_state=42, solver=&#x27;newton-cg&#x27;,\n",
       "                                      tol=1e-07))])</pre></div></div></div><div class=\"sk-serial\"><div class=\"sk-item sk-dashed-wrapped\"><div class=\"sk-label-container\"><div class=\"sk-label sk-toggleable\"><input class=\"sk-toggleable__control sk-hidden--visually\" id=\"sk-estimator-id-61\" type=\"checkbox\" ><label for=\"sk-estimator-id-61\" class=\"sk-toggleable__label sk-toggleable__label-arrow\">preprocessor: ColumnTransformer</label><div class=\"sk-toggleable__content\"><pre>ColumnTransformer(transformers=[(&#x27;num&#x27;,\n",
       "                                 Pipeline(steps=[(&#x27;scaler&#x27;, StandardScaler())]),\n",
       "                                 [&#x27;sales_mil_log&#x27;, &#x27;sales_mil_log_sq&#x27;, &#x27;age&#x27;,\n",
       "                                  &#x27;age2&#x27;, &#x27;new&#x27;, &#x27;ind2_cat&#x27;, &#x27;urban_m&#x27;,\n",
       "                                  &#x27;total_assets_bs&#x27;, &#x27;fixed_assets_bs&#x27;,\n",
       "                                  &#x27;liq_assets_bs&#x27;, &#x27;curr_assets_bs&#x27;,\n",
       "                                  &#x27;share_eq_bs&#x27;, &#x27;subscribed_cap_bs&#x27;,\n",
       "                                  &#x27;intang_assets_bs&#x27;, &#x27;extra_exp_pl&#x27;,\n",
       "                                  &#x27;extra_inc_pl&#x27;, &#x27;extra_profit_loss_pl&#x27;,\n",
       "                                  &#x27;inc_bef_tax_pl&#x27;, &#x27;inventories_pl&#x27;,\n",
       "                                  &#x27;material_exp_pl&#x27;, &#x27;profit_loss_year_pl&#x27;,\n",
       "                                  &#x27;personnel_exp_pl&#x27;, &#x27;d1_sales_mil_log_mod&#x27;,\n",
       "                                  &#x27;d1_sales_mil_log_mod_sq&#x27;,\n",
       "                                  &#x27;flag_low_d1_sales_mil_log&#x27;,\n",
       "                                  &#x27;flag_high_d1_sales_mil_log&#x27;, &#x27;female&#x27;,\n",
       "                                  &#x27;ceo_age&#x27;, &#x27;flag_high_ceo_age&#x27;,\n",
       "                                  &#x27;flag_low_ceo_age&#x27;, ...]),\n",
       "                                (&#x27;cat&#x27;,\n",
       "                                 Pipeline(steps=[(&#x27;encoder&#x27;,\n",
       "                                                  OneHotEncoder(handle_unknown=&#x27;ignore&#x27;))]),\n",
       "                                 [&#x27;m_region_loc&#x27;])])</pre></div></div></div><div class=\"sk-parallel\"><div class=\"sk-parallel-item\"><div class=\"sk-item\"><div class=\"sk-label-container\"><div class=\"sk-label sk-toggleable\"><input class=\"sk-toggleable__control sk-hidden--visually\" id=\"sk-estimator-id-62\" type=\"checkbox\" ><label for=\"sk-estimator-id-62\" class=\"sk-toggleable__label sk-toggleable__label-arrow\">num</label><div class=\"sk-toggleable__content\"><pre>[&#x27;sales_mil_log&#x27;, &#x27;sales_mil_log_sq&#x27;, &#x27;age&#x27;, &#x27;age2&#x27;, &#x27;new&#x27;, &#x27;ind2_cat&#x27;, &#x27;urban_m&#x27;, &#x27;total_assets_bs&#x27;, &#x27;fixed_assets_bs&#x27;, &#x27;liq_assets_bs&#x27;, &#x27;curr_assets_bs&#x27;, &#x27;share_eq_bs&#x27;, &#x27;subscribed_cap_bs&#x27;, &#x27;intang_assets_bs&#x27;, &#x27;extra_exp_pl&#x27;, &#x27;extra_inc_pl&#x27;, &#x27;extra_profit_loss_pl&#x27;, &#x27;inc_bef_tax_pl&#x27;, &#x27;inventories_pl&#x27;, &#x27;material_exp_pl&#x27;, &#x27;profit_loss_year_pl&#x27;, &#x27;personnel_exp_pl&#x27;, &#x27;d1_sales_mil_log_mod&#x27;, &#x27;d1_sales_mil_log_mod_sq&#x27;, &#x27;flag_low_d1_sales_mil_log&#x27;, &#x27;flag_high_d1_sales_mil_log&#x27;, &#x27;female&#x27;, &#x27;ceo_age&#x27;, &#x27;flag_high_ceo_age&#x27;, &#x27;flag_low_ceo_age&#x27;, &#x27;flag_miss_ceo_age&#x27;, &#x27;ceo_count&#x27;, &#x27;labor_avg_mod&#x27;, &#x27;flag_miss_labor_avg&#x27;, &#x27;foreign_management&#x27;]</pre></div></div></div><div class=\"sk-serial\"><div class=\"sk-item\"><div class=\"sk-serial\"><div class=\"sk-item\"><div class=\"sk-estimator sk-toggleable\"><input class=\"sk-toggleable__control sk-hidden--visually\" id=\"sk-estimator-id-63\" type=\"checkbox\" ><label for=\"sk-estimator-id-63\" class=\"sk-toggleable__label sk-toggleable__label-arrow\">StandardScaler</label><div class=\"sk-toggleable__content\"><pre>StandardScaler()</pre></div></div></div></div></div></div></div></div><div class=\"sk-parallel-item\"><div class=\"sk-item\"><div class=\"sk-label-container\"><div class=\"sk-label sk-toggleable\"><input class=\"sk-toggleable__control sk-hidden--visually\" id=\"sk-estimator-id-64\" type=\"checkbox\" ><label for=\"sk-estimator-id-64\" class=\"sk-toggleable__label sk-toggleable__label-arrow\">cat</label><div class=\"sk-toggleable__content\"><pre>[&#x27;m_region_loc&#x27;]</pre></div></div></div><div class=\"sk-serial\"><div class=\"sk-item\"><div class=\"sk-serial\"><div class=\"sk-item\"><div class=\"sk-estimator sk-toggleable\"><input class=\"sk-toggleable__control sk-hidden--visually\" id=\"sk-estimator-id-65\" type=\"checkbox\" ><label for=\"sk-estimator-id-65\" class=\"sk-toggleable__label sk-toggleable__label-arrow\">OneHotEncoder</label><div class=\"sk-toggleable__content\"><pre>OneHotEncoder(handle_unknown=&#x27;ignore&#x27;)</pre></div></div></div></div></div></div></div></div></div></div><div class=\"sk-item\"><div class=\"sk-estimator sk-toggleable\"><input class=\"sk-toggleable__control sk-hidden--visually\" id=\"sk-estimator-id-66\" type=\"checkbox\" ><label for=\"sk-estimator-id-66\" class=\"sk-toggleable__label sk-toggleable__label-arrow\">LogisticRegressionCV</label><div class=\"sk-toggleable__content\"><pre>LogisticRegressionCV(Cs=[1e+20],\n",
       "                     cv=KFold(n_splits=5, random_state=42, shuffle=True),\n",
       "                     random_state=42, solver=&#x27;newton-cg&#x27;, tol=1e-07)</pre></div></div></div></div></div></div></div>"
      ],
      "text/plain": [
       "Pipeline(steps=[('preprocessor',\n",
       "                 ColumnTransformer(transformers=[('num',\n",
       "                                                  Pipeline(steps=[('scaler',\n",
       "                                                                   StandardScaler())]),\n",
       "                                                  ['sales_mil_log',\n",
       "                                                   'sales_mil_log_sq', 'age',\n",
       "                                                   'age2', 'new', 'ind2_cat',\n",
       "                                                   'urban_m', 'total_assets_bs',\n",
       "                                                   'fixed_assets_bs',\n",
       "                                                   'liq_assets_bs',\n",
       "                                                   'curr_assets_bs',\n",
       "                                                   'share_eq_bs',\n",
       "                                                   'subscribed_cap_bs',\n",
       "                                                   'intang_assets_bs',\n",
       "                                                   'extra_exp_pl',\n",
       "                                                   'extra_inc_pl',\n",
       "                                                   'extr...\n",
       "                                                   'flag_low_d1_sales_mil_log',\n",
       "                                                   'flag_high_d1_sales_mil_log',\n",
       "                                                   'female', 'ceo_age',\n",
       "                                                   'flag_high_ceo_age',\n",
       "                                                   'flag_low_ceo_age', ...]),\n",
       "                                                 ('cat',\n",
       "                                                  Pipeline(steps=[('encoder',\n",
       "                                                                   OneHotEncoder(handle_unknown='ignore'))]),\n",
       "                                                  ['m_region_loc'])])),\n",
       "                ('classifier',\n",
       "                 LogisticRegressionCV(Cs=[1e+20],\n",
       "                                      cv=KFold(n_splits=5, random_state=42, shuffle=True),\n",
       "                                      random_state=42, solver='newton-cg',\n",
       "                                      tol=1e-07))])"
      ]
     },
     "execution_count": 66,
     "metadata": {},
     "output_type": "execute_result"
    }
   ],
   "source": [
    "logLasso=pipeline_logit.fit(X_M2, y)\n",
    "logLasso"
   ]
  },
  {
   "cell_type": "markdown",
   "id": "3a26b274",
   "metadata": {},
   "source": [
    "### Using the model "
   ]
  },
  {
   "cell_type": "code",
   "execution_count": 67,
   "id": "497e0982",
   "metadata": {},
   "outputs": [],
   "source": [
    "#y_new_hat = logLasso.predict(X_new)"
   ]
  },
  {
   "cell_type": "markdown",
   "id": "16e0f28e",
   "metadata": {},
   "source": [
    "## Going further"
   ]
  },
  {
   "cell_type": "code",
   "execution_count": 68,
   "id": "251bbd01",
   "metadata": {},
   "outputs": [
    {
     "name": "stdout",
     "output_type": "stream",
     "text": [
      "Requirement already satisfied: xgboost in /opt/homebrew/lib/python3.10/site-packages (1.7.4)\n",
      "Requirement already satisfied: numpy in /opt/homebrew/lib/python3.10/site-packages (from xgboost) (1.23.5)\n",
      "Requirement already satisfied: scipy in /opt/homebrew/lib/python3.10/site-packages (from xgboost) (1.10.0)\n",
      "\n",
      "\u001b[1m[\u001b[0m\u001b[34;49mnotice\u001b[0m\u001b[1;39;49m]\u001b[0m\u001b[39;49m A new release of pip is available: \u001b[0m\u001b[31;49m23.0\u001b[0m\u001b[39;49m -> \u001b[0m\u001b[32;49m23.0.1\u001b[0m\n",
      "\u001b[1m[\u001b[0m\u001b[34;49mnotice\u001b[0m\u001b[1;39;49m]\u001b[0m\u001b[39;49m To update, run: \u001b[0m\u001b[32;49mpython3.10 -m pip install --upgrade pip\u001b[0m\n",
      "Note: you may need to restart the kernel to use updated packages.\n"
     ]
    }
   ],
   "source": [
    "pip install xgboost"
   ]
  },
  {
   "cell_type": "markdown",
   "id": "0cc1e883",
   "metadata": {},
   "source": [
    "Let's look at one of the most powerful machine learning model: `xgboost` (cf. [documentation](https://xgboost.readthedocs.io/en/latest/index.html))"
   ]
  },
  {
   "cell_type": "code",
   "execution_count": 69,
   "id": "5e6b8f9a",
   "metadata": {},
   "outputs": [],
   "source": [
    "import xgboost as xgb"
   ]
  },
  {
   "cell_type": "code",
   "execution_count": 70,
   "id": "778fe63d",
   "metadata": {},
   "outputs": [],
   "source": [
    "xgb_model = xgb.XGBClassifier(objective=\"reg:squarederror\", random_state=42)"
   ]
  },
  {
   "cell_type": "code",
   "execution_count": 71,
   "id": "f1dc7a9f",
   "metadata": {},
   "outputs": [
    {
     "data": {
      "text/html": [
       "<style>#sk-container-id-15 {color: black;background-color: white;}#sk-container-id-15 pre{padding: 0;}#sk-container-id-15 div.sk-toggleable {background-color: white;}#sk-container-id-15 label.sk-toggleable__label {cursor: pointer;display: block;width: 100%;margin-bottom: 0;padding: 0.3em;box-sizing: border-box;text-align: center;}#sk-container-id-15 label.sk-toggleable__label-arrow:before {content: \"▸\";float: left;margin-right: 0.25em;color: #696969;}#sk-container-id-15 label.sk-toggleable__label-arrow:hover:before {color: black;}#sk-container-id-15 div.sk-estimator:hover label.sk-toggleable__label-arrow:before {color: black;}#sk-container-id-15 div.sk-toggleable__content {max-height: 0;max-width: 0;overflow: hidden;text-align: left;background-color: #f0f8ff;}#sk-container-id-15 div.sk-toggleable__content pre {margin: 0.2em;color: black;border-radius: 0.25em;background-color: #f0f8ff;}#sk-container-id-15 input.sk-toggleable__control:checked~div.sk-toggleable__content {max-height: 200px;max-width: 100%;overflow: auto;}#sk-container-id-15 input.sk-toggleable__control:checked~label.sk-toggleable__label-arrow:before {content: \"▾\";}#sk-container-id-15 div.sk-estimator input.sk-toggleable__control:checked~label.sk-toggleable__label {background-color: #d4ebff;}#sk-container-id-15 div.sk-label input.sk-toggleable__control:checked~label.sk-toggleable__label {background-color: #d4ebff;}#sk-container-id-15 input.sk-hidden--visually {border: 0;clip: rect(1px 1px 1px 1px);clip: rect(1px, 1px, 1px, 1px);height: 1px;margin: -1px;overflow: hidden;padding: 0;position: absolute;width: 1px;}#sk-container-id-15 div.sk-estimator {font-family: monospace;background-color: #f0f8ff;border: 1px dotted black;border-radius: 0.25em;box-sizing: border-box;margin-bottom: 0.5em;}#sk-container-id-15 div.sk-estimator:hover {background-color: #d4ebff;}#sk-container-id-15 div.sk-parallel-item::after {content: \"\";width: 100%;border-bottom: 1px solid gray;flex-grow: 1;}#sk-container-id-15 div.sk-label:hover label.sk-toggleable__label {background-color: #d4ebff;}#sk-container-id-15 div.sk-serial::before {content: \"\";position: absolute;border-left: 1px solid gray;box-sizing: border-box;top: 0;bottom: 0;left: 50%;z-index: 0;}#sk-container-id-15 div.sk-serial {display: flex;flex-direction: column;align-items: center;background-color: white;padding-right: 0.2em;padding-left: 0.2em;position: relative;}#sk-container-id-15 div.sk-item {position: relative;z-index: 1;}#sk-container-id-15 div.sk-parallel {display: flex;align-items: stretch;justify-content: center;background-color: white;position: relative;}#sk-container-id-15 div.sk-item::before, #sk-container-id-15 div.sk-parallel-item::before {content: \"\";position: absolute;border-left: 1px solid gray;box-sizing: border-box;top: 0;bottom: 0;left: 50%;z-index: -1;}#sk-container-id-15 div.sk-parallel-item {display: flex;flex-direction: column;z-index: 1;position: relative;background-color: white;}#sk-container-id-15 div.sk-parallel-item:first-child::after {align-self: flex-end;width: 50%;}#sk-container-id-15 div.sk-parallel-item:last-child::after {align-self: flex-start;width: 50%;}#sk-container-id-15 div.sk-parallel-item:only-child::after {width: 0;}#sk-container-id-15 div.sk-dashed-wrapped {border: 1px dashed gray;margin: 0 0.4em 0.5em 0.4em;box-sizing: border-box;padding-bottom: 0.4em;background-color: white;}#sk-container-id-15 div.sk-label label {font-family: monospace;font-weight: bold;display: inline-block;line-height: 1.2em;}#sk-container-id-15 div.sk-label-container {text-align: center;}#sk-container-id-15 div.sk-container {/* jupyter's `normalize.less` sets `[hidden] { display: none; }` but bootstrap.min.css set `[hidden] { display: none !important; }` so we also need the `!important` here to be able to override the default hidden behavior on the sphinx rendered scikit-learn.org. See: https://github.com/scikit-learn/scikit-learn/issues/21755 */display: inline-block !important;position: relative;}#sk-container-id-15 div.sk-text-repr-fallback {display: none;}</style><div id=\"sk-container-id-15\" class=\"sk-top-container\"><div class=\"sk-text-repr-fallback\"><pre>Pipeline(steps=[(&#x27;preprocessor&#x27;,\n",
       "                 ColumnTransformer(transformers=[(&#x27;num&#x27;,\n",
       "                                                  Pipeline(steps=[(&#x27;scaler&#x27;,\n",
       "                                                                   StandardScaler())]),\n",
       "                                                  [&#x27;sales_mil_log&#x27;,\n",
       "                                                   &#x27;sales_mil_log_sq&#x27;, &#x27;age&#x27;,\n",
       "                                                   &#x27;age2&#x27;, &#x27;new&#x27;, &#x27;ind2_cat&#x27;,\n",
       "                                                   &#x27;urban_m&#x27;, &#x27;total_assets_bs&#x27;,\n",
       "                                                   &#x27;fixed_assets_bs&#x27;,\n",
       "                                                   &#x27;liq_assets_bs&#x27;,\n",
       "                                                   &#x27;curr_assets_bs&#x27;,\n",
       "                                                   &#x27;share_eq_bs&#x27;,\n",
       "                                                   &#x27;subscribed_cap_bs&#x27;,\n",
       "                                                   &#x27;intang_assets_bs&#x27;,\n",
       "                                                   &#x27;extra_exp_pl&#x27;,\n",
       "                                                   &#x27;extra_inc_pl&#x27;,\n",
       "                                                   &#x27;extr...\n",
       "                               grow_policy=None, importance_type=None,\n",
       "                               interaction_constraints=None, learning_rate=None,\n",
       "                               max_bin=None, max_cat_threshold=None,\n",
       "                               max_cat_to_onehot=None, max_delta_step=None,\n",
       "                               max_depth=None, max_leaves=None,\n",
       "                               min_child_weight=None, missing=nan,\n",
       "                               monotone_constraints=None, n_estimators=100,\n",
       "                               n_jobs=None, num_parallel_tree=None,\n",
       "                               objective=&#x27;reg:squarederror&#x27;, predictor=None, ...))])</pre><b>In a Jupyter environment, please rerun this cell to show the HTML representation or trust the notebook. <br />On GitHub, the HTML representation is unable to render, please try loading this page with nbviewer.org.</b></div><div class=\"sk-container\" hidden><div class=\"sk-item sk-dashed-wrapped\"><div class=\"sk-label-container\"><div class=\"sk-label sk-toggleable\"><input class=\"sk-toggleable__control sk-hidden--visually\" id=\"sk-estimator-id-67\" type=\"checkbox\" ><label for=\"sk-estimator-id-67\" class=\"sk-toggleable__label sk-toggleable__label-arrow\">Pipeline</label><div class=\"sk-toggleable__content\"><pre>Pipeline(steps=[(&#x27;preprocessor&#x27;,\n",
       "                 ColumnTransformer(transformers=[(&#x27;num&#x27;,\n",
       "                                                  Pipeline(steps=[(&#x27;scaler&#x27;,\n",
       "                                                                   StandardScaler())]),\n",
       "                                                  [&#x27;sales_mil_log&#x27;,\n",
       "                                                   &#x27;sales_mil_log_sq&#x27;, &#x27;age&#x27;,\n",
       "                                                   &#x27;age2&#x27;, &#x27;new&#x27;, &#x27;ind2_cat&#x27;,\n",
       "                                                   &#x27;urban_m&#x27;, &#x27;total_assets_bs&#x27;,\n",
       "                                                   &#x27;fixed_assets_bs&#x27;,\n",
       "                                                   &#x27;liq_assets_bs&#x27;,\n",
       "                                                   &#x27;curr_assets_bs&#x27;,\n",
       "                                                   &#x27;share_eq_bs&#x27;,\n",
       "                                                   &#x27;subscribed_cap_bs&#x27;,\n",
       "                                                   &#x27;intang_assets_bs&#x27;,\n",
       "                                                   &#x27;extra_exp_pl&#x27;,\n",
       "                                                   &#x27;extra_inc_pl&#x27;,\n",
       "                                                   &#x27;extr...\n",
       "                               grow_policy=None, importance_type=None,\n",
       "                               interaction_constraints=None, learning_rate=None,\n",
       "                               max_bin=None, max_cat_threshold=None,\n",
       "                               max_cat_to_onehot=None, max_delta_step=None,\n",
       "                               max_depth=None, max_leaves=None,\n",
       "                               min_child_weight=None, missing=nan,\n",
       "                               monotone_constraints=None, n_estimators=100,\n",
       "                               n_jobs=None, num_parallel_tree=None,\n",
       "                               objective=&#x27;reg:squarederror&#x27;, predictor=None, ...))])</pre></div></div></div><div class=\"sk-serial\"><div class=\"sk-item sk-dashed-wrapped\"><div class=\"sk-label-container\"><div class=\"sk-label sk-toggleable\"><input class=\"sk-toggleable__control sk-hidden--visually\" id=\"sk-estimator-id-68\" type=\"checkbox\" ><label for=\"sk-estimator-id-68\" class=\"sk-toggleable__label sk-toggleable__label-arrow\">preprocessor: ColumnTransformer</label><div class=\"sk-toggleable__content\"><pre>ColumnTransformer(transformers=[(&#x27;num&#x27;,\n",
       "                                 Pipeline(steps=[(&#x27;scaler&#x27;, StandardScaler())]),\n",
       "                                 [&#x27;sales_mil_log&#x27;, &#x27;sales_mil_log_sq&#x27;, &#x27;age&#x27;,\n",
       "                                  &#x27;age2&#x27;, &#x27;new&#x27;, &#x27;ind2_cat&#x27;, &#x27;urban_m&#x27;,\n",
       "                                  &#x27;total_assets_bs&#x27;, &#x27;fixed_assets_bs&#x27;,\n",
       "                                  &#x27;liq_assets_bs&#x27;, &#x27;curr_assets_bs&#x27;,\n",
       "                                  &#x27;share_eq_bs&#x27;, &#x27;subscribed_cap_bs&#x27;,\n",
       "                                  &#x27;intang_assets_bs&#x27;, &#x27;extra_exp_pl&#x27;,\n",
       "                                  &#x27;extra_inc_pl&#x27;, &#x27;extra_profit_loss_pl&#x27;,\n",
       "                                  &#x27;inc_bef_tax_pl&#x27;, &#x27;inventories_pl&#x27;,\n",
       "                                  &#x27;material_exp_pl&#x27;, &#x27;profit_loss_year_pl&#x27;,\n",
       "                                  &#x27;personnel_exp_pl&#x27;, &#x27;d1_sales_mil_log_mod&#x27;,\n",
       "                                  &#x27;d1_sales_mil_log_mod_sq&#x27;,\n",
       "                                  &#x27;flag_low_d1_sales_mil_log&#x27;,\n",
       "                                  &#x27;flag_high_d1_sales_mil_log&#x27;, &#x27;female&#x27;,\n",
       "                                  &#x27;ceo_age&#x27;, &#x27;flag_high_ceo_age&#x27;,\n",
       "                                  &#x27;flag_low_ceo_age&#x27;, ...]),\n",
       "                                (&#x27;cat&#x27;,\n",
       "                                 Pipeline(steps=[(&#x27;encoder&#x27;,\n",
       "                                                  OneHotEncoder(handle_unknown=&#x27;ignore&#x27;))]),\n",
       "                                 [&#x27;m_region_loc&#x27;])])</pre></div></div></div><div class=\"sk-parallel\"><div class=\"sk-parallel-item\"><div class=\"sk-item\"><div class=\"sk-label-container\"><div class=\"sk-label sk-toggleable\"><input class=\"sk-toggleable__control sk-hidden--visually\" id=\"sk-estimator-id-69\" type=\"checkbox\" ><label for=\"sk-estimator-id-69\" class=\"sk-toggleable__label sk-toggleable__label-arrow\">num</label><div class=\"sk-toggleable__content\"><pre>[&#x27;sales_mil_log&#x27;, &#x27;sales_mil_log_sq&#x27;, &#x27;age&#x27;, &#x27;age2&#x27;, &#x27;new&#x27;, &#x27;ind2_cat&#x27;, &#x27;urban_m&#x27;, &#x27;total_assets_bs&#x27;, &#x27;fixed_assets_bs&#x27;, &#x27;liq_assets_bs&#x27;, &#x27;curr_assets_bs&#x27;, &#x27;share_eq_bs&#x27;, &#x27;subscribed_cap_bs&#x27;, &#x27;intang_assets_bs&#x27;, &#x27;extra_exp_pl&#x27;, &#x27;extra_inc_pl&#x27;, &#x27;extra_profit_loss_pl&#x27;, &#x27;inc_bef_tax_pl&#x27;, &#x27;inventories_pl&#x27;, &#x27;material_exp_pl&#x27;, &#x27;profit_loss_year_pl&#x27;, &#x27;personnel_exp_pl&#x27;, &#x27;d1_sales_mil_log_mod&#x27;, &#x27;d1_sales_mil_log_mod_sq&#x27;, &#x27;flag_low_d1_sales_mil_log&#x27;, &#x27;flag_high_d1_sales_mil_log&#x27;, &#x27;female&#x27;, &#x27;ceo_age&#x27;, &#x27;flag_high_ceo_age&#x27;, &#x27;flag_low_ceo_age&#x27;, &#x27;flag_miss_ceo_age&#x27;, &#x27;ceo_count&#x27;, &#x27;labor_avg_mod&#x27;, &#x27;flag_miss_labor_avg&#x27;, &#x27;foreign_management&#x27;]</pre></div></div></div><div class=\"sk-serial\"><div class=\"sk-item\"><div class=\"sk-serial\"><div class=\"sk-item\"><div class=\"sk-estimator sk-toggleable\"><input class=\"sk-toggleable__control sk-hidden--visually\" id=\"sk-estimator-id-70\" type=\"checkbox\" ><label for=\"sk-estimator-id-70\" class=\"sk-toggleable__label sk-toggleable__label-arrow\">StandardScaler</label><div class=\"sk-toggleable__content\"><pre>StandardScaler()</pre></div></div></div></div></div></div></div></div><div class=\"sk-parallel-item\"><div class=\"sk-item\"><div class=\"sk-label-container\"><div class=\"sk-label sk-toggleable\"><input class=\"sk-toggleable__control sk-hidden--visually\" id=\"sk-estimator-id-71\" type=\"checkbox\" ><label for=\"sk-estimator-id-71\" class=\"sk-toggleable__label sk-toggleable__label-arrow\">cat</label><div class=\"sk-toggleable__content\"><pre>[&#x27;m_region_loc&#x27;]</pre></div></div></div><div class=\"sk-serial\"><div class=\"sk-item\"><div class=\"sk-serial\"><div class=\"sk-item\"><div class=\"sk-estimator sk-toggleable\"><input class=\"sk-toggleable__control sk-hidden--visually\" id=\"sk-estimator-id-72\" type=\"checkbox\" ><label for=\"sk-estimator-id-72\" class=\"sk-toggleable__label sk-toggleable__label-arrow\">OneHotEncoder</label><div class=\"sk-toggleable__content\"><pre>OneHotEncoder(handle_unknown=&#x27;ignore&#x27;)</pre></div></div></div></div></div></div></div></div></div></div><div class=\"sk-item\"><div class=\"sk-estimator sk-toggleable\"><input class=\"sk-toggleable__control sk-hidden--visually\" id=\"sk-estimator-id-73\" type=\"checkbox\" ><label for=\"sk-estimator-id-73\" class=\"sk-toggleable__label sk-toggleable__label-arrow\">XGBClassifier</label><div class=\"sk-toggleable__content\"><pre>XGBClassifier(base_score=None, booster=None, callbacks=None,\n",
       "              colsample_bylevel=None, colsample_bynode=None,\n",
       "              colsample_bytree=None, early_stopping_rounds=None,\n",
       "              enable_categorical=False, eval_metric=None, feature_types=None,\n",
       "              gamma=None, gpu_id=None, grow_policy=None, importance_type=None,\n",
       "              interaction_constraints=None, learning_rate=None, max_bin=None,\n",
       "              max_cat_threshold=None, max_cat_to_onehot=None,\n",
       "              max_delta_step=None, max_depth=None, max_leaves=None,\n",
       "              min_child_weight=None, missing=nan, monotone_constraints=None,\n",
       "              n_estimators=100, n_jobs=None, num_parallel_tree=None,\n",
       "              objective=&#x27;reg:squarederror&#x27;, predictor=None, ...)</pre></div></div></div></div></div></div></div>"
      ],
      "text/plain": [
       "Pipeline(steps=[('preprocessor',\n",
       "                 ColumnTransformer(transformers=[('num',\n",
       "                                                  Pipeline(steps=[('scaler',\n",
       "                                                                   StandardScaler())]),\n",
       "                                                  ['sales_mil_log',\n",
       "                                                   'sales_mil_log_sq', 'age',\n",
       "                                                   'age2', 'new', 'ind2_cat',\n",
       "                                                   'urban_m', 'total_assets_bs',\n",
       "                                                   'fixed_assets_bs',\n",
       "                                                   'liq_assets_bs',\n",
       "                                                   'curr_assets_bs',\n",
       "                                                   'share_eq_bs',\n",
       "                                                   'subscribed_cap_bs',\n",
       "                                                   'intang_assets_bs',\n",
       "                                                   'extra_exp_pl',\n",
       "                                                   'extra_inc_pl',\n",
       "                                                   'extr...\n",
       "                               grow_policy=None, importance_type=None,\n",
       "                               interaction_constraints=None, learning_rate=None,\n",
       "                               max_bin=None, max_cat_threshold=None,\n",
       "                               max_cat_to_onehot=None, max_delta_step=None,\n",
       "                               max_depth=None, max_leaves=None,\n",
       "                               min_child_weight=None, missing=nan,\n",
       "                               monotone_constraints=None, n_estimators=100,\n",
       "                               n_jobs=None, num_parallel_tree=None,\n",
       "                               objective='reg:squarederror', predictor=None, ...))])"
      ]
     },
     "execution_count": 71,
     "metadata": {},
     "output_type": "execute_result"
    }
   ],
   "source": [
    "#Append classifier to preprocessing pipeline. Now we have a full prediction pipeline.\n",
    "pipeline_xgp = Pipeline(\n",
    "    steps=[(\"preprocessor\", preprocessor), (\"classifier\", xgb_model)]\n",
    ")\n",
    "pipeline_xgp"
   ]
  },
  {
   "cell_type": "code",
   "execution_count": 72,
   "id": "d3af0889",
   "metadata": {},
   "outputs": [
    {
     "data": {
      "text/html": [
       "<style>#sk-container-id-16 {color: black;background-color: white;}#sk-container-id-16 pre{padding: 0;}#sk-container-id-16 div.sk-toggleable {background-color: white;}#sk-container-id-16 label.sk-toggleable__label {cursor: pointer;display: block;width: 100%;margin-bottom: 0;padding: 0.3em;box-sizing: border-box;text-align: center;}#sk-container-id-16 label.sk-toggleable__label-arrow:before {content: \"▸\";float: left;margin-right: 0.25em;color: #696969;}#sk-container-id-16 label.sk-toggleable__label-arrow:hover:before {color: black;}#sk-container-id-16 div.sk-estimator:hover label.sk-toggleable__label-arrow:before {color: black;}#sk-container-id-16 div.sk-toggleable__content {max-height: 0;max-width: 0;overflow: hidden;text-align: left;background-color: #f0f8ff;}#sk-container-id-16 div.sk-toggleable__content pre {margin: 0.2em;color: black;border-radius: 0.25em;background-color: #f0f8ff;}#sk-container-id-16 input.sk-toggleable__control:checked~div.sk-toggleable__content {max-height: 200px;max-width: 100%;overflow: auto;}#sk-container-id-16 input.sk-toggleable__control:checked~label.sk-toggleable__label-arrow:before {content: \"▾\";}#sk-container-id-16 div.sk-estimator input.sk-toggleable__control:checked~label.sk-toggleable__label {background-color: #d4ebff;}#sk-container-id-16 div.sk-label input.sk-toggleable__control:checked~label.sk-toggleable__label {background-color: #d4ebff;}#sk-container-id-16 input.sk-hidden--visually {border: 0;clip: rect(1px 1px 1px 1px);clip: rect(1px, 1px, 1px, 1px);height: 1px;margin: -1px;overflow: hidden;padding: 0;position: absolute;width: 1px;}#sk-container-id-16 div.sk-estimator {font-family: monospace;background-color: #f0f8ff;border: 1px dotted black;border-radius: 0.25em;box-sizing: border-box;margin-bottom: 0.5em;}#sk-container-id-16 div.sk-estimator:hover {background-color: #d4ebff;}#sk-container-id-16 div.sk-parallel-item::after {content: \"\";width: 100%;border-bottom: 1px solid gray;flex-grow: 1;}#sk-container-id-16 div.sk-label:hover label.sk-toggleable__label {background-color: #d4ebff;}#sk-container-id-16 div.sk-serial::before {content: \"\";position: absolute;border-left: 1px solid gray;box-sizing: border-box;top: 0;bottom: 0;left: 50%;z-index: 0;}#sk-container-id-16 div.sk-serial {display: flex;flex-direction: column;align-items: center;background-color: white;padding-right: 0.2em;padding-left: 0.2em;position: relative;}#sk-container-id-16 div.sk-item {position: relative;z-index: 1;}#sk-container-id-16 div.sk-parallel {display: flex;align-items: stretch;justify-content: center;background-color: white;position: relative;}#sk-container-id-16 div.sk-item::before, #sk-container-id-16 div.sk-parallel-item::before {content: \"\";position: absolute;border-left: 1px solid gray;box-sizing: border-box;top: 0;bottom: 0;left: 50%;z-index: -1;}#sk-container-id-16 div.sk-parallel-item {display: flex;flex-direction: column;z-index: 1;position: relative;background-color: white;}#sk-container-id-16 div.sk-parallel-item:first-child::after {align-self: flex-end;width: 50%;}#sk-container-id-16 div.sk-parallel-item:last-child::after {align-self: flex-start;width: 50%;}#sk-container-id-16 div.sk-parallel-item:only-child::after {width: 0;}#sk-container-id-16 div.sk-dashed-wrapped {border: 1px dashed gray;margin: 0 0.4em 0.5em 0.4em;box-sizing: border-box;padding-bottom: 0.4em;background-color: white;}#sk-container-id-16 div.sk-label label {font-family: monospace;font-weight: bold;display: inline-block;line-height: 1.2em;}#sk-container-id-16 div.sk-label-container {text-align: center;}#sk-container-id-16 div.sk-container {/* jupyter's `normalize.less` sets `[hidden] { display: none; }` but bootstrap.min.css set `[hidden] { display: none !important; }` so we also need the `!important` here to be able to override the default hidden behavior on the sphinx rendered scikit-learn.org. See: https://github.com/scikit-learn/scikit-learn/issues/21755 */display: inline-block !important;position: relative;}#sk-container-id-16 div.sk-text-repr-fallback {display: none;}</style><div id=\"sk-container-id-16\" class=\"sk-top-container\"><div class=\"sk-text-repr-fallback\"><pre>Pipeline(steps=[(&#x27;preprocessor&#x27;,\n",
       "                 ColumnTransformer(transformers=[(&#x27;num&#x27;,\n",
       "                                                  Pipeline(steps=[(&#x27;scaler&#x27;,\n",
       "                                                                   StandardScaler())]),\n",
       "                                                  [&#x27;sales_mil_log&#x27;,\n",
       "                                                   &#x27;sales_mil_log_sq&#x27;, &#x27;age&#x27;,\n",
       "                                                   &#x27;age2&#x27;, &#x27;new&#x27;, &#x27;ind2_cat&#x27;,\n",
       "                                                   &#x27;urban_m&#x27;, &#x27;total_assets_bs&#x27;,\n",
       "                                                   &#x27;fixed_assets_bs&#x27;,\n",
       "                                                   &#x27;liq_assets_bs&#x27;,\n",
       "                                                   &#x27;curr_assets_bs&#x27;,\n",
       "                                                   &#x27;share_eq_bs&#x27;,\n",
       "                                                   &#x27;subscribed_cap_bs&#x27;,\n",
       "                                                   &#x27;intang_assets_bs&#x27;,\n",
       "                                                   &#x27;extra_exp_pl&#x27;,\n",
       "                                                   &#x27;extra_inc_pl&#x27;,\n",
       "                                                   &#x27;extr...\n",
       "                               grow_policy=None, importance_type=None,\n",
       "                               interaction_constraints=None, learning_rate=None,\n",
       "                               max_bin=None, max_cat_threshold=None,\n",
       "                               max_cat_to_onehot=None, max_delta_step=None,\n",
       "                               max_depth=None, max_leaves=None,\n",
       "                               min_child_weight=None, missing=nan,\n",
       "                               monotone_constraints=None, n_estimators=100,\n",
       "                               n_jobs=None, num_parallel_tree=None,\n",
       "                               objective=&#x27;reg:squarederror&#x27;, predictor=None, ...))])</pre><b>In a Jupyter environment, please rerun this cell to show the HTML representation or trust the notebook. <br />On GitHub, the HTML representation is unable to render, please try loading this page with nbviewer.org.</b></div><div class=\"sk-container\" hidden><div class=\"sk-item sk-dashed-wrapped\"><div class=\"sk-label-container\"><div class=\"sk-label sk-toggleable\"><input class=\"sk-toggleable__control sk-hidden--visually\" id=\"sk-estimator-id-74\" type=\"checkbox\" ><label for=\"sk-estimator-id-74\" class=\"sk-toggleable__label sk-toggleable__label-arrow\">Pipeline</label><div class=\"sk-toggleable__content\"><pre>Pipeline(steps=[(&#x27;preprocessor&#x27;,\n",
       "                 ColumnTransformer(transformers=[(&#x27;num&#x27;,\n",
       "                                                  Pipeline(steps=[(&#x27;scaler&#x27;,\n",
       "                                                                   StandardScaler())]),\n",
       "                                                  [&#x27;sales_mil_log&#x27;,\n",
       "                                                   &#x27;sales_mil_log_sq&#x27;, &#x27;age&#x27;,\n",
       "                                                   &#x27;age2&#x27;, &#x27;new&#x27;, &#x27;ind2_cat&#x27;,\n",
       "                                                   &#x27;urban_m&#x27;, &#x27;total_assets_bs&#x27;,\n",
       "                                                   &#x27;fixed_assets_bs&#x27;,\n",
       "                                                   &#x27;liq_assets_bs&#x27;,\n",
       "                                                   &#x27;curr_assets_bs&#x27;,\n",
       "                                                   &#x27;share_eq_bs&#x27;,\n",
       "                                                   &#x27;subscribed_cap_bs&#x27;,\n",
       "                                                   &#x27;intang_assets_bs&#x27;,\n",
       "                                                   &#x27;extra_exp_pl&#x27;,\n",
       "                                                   &#x27;extra_inc_pl&#x27;,\n",
       "                                                   &#x27;extr...\n",
       "                               grow_policy=None, importance_type=None,\n",
       "                               interaction_constraints=None, learning_rate=None,\n",
       "                               max_bin=None, max_cat_threshold=None,\n",
       "                               max_cat_to_onehot=None, max_delta_step=None,\n",
       "                               max_depth=None, max_leaves=None,\n",
       "                               min_child_weight=None, missing=nan,\n",
       "                               monotone_constraints=None, n_estimators=100,\n",
       "                               n_jobs=None, num_parallel_tree=None,\n",
       "                               objective=&#x27;reg:squarederror&#x27;, predictor=None, ...))])</pre></div></div></div><div class=\"sk-serial\"><div class=\"sk-item sk-dashed-wrapped\"><div class=\"sk-label-container\"><div class=\"sk-label sk-toggleable\"><input class=\"sk-toggleable__control sk-hidden--visually\" id=\"sk-estimator-id-75\" type=\"checkbox\" ><label for=\"sk-estimator-id-75\" class=\"sk-toggleable__label sk-toggleable__label-arrow\">preprocessor: ColumnTransformer</label><div class=\"sk-toggleable__content\"><pre>ColumnTransformer(transformers=[(&#x27;num&#x27;,\n",
       "                                 Pipeline(steps=[(&#x27;scaler&#x27;, StandardScaler())]),\n",
       "                                 [&#x27;sales_mil_log&#x27;, &#x27;sales_mil_log_sq&#x27;, &#x27;age&#x27;,\n",
       "                                  &#x27;age2&#x27;, &#x27;new&#x27;, &#x27;ind2_cat&#x27;, &#x27;urban_m&#x27;,\n",
       "                                  &#x27;total_assets_bs&#x27;, &#x27;fixed_assets_bs&#x27;,\n",
       "                                  &#x27;liq_assets_bs&#x27;, &#x27;curr_assets_bs&#x27;,\n",
       "                                  &#x27;share_eq_bs&#x27;, &#x27;subscribed_cap_bs&#x27;,\n",
       "                                  &#x27;intang_assets_bs&#x27;, &#x27;extra_exp_pl&#x27;,\n",
       "                                  &#x27;extra_inc_pl&#x27;, &#x27;extra_profit_loss_pl&#x27;,\n",
       "                                  &#x27;inc_bef_tax_pl&#x27;, &#x27;inventories_pl&#x27;,\n",
       "                                  &#x27;material_exp_pl&#x27;, &#x27;profit_loss_year_pl&#x27;,\n",
       "                                  &#x27;personnel_exp_pl&#x27;, &#x27;d1_sales_mil_log_mod&#x27;,\n",
       "                                  &#x27;d1_sales_mil_log_mod_sq&#x27;,\n",
       "                                  &#x27;flag_low_d1_sales_mil_log&#x27;,\n",
       "                                  &#x27;flag_high_d1_sales_mil_log&#x27;, &#x27;female&#x27;,\n",
       "                                  &#x27;ceo_age&#x27;, &#x27;flag_high_ceo_age&#x27;,\n",
       "                                  &#x27;flag_low_ceo_age&#x27;, ...]),\n",
       "                                (&#x27;cat&#x27;,\n",
       "                                 Pipeline(steps=[(&#x27;encoder&#x27;,\n",
       "                                                  OneHotEncoder(handle_unknown=&#x27;ignore&#x27;))]),\n",
       "                                 [&#x27;m_region_loc&#x27;])])</pre></div></div></div><div class=\"sk-parallel\"><div class=\"sk-parallel-item\"><div class=\"sk-item\"><div class=\"sk-label-container\"><div class=\"sk-label sk-toggleable\"><input class=\"sk-toggleable__control sk-hidden--visually\" id=\"sk-estimator-id-76\" type=\"checkbox\" ><label for=\"sk-estimator-id-76\" class=\"sk-toggleable__label sk-toggleable__label-arrow\">num</label><div class=\"sk-toggleable__content\"><pre>[&#x27;sales_mil_log&#x27;, &#x27;sales_mil_log_sq&#x27;, &#x27;age&#x27;, &#x27;age2&#x27;, &#x27;new&#x27;, &#x27;ind2_cat&#x27;, &#x27;urban_m&#x27;, &#x27;total_assets_bs&#x27;, &#x27;fixed_assets_bs&#x27;, &#x27;liq_assets_bs&#x27;, &#x27;curr_assets_bs&#x27;, &#x27;share_eq_bs&#x27;, &#x27;subscribed_cap_bs&#x27;, &#x27;intang_assets_bs&#x27;, &#x27;extra_exp_pl&#x27;, &#x27;extra_inc_pl&#x27;, &#x27;extra_profit_loss_pl&#x27;, &#x27;inc_bef_tax_pl&#x27;, &#x27;inventories_pl&#x27;, &#x27;material_exp_pl&#x27;, &#x27;profit_loss_year_pl&#x27;, &#x27;personnel_exp_pl&#x27;, &#x27;d1_sales_mil_log_mod&#x27;, &#x27;d1_sales_mil_log_mod_sq&#x27;, &#x27;flag_low_d1_sales_mil_log&#x27;, &#x27;flag_high_d1_sales_mil_log&#x27;, &#x27;female&#x27;, &#x27;ceo_age&#x27;, &#x27;flag_high_ceo_age&#x27;, &#x27;flag_low_ceo_age&#x27;, &#x27;flag_miss_ceo_age&#x27;, &#x27;ceo_count&#x27;, &#x27;labor_avg_mod&#x27;, &#x27;flag_miss_labor_avg&#x27;, &#x27;foreign_management&#x27;]</pre></div></div></div><div class=\"sk-serial\"><div class=\"sk-item\"><div class=\"sk-serial\"><div class=\"sk-item\"><div class=\"sk-estimator sk-toggleable\"><input class=\"sk-toggleable__control sk-hidden--visually\" id=\"sk-estimator-id-77\" type=\"checkbox\" ><label for=\"sk-estimator-id-77\" class=\"sk-toggleable__label sk-toggleable__label-arrow\">StandardScaler</label><div class=\"sk-toggleable__content\"><pre>StandardScaler()</pre></div></div></div></div></div></div></div></div><div class=\"sk-parallel-item\"><div class=\"sk-item\"><div class=\"sk-label-container\"><div class=\"sk-label sk-toggleable\"><input class=\"sk-toggleable__control sk-hidden--visually\" id=\"sk-estimator-id-78\" type=\"checkbox\" ><label for=\"sk-estimator-id-78\" class=\"sk-toggleable__label sk-toggleable__label-arrow\">cat</label><div class=\"sk-toggleable__content\"><pre>[&#x27;m_region_loc&#x27;]</pre></div></div></div><div class=\"sk-serial\"><div class=\"sk-item\"><div class=\"sk-serial\"><div class=\"sk-item\"><div class=\"sk-estimator sk-toggleable\"><input class=\"sk-toggleable__control sk-hidden--visually\" id=\"sk-estimator-id-79\" type=\"checkbox\" ><label for=\"sk-estimator-id-79\" class=\"sk-toggleable__label sk-toggleable__label-arrow\">OneHotEncoder</label><div class=\"sk-toggleable__content\"><pre>OneHotEncoder(handle_unknown=&#x27;ignore&#x27;)</pre></div></div></div></div></div></div></div></div></div></div><div class=\"sk-item\"><div class=\"sk-estimator sk-toggleable\"><input class=\"sk-toggleable__control sk-hidden--visually\" id=\"sk-estimator-id-80\" type=\"checkbox\" ><label for=\"sk-estimator-id-80\" class=\"sk-toggleable__label sk-toggleable__label-arrow\">XGBClassifier</label><div class=\"sk-toggleable__content\"><pre>XGBClassifier(base_score=None, booster=None, callbacks=None,\n",
       "              colsample_bylevel=None, colsample_bynode=None,\n",
       "              colsample_bytree=None, early_stopping_rounds=None,\n",
       "              enable_categorical=False, eval_metric=None, feature_types=None,\n",
       "              gamma=None, gpu_id=None, grow_policy=None, importance_type=None,\n",
       "              interaction_constraints=None, learning_rate=None, max_bin=None,\n",
       "              max_cat_threshold=None, max_cat_to_onehot=None,\n",
       "              max_delta_step=None, max_depth=None, max_leaves=None,\n",
       "              min_child_weight=None, missing=nan, monotone_constraints=None,\n",
       "              n_estimators=100, n_jobs=None, num_parallel_tree=None,\n",
       "              objective=&#x27;reg:squarederror&#x27;, predictor=None, ...)</pre></div></div></div></div></div></div></div>"
      ],
      "text/plain": [
       "Pipeline(steps=[('preprocessor',\n",
       "                 ColumnTransformer(transformers=[('num',\n",
       "                                                  Pipeline(steps=[('scaler',\n",
       "                                                                   StandardScaler())]),\n",
       "                                                  ['sales_mil_log',\n",
       "                                                   'sales_mil_log_sq', 'age',\n",
       "                                                   'age2', 'new', 'ind2_cat',\n",
       "                                                   'urban_m', 'total_assets_bs',\n",
       "                                                   'fixed_assets_bs',\n",
       "                                                   'liq_assets_bs',\n",
       "                                                   'curr_assets_bs',\n",
       "                                                   'share_eq_bs',\n",
       "                                                   'subscribed_cap_bs',\n",
       "                                                   'intang_assets_bs',\n",
       "                                                   'extra_exp_pl',\n",
       "                                                   'extra_inc_pl',\n",
       "                                                   'extr...\n",
       "                               grow_policy=None, importance_type=None,\n",
       "                               interaction_constraints=None, learning_rate=None,\n",
       "                               max_bin=None, max_cat_threshold=None,\n",
       "                               max_cat_to_onehot=None, max_delta_step=None,\n",
       "                               max_depth=None, max_leaves=None,\n",
       "                               min_child_weight=None, missing=nan,\n",
       "                               monotone_constraints=None, n_estimators=100,\n",
       "                               n_jobs=None, num_parallel_tree=None,\n",
       "                               objective='reg:squarederror', predictor=None, ...))])"
      ]
     },
     "execution_count": 72,
     "metadata": {},
     "output_type": "execute_result"
    }
   ],
   "source": [
    "model_xgb=pipeline_xgp.fit(X_train_M2, y_train)\n",
    "model_xgb"
   ]
  },
  {
   "cell_type": "code",
   "execution_count": 73,
   "id": "d5167c9d",
   "metadata": {},
   "outputs": [],
   "source": [
    "y_test_hat = model_xgb.predict(X_test_M2)\n",
    "y_test_hat_probs = model_xgb.predict_proba(X_test_M2)[:,1]"
   ]
  },
  {
   "cell_type": "code",
   "execution_count": 74,
   "id": "0f4b581d",
   "metadata": {},
   "outputs": [],
   "source": [
    "test_accuracy['xgb'] = accuracy_score(y_test, y_test_hat)*100\n",
    "test_auc_roc['xgb'] = roc_auc_score(y_test, y_test_hat_probs)*100"
   ]
  },
  {
   "cell_type": "code",
   "execution_count": 75,
   "id": "8f1cdf94",
   "metadata": {},
   "outputs": [
    {
     "data": {
      "text/plain": [
       "{'logit_m1': 80.28997688590039,\n",
       " 'logit_m2': 80.96238705610422,\n",
       " 'logistic_lasso': 80.75225887791552,\n",
       " 'xgb': 81.19352805211179}"
      ]
     },
     "execution_count": 75,
     "metadata": {},
     "output_type": "execute_result"
    }
   ],
   "source": [
    "test_accuracy"
   ]
  },
  {
   "cell_type": "code",
   "execution_count": null,
   "id": "7d32db3b",
   "metadata": {},
   "outputs": [],
   "source": []
  }
 ],
 "metadata": {
  "kernelspec": {
   "display_name": "Python 3 (ipykernel)",
   "language": "python",
   "name": "python3"
  },
  "language_info": {
   "codemirror_mode": {
    "name": "ipython",
    "version": 3
   },
   "file_extension": ".py",
   "mimetype": "text/x-python",
   "name": "python",
   "nbconvert_exporter": "python",
   "pygments_lexer": "ipython3",
   "version": "3.10.9"
  },
  "toc": {
   "base_numbering": 1,
   "nav_menu": {},
   "number_sections": false,
   "sideBar": true,
   "skip_h1_title": false,
   "title_cell": "Table of Contents",
   "title_sidebar": "Contents",
   "toc_cell": false,
   "toc_position": {
    "height": "calc(100% - 180px)",
    "left": "10px",
    "top": "150px",
    "width": "384px"
   },
   "toc_section_display": true,
   "toc_window_display": false
  }
 },
 "nbformat": 4,
 "nbformat_minor": 5
}
