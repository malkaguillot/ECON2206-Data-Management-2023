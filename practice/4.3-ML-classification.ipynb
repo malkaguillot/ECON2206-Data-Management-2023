{
 "cells": [
  {
   "cell_type": "markdown",
   "id": "90397d43",
   "metadata": {},
   "source": [
    "# Data management\n",
    "\n",
    "## Machine Learning - Classifications\n",
    "\n",
    "## [Michel Coppée](https://www.uliege.be/cms/c_9054334/fr/repertoire?uid=u224042) & [Malka Guillot](https://malkaguillot.github.io/)\n",
    "\n",
    "## HEC Liège | [ECON2306]()\n",
    "[![Binder](https://mybinder.org/badge_logo.svg)](https://mybinder.org/v2/gh/malkaguillot/ECON2206-Data-Management-2023/HEAD?labpath=%2Fpractice%2F4.1-ML-classification.ipynb)"
   ]
  },
  {
   "cell_type": "code",
   "execution_count": null,
   "id": "b1db950f",
   "metadata": {},
   "outputs": [],
   "source": [
    "import numpy as np\n",
    "import pandas as pd\n",
    "import patsy\n",
    "\n",
    "from sklearn.preprocessing import StandardScaler, OneHotEncoder\n",
    "from sklearn.model_selection import GridSearchCV, KFold, train_test_split\n",
    "from sklearn.linear_model import LogisticRegression, LogisticRegressionCV\n",
    "from sklearn.pipeline import Pipeline\n",
    "from sklearn.metrics import roc_curve, roc_auc_score, classification_report, accuracy_score, confusion_matrix \n",
    "\n",
    "import seaborn as sns\n",
    "import matplotlib.pyplot as plt"
   ]
  },
  {
   "cell_type": "markdown",
   "id": "172633f9",
   "metadata": {},
   "source": [
    "## Part 1: toy example using a logistic regression"
   ]
  },
  {
   "cell_type": "markdown",
   "id": "62a3be8b",
   "metadata": {},
   "source": [
    "### Load & visualise data"
   ]
  },
  {
   "cell_type": "code",
   "execution_count": null,
   "id": "3af84079",
   "metadata": {},
   "outputs": [],
   "source": [
    "df=pd.read_csv(\"beers.csv\")\n",
    "df.shape"
   ]
  },
  {
   "cell_type": "code",
   "execution_count": null,
   "id": "498d2c5a",
   "metadata": {},
   "outputs": [],
   "source": [
    "f, ax = plt.subplots(figsize=(7, 5))\n",
    "sns.countplot(x='is_yummy', data=df)\n",
    "_ = plt.title('# Yummy vs not yummy')\n",
    "_ = plt.xlabel('Class (1==Yummy)')"
   ]
  },
  {
   "cell_type": "markdown",
   "id": "efb4248d",
   "metadata": {},
   "source": [
    "#### Prepare data: split features and labels"
   ]
  },
  {
   "cell_type": "code",
   "execution_count": null,
   "id": "f2e96f6a",
   "metadata": {},
   "outputs": [],
   "source": [
    "# all columns up to the last one:\n",
    "X = df.iloc[:, :-1]\n",
    "# only the last column:\n",
    "y = df.iloc[:, -1]"
   ]
  },
  {
   "cell_type": "markdown",
   "id": "4ce4f854",
   "metadata": {},
   "source": [
    "### Splitting into Training and Test set"
   ]
  },
  {
   "cell_type": "code",
   "execution_count": null,
   "id": "09e10e79",
   "metadata": {},
   "outputs": [],
   "source": [
    "X_train, X_test, y_train, y_test = train_test_split(X, y, train_size=0.8, random_state=42)"
   ]
  },
  {
   "cell_type": "markdown",
   "id": "249c4290",
   "metadata": {},
   "source": [
    "### Model Building and Training "
   ]
  },
  {
   "cell_type": "markdown",
   "id": "696f6fba",
   "metadata": {},
   "source": [
    "#### Creating the pipeline"
   ]
  },
  {
   "cell_type": "markdown",
   "id": "f275540f",
   "metadata": {},
   "source": [
    "Before we build the model, \n",
    "1. we use the standard scaler function to scale the values into a common range. \n",
    "2. Next, we create an instance of LogisticRegression() function for logistic regression.\n",
    "\n",
    "We are not passing any parameters to `LogisticRegression()` so it will assume default parameters. Some of the important parameters you should know are –\n",
    "\n",
    "- penalty: Default = L2 – It specifies the norm for the penalty\n",
    "- C: Default = 1.0 – It is the inverse of regularization strength\n",
    "- solver: Default = ‘lbfgs’ – It denotes the optimizer algorithm"
   ]
  },
  {
   "cell_type": "markdown",
   "id": "7647583b",
   "metadata": {},
   "source": [
    "We are making use of `Pipeline` to create the model to streamline standard scalar and model building."
   ]
  },
  {
   "cell_type": "code",
   "execution_count": null,
   "id": "03f809aa",
   "metadata": {},
   "outputs": [],
   "source": [
    "scaler = StandardScaler()\n",
    "\n",
    "lr = LogisticRegression(max_iter=10000, solver='lbfgs') #syntax if you wand to add hyperparameters\n",
    "\n",
    "model1 = Pipeline([('standardize', scaler),\n",
    "                    ('log_reg', lr)])"
   ]
  },
  {
   "cell_type": "markdown",
   "id": "b7f5e2a1",
   "metadata": {},
   "source": [
    "#### Fit our model to the training data"
   ]
  },
  {
   "cell_type": "code",
   "execution_count": null,
   "id": "af0e6aee",
   "metadata": {},
   "outputs": [],
   "source": [
    "model1.fit(X_train, y_train)"
   ]
  },
  {
   "cell_type": "markdown",
   "id": "a76786f4",
   "metadata": {},
   "source": [
    "#### Predictions for the class and for the probabilities"
   ]
  },
  {
   "cell_type": "code",
   "execution_count": null,
   "id": "22987ce3",
   "metadata": {},
   "outputs": [],
   "source": [
    "y_train_hat = model1.predict(X_train)\n",
    "\n",
    "y_train_hat_probs = model1.predict_proba(X_train)[:,1]"
   ]
  },
  {
   "cell_type": "code",
   "execution_count": null,
   "id": "649981cd",
   "metadata": {},
   "outputs": [],
   "source": [
    "pd.DataFrame({'y_train_hat': y_train_hat, 'y_train_hat_probs': y_train_hat_probs}).head(10)"
   ]
  },
  {
   "cell_type": "markdown",
   "id": "5e1d909e",
   "metadata": {},
   "source": [
    "#### Performance on the training set"
   ]
  },
  {
   "cell_type": "code",
   "execution_count": null,
   "id": "18d20f01",
   "metadata": {},
   "outputs": [],
   "source": [
    "train_accuracy = accuracy_score(y_train, y_train_hat)*100\n",
    "train_auc_roc = roc_auc_score(y_train, y_train_hat_probs)*100\n",
    "\n",
    "print('Confusion matrix:\\n', confusion_matrix(y_train, y_train_hat))\n",
    "\n",
    "print('Training AUC: %.4f %%' % train_auc_roc)\n",
    "\n",
    "print('Training accuracy: %.4f %%' % train_accuracy)"
   ]
  },
  {
   "cell_type": "markdown",
   "id": "a693cc75",
   "metadata": {},
   "source": [
    "### Test set\n",
    "\n",
    "<div class=\"alert alert-info\">\n",
    "<h4> Your turn</h4>\n",
    "Following the computation on the train set, compute:\n",
    "    \n",
    "    - the class & proba predictions\n",
    "    - the accuracy and AUC\n",
    "</div>"
   ]
  },
  {
   "cell_type": "code",
   "execution_count": null,
   "id": "13c45a51",
   "metadata": {},
   "outputs": [],
   "source": []
  },
  {
   "cell_type": "code",
   "execution_count": null,
   "id": "c86e390e",
   "metadata": {},
   "outputs": [],
   "source": []
  },
  {
   "cell_type": "markdown",
   "id": "7fb99f1b",
   "metadata": {},
   "source": [
    "### Plot the ROC curve"
   ]
  },
  {
   "cell_type": "code",
   "execution_count": null,
   "id": "0e69f530",
   "metadata": {},
   "outputs": [],
   "source": []
  },
  {
   "cell_type": "code",
   "execution_count": null,
   "id": "6edc29b0",
   "metadata": {},
   "outputs": [],
   "source": []
  },
  {
   "cell_type": "markdown",
   "id": "09e5a24a",
   "metadata": {},
   "source": [
    "We can further try to improve this model performance by hyperparameter tuning by changing the value of C or choosing other solvers available in `LogisticRegression()`."
   ]
  },
  {
   "cell_type": "markdown",
   "id": "d50a0f25",
   "metadata": {},
   "source": [
    "## Part 2"
   ]
  },
  {
   "cell_type": "markdown",
   "id": "8af72e6f",
   "metadata": {},
   "source": [
    "The objective is to build a classifier for whether a firm is going to default. "
   ]
  },
  {
   "cell_type": "markdown",
   "id": "7c865128",
   "metadata": {},
   "source": [
    "### Load & visualise data"
   ]
  },
  {
   "cell_type": "code",
   "execution_count": null,
   "id": "77c45871",
   "metadata": {},
   "outputs": [],
   "source": [
    "data = pd.read_csv(\"bisnode_firms_clean.csv\")"
   ]
  },
  {
   "cell_type": "code",
   "execution_count": null,
   "id": "347faeec",
   "metadata": {},
   "outputs": [],
   "source": [
    "from summarytools import dfSummary\n",
    "dfSummary(data, is_collapsible = True)"
   ]
  },
  {
   "cell_type": "code",
   "execution_count": null,
   "id": "372ff41c",
   "metadata": {},
   "outputs": [],
   "source": [
    "sns.histplot(data=data, x=\"default_f\", stat=\"percent\")"
   ]
  },
  {
   "cell_type": "code",
   "execution_count": null,
   "id": "a2fffae6",
   "metadata": {},
   "outputs": [],
   "source": [
    "y=data['default']\n",
    "X=data.drop(columns='default')"
   ]
  },
  {
   "cell_type": "code",
   "execution_count": null,
   "id": "4e28a7f2",
   "metadata": {},
   "outputs": [],
   "source": [
    "X_train, X_test, y_train, y_test = train_test_split(X, y, random_state=42)"
   ]
  },
  {
   "cell_type": "code",
   "execution_count": null,
   "id": "e1035afd",
   "metadata": {},
   "outputs": [],
   "source": [
    "print(\"--- Total ---\")\n",
    "print(y.value_counts(normalize=True))\n",
    "print(\"--- Train ---\")\n",
    "print(y_train.value_counts(normalize=True))\n",
    "print(\"--- Test ---\")\n",
    "print(y_test.value_counts(normalize=True))"
   ]
  },
  {
   "cell_type": "markdown",
   "id": "66cc2a57",
   "metadata": {},
   "source": [
    "### Model building\n",
    "We are going to compare several models : \n",
    "- Logit with a selection of variables M1\n",
    "- Logit with a selection of variables M2\n",
    "- Regularized logit on M2 variables"
   ]
  },
  {
   "cell_type": "markdown",
   "id": "82651db9",
   "metadata": {},
   "source": [
    "Firm related variables"
   ]
  },
  {
   "cell_type": "code",
   "execution_count": null,
   "id": "0cb1f627",
   "metadata": {},
   "outputs": [],
   "source": [
    "firm = [\"age\", \"age2\", \"new\", \"ind2_cat\", \"m_region_loc\", \"urban_m\"]"
   ]
  },
  {
   "cell_type": "markdown",
   "id": "87e402e0",
   "metadata": {},
   "source": [
    "Human capital related variables"
   ]
  },
  {
   "cell_type": "code",
   "execution_count": null,
   "id": "52beb75b",
   "metadata": {},
   "outputs": [],
   "source": [
    "hr = [\n",
    "    \"female\",\n",
    "    \"ceo_age\",\n",
    "    \"flag_high_ceo_age\",\n",
    "    \"flag_low_ceo_age\",\n",
    "    \"flag_miss_ceo_age\",\n",
    "    \"ceo_count\",\n",
    "    \"labor_avg_mod\",\n",
    "    \"flag_miss_labor_avg\",\n",
    "    \"foreign_management\",\n",
    "]"
   ]
  },
  {
   "cell_type": "markdown",
   "id": "94566650",
   "metadata": {},
   "source": [
    "Financial variables"
   ]
  },
  {
   "cell_type": "code",
   "execution_count": null,
   "id": "38cc6611",
   "metadata": {},
   "outputs": [],
   "source": [
    "qualityvars = [\"balsheet_flag\", \"balsheet_length\", \"balsheet_notfullyear\"]\n",
    "engvar = [\n",
    "    \"total_assets_bs\",\n",
    "    \"fixed_assets_bs\",\n",
    "    \"liq_assets_bs\",\n",
    "    \"curr_assets_bs\",\n",
    "    \"share_eq_bs\",\n",
    "    \"subscribed_cap_bs\",\n",
    "    \"intang_assets_bs\",\n",
    "    \"extra_exp_pl\",\n",
    "    \"extra_inc_pl\",\n",
    "    \"extra_profit_loss_pl\",\n",
    "    \"inc_bef_tax_pl\",\n",
    "    \"inventories_pl\",\n",
    "    \"material_exp_pl\",\n",
    "    \"profit_loss_year_pl\",\n",
    "    \"personnel_exp_pl\",\n",
    "]"
   ]
  },
  {
   "cell_type": "markdown",
   "id": "4c2421d4",
   "metadata": {},
   "source": [
    "Growth variables"
   ]
  },
  {
   "cell_type": "code",
   "execution_count": null,
   "id": "afe58889",
   "metadata": {},
   "outputs": [],
   "source": [
    "d1 = [ \n",
    "    \"d1_sales_mil_log_mod\",\n",
    "    \"d1_sales_mil_log_mod_sq\",\n",
    "    \"flag_low_d1_sales_mil_log\",\n",
    "    \"flag_high_d1_sales_mil_log\",\n",
    "]"
   ]
  },
  {
   "cell_type": "code",
   "execution_count": null,
   "id": "abbaf8f4",
   "metadata": {},
   "outputs": [],
   "source": [
    "M1 = [\n",
    "    \"sales_mil_log\",\n",
    "    \"sales_mil_log_sq\",\n",
    "    \"d1_sales_mil_log_mod\",\n",
    "    \"profit_loss_year_pl\",\n",
    "    \"fixed_assets_bs\",\n",
    "    \"share_eq_bs\",\n",
    "    \"age\",\n",
    "    \"foreign_management\",\n",
    "    \"ind2_cat\",\n",
    "]\n",
    "M2 = [\"sales_mil_log\", \"sales_mil_log_sq\"] + firm + engvar + d1 + hr\n"
   ]
  },
  {
   "cell_type": "markdown",
   "id": "e6164235",
   "metadata": {},
   "source": [
    "#### Selection of the relevant variables"
   ]
  },
  {
   "cell_type": "code",
   "execution_count": null,
   "id": "63e11e92",
   "metadata": {},
   "outputs": [],
   "source": [
    "X_train_M1=X_train[M1]\n",
    "X_test_M1 =X_test[M1]\n",
    "\n",
    "X_train_M2=X_train[M2]\n",
    "X_test_M2 =X_test[M2]"
   ]
  },
  {
   "cell_type": "markdown",
   "id": "759fbfef",
   "metadata": {},
   "source": [
    "#### Set up the method for model selection"
   ]
  },
  {
   "cell_type": "code",
   "execution_count": null,
   "id": "97f9999f",
   "metadata": {},
   "outputs": [],
   "source": [
    "k = KFold(n_splits=5, shuffle=True, random_state=42)"
   ]
  },
  {
   "cell_type": "markdown",
   "id": "82c73dc0",
   "metadata": {},
   "source": [
    "#### No regularisation needed so setting the paremeter to very high value"
   ]
  },
  {
   "cell_type": "code",
   "execution_count": null,
   "id": "1e0797e7",
   "metadata": {},
   "outputs": [],
   "source": [
    "C_value_logit = [1e20]"
   ]
  },
  {
   "cell_type": "markdown",
   "id": "eaed826f",
   "metadata": {},
   "source": [
    "#### Where we put the results of the different models, for comparison purposes:"
   ]
  },
  {
   "cell_type": "code",
   "execution_count": null,
   "id": "53a47b62",
   "metadata": {},
   "outputs": [],
   "source": [
    "test_accuracy={}\n",
    "test_auc_roc={}"
   ]
  },
  {
   "cell_type": "markdown",
   "id": "0ffda556",
   "metadata": {},
   "source": [
    "### Model 1: Logit\n",
    "#### Set up Logit model object"
   ]
  },
  {
   "cell_type": "code",
   "execution_count": null,
   "id": "e37bbc0d",
   "metadata": {},
   "outputs": [],
   "source": [
    "logistic = LogisticRegressionCV(\n",
    "    Cs=C_value_logit,\n",
    "    cv=k,\n",
    "    refit=True,\n",
    "    solver=\"newton-cg\",\n",
    "    tol=1e-7,\n",
    "    random_state=42,\n",
    ")"
   ]
  },
  {
   "cell_type": "markdown",
   "id": "7d6e2623",
   "metadata": {},
   "source": [
    "#### Creating the pipeline"
   ]
  },
  {
   "cell_type": "markdown",
   "id": "a00f203e",
   "metadata": {},
   "source": [
    "Identifying categorical columns"
   ]
  },
  {
   "cell_type": "code",
   "execution_count": null,
   "id": "887703ec",
   "metadata": {},
   "outputs": [],
   "source": [
    "from sklearn.compose import make_column_selector as selector\n",
    "\n",
    "categorical_columns_selector = selector(dtype_include=object)\n",
    "categorical_columns = categorical_columns_selector(X_train_M1)\n",
    "categorical_columns"
   ]
  },
  {
   "cell_type": "markdown",
   "id": "8ff19fa6",
   "metadata": {},
   "source": [
    "Identifying categorical columns"
   ]
  },
  {
   "cell_type": "code",
   "execution_count": null,
   "id": "246d21b4",
   "metadata": {},
   "outputs": [],
   "source": [
    "numeric_columns = [col for col in X_train_M1.columns if col not in categorical_columns]"
   ]
  },
  {
   "cell_type": "code",
   "execution_count": null,
   "id": "a91e988b",
   "metadata": {},
   "outputs": [],
   "source": [
    "pipeline_logit = Pipeline([\n",
    "    ('standardize', StandardScaler()),\n",
    "    ('log_reg', logistic)\n",
    "                          ])\n",
    "pipeline_logit"
   ]
  },
  {
   "cell_type": "code",
   "execution_count": null,
   "id": "4f36ae4d",
   "metadata": {},
   "outputs": [],
   "source": [
    "scaler = StandardScaler()\n",
    "\n",
    "pipeline_logit = Pipeline([('standardize', scaler),\n",
    "                           ('log_reg', logistic)])\n",
    "pipeline_logit"
   ]
  },
  {
   "cell_type": "markdown",
   "id": "f79dd8af",
   "metadata": {},
   "source": [
    "#### On M1 features set"
   ]
  },
  {
   "cell_type": "code",
   "execution_count": null,
   "id": "9e382615",
   "metadata": {},
   "outputs": [],
   "source": [
    "pipeline_logit.fit(X_train_M1, y_train)"
   ]
  },
  {
   "cell_type": "code",
   "execution_count": null,
   "id": "ef16a431",
   "metadata": {},
   "outputs": [],
   "source": [
    "y_test_hat = pipeline_logit.predict(X_test_M1)\n",
    "y_test_hat_probs = pipeline_logit.predict_proba(X_test_M1)[:,1]\n",
    "\n",
    "test_accuracy['logit_m1'] = accuracy_score(y_test, y_test_hat)*100\n",
    "test_auc_roc['logit_m1'] = roc_auc_score(y_test, y_test_hat_probs)*100\n",
    "\n",
    "print('Confusion matrix:\\n', confusion_matrix(y_test, y_test_hat))\n",
    "print('Testing AUC: %.4f %%' % test_auc_roc['logit_m1'])\n",
    "print('Testing accuracy: %.4f %%' % test_accuracy['logit_m1']) \n"
   ]
  },
  {
   "cell_type": "markdown",
   "id": "41dd0096",
   "metadata": {},
   "source": [
    "<div class=\"alert alert-info\">\n",
    "<h4> Your turn: On M2 features set </h4>\n",
    "Following M1 example, define, estimate and evaluate a logit model with cross-validation using the M2 set of features.     \n",
    "</div>"
   ]
  },
  {
   "cell_type": "markdown",
   "id": "b928bbe9",
   "metadata": {},
   "source": [
    "##### Categorical features"
   ]
  },
  {
   "cell_type": "code",
   "execution_count": null,
   "id": "2623b0ff",
   "metadata": {},
   "outputs": [],
   "source": []
  },
  {
   "cell_type": "code",
   "execution_count": null,
   "id": "76686e48",
   "metadata": {},
   "outputs": [],
   "source": []
  },
  {
   "cell_type": "markdown",
   "id": "126492f2",
   "metadata": {},
   "source": [
    "##### Numeric features"
   ]
  },
  {
   "cell_type": "code",
   "execution_count": null,
   "id": "02889975",
   "metadata": {},
   "outputs": [],
   "source": []
  },
  {
   "cell_type": "code",
   "execution_count": null,
   "id": "bc4a05ba",
   "metadata": {},
   "outputs": [],
   "source": []
  },
  {
   "cell_type": "code",
   "execution_count": null,
   "id": "5e5d3f06",
   "metadata": {},
   "outputs": [],
   "source": []
  },
  {
   "cell_type": "markdown",
   "id": "8ada478a",
   "metadata": {},
   "source": [
    "##### The pipeline:"
   ]
  },
  {
   "cell_type": "code",
   "execution_count": null,
   "id": "221cdc41",
   "metadata": {},
   "outputs": [],
   "source": []
  },
  {
   "cell_type": "markdown",
   "id": "77ec5cbc",
   "metadata": {},
   "source": [
    "##### Fit the pipeline"
   ]
  },
  {
   "cell_type": "code",
   "execution_count": null,
   "id": "e2cfbfb8",
   "metadata": {},
   "outputs": [],
   "source": []
  },
  {
   "cell_type": "markdown",
   "id": "a6780729",
   "metadata": {},
   "source": [
    "##### Performances for M2"
   ]
  },
  {
   "cell_type": "code",
   "execution_count": null,
   "id": "35611926",
   "metadata": {},
   "outputs": [],
   "source": []
  },
  {
   "cell_type": "markdown",
   "id": "6b225916",
   "metadata": {},
   "source": [
    "#### Comparing performance for the 2 logit models: "
   ]
  },
  {
   "cell_type": "code",
   "execution_count": null,
   "id": "9983dfa7",
   "metadata": {},
   "outputs": [],
   "source": [
    "test_auc_roc"
   ]
  },
  {
   "cell_type": "code",
   "execution_count": null,
   "id": "81fe34cc",
   "metadata": {},
   "outputs": [],
   "source": [
    "test_accuracy"
   ]
  },
  {
   "cell_type": "markdown",
   "id": "c49f54e6",
   "metadata": {},
   "source": [
    "### Model 2: Lasso with standardized X data"
   ]
  },
  {
   "cell_type": "code",
   "execution_count": null,
   "id": "0d934e80",
   "metadata": {},
   "outputs": [],
   "source": [
    "lambdas = list(10 ** np.arange(-1, -4.01, -1 / 3))\n",
    "n_obs = X_train_M2.shape[0] * 4 / 5\n",
    "C_values = [\n",
    "    1 / (l * n_obs) for l in lambdas\n",
    "]  # Cs are the inverse of regularization strength"
   ]
  },
  {
   "cell_type": "code",
   "execution_count": null,
   "id": "a7594d26",
   "metadata": {},
   "outputs": [],
   "source": [
    "logistic_lasso = LogisticRegressionCV(\n",
    "    Cs=C_values,\n",
    "    penalty=\"l1\", # L1 regularization = lasso \n",
    "    cv=k,\n",
    "    refit=True,\n",
    "    scoring=\"roc_auc\",\n",
    "    solver=\"liblinear\",\n",
    "    random_state=42,\n",
    ")\n"
   ]
  },
  {
   "cell_type": "code",
   "execution_count": null,
   "id": "0489ecb8",
   "metadata": {},
   "outputs": [],
   "source": [
    "#Append classifier to preprocessing pipeline. Now we have a full prediction pipeline.\n",
    "pipeline_logistic_lasso = Pipeline(\n",
    "    steps=[(\"preprocessor\", preprocessor), (\"classifier\", logistic_lasso)]\n",
    ")\n",
    "pipeline_logistic_lasso"
   ]
  },
  {
   "cell_type": "code",
   "execution_count": null,
   "id": "ce7debcb",
   "metadata": {},
   "outputs": [],
   "source": [
    "logLasso=pipeline_logistic_lasso.fit(X_train_M2, y_train)\n",
    "logLasso"
   ]
  },
  {
   "cell_type": "code",
   "execution_count": null,
   "id": "4b36d224",
   "metadata": {},
   "outputs": [],
   "source": [
    "from sklearn.model_selection import cross_val_score"
   ]
  },
  {
   "cell_type": "code",
   "execution_count": null,
   "id": "a5e0a25b",
   "metadata": {},
   "outputs": [],
   "source": [
    "# k = KFold(n_splits=5, shuffle=True, random_state=42)\n",
    "scores = cross_val_score(pipeline_logistic_lasso, X_train_M2, y_train, cv = k)"
   ]
  },
  {
   "cell_type": "code",
   "execution_count": null,
   "id": "18bed2b5",
   "metadata": {},
   "outputs": [],
   "source": [
    "y_test_hat = pipeline_logistic_lasso.predict(X_test_M2)\n",
    "y_test_hat_probs = pipeline_logistic_lasso.predict_proba(X_test_M2)[:,1]"
   ]
  },
  {
   "cell_type": "code",
   "execution_count": null,
   "id": "4f7fe0ff",
   "metadata": {},
   "outputs": [],
   "source": [
    "test_accuracy['logistic_lasso'] = accuracy_score(y_test, y_test_hat)*100\n",
    "test_auc_roc['logistic_lasso'] = roc_auc_score(y_test, y_test_hat_probs)*100"
   ]
  },
  {
   "cell_type": "code",
   "execution_count": null,
   "id": "e250e576",
   "metadata": {},
   "outputs": [],
   "source": [
    "from sklearn import metrics\n",
    "\n",
    "fpr, tpr, threshold = metrics.roc_curve(y_test, y_test_hat_probs)\n",
    "roc_auc = metrics.auc(fpr, tpr)\n",
    "threshold"
   ]
  },
  {
   "cell_type": "code",
   "execution_count": null,
   "id": "2ec92f54",
   "metadata": {},
   "outputs": [],
   "source": [
    "# method I: plt\n",
    "import matplotlib.pyplot as plt\n",
    "plt.title('Receiver Operating Characteristic')\n",
    "plt.plot(fpr, tpr, 'b', label = 'AUC = %0.2f' % roc_auc)\n",
    "plt.plot([0, 1], [0, 1],'r--')\n",
    "plt.ylabel('True Positive Rate')\n",
    "plt.xlabel('False Positive Rate')\n",
    "plt.show()"
   ]
  },
  {
   "cell_type": "markdown",
   "id": "cc63e0bc",
   "metadata": {},
   "source": [
    "### Comparing the models"
   ]
  },
  {
   "cell_type": "code",
   "execution_count": null,
   "id": "2c36f9cf",
   "metadata": {
    "scrolled": true
   },
   "outputs": [],
   "source": [
    "test_auc_roc"
   ]
  },
  {
   "cell_type": "code",
   "execution_count": null,
   "id": "54440c48",
   "metadata": {},
   "outputs": [],
   "source": [
    "test_accuracy"
   ]
  },
  {
   "cell_type": "markdown",
   "id": "ddcb8b35",
   "metadata": {},
   "source": [
    "#### Deciding on the model"
   ]
  },
  {
   "cell_type": "markdown",
   "id": "e93b2172",
   "metadata": {},
   "source": [
    "`logit_m2` seems to perform marginaly better on the test set. "
   ]
  },
  {
   "cell_type": "markdown",
   "id": "2259ef03",
   "metadata": {},
   "source": [
    "### Re-estimating the model on the full dataset"
   ]
  },
  {
   "cell_type": "code",
   "execution_count": null,
   "id": "7459bd46",
   "metadata": {},
   "outputs": [],
   "source": [
    "#Append classifier to preprocessing pipeline. Now we have a full prediction pipeline.\n",
    "pipeline_logit = Pipeline(\n",
    "    steps=[(\"preprocessor\", preprocessor), (\"classifier\", logistic)]\n",
    ")\n",
    "pipeline_logit"
   ]
  },
  {
   "cell_type": "code",
   "execution_count": null,
   "id": "5deb4e52",
   "metadata": {},
   "outputs": [],
   "source": [
    "X_M2 = X[M2]"
   ]
  },
  {
   "cell_type": "code",
   "execution_count": null,
   "id": "bcc9b60d",
   "metadata": {},
   "outputs": [],
   "source": [
    "logLasso=pipeline_logistic_lasso.fit(X_M2, y)\n",
    "logLasso"
   ]
  },
  {
   "cell_type": "markdown",
   "id": "e33ea8e3",
   "metadata": {},
   "source": [
    "### Using the model "
   ]
  },
  {
   "cell_type": "code",
   "execution_count": null,
   "id": "c2c4aab6",
   "metadata": {},
   "outputs": [],
   "source": [
    "# y_new_hat = logLasso.predict(X_new)"
   ]
  },
  {
   "cell_type": "code",
   "execution_count": null,
   "id": "2985fa7f",
   "metadata": {},
   "outputs": [],
   "source": [
    "pip install xgboost"
   ]
  },
  {
   "cell_type": "markdown",
   "id": "10abd7e5",
   "metadata": {},
   "source": [
    "## Going further"
   ]
  },
  {
   "cell_type": "markdown",
   "id": "3f4dd9d7",
   "metadata": {},
   "source": [
    "Let's look at one of the most powerful machine learning model: `xgboost` (cf. [documentation](https://xgboost.readthedocs.io/en/latest/index.html))"
   ]
  },
  {
   "cell_type": "code",
   "execution_count": null,
   "id": "cf1ed4e1",
   "metadata": {},
   "outputs": [],
   "source": [
    "import xgboost as xgb"
   ]
  },
  {
   "cell_type": "code",
   "execution_count": null,
   "id": "452cdb1d",
   "metadata": {},
   "outputs": [],
   "source": [
    "xgb_model = xgb.XGBClassifier(objective=\"reg:squarederror\", random_state=42)"
   ]
  },
  {
   "cell_type": "code",
   "execution_count": null,
   "id": "39d3dac1",
   "metadata": {},
   "outputs": [],
   "source": [
    "#Append classifier to preprocessing pipeline. Now we have a full prediction pipeline.\n",
    "pipeline_xgp = Pipeline(\n",
    "    steps=[(\"preprocessor\", preprocessor), (\"classifier\", xgb_model)]\n",
    ")\n",
    "pipeline_xgp"
   ]
  },
  {
   "cell_type": "code",
   "execution_count": null,
   "id": "236fcfa6",
   "metadata": {},
   "outputs": [],
   "source": [
    "model_xgb=pipeline_xgp.fit(X_train_M2, y_train)\n",
    "model_xgb"
   ]
  },
  {
   "cell_type": "code",
   "execution_count": null,
   "id": "46f01d49",
   "metadata": {},
   "outputs": [],
   "source": [
    "y_test_hat = model_xgb.predict(X_test_M2)\n",
    "y_test_hat_probs = model_xgb.predict_proba(X_test_M2)[:,1]"
   ]
  },
  {
   "cell_type": "code",
   "execution_count": null,
   "id": "5b8fda33",
   "metadata": {},
   "outputs": [],
   "source": [
    "test_accuracy['xgb'] = accuracy_score(y_test, y_test_hat)*100\n",
    "test_auc_roc['xgb'] = roc_auc_score(y_test, y_test_hat_probs)*100"
   ]
  },
  {
   "cell_type": "code",
   "execution_count": null,
   "id": "fe5063e1",
   "metadata": {},
   "outputs": [],
   "source": [
    "test_accuracy"
   ]
  },
  {
   "cell_type": "code",
   "execution_count": null,
   "id": "9a4d8891",
   "metadata": {},
   "outputs": [],
   "source": []
  }
 ],
 "metadata": {
  "kernelspec": {
   "display_name": "Python 3 (ipykernel)",
   "language": "python",
   "name": "python3"
  },
  "language_info": {
   "codemirror_mode": {
    "name": "ipython",
    "version": 3
   },
   "file_extension": ".py",
   "mimetype": "text/x-python",
   "name": "python",
   "nbconvert_exporter": "python",
   "pygments_lexer": "ipython3",
   "version": "3.10.9"
  },
  "toc": {
   "base_numbering": 1,
   "nav_menu": {},
   "number_sections": false,
   "sideBar": true,
   "skip_h1_title": false,
   "title_cell": "Table of Contents",
   "title_sidebar": "Contents",
   "toc_cell": false,
   "toc_position": {},
   "toc_section_display": true,
   "toc_window_display": true
  }
 },
 "nbformat": 4,
 "nbformat_minor": 5
}
